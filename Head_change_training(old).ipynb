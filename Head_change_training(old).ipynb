{
 "cells": [
  {
   "cell_type": "markdown",
   "metadata": {},
   "source": [
    "# Hydraulic head change training "
   ]
  },
  {
   "cell_type": "markdown",
   "metadata": {},
   "source": [
    "## Preliminaries"
   ]
  },
  {
   "cell_type": "code",
   "execution_count": 1,
   "metadata": {},
   "outputs": [],
   "source": [
    "# Imports\n",
    "import networkx as nx\n",
    "from sklearn.model_selection import train_test_split\n",
    "\n",
    "import plotly.graph_objects as go\n",
    "\n",
    "## Utilities\n",
    "import utils.head_change_utils as utils\n",
    "\n",
    "# Open the file and load the file\n",
    "yaml_path = 'config_file.yaml'\n",
    "yaml_data = utils.load_yaml(yaml_path)\n",
    "\n",
    "# Directories\n",
    "\n",
    "simulations_path = yaml_data['simulations_path']\n",
    "inp_path =  yaml_data['inp_path']\n",
    "rain_path = simulations_path + '\\\\block' + '\\\\block.dat'\n",
    "heads_path = simulations_path + '\\\\block' + '\\\\rainblock_head_TuindorpRP.pk'"
   ]
  },
  {
   "cell_type": "markdown",
   "metadata": {},
   "source": [
    "## Read data from rainfall and hydraulic head"
   ]
  },
  {
   "cell_type": "code",
   "execution_count": null,
   "metadata": {},
   "outputs": [],
   "source": [
    "#Rainfall\n",
    "rainfall_raw_data = utils.get_rain_in_pandas(rain_path)\n",
    "\n",
    "#Hydraulic head\n",
    "head_raw_data = utils.get_info_from_pickle(heads_path)\n",
    "head_raw_data.columns = head_raw_data.columns.str.replace(\"_Hydraulic_head\", \"\")\n",
    "head_raw_data.columns = head_raw_data.columns.str.replace(\"node_\", \"\")"
   ]
  },
  {
   "cell_type": "code",
   "execution_count": null,
   "metadata": {},
   "outputs": [],
   "source": [
    "#Periods without rain\n",
    "# dry_periods_index = rainfall_raw_data[rainfall_raw_data['value']==0].index\n",
    "dry_periods_index = [[12, 13, 14, 15, 16, 17],          #First dry period\n",
    "                     [24, 25, 26, 27, 28, 29, 30, 31,], #Second dry period\n",
    "                     [38, 39, 40, 41, 42, 43, 44, 45],  #Third dry period\n",
    "                     [52, 53, 54, 55, 56, 57],          #Fourth dry period\n",
    "                     [64, 65, 66, 67, 68, 69],          #Fifth dry period\n",
    "                     [76, 77, 78, 79, 80, 81, 82, 83, 84] #Last dry period\n",
    "                    ]"
   ]
  },
  {
   "cell_type": "code",
   "execution_count": null,
   "metadata": {},
   "outputs": [],
   "source": [
    "x_values = []\n",
    "y_values = []\n",
    "\n",
    "for dry_period in dry_periods_index:\n",
    "    heads_no_rain = head_raw_data.iloc[list(dry_period), :]\n",
    "    initial_heads, next_heads = utils.get_h0_h1_couples(heads_no_rain)\n",
    "    \n",
    "    x_values.extend(initial_heads)\n",
    "    y_values.extend(next_heads)\n",
    "\n"
   ]
  },
  {
   "cell_type": "markdown",
   "metadata": {},
   "source": [
    "## Separate samples in training/validation/testing"
   ]
  },
  {
   "cell_type": "code",
   "execution_count": null,
   "metadata": {},
   "outputs": [],
   "source": [
    "# set aside 20% of train and test data for evaluation\n",
    "X_train, X_test, y_train, y_test = train_test_split(x_values, y_values,\n",
    "    test_size=0.2, shuffle = True, random_state = 8)\n",
    "\n",
    "# Use the same function above for the validation set\n",
    "X_train, X_val, y_train, y_val = train_test_split(X_train, y_train, \n",
    "    test_size=0.25, random_state= 8) # 0.25 x 0.8 = 0.2"
   ]
  },
  {
   "cell_type": "markdown",
   "metadata": {},
   "source": [
    "## Data preprocessing"
   ]
  },
  {
   "cell_type": "markdown",
   "metadata": {},
   "source": [
    "### Normalization"
   ]
  },
  {
   "cell_type": "code",
   "execution_count": null,
   "metadata": {},
   "outputs": [],
   "source": [
    "max, min = utils.get_max_and_min(X_train + y_train) #It considers all heads with the same scaling\n",
    "\n",
    "normalized_x = utils.normalize_sample_values(X_train, max, min)\n",
    "normalized_y = utils.normalize_sample_values(y_train, max, min)\n"
   ]
  },
  {
   "cell_type": "markdown",
   "metadata": {},
   "source": [
    "### Visualization"
   ]
  },
  {
   "cell_type": "code",
   "execution_count": null,
   "metadata": {},
   "outputs": [],
   "source": [
    "# For a single node\n",
    "single_node_x = []\n",
    "single_node_y = []\n",
    "node_name = 'j_90383'\n",
    "length_database = len(normalized_x) #same as y_train\n",
    "\n",
    "for i in range(length_database):\n",
    "    single_node_x.append(normalized_x[i][node_name])\n",
    "    single_node_y.append(normalized_y[i][node_name])\n",
    "\n"
   ]
  },
  {
   "cell_type": "code",
   "execution_count": null,
   "metadata": {},
   "outputs": [],
   "source": [
    "fig = go.Figure()\n",
    "scatter_one_node_x_y=utils.get_scatter_trace(single_node_x, single_node_y)\n",
    "fig.add_trace(scatter_one_node_x_y)\n",
    "\n",
    "fig.update_yaxes(\n",
    "    scaleanchor = \"x\",\n",
    "    scaleratio = 1,\n",
    "  )\n",
    "fig.update_layout(\n",
    "    width = 500,\n",
    "    height = 500,\n",
    "    title = \"%s Head changes\" % (node_name)\n",
    ")\n",
    "\n",
    "fig.update_layout(\n",
    "        shapes=[\n",
    "            dict(\n",
    "                type= 'line',\n",
    "                y0= 0, \n",
    "                y1= 1, \n",
    "                x0= 0, \n",
    "                x1= 1\n",
    "            )\n",
    "        ])\n",
    "\n",
    "fig.show()"
   ]
  },
  {
   "cell_type": "markdown",
   "metadata": {},
   "source": [
    "## Machine Learning"
   ]
  },
  {
   "cell_type": "markdown",
   "metadata": {},
   "source": [
    "### Model definition"
   ]
  },
  {
   "cell_type": "code",
   "execution_count": 2,
   "metadata": {},
   "outputs": [
    {
     "name": "stdout",
     "output_type": "stream",
     "text": [
      "The file does not have pumps. A handled exception occured because of '[PUMPS]\\n'\n",
      "The file does not have pumps. A handled exception occured because of '[PUMPS]\\n'\n",
      "The file does not have orifices. A handled exception occured because of '[ORIFICES]\\n'\n",
      "The file does not have weirs. A handled exception occured because of '[WEIRS]\\n'\n"
     ]
    }
   ],
   "source": [
    "inp_lines = utils.get_lines_from_textfile(inp_path)\n",
    "G = utils.inp_to_G(inp_lines)"
   ]
  },
  {
   "cell_type": "code",
   "execution_count": 19,
   "metadata": {},
   "outputs": [
    {
     "data": {
      "image/png": "[encoded data removed]",
      "text/plain": [
       "<Figure size 432x288 with 1 Axes>"
      ]
     },
     "metadata": {},
     "output_type": "display_data"
    }
   ],
   "source": [
    "#Draw graph\n",
    "pos = nx.get_node_attributes(G, 'pos')\n",
    "nx.draw(G, pos = pos, node_size=15)"
   ]
  },
  {
   "cell_type": "markdown",
   "metadata": {},
   "source": [
    "### Model training"
   ]
  },
  {
   "cell_type": "markdown",
   "metadata": {},
   "source": [
    "### Model validation"
   ]
  },
  {
   "cell_type": "markdown",
   "metadata": {},
   "source": [
    "### Model testing"
   ]
  },
  {
   "cell_type": "markdown",
   "metadata": {},
   "source": [
    "## Predictions visualization"
   ]
  },
  {
   "cell_type": "code",
   "execution_count": null,
   "metadata": {},
   "outputs": [],
   "source": []
  },
  {
   "cell_type": "markdown",
   "metadata": {},
   "source": [
    "## Export model"
   ]
  },
  {
   "cell_type": "markdown",
   "metadata": {},
   "source": []
  },
  {
   "cell_type": "markdown",
   "metadata": {},
   "source": [
    "# Scratchpad"
   ]
  },
  {
   "cell_type": "code",
   "execution_count": 22,
   "metadata": {},
   "outputs": [],
   "source": [
    "def get_node_coordinates(lines, inp_dict):\n",
    "    \n",
    "    index = inp_dict['[COORDINATES]\\n']+3\n",
    "    line = lines[index]\n",
    "    pos = {}\n",
    "    while line != '\\n':\n",
    "        name_node, x_coord, y_coord = line.split()\n",
    "        print(line)\n",
    "        # pos[]\n",
    "    "
   ]
  },
  {
   "cell_type": "code",
   "execution_count": 3,
   "metadata": {},
   "outputs": [
    {
     "ename": "NameError",
     "evalue": "name 'get_node_coordinates' is not defined",
     "output_type": "error",
     "traceback": [
      "\u001b[1;31m---------------------------------------------------------------------------\u001b[0m",
      "\u001b[1;31mNameError\u001b[0m                                 Traceback (most recent call last)",
      "\u001b[1;32mc:\\Users\\agarzondiaz\\surfdrive\\Year 2\\Paper 2 - 3.0\\Head_change_training.ipynb Cell 29'\u001b[0m in \u001b[0;36m<cell line: 2>\u001b[1;34m()\u001b[0m\n\u001b[0;32m      <a href='vscode-notebook-cell:/c%3A/Users/agarzondiaz/surfdrive/Year%202/Paper%202%20-%203.0/Head_change_training.ipynb#ch0000054?line=0'>1</a>\u001b[0m inp_dict \u001b[39m=\u001b[39m utils\u001b[39m.\u001b[39mget_headers_from_inp(inp_lines)\n\u001b[1;32m----> <a href='vscode-notebook-cell:/c%3A/Users/agarzondiaz/surfdrive/Year%202/Paper%202%20-%203.0/Head_change_training.ipynb#ch0000054?line=1'>2</a>\u001b[0m get_node_coordinates(inp_lines, inp_dict)\n",
      "\u001b[1;31mNameError\u001b[0m: name 'get_node_coordinates' is not defined"
     ]
    }
   ],
   "source": [
    "inp_dict = utils.get_headers_from_inp(inp_lines)\n",
    "get_node_coordinates(inp_lines, inp_dict)"
   ]
  }
 ],
 "metadata": {
  "interpreter": {
   "hash": "f88404f1e87403b1e488e351250feb539bee03edfc67c7328abb8c80a54639ed"
  },
  "kernelspec": {
   "display_name": "Python 3.10.2 ('third_SWMM': venv)",
   "language": "python",
   "name": "python3"
  },
  "language_info": {
   "codemirror_mode": {
    "name": "ipython",
    "version": 3
   },
   "file_extension": ".py",
   "mimetype": "text/x-python",
   "name": "python",
   "nbconvert_exporter": "python",
   "pygments_lexer": "ipython3",
   "version": "3.10.2"
  },
  "orig_nbformat": 4
 },
 "nbformat": 4,
 "nbformat_minor": 2
}
