{
 "cells": [
  {
   "cell_type": "markdown",
   "metadata": {},
   "source": [
    "# UDS emulator "
   ]
  },
  {
   "cell_type": "markdown",
   "metadata": {},
   "source": [
    "## Preliminaries"
   ]
  },
  {
   "cell_type": "code",
   "execution_count": 1,
   "metadata": {},
   "outputs": [
    {
     "name": "stdout",
     "output_type": "stream",
     "text": [
      "The current branch is: Badly_Implemented_Temporal_Bundling\n"
     ]
    }
   ],
   "source": [
    "from my_imports import *"
   ]
  },
  {
   "cell_type": "code",
   "execution_count": 2,
   "metadata": {},
   "outputs": [],
   "source": [
    "yaml_path = 'config_file.yaml'\n",
    "yaml_data = utils.load_yaml(yaml_path)\n",
    "\n",
    "training_simulations_path       = yaml_data['training_simulations_path']\n",
    "validation_simulations_path     = yaml_data['validation_simulations_path']\n",
    "\n",
    "inp_path                        = yaml_data['inp_path']\n",
    "\n",
    "training_windows_path           = yaml_data['training_windows_path']\n",
    "use_saved_training_windows      = yaml_data['use_saved_training_windows']\n",
    "\n",
    "validation_windows_path         = yaml_data['validation_windows_path']\n",
    "use_saved_validation_windows    = yaml_data['use_saved_validation_windows']\n",
    "\n",
    "num_events_training             = yaml_data['num_events_training']\n",
    "num_events_validation           = yaml_data['num_events_validation']\n",
    "\n",
    "steps_behind                    = yaml_data['steps_behind']\n",
    "steps_ahead                     = yaml_data['steps_ahead']\n",
    "epochs                          = yaml_data['epochs']\n",
    "\n"
   ]
  },
  {
   "cell_type": "markdown",
   "metadata": {},
   "source": [
    "## Create simulation objects from data"
   ]
  },
  {
   "cell_type": "code",
   "execution_count": 3,
   "metadata": {},
   "outputs": [
    {
     "name": "stdout",
     "output_type": "stream",
     "text": [
      "Number of training simulations:  161\n",
      "Number of validation simulations:  29\n"
     ]
    }
   ],
   "source": [
    "list_of_training_simulations    = os.listdir(training_simulations_path)\n",
    "list_of_validation_simulations  = os.listdir(validation_simulations_path)\n",
    "\n",
    "random.shuffle(list_of_training_simulations)\n",
    "\n",
    "print('Number of training simulations: ', len(list_of_training_simulations))\n",
    "print('Number of validation simulations: ', len(list_of_validation_simulations))"
   ]
  },
  {
   "cell_type": "code",
   "execution_count": 4,
   "metadata": {},
   "outputs": [
    {
     "name": "stdout",
     "output_type": "stream",
     "text": [
      "The file does not have [STORAGE]\n",
      "\n",
      "The file does not have '[PUMPS]\\n'\n",
      "The file does not have '[ORIFICES]\\n'\n",
      "The file does not have '[WEIRS]\\n'\n"
     ]
    }
   ],
   "source": [
    "training_simulations = utils.extract_simulations_from_folders(training_simulations_path, inp_path, num_events_training)"
   ]
  },
  {
   "cell_type": "code",
   "execution_count": 5,
   "metadata": {},
   "outputs": [],
   "source": [
    "if use_saved_training_windows:\n",
    "    training_windows = utils.load_windows(training_windows_path)\n",
    "else:\n",
    "    training_windows = utils.get_all_windows_from_list_simulations(training_simulations, steps_ahead, steps_behind)"
   ]
  },
  {
   "cell_type": "code",
   "execution_count": 6,
   "metadata": {},
   "outputs": [],
   "source": [
    "# utils.save_pickle(training_windows, 'saved_objects/training_windows_debugging.pk')"
   ]
  },
  {
   "cell_type": "code",
   "execution_count": 7,
   "metadata": {},
   "outputs": [
    {
     "name": "stdout",
     "output_type": "stream",
     "text": [
      "The file does not have [STORAGE]\n",
      "\n",
      "The file does not have '[PUMPS]\\n'\n",
      "The file does not have '[ORIFICES]\\n'\n",
      "The file does not have '[WEIRS]\\n'\n"
     ]
    }
   ],
   "source": [
    "validation_simulations = utils.extract_simulations_from_folders(validation_simulations_path, inp_path, num_events_validation)"
   ]
  },
  {
   "cell_type": "code",
   "execution_count": 8,
   "metadata": {},
   "outputs": [],
   "source": [
    "if use_saved_validation_windows:\n",
    "    validation_windows = utils.load_windows(validation_windows_path)\n",
    "else:\n",
    "    validation_windows = utils.get_all_windows_from_list_simulations(validation_simulations, steps_ahead = 60, steps_behind = steps_behind)"
   ]
  },
  {
   "cell_type": "code",
   "execution_count": 9,
   "metadata": {},
   "outputs": [
    {
     "name": "stdout",
     "output_type": "stream",
     "text": [
      "Number of training windows:  1676\n",
      "Number of validation windows:  37\n"
     ]
    }
   ],
   "source": [
    "print('Number of training windows: ',   len(training_windows))\n",
    "print('Number of validation windows: ', len(validation_windows))"
   ]
  },
  {
   "cell_type": "markdown",
   "metadata": {},
   "source": [
    "## Normalizer"
   ]
  },
  {
   "cell_type": "code",
   "execution_count": 10,
   "metadata": {},
   "outputs": [],
   "source": [
    "normalizer = Normalizer(training_windows)"
   ]
  },
  {
   "cell_type": "code",
   "execution_count": 11,
   "metadata": {},
   "outputs": [],
   "source": [
    "normalized_training_windows = normalizer.get_list_normalized_training_windows()\n",
    "training_loader = DataLoader(normalized_training_windows, batch_size=32, shuffle = True)"
   ]
  },
  {
   "cell_type": "code",
   "execution_count": 12,
   "metadata": {},
   "outputs": [],
   "source": [
    "normalized_validation_windows = [normalizer.normalize_window(val_win) for val_win in validation_windows]\n",
    "validation_loader = DataLoader(normalized_validation_windows, batch_size=32)"
   ]
  },
  {
   "cell_type": "markdown",
   "metadata": {},
   "source": [
    "## Training GNN"
   ]
  },
  {
   "cell_type": "code",
   "execution_count": 15,
   "metadata": {},
   "outputs": [],
   "source": [
    "gnn_model = GNNModel(steps_ahead=1, steps_behind=6)\n",
    "# gnn_model.load_state_dict(torch.load('saved_objects/model_trained_4steps.pt'))\n",
    "\n",
    "optimizer = optim.Adam(gnn_model.parameters(), lr = 0.01)\n",
    "scheduler = optim.lr_scheduler.ExponentialLR(optimizer, gamma=0.9)\n",
    "loss_fn   = nn.MSELoss()"
   ]
  },
  {
   "cell_type": "code",
   "execution_count": 16,
   "metadata": {},
   "outputs": [
    {
     "name": "stdout",
     "output_type": "stream",
     "text": [
      "train() called:model=GNNModel, opt=Adam(lr=0.010000), epochs=20,device=cpu\n",
      "\n",
      "Best model so far at epoch:  1\n",
      "Epoch   1/ 20, train loss:  4.42, val loss:  2.09\n",
      "Epoch   2/ 20, train loss:  0.46, val loss:  2.30\n",
      "Best model so far at epoch:  3\n",
      "Epoch   4/ 20, train loss:  0.29, val loss:  1.64\n",
      "Epoch   6/ 20, train loss:  0.19, val loss:  1.58\n",
      "Epoch   8/ 20, train loss:  0.18, val loss:  1.00\n",
      "Epoch  10/ 20, train loss:  0.17, val loss:  1.02\n",
      "Best model so far at epoch:  11\n",
      "Epoch  12/ 20, train loss:  0.15, val loss:  1.18\n",
      "Epoch  14/ 20, train loss:  0.14, val loss:  3.26\n",
      "Epoch  16/ 20, train loss:  0.14, val loss:  1.64\n",
      "Epoch  18/ 20, train loss:  0.13, val loss:  0.87\n",
      "Best model so far at epoch:  20\n",
      "Epoch  20/ 20, train loss:  0.13, val loss:  0.60\n",
      "Best model found at epoch:  20\n",
      "This best model has this validation loss:  0.5976412695285084\n",
      "\n",
      "Time total:     647.73 sec\n",
      "Time per epoch: 32.39 sec\n"
     ]
    }
   ],
   "source": [
    "history = train(\n",
    "    model       = gnn_model,\n",
    "    optimizer   = optimizer,\n",
    "    scheduler   = scheduler,\n",
    "    loss_fn     = loss_fn,\n",
    "    train_dl    = training_loader,\n",
    "    val_dl      = validation_loader,\n",
    "    epochs      = epochs,\n",
    "    device      = 'cpu',\n",
    "    report_freq = 2\n",
    "    )"
   ]
  },
  {
   "cell_type": "code",
   "execution_count": null,
   "metadata": {},
   "outputs": [],
   "source": [
    "# torch.save(gnn_model.state_dict(), 'saved_objects/trained_model_{}_epochs_{}_steps.pt'.format(epochs, steps_ahead))"
   ]
  },
  {
   "cell_type": "code",
   "execution_count": 17,
   "metadata": {},
   "outputs": [
    {
     "data": {
      "application/vnd.plotly.v1+json": {
       "config": {
        "plotlyServerURL": "https://plot.ly"
       },
       "data": [
        {
         "line": {
          "width": 3
         },
         "marker": {
          "size": 8
         },
         "mode": "lines+markers",
         "name": "Training loss",
         "type": "scatter",
         "x": [
          0,
          1,
          2,
          3,
          4,
          5,
          6,
          7,
          8,
          9,
          10,
          11,
          12,
          13,
          14,
          15,
          16,
          17,
          18,
          19
         ],
         "y": [
          4.42,
          0.46,
          0.35,
          0.29,
          0.22,
          0.19,
          0.18,
          0.18,
          0.17,
          0.17,
          0.15,
          0.15,
          0.15,
          0.14,
          0.14,
          0.14,
          0.13,
          0.13,
          0.13,
          0.13
         ]
        },
        {
         "line": {
          "width": 3
         },
         "marker": {
          "size": 8
         },
         "mode": "lines+markers",
         "name": "Validation loss",
         "type": "scatter",
         "x": [
          0,
          1,
          2,
          3,
          4,
          5,
          6,
          7,
          8,
          9,
          10,
          11,
          12,
          13,
          14,
          15,
          16,
          17,
          18,
          19
         ],
         "y": [
          2.09,
          2.3,
          0.97,
          1.64,
          1.41,
          1.58,
          4.11,
          1,
          1.93,
          1.02,
          0.67,
          1.18,
          0.76,
          3.26,
          2.32,
          1.64,
          0.89,
          0.87,
          1.01,
          0.6
         ]
        }
       ],
       "layout": {
        "height": 600,
        "legend": {
         "title": {
          "text": "Legend"
         }
        },
        "margin": {
         "b": 80,
         "l": 80,
         "r": 80,
         "t": 80
        },
        "template": {
         "data": {
          "bar": [
           {
            "error_x": {
             "color": "#2a3f5f"
            },
            "error_y": {
             "color": "#2a3f5f"
            },
            "marker": {
             "line": {
              "color": "#E5ECF6",
              "width": 0.5
             },
             "pattern": {
              "fillmode": "overlay",
              "size": 10,
              "solidity": 0.2
             }
            },
            "type": "bar"
           }
          ],
          "barpolar": [
           {
            "marker": {
             "line": {
              "color": "#E5ECF6",
              "width": 0.5
             },
             "pattern": {
              "fillmode": "overlay",
              "size": 10,
              "solidity": 0.2
             }
            },
            "type": "barpolar"
           }
          ],
          "carpet": [
           {
            "aaxis": {
             "endlinecolor": "#2a3f5f",
             "gridcolor": "white",
             "linecolor": "white",
             "minorgridcolor": "white",
             "startlinecolor": "#2a3f5f"
            },
            "baxis": {
             "endlinecolor": "#2a3f5f",
             "gridcolor": "white",
             "linecolor": "white",
             "minorgridcolor": "white",
             "startlinecolor": "#2a3f5f"
            },
            "type": "carpet"
           }
          ],
          "choropleth": [
           {
            "colorbar": {
             "outlinewidth": 0,
             "ticks": ""
            },
            "type": "choropleth"
           }
          ],
          "contour": [
           {
            "colorbar": {
             "outlinewidth": 0,
             "ticks": ""
            },
            "colorscale": [
             [
              0,
              "#0d0887"
             ],
             [
              0.1111111111111111,
              "#46039f"
             ],
             [
              0.2222222222222222,
              "#7201a8"
             ],
             [
              0.3333333333333333,
              "#9c179e"
             ],
             [
              0.4444444444444444,
              "#bd3786"
             ],
             [
              0.5555555555555556,
              "#d8576b"
             ],
             [
              0.6666666666666666,
              "#ed7953"
             ],
             [
              0.7777777777777778,
              "#fb9f3a"
             ],
             [
              0.8888888888888888,
              "#fdca26"
             ],
             [
              1,
              "#f0f921"
             ]
            ],
            "type": "contour"
           }
          ],
          "contourcarpet": [
           {
            "colorbar": {
             "outlinewidth": 0,
             "ticks": ""
            },
            "type": "contourcarpet"
           }
          ],
          "heatmap": [
           {
            "colorbar": {
             "outlinewidth": 0,
             "ticks": ""
            },
            "colorscale": [
             [
              0,
              "#0d0887"
             ],
             [
              0.1111111111111111,
              "#46039f"
             ],
             [
              0.2222222222222222,
              "#7201a8"
             ],
             [
              0.3333333333333333,
              "#9c179e"
             ],
             [
              0.4444444444444444,
              "#bd3786"
             ],
             [
              0.5555555555555556,
              "#d8576b"
             ],
             [
              0.6666666666666666,
              "#ed7953"
             ],
             [
              0.7777777777777778,
              "#fb9f3a"
             ],
             [
              0.8888888888888888,
              "#fdca26"
             ],
             [
              1,
              "#f0f921"
             ]
            ],
            "type": "heatmap"
           }
          ],
          "heatmapgl": [
           {
            "colorbar": {
             "outlinewidth": 0,
             "ticks": ""
            },
            "colorscale": [
             [
              0,
              "#0d0887"
             ],
             [
              0.1111111111111111,
              "#46039f"
             ],
             [
              0.2222222222222222,
              "#7201a8"
             ],
             [
              0.3333333333333333,
              "#9c179e"
             ],
             [
              0.4444444444444444,
              "#bd3786"
             ],
             [
              0.5555555555555556,
              "#d8576b"
             ],
             [
              0.6666666666666666,
              "#ed7953"
             ],
             [
              0.7777777777777778,
              "#fb9f3a"
             ],
             [
              0.8888888888888888,
              "#fdca26"
             ],
             [
              1,
              "#f0f921"
             ]
            ],
            "type": "heatmapgl"
           }
          ],
          "histogram": [
           {
            "marker": {
             "pattern": {
              "fillmode": "overlay",
              "size": 10,
              "solidity": 0.2
             }
            },
            "type": "histogram"
           }
          ],
          "histogram2d": [
           {
            "colorbar": {
             "outlinewidth": 0,
             "ticks": ""
            },
            "colorscale": [
             [
              0,
              "#0d0887"
             ],
             [
              0.1111111111111111,
              "#46039f"
             ],
             [
              0.2222222222222222,
              "#7201a8"
             ],
             [
              0.3333333333333333,
              "#9c179e"
             ],
             [
              0.4444444444444444,
              "#bd3786"
             ],
             [
              0.5555555555555556,
              "#d8576b"
             ],
             [
              0.6666666666666666,
              "#ed7953"
             ],
             [
              0.7777777777777778,
              "#fb9f3a"
             ],
             [
              0.8888888888888888,
              "#fdca26"
             ],
             [
              1,
              "#f0f921"
             ]
            ],
            "type": "histogram2d"
           }
          ],
          "histogram2dcontour": [
           {
            "colorbar": {
             "outlinewidth": 0,
             "ticks": ""
            },
            "colorscale": [
             [
              0,
              "#0d0887"
             ],
             [
              0.1111111111111111,
              "#46039f"
             ],
             [
              0.2222222222222222,
              "#7201a8"
             ],
             [
              0.3333333333333333,
              "#9c179e"
             ],
             [
              0.4444444444444444,
              "#bd3786"
             ],
             [
              0.5555555555555556,
              "#d8576b"
             ],
             [
              0.6666666666666666,
              "#ed7953"
             ],
             [
              0.7777777777777778,
              "#fb9f3a"
             ],
             [
              0.8888888888888888,
              "#fdca26"
             ],
             [
              1,
              "#f0f921"
             ]
            ],
            "type": "histogram2dcontour"
           }
          ],
          "mesh3d": [
           {
            "colorbar": {
             "outlinewidth": 0,
             "ticks": ""
            },
            "type": "mesh3d"
           }
          ],
          "parcoords": [
           {
            "line": {
             "colorbar": {
              "outlinewidth": 0,
              "ticks": ""
             }
            },
            "type": "parcoords"
           }
          ],
          "pie": [
           {
            "automargin": true,
            "type": "pie"
           }
          ],
          "scatter": [
           {
            "fillpattern": {
             "fillmode": "overlay",
             "size": 10,
             "solidity": 0.2
            },
            "type": "scatter"
           }
          ],
          "scatter3d": [
           {
            "line": {
             "colorbar": {
              "outlinewidth": 0,
              "ticks": ""
             }
            },
            "marker": {
             "colorbar": {
              "outlinewidth": 0,
              "ticks": ""
             }
            },
            "type": "scatter3d"
           }
          ],
          "scattercarpet": [
           {
            "marker": {
             "colorbar": {
              "outlinewidth": 0,
              "ticks": ""
             }
            },
            "type": "scattercarpet"
           }
          ],
          "scattergeo": [
           {
            "marker": {
             "colorbar": {
              "outlinewidth": 0,
              "ticks": ""
             }
            },
            "type": "scattergeo"
           }
          ],
          "scattergl": [
           {
            "marker": {
             "colorbar": {
              "outlinewidth": 0,
              "ticks": ""
             }
            },
            "type": "scattergl"
           }
          ],
          "scattermapbox": [
           {
            "marker": {
             "colorbar": {
              "outlinewidth": 0,
              "ticks": ""
             }
            },
            "type": "scattermapbox"
           }
          ],
          "scatterpolar": [
           {
            "marker": {
             "colorbar": {
              "outlinewidth": 0,
              "ticks": ""
             }
            },
            "type": "scatterpolar"
           }
          ],
          "scatterpolargl": [
           {
            "marker": {
             "colorbar": {
              "outlinewidth": 0,
              "ticks": ""
             }
            },
            "type": "scatterpolargl"
           }
          ],
          "scatterternary": [
           {
            "marker": {
             "colorbar": {
              "outlinewidth": 0,
              "ticks": ""
             }
            },
            "type": "scatterternary"
           }
          ],
          "surface": [
           {
            "colorbar": {
             "outlinewidth": 0,
             "ticks": ""
            },
            "colorscale": [
             [
              0,
              "#0d0887"
             ],
             [
              0.1111111111111111,
              "#46039f"
             ],
             [
              0.2222222222222222,
              "#7201a8"
             ],
             [
              0.3333333333333333,
              "#9c179e"
             ],
             [
              0.4444444444444444,
              "#bd3786"
             ],
             [
              0.5555555555555556,
              "#d8576b"
             ],
             [
              0.6666666666666666,
              "#ed7953"
             ],
             [
              0.7777777777777778,
              "#fb9f3a"
             ],
             [
              0.8888888888888888,
              "#fdca26"
             ],
             [
              1,
              "#f0f921"
             ]
            ],
            "type": "surface"
           }
          ],
          "table": [
           {
            "cells": {
             "fill": {
              "color": "#EBF0F8"
             },
             "line": {
              "color": "white"
             }
            },
            "header": {
             "fill": {
              "color": "#C8D4E3"
             },
             "line": {
              "color": "white"
             }
            },
            "type": "table"
           }
          ]
         },
         "layout": {
          "colorway": [
           "#3366CC",
           "#DC3912",
           "#FF9900",
           "#109618",
           "#990099",
           "#0099C6",
           "#DD4477",
           "#66AA00",
           "#B82E2E",
           "#316395"
          ],
          "font": {
           "color": "#707070",
           "family": "Nunito",
           "size": 16
          },
          "hovermode": "x",
          "paper_bgcolor": "#ffffff",
          "plot_bgcolor": "#ffffff",
          "title": {
           "font": {
            "color": "#1f1f1f",
            "family": "Lato",
            "size": 22
           }
          },
          "xaxis": {
           "showgrid": true,
           "showline": true,
           "showspikes": true,
           "spikemode": "across",
           "spikesnap": "cursor"
          }
         }
        },
        "title": {
         "text": "Loss function"
        },
        "width": 900,
        "xaxis": {
         "title": {
          "text": "Epochs"
         }
        },
        "yaxis": {
         "title": {
          "text": "MSE Loss"
         }
        }
       }
      }
     },
     "metadata": {},
     "output_type": "display_data"
    }
   ],
   "source": [
    "vis.plot_loss(history)"
   ]
  },
  {
   "cell_type": "markdown",
   "metadata": {},
   "source": [
    "## Using the GNN"
   ]
  },
  {
   "cell_type": "code",
   "execution_count": 18,
   "metadata": {},
   "outputs": [
    {
     "name": "stdout",
     "output_type": "stream",
     "text": [
      "SWMMSimulation(real_90)\n"
     ]
    }
   ],
   "source": [
    "val_event =  validation_simulations[-1]\n",
    "print(val_event)\n",
    "\n",
    "runoff_pd           = val_event.runoff_raw_data\n",
    "\n",
    "sim_in_window       = val_event.get_simulation_in_one_window(steps_behind = 1)\n",
    "\n",
    "norm_sim_in_window  = normalizer.normalize_window(sim_in_window)\n",
    "\n",
    "swmm_heads_pd       = normalizer.get_unnormalized_heads_pd(sim_in_window['y']) \n",
    "predicted_heads_pd  = normalizer.get_unnormalized_heads_pd(gnn_model(norm_sim_in_window))"
   ]
  },
  {
   "cell_type": "code",
   "execution_count": null,
   "metadata": {},
   "outputs": [],
   "source": [
    "importlib.reload(vis)"
   ]
  },
  {
   "cell_type": "code",
   "execution_count": 33,
   "metadata": {},
   "outputs": [
    {
     "data": {
      "application/vnd.plotly.v1+json": {
       "config": {
        "plotlyServerURL": "https://plot.ly"
       },
       "data": [
        {
         "type": "bar",
         "x": [
          0,
          1,
          2,
          3,
          4,
          5,
          6,
          7,
          8,
          9,
          10,
          11,
          12,
          13,
          14,
          15,
          16,
          17,
          18,
          19,
          20,
          21,
          22,
          23,
          24,
          25,
          26,
          27,
          28,
          29,
          30,
          31,
          32,
          33,
          34,
          35,
          36,
          37,
          38,
          39,
          40,
          41,
          42,
          43,
          44,
          45,
          46,
          47,
          48,
          49,
          50,
          51,
          52,
          53,
          54,
          55,
          56,
          57,
          58,
          59,
          60,
          61,
          62,
          63,
          64,
          65,
          66,
          67,
          68,
          69,
          70,
          71,
          72,
          73,
          74,
          75,
          76,
          77,
          78,
          79,
          80,
          81,
          82,
          83,
          84,
          85,
          86,
          87,
          88,
          89,
          90,
          91,
          92,
          93,
          94,
          95,
          96,
          97,
          98,
          99,
          100,
          101,
          102,
          103,
          104,
          105,
          106,
          107,
          108,
          109,
          110,
          111,
          112,
          113,
          114,
          115,
          116,
          117,
          118,
          119,
          120,
          121,
          122,
          123,
          124,
          125,
          126,
          127,
          128,
          129,
          130,
          131,
          132,
          133,
          134,
          135,
          136,
          137,
          138,
          139,
          140,
          141,
          142,
          143,
          144,
          145,
          146,
          147,
          148,
          149,
          150,
          151,
          152,
          153,
          154,
          155,
          156,
          157,
          158,
          159,
          160,
          161,
          162,
          163,
          164,
          165,
          166,
          167,
          168,
          169,
          170,
          171,
          172,
          173,
          174,
          175,
          176,
          177,
          178,
          179,
          180,
          181,
          182,
          183,
          184,
          185,
          186,
          187,
          188,
          189,
          190,
          191,
          192,
          193,
          194,
          195,
          196,
          197,
          198,
          199,
          200,
          201,
          202,
          203,
          204,
          205,
          206,
          207,
          208,
          209,
          210,
          211,
          212,
          213,
          214,
          215
         ],
         "xaxis": "x",
         "y": [
          0,
          0,
          0,
          0,
          0,
          0,
          0,
          0,
          0,
          0,
          0,
          0,
          0,
          0,
          0,
          0,
          0,
          0,
          0,
          0,
          0,
          0,
          0,
          0,
          0,
          0,
          0,
          0,
          0,
          0,
          0,
          0,
          0,
          0,
          0,
          0,
          0,
          0,
          0,
          0,
          0,
          0,
          0,
          0,
          0,
          0,
          0,
          0,
          0,
          0,
          0,
          0,
          0,
          0,
          0,
          0,
          0,
          0,
          0,
          0,
          0,
          0,
          0,
          0,
          0,
          0,
          0,
          0,
          0,
          0,
          0,
          0,
          0,
          0,
          0,
          0,
          0,
          0,
          0,
          0,
          0,
          0,
          0,
          0,
          0,
          0,
          0,
          0,
          0,
          0,
          0,
          0,
          0,
          0,
          0,
          0,
          0,
          0,
          0,
          0,
          0,
          0,
          0,
          0,
          0,
          0,
          0,
          0,
          0,
          0,
          0,
          0,
          0,
          0,
          0,
          0,
          0,
          0,
          0,
          0,
          0,
          0,
          0,
          0,
          0.01,
          0,
          0,
          0,
          0,
          0,
          0,
          0,
          0,
          0,
          0,
          0,
          0,
          0,
          0,
          0,
          0,
          0,
          0,
          0,
          0,
          0,
          0,
          0,
          0,
          0,
          0,
          0,
          0,
          0.01,
          0.01,
          0,
          0,
          0,
          0,
          0,
          0,
          0,
          0,
          0,
          0,
          0,
          0,
          0,
          0,
          0,
          0,
          0,
          0,
          0,
          0,
          0,
          0,
          0,
          0,
          0,
          0,
          0,
          0,
          0,
          0,
          0,
          0,
          0,
          0,
          0,
          0,
          0,
          0,
          0,
          0,
          0,
          0,
          0,
          0,
          0,
          0,
          0,
          0,
          0,
          0,
          0,
          0,
          0,
          0,
          0,
          0,
          0,
          0,
          0,
          0,
          0
         ],
         "yaxis": "y2"
        },
        {
         "line": {
          "width": 3
         },
         "marker": {
          "size": 8
         },
         "mode": "lines+markers",
         "name": "SWMM",
         "type": "scatter",
         "x": [
          0,
          1,
          2,
          3,
          4,
          5,
          6,
          7,
          8,
          9,
          10,
          11,
          12,
          13,
          14,
          15,
          16,
          17,
          18,
          19,
          20,
          21,
          22,
          23,
          24,
          25,
          26,
          27,
          28,
          29,
          30,
          31,
          32,
          33,
          34,
          35,
          36,
          37,
          38,
          39,
          40,
          41,
          42,
          43,
          44,
          45,
          46,
          47,
          48,
          49,
          50,
          51,
          52,
          53,
          54,
          55,
          56,
          57,
          58,
          59,
          60,
          61,
          62,
          63,
          64,
          65,
          66,
          67,
          68,
          69,
          70,
          71,
          72,
          73,
          74,
          75,
          76,
          77,
          78,
          79,
          80,
          81,
          82,
          83,
          84,
          85,
          86,
          87,
          88,
          89,
          90,
          91,
          92,
          93,
          94,
          95,
          96,
          97,
          98,
          99,
          100,
          101,
          102,
          103,
          104,
          105,
          106,
          107,
          108,
          109,
          110,
          111,
          112,
          113,
          114,
          115,
          116,
          117,
          118,
          119,
          120,
          121,
          122,
          123,
          124,
          125,
          126,
          127,
          128,
          129,
          130,
          131,
          132,
          133,
          134,
          135,
          136,
          137,
          138,
          139,
          140,
          141,
          142,
          143,
          144,
          145,
          146,
          147,
          148,
          149,
          150,
          151,
          152,
          153,
          154,
          155,
          156,
          157,
          158,
          159,
          160,
          161,
          162,
          163,
          164,
          165,
          166,
          167,
          168,
          169,
          170,
          171,
          172,
          173,
          174,
          175,
          176,
          177,
          178,
          179,
          180,
          181,
          182,
          183,
          184,
          185,
          186,
          187,
          188,
          189,
          190,
          191,
          192,
          193,
          194,
          195,
          196,
          197,
          198,
          199,
          200,
          201,
          202,
          203,
          204,
          205,
          206,
          207,
          208,
          209,
          210,
          211,
          212
         ],
         "xaxis": "x",
         "y": [
          -0.30000001192092896,
          -0.30000001192092896,
          -0.30000001192092896,
          -0.30000001192092896,
          -0.30000001192092896,
          -0.30000001192092896,
          -0.30000001192092896,
          -0.30000001192092896,
          -0.30000001192092896,
          -0.30000001192092896,
          -0.30000001192092896,
          -0.30000001192092896,
          -0.30000001192092896,
          -0.30000001192092896,
          -0.30000001192092896,
          -0.30000001192092896,
          -0.30000001192092896,
          -0.30000001192092896,
          -0.30000001192092896,
          -0.30000001192092896,
          -0.30000001192092896,
          -0.30000001192092896,
          -0.30000001192092896,
          -0.30000001192092896,
          -0.30000001192092896,
          -0.30000001192092896,
          -0.30000001192092896,
          -0.30000001192092896,
          -0.30000001192092896,
          -0.30000001192092896,
          -0.30000001192092896,
          -0.30000001192092896,
          -0.30000001192092896,
          -0.30000001192092896,
          -0.30000001192092896,
          -0.30000001192092896,
          -0.30000001192092896,
          -0.30000001192092896,
          -0.30000001192092896,
          -0.30000001192092896,
          -0.30000001192092896,
          -0.30000001192092896,
          -0.30000001192092896,
          -0.30000001192092896,
          -0.30000001192092896,
          -0.30000001192092896,
          -0.30000001192092896,
          -0.30000001192092896,
          -0.30000001192092896,
          -0.30000001192092896,
          -0.30000001192092896,
          -0.30000001192092896,
          -0.30000001192092896,
          -0.30000001192092896,
          -0.30000001192092896,
          -0.30000001192092896,
          -0.30000001192092896,
          -0.30000001192092896,
          -0.30000001192092896,
          -0.30000001192092896,
          -0.30000001192092896,
          -0.30000001192092896,
          -0.30000001192092896,
          -0.30000001192092896,
          -0.30000001192092896,
          -0.30000001192092896,
          -0.30000001192092896,
          -0.30000001192092896,
          -0.30000001192092896,
          -0.30000001192092896,
          -0.30000001192092896,
          -0.30000001192092896,
          -0.30000001192092896,
          -0.30000001192092896,
          -0.30000001192092896,
          -0.30000001192092896,
          -0.30000001192092896,
          -0.30000001192092896,
          -0.30000001192092896,
          -0.30000001192092896,
          -0.30000001192092896,
          -0.30000001192092896,
          -0.30000001192092896,
          -0.30000001192092896,
          -0.30000001192092896,
          -0.30000001192092896,
          -0.30000001192092896,
          -0.30000001192092896,
          -0.30000001192092896,
          -0.30000001192092896,
          -0.30000001192092896,
          -0.30000001192092896,
          -0.30000001192092896,
          -0.30000001192092896,
          -0.30000001192092896,
          -0.30000001192092896,
          -0.30000001192092896,
          -0.30000001192092896,
          -0.30000001192092896,
          -0.30000001192092896,
          -0.30000001192092896,
          -0.30000001192092896,
          -0.30000001192092896,
          -0.30000001192092896,
          -0.30000001192092896,
          -0.30000001192092896,
          -0.30000001192092896,
          -0.30000001192092896,
          -0.30000001192092896,
          -0.30000001192092896,
          -0.30000001192092896,
          -0.30000001192092896,
          -0.30000001192092896,
          -0.30000001192092896,
          -0.30000001192092896,
          -0.30000001192092896,
          -0.30000001192092896,
          -0.30000001192092896,
          -0.30000001192092896,
          -0.30000001192092896,
          -0.30000001192092896,
          -0.30000001192092896,
          -0.25999999046325684,
          -0.23000000417232513,
          -0.27000001072883606,
          -0.28999999165534973,
          -0.30000001192092896,
          -0.30000001192092896,
          -0.30000001192092896,
          -0.30000001192092896,
          -0.30000001192092896,
          -0.30000001192092896,
          -0.30000001192092896,
          -0.30000001192092896,
          -0.30000001192092896,
          -0.30000001192092896,
          -0.30000001192092896,
          -0.30000001192092896,
          -0.30000001192092896,
          -0.30000001192092896,
          -0.30000001192092896,
          -0.30000001192092896,
          -0.30000001192092896,
          -0.30000001192092896,
          -0.30000001192092896,
          -0.30000001192092896,
          -0.30000001192092896,
          -0.30000001192092896,
          -0.30000001192092896,
          -0.30000001192092896,
          -0.30000001192092896,
          -0.30000001192092896,
          -0.20999999344348907,
          -0.2199999988079071,
          -0.2800000011920929,
          -0.25999999046325684,
          -0.28999999165534973,
          -0.30000001192092896,
          -0.30000001192092896,
          -0.30000001192092896,
          -0.30000001192092896,
          -0.30000001192092896,
          -0.30000001192092896,
          -0.30000001192092896,
          -0.30000001192092896,
          -0.30000001192092896,
          -0.30000001192092896,
          -0.30000001192092896,
          -0.30000001192092896,
          -0.30000001192092896,
          -0.30000001192092896,
          -0.30000001192092896,
          -0.30000001192092896,
          -0.30000001192092896,
          -0.30000001192092896,
          -0.30000001192092896,
          -0.30000001192092896,
          -0.30000001192092896,
          -0.30000001192092896,
          -0.30000001192092896,
          -0.30000001192092896,
          -0.30000001192092896,
          -0.30000001192092896,
          -0.30000001192092896,
          -0.30000001192092896,
          -0.30000001192092896,
          -0.30000001192092896,
          -0.30000001192092896,
          -0.30000001192092896,
          -0.30000001192092896,
          -0.30000001192092896,
          -0.30000001192092896,
          -0.30000001192092896,
          -0.30000001192092896,
          -0.30000001192092896,
          -0.30000001192092896,
          -0.30000001192092896,
          -0.30000001192092896,
          -0.30000001192092896,
          -0.30000001192092896,
          -0.30000001192092896,
          -0.30000001192092896,
          -0.30000001192092896,
          -0.30000001192092896,
          -0.30000001192092896,
          -0.30000001192092896,
          -0.30000001192092896,
          -0.30000001192092896,
          -0.30000001192092896,
          -0.30000001192092896,
          -0.30000001192092896,
          -0.30000001192092896,
          -0.30000001192092896
         ],
         "yaxis": "y"
        },
        {
         "line": {
          "width": 3
         },
         "marker": {
          "size": 8
         },
         "mode": "lines+markers",
         "name": "GNN",
         "type": "scatter",
         "x": [
          0,
          1,
          2,
          3,
          4,
          5,
          6,
          7,
          8,
          9,
          10,
          11,
          12,
          13,
          14,
          15,
          16,
          17,
          18,
          19,
          20,
          21,
          22,
          23,
          24,
          25,
          26,
          27,
          28,
          29,
          30,
          31,
          32,
          33,
          34,
          35,
          36,
          37,
          38,
          39,
          40,
          41,
          42,
          43,
          44,
          45,
          46,
          47,
          48,
          49,
          50,
          51,
          52,
          53,
          54,
          55,
          56,
          57,
          58,
          59,
          60,
          61,
          62,
          63,
          64,
          65,
          66,
          67,
          68,
          69,
          70,
          71,
          72,
          73,
          74,
          75,
          76,
          77,
          78,
          79,
          80,
          81,
          82,
          83,
          84,
          85,
          86,
          87,
          88,
          89,
          90,
          91,
          92,
          93,
          94,
          95,
          96,
          97,
          98,
          99,
          100,
          101,
          102,
          103,
          104,
          105,
          106,
          107,
          108,
          109,
          110,
          111,
          112,
          113,
          114,
          115,
          116,
          117,
          118,
          119,
          120,
          121,
          122,
          123,
          124,
          125,
          126,
          127,
          128,
          129,
          130,
          131,
          132,
          133,
          134,
          135,
          136,
          137,
          138,
          139,
          140,
          141,
          142,
          143,
          144,
          145,
          146,
          147,
          148,
          149,
          150,
          151,
          152,
          153,
          154,
          155,
          156,
          157,
          158,
          159,
          160,
          161,
          162,
          163,
          164,
          165,
          166,
          167,
          168,
          169,
          170,
          171,
          172,
          173,
          174,
          175,
          176,
          177,
          178,
          179,
          180,
          181,
          182,
          183,
          184,
          185,
          186,
          187,
          188,
          189,
          190,
          191,
          192,
          193,
          194,
          195,
          196,
          197,
          198,
          199,
          200,
          201,
          202
         ],
         "xaxis": "x",
         "y": [
          -1.399999976158142,
          -1.5299999713897705,
          -1.5299999713897705,
          -1.5199999809265137,
          -1.5199999809265137,
          -1.5,
          -1.5,
          -1.5199999809265137,
          -1.5099999904632568,
          -1.5099999904632568,
          -1.5099999904632568,
          -1.5099999904632568,
          -1.5099999904632568,
          -1.5099999904632568,
          -1.5099999904632568,
          -1.5099999904632568,
          -1.5099999904632568,
          -1.5099999904632568,
          -1.5099999904632568,
          -1.5099999904632568,
          -1.5099999904632568,
          -1.5099999904632568,
          -1.5099999904632568,
          -1.5099999904632568,
          -1.5099999904632568,
          -1.5099999904632568,
          -1.5099999904632568,
          -1.5099999904632568,
          -1.5099999904632568,
          -1.5099999904632568,
          -1.5099999904632568,
          -1.5099999904632568,
          -1.5099999904632568,
          -1.5099999904632568,
          -1.5099999904632568,
          -1.5099999904632568,
          -1.5099999904632568,
          -1.5099999904632568,
          -1.5099999904632568,
          -1.5099999904632568,
          -1.5099999904632568,
          -1.5099999904632568,
          -1.5099999904632568,
          -1.5099999904632568,
          -1.5099999904632568,
          -1.5099999904632568,
          -1.5099999904632568,
          -1.5099999904632568,
          -1.5099999904632568,
          -1.5099999904632568,
          -1.5099999904632568,
          -1.5099999904632568,
          -1.5099999904632568,
          -1.5099999904632568,
          -1.5099999904632568,
          -1.5099999904632568,
          -1.5099999904632568,
          -1.5099999904632568,
          -1.5099999904632568,
          -1.5099999904632568,
          -1.5099999904632568,
          -1.5099999904632568,
          -1.5099999904632568,
          -1.5099999904632568,
          -1.5099999904632568,
          -1.5099999904632568,
          -1.5099999904632568,
          -1.5099999904632568,
          -1.5099999904632568,
          -1.5099999904632568,
          -1.5099999904632568,
          -1.5099999904632568,
          -1.5099999904632568,
          -1.5099999904632568,
          -1.5099999904632568,
          -1.5099999904632568,
          -1.5099999904632568,
          -1.5099999904632568,
          -1.5099999904632568,
          -1.5099999904632568,
          -1.5099999904632568,
          -1.5099999904632568,
          -1.5099999904632568,
          -1.5099999904632568,
          -1.5099999904632568,
          -1.5099999904632568,
          -1.5099999904632568,
          -1.5099999904632568,
          -1.5099999904632568,
          -1.5099999904632568,
          -1.5099999904632568,
          -1.5099999904632568,
          -1.5099999904632568,
          -1.5099999904632568,
          -1.5099999904632568,
          -1.5099999904632568,
          -1.5099999904632568,
          -1.5099999904632568,
          -1.5099999904632568,
          -1.5099999904632568,
          -1.5099999904632568,
          -1.5099999904632568,
          -1.5099999904632568,
          -1.5099999904632568,
          -1.5099999904632568,
          -1.5099999904632568,
          -1.5099999904632568,
          -1.5099999904632568,
          -1.5099999904632568,
          -1.5099999904632568,
          -1.5099999904632568,
          -1.5099999904632568,
          -1.4900000095367432,
          -1.4299999475479126,
          -1.4600000381469727,
          -1.4800000190734863,
          -1.4700000286102295,
          -1.4700000286102295,
          -1.4800000190734863,
          -1.5,
          -1.4900000095367432,
          -1.4900000095367432,
          -1.5,
          -1.5,
          -1.5,
          -1.5,
          -1.5,
          -1.5,
          -1.5099999904632568,
          -1.5099999904632568,
          -1.5099999904632568,
          -1.5099999904632568,
          -1.5099999904632568,
          -1.5099999904632568,
          -1.5099999904632568,
          -1.5099999904632568,
          -1.5099999904632568,
          -1.5099999904632568,
          -1.5099999904632568,
          -1.5099999904632568,
          -1.5099999904632568,
          -1.5099999904632568,
          -1.350000023841858,
          -1.340000033378601,
          -1.4199999570846558,
          -1.409999966621399,
          -1.409999966621399,
          -1.409999966621399,
          -1.440000057220459,
          -1.4600000381469727,
          -1.4700000286102295,
          -1.4800000190734863,
          -1.4800000190734863,
          -1.4800000190734863,
          -1.4900000095367432,
          -1.4900000095367432,
          -1.4900000095367432,
          -1.5,
          -1.5,
          -1.5,
          -1.5,
          -1.5,
          -1.5,
          -1.5099999904632568,
          -1.5099999904632568,
          -1.5099999904632568,
          -1.5099999904632568,
          -1.5099999904632568,
          -1.5099999904632568,
          -1.5099999904632568,
          -1.5099999904632568,
          -1.5099999904632568,
          -1.5099999904632568,
          -1.5099999904632568,
          -1.5099999904632568,
          -1.5099999904632568,
          -1.5099999904632568,
          -1.5099999904632568,
          -1.5099999904632568,
          -1.5099999904632568,
          -1.5099999904632568,
          -1.5099999904632568,
          -1.5099999904632568,
          -1.5099999904632568,
          -1.5099999904632568,
          -1.5099999904632568,
          -1.5099999904632568,
          -1.5099999904632568,
          -1.5099999904632568,
          -1.5099999904632568,
          -1.5099999904632568,
          -1.5099999904632568,
          -1.5099999904632568,
          -1.5099999904632568,
          -1.5099999904632568,
          -1.5099999904632568,
          -1.5099999904632568,
          -1.5099999904632568,
          -1.5099999904632568,
          -1.5099999904632568,
          -1.5099999904632568,
          -1.5099999904632568,
          -1.5099999904632568
         ],
         "yaxis": "y"
        }
       ],
       "layout": {
        "height": 600,
        "legend": {
         "title": {
          "text": "Legend"
         }
        },
        "margin": {
         "b": 80,
         "l": 80,
         "r": 80,
         "t": 80
        },
        "template": {
         "data": {
          "bar": [
           {
            "error_x": {
             "color": "#2a3f5f"
            },
            "error_y": {
             "color": "#2a3f5f"
            },
            "marker": {
             "line": {
              "color": "#E5ECF6",
              "width": 0.5
             },
             "pattern": {
              "fillmode": "overlay",
              "size": 10,
              "solidity": 0.2
             }
            },
            "type": "bar"
           }
          ],
          "barpolar": [
           {
            "marker": {
             "line": {
              "color": "#E5ECF6",
              "width": 0.5
             },
             "pattern": {
              "fillmode": "overlay",
              "size": 10,
              "solidity": 0.2
             }
            },
            "type": "barpolar"
           }
          ],
          "carpet": [
           {
            "aaxis": {
             "endlinecolor": "#2a3f5f",
             "gridcolor": "white",
             "linecolor": "white",
             "minorgridcolor": "white",
             "startlinecolor": "#2a3f5f"
            },
            "baxis": {
             "endlinecolor": "#2a3f5f",
             "gridcolor": "white",
             "linecolor": "white",
             "minorgridcolor": "white",
             "startlinecolor": "#2a3f5f"
            },
            "type": "carpet"
           }
          ],
          "choropleth": [
           {
            "colorbar": {
             "outlinewidth": 0,
             "ticks": ""
            },
            "type": "choropleth"
           }
          ],
          "contour": [
           {
            "colorbar": {
             "outlinewidth": 0,
             "ticks": ""
            },
            "colorscale": [
             [
              0,
              "#0d0887"
             ],
             [
              0.1111111111111111,
              "#46039f"
             ],
             [
              0.2222222222222222,
              "#7201a8"
             ],
             [
              0.3333333333333333,
              "#9c179e"
             ],
             [
              0.4444444444444444,
              "#bd3786"
             ],
             [
              0.5555555555555556,
              "#d8576b"
             ],
             [
              0.6666666666666666,
              "#ed7953"
             ],
             [
              0.7777777777777778,
              "#fb9f3a"
             ],
             [
              0.8888888888888888,
              "#fdca26"
             ],
             [
              1,
              "#f0f921"
             ]
            ],
            "type": "contour"
           }
          ],
          "contourcarpet": [
           {
            "colorbar": {
             "outlinewidth": 0,
             "ticks": ""
            },
            "type": "contourcarpet"
           }
          ],
          "heatmap": [
           {
            "colorbar": {
             "outlinewidth": 0,
             "ticks": ""
            },
            "colorscale": [
             [
              0,
              "#0d0887"
             ],
             [
              0.1111111111111111,
              "#46039f"
             ],
             [
              0.2222222222222222,
              "#7201a8"
             ],
             [
              0.3333333333333333,
              "#9c179e"
             ],
             [
              0.4444444444444444,
              "#bd3786"
             ],
             [
              0.5555555555555556,
              "#d8576b"
             ],
             [
              0.6666666666666666,
              "#ed7953"
             ],
             [
              0.7777777777777778,
              "#fb9f3a"
             ],
             [
              0.8888888888888888,
              "#fdca26"
             ],
             [
              1,
              "#f0f921"
             ]
            ],
            "type": "heatmap"
           }
          ],
          "heatmapgl": [
           {
            "colorbar": {
             "outlinewidth": 0,
             "ticks": ""
            },
            "colorscale": [
             [
              0,
              "#0d0887"
             ],
             [
              0.1111111111111111,
              "#46039f"
             ],
             [
              0.2222222222222222,
              "#7201a8"
             ],
             [
              0.3333333333333333,
              "#9c179e"
             ],
             [
              0.4444444444444444,
              "#bd3786"
             ],
             [
              0.5555555555555556,
              "#d8576b"
             ],
             [
              0.6666666666666666,
              "#ed7953"
             ],
             [
              0.7777777777777778,
              "#fb9f3a"
             ],
             [
              0.8888888888888888,
              "#fdca26"
             ],
             [
              1,
              "#f0f921"
             ]
            ],
            "type": "heatmapgl"
           }
          ],
          "histogram": [
           {
            "marker": {
             "pattern": {
              "fillmode": "overlay",
              "size": 10,
              "solidity": 0.2
             }
            },
            "type": "histogram"
           }
          ],
          "histogram2d": [
           {
            "colorbar": {
             "outlinewidth": 0,
             "ticks": ""
            },
            "colorscale": [
             [
              0,
              "#0d0887"
             ],
             [
              0.1111111111111111,
              "#46039f"
             ],
             [
              0.2222222222222222,
              "#7201a8"
             ],
             [
              0.3333333333333333,
              "#9c179e"
             ],
             [
              0.4444444444444444,
              "#bd3786"
             ],
             [
              0.5555555555555556,
              "#d8576b"
             ],
             [
              0.6666666666666666,
              "#ed7953"
             ],
             [
              0.7777777777777778,
              "#fb9f3a"
             ],
             [
              0.8888888888888888,
              "#fdca26"
             ],
             [
              1,
              "#f0f921"
             ]
            ],
            "type": "histogram2d"
           }
          ],
          "histogram2dcontour": [
           {
            "colorbar": {
             "outlinewidth": 0,
             "ticks": ""
            },
            "colorscale": [
             [
              0,
              "#0d0887"
             ],
             [
              0.1111111111111111,
              "#46039f"
             ],
             [
              0.2222222222222222,
              "#7201a8"
             ],
             [
              0.3333333333333333,
              "#9c179e"
             ],
             [
              0.4444444444444444,
              "#bd3786"
             ],
             [
              0.5555555555555556,
              "#d8576b"
             ],
             [
              0.6666666666666666,
              "#ed7953"
             ],
             [
              0.7777777777777778,
              "#fb9f3a"
             ],
             [
              0.8888888888888888,
              "#fdca26"
             ],
             [
              1,
              "#f0f921"
             ]
            ],
            "type": "histogram2dcontour"
           }
          ],
          "mesh3d": [
           {
            "colorbar": {
             "outlinewidth": 0,
             "ticks": ""
            },
            "type": "mesh3d"
           }
          ],
          "parcoords": [
           {
            "line": {
             "colorbar": {
              "outlinewidth": 0,
              "ticks": ""
             }
            },
            "type": "parcoords"
           }
          ],
          "pie": [
           {
            "automargin": true,
            "type": "pie"
           }
          ],
          "scatter": [
           {
            "fillpattern": {
             "fillmode": "overlay",
             "size": 10,
             "solidity": 0.2
            },
            "type": "scatter"
           }
          ],
          "scatter3d": [
           {
            "line": {
             "colorbar": {
              "outlinewidth": 0,
              "ticks": ""
             }
            },
            "marker": {
             "colorbar": {
              "outlinewidth": 0,
              "ticks": ""
             }
            },
            "type": "scatter3d"
           }
          ],
          "scattercarpet": [
           {
            "marker": {
             "colorbar": {
              "outlinewidth": 0,
              "ticks": ""
             }
            },
            "type": "scattercarpet"
           }
          ],
          "scattergeo": [
           {
            "marker": {
             "colorbar": {
              "outlinewidth": 0,
              "ticks": ""
             }
            },
            "type": "scattergeo"
           }
          ],
          "scattergl": [
           {
            "marker": {
             "colorbar": {
              "outlinewidth": 0,
              "ticks": ""
             }
            },
            "type": "scattergl"
           }
          ],
          "scattermapbox": [
           {
            "marker": {
             "colorbar": {
              "outlinewidth": 0,
              "ticks": ""
             }
            },
            "type": "scattermapbox"
           }
          ],
          "scatterpolar": [
           {
            "marker": {
             "colorbar": {
              "outlinewidth": 0,
              "ticks": ""
             }
            },
            "type": "scatterpolar"
           }
          ],
          "scatterpolargl": [
           {
            "marker": {
             "colorbar": {
              "outlinewidth": 0,
              "ticks": ""
             }
            },
            "type": "scatterpolargl"
           }
          ],
          "scatterternary": [
           {
            "marker": {
             "colorbar": {
              "outlinewidth": 0,
              "ticks": ""
             }
            },
            "type": "scatterternary"
           }
          ],
          "surface": [
           {
            "colorbar": {
             "outlinewidth": 0,
             "ticks": ""
            },
            "colorscale": [
             [
              0,
              "#0d0887"
             ],
             [
              0.1111111111111111,
              "#46039f"
             ],
             [
              0.2222222222222222,
              "#7201a8"
             ],
             [
              0.3333333333333333,
              "#9c179e"
             ],
             [
              0.4444444444444444,
              "#bd3786"
             ],
             [
              0.5555555555555556,
              "#d8576b"
             ],
             [
              0.6666666666666666,
              "#ed7953"
             ],
             [
              0.7777777777777778,
              "#fb9f3a"
             ],
             [
              0.8888888888888888,
              "#fdca26"
             ],
             [
              1,
              "#f0f921"
             ]
            ],
            "type": "surface"
           }
          ],
          "table": [
           {
            "cells": {
             "fill": {
              "color": "#EBF0F8"
             },
             "line": {
              "color": "white"
             }
            },
            "header": {
             "fill": {
              "color": "#C8D4E3"
             },
             "line": {
              "color": "white"
             }
            },
            "type": "table"
           }
          ]
         },
         "layout": {
          "colorway": [
           "#3366CC",
           "#DC3912",
           "#FF9900",
           "#109618",
           "#990099",
           "#0099C6",
           "#DD4477",
           "#66AA00",
           "#B82E2E",
           "#316395"
          ],
          "font": {
           "color": "#707070",
           "family": "Nunito",
           "size": 16
          },
          "hovermode": "x",
          "paper_bgcolor": "#ffffff",
          "plot_bgcolor": "#ffffff",
          "title": {
           "font": {
            "color": "#1f1f1f",
            "family": "Lato",
            "size": 22
           }
          },
          "xaxis": {
           "showgrid": true,
           "showline": true,
           "showspikes": true,
           "spikemode": "across",
           "spikesnap": "cursor"
          }
         }
        },
        "title": {
         "text": "Head timeseries at node j_90369"
        },
        "width": 900,
        "xaxis": {
         "anchor": "y",
         "domain": [
          0,
          0.94
         ],
         "title": {
          "text": "Time steps (5 min)"
         }
        },
        "yaxis": {
         "anchor": "x",
         "domain": [
          0,
          1
         ],
         "title": {
          "text": "Head (MSL)"
         }
        },
        "yaxis2": {
         "anchor": "x",
         "overlaying": "y",
         "range": [
          0.03,
          0
         ],
         "side": "right"
        }
       }
      }
     },
     "metadata": {},
     "output_type": "display_data"
    }
   ],
   "source": [
    "node =  'j_90369'\n",
    "vis.plot_heads_timeseries(swmm_heads_pd, predicted_heads_pd, runoff_pd, node)"
   ]
  },
  {
   "cell_type": "markdown",
   "metadata": {},
   "source": [
    "## Visualization of results"
   ]
  },
  {
   "cell_type": "code",
   "execution_count": null,
   "metadata": {},
   "outputs": [],
   "source": [
    "importlib.reload(vis)"
   ]
  },
  {
   "cell_type": "code",
   "execution_count": null,
   "metadata": {},
   "outputs": [],
   "source": [
    "error = predicted_heads_pd - swmm_heads_pd"
   ]
  },
  {
   "cell_type": "code",
   "execution_count": null,
   "metadata": {},
   "outputs": [],
   "source": [
    "error= error.transpose().to_numpy()"
   ]
  },
  {
   "cell_type": "code",
   "execution_count": null,
   "metadata": {},
   "outputs": [],
   "source": [
    "error = abs(error)\n",
    "fig = vis.plot_nodal_variable(error, norm_sim_in_window, 'error in head (m) ', colorscale = 'OrRd')\n"
   ]
  },
  {
   "cell_type": "code",
   "execution_count": null,
   "metadata": {},
   "outputs": [],
   "source": [
    "norm_sim_in_window.name_nodes[0]"
   ]
  },
  {
   "cell_type": "code",
   "execution_count": null,
   "metadata": {},
   "outputs": [],
   "source": [
    "# fig.write_html('error.html')"
   ]
  },
  {
   "cell_type": "code",
   "execution_count": null,
   "metadata": {},
   "outputs": [],
   "source": [
    "fig = vis.plot_nodal_variable(swmm_heads_pd.transpose().to_numpy(), norm_sim_in_window, 'Target Head ', colorscale = 'PuBu', ref_marker_size = 2.5)"
   ]
  },
  {
   "cell_type": "markdown",
   "metadata": {},
   "source": [
    "# Scratchpad"
   ]
  },
  {
   "cell_type": "code",
   "execution_count": null,
   "metadata": {},
   "outputs": [],
   "source": []
  }
 ],
 "metadata": {
  "kernelspec": {
   "display_name": "Python 3.10.2 ('third_SWMM': venv)",
   "language": "python",
   "name": "python3"
  },
  "language_info": {
   "codemirror_mode": {
    "name": "ipython",
    "version": 3
   },
   "file_extension": ".py",
   "mimetype": "text/x-python",
   "name": "python",
   "nbconvert_exporter": "python",
   "pygments_lexer": "ipython3",
   "version": "3.10.2"
  },
  "orig_nbformat": 4,
  "vscode": {
   "interpreter": {
    "hash": "f88404f1e87403b1e488e351250feb539bee03edfc67c7328abb8c80a54639ed"
   }
  }
 },
 "nbformat": 4,
 "nbformat_minor": 2
}
