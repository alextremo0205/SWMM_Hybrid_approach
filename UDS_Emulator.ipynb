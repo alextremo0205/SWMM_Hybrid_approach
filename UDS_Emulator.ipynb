{
 "cells": [
  {
   "cell_type": "markdown",
   "metadata": {},
   "source": [
    "# UDS emulator "
   ]
  },
  {
   "cell_type": "markdown",
   "metadata": {},
   "source": [
    "## Preliminaries"
   ]
  },
  {
   "cell_type": "code",
   "execution_count": 1,
   "metadata": {},
   "outputs": [],
   "source": [
    "num_events_training     = 50\n",
    "num_events_validation   = 5\n",
    "steps_ahead             = 1\n",
    "\n",
    "epochs = 40"
   ]
  },
  {
   "cell_type": "code",
   "execution_count": 2,
   "metadata": {},
   "outputs": [],
   "source": [
    "from my_imports import *"
   ]
  },
  {
   "cell_type": "code",
   "execution_count": 3,
   "metadata": {},
   "outputs": [],
   "source": [
    "yaml_path = 'config_file.yaml'\n",
    "yaml_data = utils.load_yaml(yaml_path)\n",
    "\n",
    "# Directories\n",
    "training_simulations_path   = yaml_data['training_simulations_path']\n",
    "validation_simulations_path = yaml_data['validation_simulations_path']\n",
    "\n",
    "inp_path =  yaml_data['inp_path']"
   ]
  },
  {
   "cell_type": "markdown",
   "metadata": {},
   "source": [
    "## Create simulation objects from data"
   ]
  },
  {
   "cell_type": "code",
   "execution_count": 6,
   "metadata": {},
   "outputs": [
    {
     "name": "stdout",
     "output_type": "stream",
     "text": [
      "Number of training simulations:  161\n",
      "Number of validation simulations:  29\n"
     ]
    }
   ],
   "source": [
    "list_of_training_simulations    = os.listdir(training_simulations_path)\n",
    "list_of_validation_simulations  = os.listdir(validation_simulations_path)\n",
    "\n",
    "print('Number of training simulations: ', len(list_of_training_simulations))\n",
    "print('Number of validation simulations: ', len(list_of_validation_simulations))\n"
   ]
  },
  {
   "cell_type": "code",
   "execution_count": 7,
   "metadata": {},
   "outputs": [
    {
     "name": "stdout",
     "output_type": "stream",
     "text": [
      "The file does not have [STORAGE]\n",
      "\n",
      "The file does not have '[PUMPS]\\n'\n",
      "The file does not have '[ORIFICES]\\n'\n",
      "The file does not have '[WEIRS]\\n'\n"
     ]
    }
   ],
   "source": [
    "training_simulations = utils.extract_simulations_from_folders(training_simulations_path, inp_path, max_events = num_events_training)\n",
    "\n",
    "training_windows = []\n",
    "events_to_train= list(range(num_events_training))\n",
    "for event in events_to_train:\n",
    "    sim = training_simulations[event]\n",
    "    training_windows += sim.get_all_windows(steps_ahead = steps_ahead)\n"
   ]
  },
  {
   "cell_type": "code",
   "execution_count": null,
   "metadata": {},
   "outputs": [
    {
     "name": "stdout",
     "output_type": "stream",
     "text": [
      "The file does not have [STORAGE]\n",
      "\n",
      "The file does not have '[PUMPS]\\n'\n",
      "The file does not have '[ORIFICES]\\n'\n",
      "The file does not have '[WEIRS]\\n'\n"
     ]
    }
   ],
   "source": [
    "validation_simulations = utils.extract_simulations_from_folders(validation_simulations_path, inp_path, max_events =num_events_validation)\n",
    "\n",
    "validation_windows = []\n",
    "events_to_validate= list(range(num_events_validation))\n",
    "for event in events_to_validate:\n",
    "    sim = validation_simulations[event]\n",
    "    validation_windows += sim.get_all_windows(steps_ahead = steps_ahead)"
   ]
  },
  {
   "cell_type": "markdown",
   "metadata": {},
   "source": [
    "## Normalizer"
   ]
  },
  {
   "cell_type": "code",
   "execution_count": null,
   "metadata": {},
   "outputs": [],
   "source": [
    "normalizer = Normalizer(training_windows)"
   ]
  },
  {
   "cell_type": "code",
   "execution_count": null,
   "metadata": {},
   "outputs": [],
   "source": [
    "normalized_training_windows = normalizer.get_list_normalized_training_windows()\n",
    "training_loader = DataLoader(normalized_training_windows, batch_size=32, shuffle = True)"
   ]
  },
  {
   "cell_type": "code",
   "execution_count": null,
   "metadata": {},
   "outputs": [],
   "source": [
    "normalized_validation_windows = [normalizer.normalize_window(val_win) for val_win in validation_windows]\n",
    "validation_loader = DataLoader(normalized_validation_windows, batch_size=32)"
   ]
  },
  {
   "cell_type": "markdown",
   "metadata": {},
   "source": [
    "## Training GNN"
   ]
  },
  {
   "cell_type": "code",
   "execution_count": null,
   "metadata": {},
   "outputs": [],
   "source": [
    "gnn_model = GNNModel()\n",
    "optimizer = optim.Adam(gnn_model.parameters(), lr = 0.01)\n",
    "scheduler = optim.lr_scheduler.ExponentialLR(optimizer, gamma=0.9)\n",
    "loss_fn   = nn.MSELoss()"
   ]
  },
  {
   "cell_type": "code",
   "execution_count": null,
   "metadata": {},
   "outputs": [
    {
     "name": "stdout",
     "output_type": "stream",
     "text": [
      "train() called:model=GNNModel, opt=Adam(lr=0.010000), epochs=10,device=cpu\n",
      "\n",
      "Epoch   1/ 10, train loss: 10.09, val loss:  3.13\n",
      "Epoch   2/ 10, train loss:  2.43, val loss:  2.01\n",
      "Epoch   4/ 10, train loss:  1.35, val loss:  1.38\n",
      "Epoch   6/ 10, train loss:  1.18, val loss:  1.26\n",
      "Epoch   8/ 10, train loss:  1.13, val loss:  1.19\n",
      "Epoch  10/ 10, train loss:  1.03, val loss:  1.11\n",
      "\n",
      "Time total:     731.96 sec\n",
      "Time per epoch: 73.20 sec\n"
     ]
    }
   ],
   "source": [
    "history = train(\n",
    "    model = gnn_model,\n",
    "    optimizer = optimizer,\n",
    "    scheduler = scheduler,\n",
    "    loss_fn = loss_fn,\n",
    "    train_dl = training_loader,\n",
    "    val_dl = validation_loader,\n",
    "    epochs = epochs,\n",
    "    device = 'cpu',\n",
    "    report_freq = 2\n",
    "    )\n"
   ]
  },
  {
   "cell_type": "markdown",
   "metadata": {},
   "source": [
    "## Results"
   ]
  },
  {
   "cell_type": "code",
   "execution_count": 12,
   "metadata": {},
   "outputs": [
    {
     "data": {
      "application/vnd.plotly.v1+json": {
       "config": {
        "plotlyServerURL": "https://plot.ly"
       },
       "data": [
        {
         "line": {
          "width": 3
         },
         "marker": {
          "size": 12
         },
         "mode": "lines+markers",
         "name": "Training loss",
         "type": "scatter",
         "x": [
          0,
          1,
          2,
          3,
          4,
          5,
          6,
          7,
          8,
          9
         ],
         "y": [
          10.089432986999844,
          2.4348681356282458,
          1.5314971930465553,
          1.3525487455164684,
          1.2618066046558905,
          1.1821302079312015,
          1.1557995816511173,
          1.1305037368114308,
          1.0754264354684917,
          1.03296523210882
         ]
        },
        {
         "line": {
          "width": 3
         },
         "marker": {
          "size": 12
         },
         "mode": "lines+markers",
         "name": "Validation loss",
         "type": "scatter",
         "x": [
          0,
          1,
          2,
          3,
          4,
          5,
          6,
          7,
          8,
          9
         ],
         "y": [
          3.130306612100752,
          2.009944816655212,
          1.4261410604284583,
          1.381507316609609,
          1.382323467081691,
          1.2644830552978847,
          1.1411635403296556,
          1.1921175571329805,
          1.0762993153131128,
          1.1128384492563448
         ]
        }
       ],
       "layout": {
        "font": {
         "color": "Black",
         "family": "Times new Roman",
         "size": 28
        },
        "height": 600,
        "legend": {
         "title": {
          "text": "Legend"
         }
        },
        "margin": {
         "b": 80,
         "l": 80,
         "r": 80,
         "t": 80
        },
        "template": {
         "data": {
          "bar": [
           {
            "error_x": {
             "color": "#2a3f5f"
            },
            "error_y": {
             "color": "#2a3f5f"
            },
            "marker": {
             "line": {
              "color": "#E5ECF6",
              "width": 0.5
             },
             "pattern": {
              "fillmode": "overlay",
              "size": 10,
              "solidity": 0.2
             }
            },
            "type": "bar"
           }
          ],
          "barpolar": [
           {
            "marker": {
             "line": {
              "color": "#E5ECF6",
              "width": 0.5
             },
             "pattern": {
              "fillmode": "overlay",
              "size": 10,
              "solidity": 0.2
             }
            },
            "type": "barpolar"
           }
          ],
          "carpet": [
           {
            "aaxis": {
             "endlinecolor": "#2a3f5f",
             "gridcolor": "white",
             "linecolor": "white",
             "minorgridcolor": "white",
             "startlinecolor": "#2a3f5f"
            },
            "baxis": {
             "endlinecolor": "#2a3f5f",
             "gridcolor": "white",
             "linecolor": "white",
             "minorgridcolor": "white",
             "startlinecolor": "#2a3f5f"
            },
            "type": "carpet"
           }
          ],
          "choropleth": [
           {
            "colorbar": {
             "outlinewidth": 0,
             "ticks": ""
            },
            "type": "choropleth"
           }
          ],
          "contour": [
           {
            "colorbar": {
             "outlinewidth": 0,
             "ticks": ""
            },
            "colorscale": [
             [
              0,
              "#0d0887"
             ],
             [
              0.1111111111111111,
              "#46039f"
             ],
             [
              0.2222222222222222,
              "#7201a8"
             ],
             [
              0.3333333333333333,
              "#9c179e"
             ],
             [
              0.4444444444444444,
              "#bd3786"
             ],
             [
              0.5555555555555556,
              "#d8576b"
             ],
             [
              0.6666666666666666,
              "#ed7953"
             ],
             [
              0.7777777777777778,
              "#fb9f3a"
             ],
             [
              0.8888888888888888,
              "#fdca26"
             ],
             [
              1,
              "#f0f921"
             ]
            ],
            "type": "contour"
           }
          ],
          "contourcarpet": [
           {
            "colorbar": {
             "outlinewidth": 0,
             "ticks": ""
            },
            "type": "contourcarpet"
           }
          ],
          "heatmap": [
           {
            "colorbar": {
             "outlinewidth": 0,
             "ticks": ""
            },
            "colorscale": [
             [
              0,
              "#0d0887"
             ],
             [
              0.1111111111111111,
              "#46039f"
             ],
             [
              0.2222222222222222,
              "#7201a8"
             ],
             [
              0.3333333333333333,
              "#9c179e"
             ],
             [
              0.4444444444444444,
              "#bd3786"
             ],
             [
              0.5555555555555556,
              "#d8576b"
             ],
             [
              0.6666666666666666,
              "#ed7953"
             ],
             [
              0.7777777777777778,
              "#fb9f3a"
             ],
             [
              0.8888888888888888,
              "#fdca26"
             ],
             [
              1,
              "#f0f921"
             ]
            ],
            "type": "heatmap"
           }
          ],
          "heatmapgl": [
           {
            "colorbar": {
             "outlinewidth": 0,
             "ticks": ""
            },
            "colorscale": [
             [
              0,
              "#0d0887"
             ],
             [
              0.1111111111111111,
              "#46039f"
             ],
             [
              0.2222222222222222,
              "#7201a8"
             ],
             [
              0.3333333333333333,
              "#9c179e"
             ],
             [
              0.4444444444444444,
              "#bd3786"
             ],
             [
              0.5555555555555556,
              "#d8576b"
             ],
             [
              0.6666666666666666,
              "#ed7953"
             ],
             [
              0.7777777777777778,
              "#fb9f3a"
             ],
             [
              0.8888888888888888,
              "#fdca26"
             ],
             [
              1,
              "#f0f921"
             ]
            ],
            "type": "heatmapgl"
           }
          ],
          "histogram": [
           {
            "marker": {
             "pattern": {
              "fillmode": "overlay",
              "size": 10,
              "solidity": 0.2
             }
            },
            "type": "histogram"
           }
          ],
          "histogram2d": [
           {
            "colorbar": {
             "outlinewidth": 0,
             "ticks": ""
            },
            "colorscale": [
             [
              0,
              "#0d0887"
             ],
             [
              0.1111111111111111,
              "#46039f"
             ],
             [
              0.2222222222222222,
              "#7201a8"
             ],
             [
              0.3333333333333333,
              "#9c179e"
             ],
             [
              0.4444444444444444,
              "#bd3786"
             ],
             [
              0.5555555555555556,
              "#d8576b"
             ],
             [
              0.6666666666666666,
              "#ed7953"
             ],
             [
              0.7777777777777778,
              "#fb9f3a"
             ],
             [
              0.8888888888888888,
              "#fdca26"
             ],
             [
              1,
              "#f0f921"
             ]
            ],
            "type": "histogram2d"
           }
          ],
          "histogram2dcontour": [
           {
            "colorbar": {
             "outlinewidth": 0,
             "ticks": ""
            },
            "colorscale": [
             [
              0,
              "#0d0887"
             ],
             [
              0.1111111111111111,
              "#46039f"
             ],
             [
              0.2222222222222222,
              "#7201a8"
             ],
             [
              0.3333333333333333,
              "#9c179e"
             ],
             [
              0.4444444444444444,
              "#bd3786"
             ],
             [
              0.5555555555555556,
              "#d8576b"
             ],
             [
              0.6666666666666666,
              "#ed7953"
             ],
             [
              0.7777777777777778,
              "#fb9f3a"
             ],
             [
              0.8888888888888888,
              "#fdca26"
             ],
             [
              1,
              "#f0f921"
             ]
            ],
            "type": "histogram2dcontour"
           }
          ],
          "mesh3d": [
           {
            "colorbar": {
             "outlinewidth": 0,
             "ticks": ""
            },
            "type": "mesh3d"
           }
          ],
          "parcoords": [
           {
            "line": {
             "colorbar": {
              "outlinewidth": 0,
              "ticks": ""
             }
            },
            "type": "parcoords"
           }
          ],
          "pie": [
           {
            "automargin": true,
            "type": "pie"
           }
          ],
          "scatter": [
           {
            "fillpattern": {
             "fillmode": "overlay",
             "size": 10,
             "solidity": 0.2
            },
            "type": "scatter"
           }
          ],
          "scatter3d": [
           {
            "line": {
             "colorbar": {
              "outlinewidth": 0,
              "ticks": ""
             }
            },
            "marker": {
             "colorbar": {
              "outlinewidth": 0,
              "ticks": ""
             }
            },
            "type": "scatter3d"
           }
          ],
          "scattercarpet": [
           {
            "marker": {
             "colorbar": {
              "outlinewidth": 0,
              "ticks": ""
             }
            },
            "type": "scattercarpet"
           }
          ],
          "scattergeo": [
           {
            "marker": {
             "colorbar": {
              "outlinewidth": 0,
              "ticks": ""
             }
            },
            "type": "scattergeo"
           }
          ],
          "scattergl": [
           {
            "marker": {
             "colorbar": {
              "outlinewidth": 0,
              "ticks": ""
             }
            },
            "type": "scattergl"
           }
          ],
          "scattermapbox": [
           {
            "marker": {
             "colorbar": {
              "outlinewidth": 0,
              "ticks": ""
             }
            },
            "type": "scattermapbox"
           }
          ],
          "scatterpolar": [
           {
            "marker": {
             "colorbar": {
              "outlinewidth": 0,
              "ticks": ""
             }
            },
            "type": "scatterpolar"
           }
          ],
          "scatterpolargl": [
           {
            "marker": {
             "colorbar": {
              "outlinewidth": 0,
              "ticks": ""
             }
            },
            "type": "scatterpolargl"
           }
          ],
          "scatterternary": [
           {
            "marker": {
             "colorbar": {
              "outlinewidth": 0,
              "ticks": ""
             }
            },
            "type": "scatterternary"
           }
          ],
          "surface": [
           {
            "colorbar": {
             "outlinewidth": 0,
             "ticks": ""
            },
            "colorscale": [
             [
              0,
              "#0d0887"
             ],
             [
              0.1111111111111111,
              "#46039f"
             ],
             [
              0.2222222222222222,
              "#7201a8"
             ],
             [
              0.3333333333333333,
              "#9c179e"
             ],
             [
              0.4444444444444444,
              "#bd3786"
             ],
             [
              0.5555555555555556,
              "#d8576b"
             ],
             [
              0.6666666666666666,
              "#ed7953"
             ],
             [
              0.7777777777777778,
              "#fb9f3a"
             ],
             [
              0.8888888888888888,
              "#fdca26"
             ],
             [
              1,
              "#f0f921"
             ]
            ],
            "type": "surface"
           }
          ],
          "table": [
           {
            "cells": {
             "fill": {
              "color": "#EBF0F8"
             },
             "line": {
              "color": "white"
             }
            },
            "header": {
             "fill": {
              "color": "#C8D4E3"
             },
             "line": {
              "color": "white"
             }
            },
            "type": "table"
           }
          ]
         },
         "layout": {
          "annotationdefaults": {
           "arrowcolor": "#2a3f5f",
           "arrowhead": 0,
           "arrowwidth": 1
          },
          "autotypenumbers": "strict",
          "coloraxis": {
           "colorbar": {
            "outlinewidth": 0,
            "ticks": ""
           }
          },
          "colorscale": {
           "diverging": [
            [
             0,
             "#8e0152"
            ],
            [
             0.1,
             "#c51b7d"
            ],
            [
             0.2,
             "#de77ae"
            ],
            [
             0.3,
             "#f1b6da"
            ],
            [
             0.4,
             "#fde0ef"
            ],
            [
             0.5,
             "#f7f7f7"
            ],
            [
             0.6,
             "#e6f5d0"
            ],
            [
             0.7,
             "#b8e186"
            ],
            [
             0.8,
             "#7fbc41"
            ],
            [
             0.9,
             "#4d9221"
            ],
            [
             1,
             "#276419"
            ]
           ],
           "sequential": [
            [
             0,
             "#0d0887"
            ],
            [
             0.1111111111111111,
             "#46039f"
            ],
            [
             0.2222222222222222,
             "#7201a8"
            ],
            [
             0.3333333333333333,
             "#9c179e"
            ],
            [
             0.4444444444444444,
             "#bd3786"
            ],
            [
             0.5555555555555556,
             "#d8576b"
            ],
            [
             0.6666666666666666,
             "#ed7953"
            ],
            [
             0.7777777777777778,
             "#fb9f3a"
            ],
            [
             0.8888888888888888,
             "#fdca26"
            ],
            [
             1,
             "#f0f921"
            ]
           ],
           "sequentialminus": [
            [
             0,
             "#0d0887"
            ],
            [
             0.1111111111111111,
             "#46039f"
            ],
            [
             0.2222222222222222,
             "#7201a8"
            ],
            [
             0.3333333333333333,
             "#9c179e"
            ],
            [
             0.4444444444444444,
             "#bd3786"
            ],
            [
             0.5555555555555556,
             "#d8576b"
            ],
            [
             0.6666666666666666,
             "#ed7953"
            ],
            [
             0.7777777777777778,
             "#fb9f3a"
            ],
            [
             0.8888888888888888,
             "#fdca26"
            ],
            [
             1,
             "#f0f921"
            ]
           ]
          },
          "colorway": [
           "#636efa",
           "#EF553B",
           "#00cc96",
           "#ab63fa",
           "#FFA15A",
           "#19d3f3",
           "#FF6692",
           "#B6E880",
           "#FF97FF",
           "#FECB52"
          ],
          "font": {
           "color": "#2a3f5f"
          },
          "geo": {
           "bgcolor": "white",
           "lakecolor": "white",
           "landcolor": "#E5ECF6",
           "showlakes": true,
           "showland": true,
           "subunitcolor": "white"
          },
          "hoverlabel": {
           "align": "left"
          },
          "hovermode": "closest",
          "mapbox": {
           "style": "light"
          },
          "paper_bgcolor": "white",
          "plot_bgcolor": "#E5ECF6",
          "polar": {
           "angularaxis": {
            "gridcolor": "white",
            "linecolor": "white",
            "ticks": ""
           },
           "bgcolor": "#E5ECF6",
           "radialaxis": {
            "gridcolor": "white",
            "linecolor": "white",
            "ticks": ""
           }
          },
          "scene": {
           "xaxis": {
            "backgroundcolor": "#E5ECF6",
            "gridcolor": "white",
            "gridwidth": 2,
            "linecolor": "white",
            "showbackground": true,
            "ticks": "",
            "zerolinecolor": "white"
           },
           "yaxis": {
            "backgroundcolor": "#E5ECF6",
            "gridcolor": "white",
            "gridwidth": 2,
            "linecolor": "white",
            "showbackground": true,
            "ticks": "",
            "zerolinecolor": "white"
           },
           "zaxis": {
            "backgroundcolor": "#E5ECF6",
            "gridcolor": "white",
            "gridwidth": 2,
            "linecolor": "white",
            "showbackground": true,
            "ticks": "",
            "zerolinecolor": "white"
           }
          },
          "shapedefaults": {
           "line": {
            "color": "#2a3f5f"
           }
          },
          "ternary": {
           "aaxis": {
            "gridcolor": "white",
            "linecolor": "white",
            "ticks": ""
           },
           "baxis": {
            "gridcolor": "white",
            "linecolor": "white",
            "ticks": ""
           },
           "bgcolor": "#E5ECF6",
           "caxis": {
            "gridcolor": "white",
            "linecolor": "white",
            "ticks": ""
           }
          },
          "title": {
           "x": 0.05
          },
          "xaxis": {
           "automargin": true,
           "gridcolor": "white",
           "linecolor": "white",
           "ticks": "",
           "title": {
            "standoff": 15
           },
           "zerolinecolor": "white",
           "zerolinewidth": 2
          },
          "yaxis": {
           "automargin": true,
           "gridcolor": "white",
           "linecolor": "white",
           "ticks": "",
           "title": {
            "standoff": 15
           },
           "zerolinecolor": "white",
           "zerolinewidth": 2
          }
         }
        },
        "title": {
         "text": "Loss function"
        },
        "width": 900,
        "xaxis": {
         "title": {
          "text": "Epochs"
         }
        },
        "yaxis": {
         "title": {
          "text": "MSE Loss"
         }
        }
       }
      }
     },
     "metadata": {},
     "output_type": "display_data"
    }
   ],
   "source": [
    "vis.plot_loss(history)"
   ]
  },
  {
   "cell_type": "markdown",
   "metadata": {},
   "source": [
    "## Using the metamodel"
   ]
  },
  {
   "cell_type": "code",
   "execution_count": 13,
   "metadata": {},
   "outputs": [],
   "source": [
    "val_event =  validation_simulations[0]\n",
    "\n",
    "length = val_event.simulation_length\n",
    "sim_in_window = val_event.get_all_windows(steps_ahead = 1)[0]\n",
    "norm_sim_in_window = normalizer.normalize_window(sim_in_window)\n",
    "\n",
    "name_nodes = norm_sim_in_window.name_nodes\n",
    "\n",
    "swmm_heads_pd       = utils.tensor_heads_to_normalized_pd(sim_in_window['y'],             normalizer, name_nodes)\n",
    "predicted_heads_pd  = utils.tensor_heads_to_normalized_pd(gnn_model(norm_sim_in_window),  normalizer, name_nodes)"
   ]
  },
  {
   "cell_type": "code",
   "execution_count": 14,
   "metadata": {},
   "outputs": [
    {
     "data": {
      "text/plain": [
       "<AxesSubplot:>"
      ]
     },
     "execution_count": 14,
     "metadata": {},
     "output_type": "execute_result"
    },
    {
     "data": {
      "image/png": "[encoded data removed]",
      "text/plain": [
       "<Figure size 432x288 with 1 Axes>"
      ]
     },
     "metadata": {
      "needs_background": "light"
     },
     "output_type": "display_data"
    }
   ],
   "source": [
    "node = name_nodes[24]\n",
    "\n",
    "swmm_heads_pd[node].plot()\n",
    "predicted_heads_pd[node].plot()"
   ]
  },
  {
   "cell_type": "markdown",
   "metadata": {},
   "source": [
    "## Visualization of results"
   ]
  },
  {
   "cell_type": "code",
   "execution_count": 15,
   "metadata": {},
   "outputs": [],
   "source": [
    "target      = normalizer.unnormalize_heads(norm_sim_in_window.y)\n",
    "predicted   = normalizer.unnormalize_heads(gnn_model(norm_sim_in_window).detach())"
   ]
  },
  {
   "cell_type": "code",
   "execution_count": 16,
   "metadata": {},
   "outputs": [
    {
     "data": {
      "text/plain": [
       "<AxesSubplot:>"
      ]
     },
     "execution_count": 16,
     "metadata": {},
     "output_type": "execute_result"
    },
    {
     "data": {
      "image/png": "[encoded data removed]",
      "text/plain": [
       "<Figure size 432x288 with 1 Axes>"
      ]
     },
     "metadata": {
      "needs_background": "light"
     },
     "output_type": "display_data"
    },
    {
     "data": {
      "image/png": "[encoded data removed]",
      "text/plain": [
       "<Figure size 432x288 with 1 Axes>"
      ]
     },
     "metadata": {
      "needs_background": "light"
     },
     "output_type": "display_data"
    }
   ],
   "source": [
    "pd.DataFrame(target[-1,:].numpy()).plot()\n",
    "pd.DataFrame(predicted[-1,:].numpy()).plot()"
   ]
  },
  {
   "cell_type": "code",
   "execution_count": 17,
   "metadata": {},
   "outputs": [
    {
     "data": {
      "application/vnd.plotly.v1+json": {
       "config": {
        "plotlyServerURL": "https://plot.ly"
       },
       "data": [
        {
         "hovertemplate": "%{text}",
         "marker": {
          "color": [
           0.4409055709838867,
           0.3079005479812622,
           0.2913810610771179,
           0.10523474216461182,
           0.1502230167388916,
           0.7150483131408691,
           0.15048587322235107,
           0.16399717330932617,
           0.5099337100982666,
           0.29748404026031494,
           0.2145671844482422,
           0.008000612258911133,
           0.1264168620109558,
           0.2282724380493164,
           0.0825878381729126,
           0.2305377721786499,
           0.13028812408447266,
           0.2461850643157959,
           0.10092484951019287,
           0.07292366027832031,
           0.38254815340042114,
           0.36574655771255493,
           0.053243160247802734,
           0.17100375890731812,
           0.18278807401657104,
           0.10254919528961182,
           0.07486498355865479,
           0.3879626393318176,
           0.39834046363830566,
           0.0841684341430664,
           0.11989998817443848,
           0.11663329601287842,
           0.13094031810760498,
           0.11297905445098877,
           0.10313940048217773,
           0.11057507991790771,
           0.07135844230651855,
           0.43872320652008057,
           0.20275866985321045,
           0.04056096076965332,
           0.1665278673171997,
           0.06235349178314209,
           0.12970447540283203,
           0.12852787971496582,
           0.05365431308746338,
           0.17001473903656006,
           0.14725995063781738,
           0.05056452751159668,
           0.12599337100982666,
           0.09920084476470947,
           0.11839401721954346,
           0.09313249588012695,
           0.03289902210235596,
           0.1962447166442871,
           0.052739858627319336,
           0.11565017700195312,
           0.15265345573425293,
           0.07251262664794922,
           0.01824641227722168,
           0.02510654926300049,
           0.14164197444915771,
           0.3166540861129761,
           0.1076696515083313,
           0.18001770973205566,
           0.0910576581954956,
           0.09460592269897461,
           0.07125794887542725,
           0.3857263922691345,
           0.3855282664299011,
           0.0737159252166748,
           0.10035538673400879,
           0.1651439666748047,
           0.09833753108978271,
           0.1748473048210144,
           0.08667802810668945,
           0.08274650573730469,
           0.07892978191375732,
           0.06479334831237793,
           0.024233222007751465,
           0.18598037958145142,
           0.07097041606903076,
           0.022250771522521973,
           0.07578670978546143,
           0.07910305261611938,
           0.08231556415557861,
           0.08538150787353516,
           0.09350800514221191,
           0.08718538284301758,
           0.07519161701202393,
           0.04288691282272339,
           0.029786348342895508,
           0.09187555313110352,
           0.083793044090271,
           0.14976978302001953,
           0.12600958347320557,
           0.08489179611206055,
           0.12220108509063721,
           0.16935455799102783,
           0.1466975212097168,
           0.12851738929748535,
           0.052027106285095215,
           0.14055001735687256,
           0.07492345571517944,
           0.12353003025054932,
           0.13350868225097656,
           0.166670560836792,
           0.22149258852005005,
           0.13430988788604736,
           0.11823242902755737,
           0.2163153886795044,
           0.1313927173614502,
           0.11468827724456787,
           0.1270294189453125,
           0.13897180557250977,
           0.10889649391174316,
           0.08359253406524658,
           0.16730177402496338,
           0.16707420349121094,
           0.08077347278594971,
           0.16318893432617188,
           0.0994882583618164,
           0.10897946357727051,
           0.08240723609924316,
           0.1620692014694214,
           0.16083407402038574,
           0.08436155319213867,
           0.09456086158752441,
           0.138047456741333,
           0.14116716384887695,
           0.07762265205383301,
           0.1406916379928589,
           0.12493860721588135,
           0.08260446786880493,
           0.1542617678642273,
           0.14236056804656982,
           0.06476342678070068,
           0.2771252393722534,
           0.33496367931365967,
           0.11144077777862549,
           0.09282219409942627,
           0.09897851943969727,
           0.0975961685180664,
           0.037438273429870605,
           0.08057045936584473,
           0.34640252590179443,
           0.14022040367126465,
           0.01991558074951172,
           0.32245659828186035,
           0.13518309593200684,
           0.08209025859832764,
           0.2231850028038025,
           0.04917633533477783,
           0.10530924797058105,
           0.14806795120239258,
           0.06984913349151611,
           0.17240947484970093,
           0.19199621677398682,
           0.08672165870666504,
           0.13554930686950684,
           0.39244091510772705,
           0.14419996738433838,
           0.005957603454589844,
           0.33898866176605225,
           0.12957978248596191,
           0.1410578489303589,
           0.09685385227203369,
           0.06770896911621094,
           0.1806483268737793,
           0.5182830691337585,
           0.17873024940490723,
           0.05239993333816528,
           0.1518370509147644,
           0.3604975938796997,
           0.003645777702331543,
           0.13316917419433594,
           0.08482527732849121,
           0.11841118335723877,
           0.17353534698486328,
           0.17647594213485718,
           0.15091711282730103,
           0.13199472427368164,
           0.04511463642120361,
           0.16281723976135254,
           0.12408220767974854,
           0.10206609964370728,
           0.20469969511032104,
           0.024383246898651123,
           0.1253032684326172,
           0.1152728796005249,
           0.01691436767578125,
           0.13977110385894775,
           0.14958548545837402,
           0.07605600357055664,
           0.38725781440734863,
           0.13244247436523438,
           0.019813179969787598,
           0.1508932113647461,
           0.15050041675567627,
           0.09023427963256836,
           0.12906670570373535,
           0.13745558261871338,
           0.0914006233215332,
           0.12427043914794922,
           0.06284785270690918,
           0.12613749504089355,
           0.09295654296875,
           0.2941408157348633,
           0.1285179853439331,
           0.09224402904510498,
           0.0908135175704956,
           0.17630159854888916,
           0.06910449266433716,
           0.19659388065338135,
           0.09850603342056274,
           0.21546536684036255,
           0.1155957579612732,
           0.08606833219528198,
           0.11388134956359863,
           0.09060788154602051,
           0.1256873607635498,
           0.3823819160461426,
           0.1348099708557129,
           0.035396575927734375,
           0.13163530826568604,
           0.11906039714813232,
           0.019019663333892822,
           0.10513043403625488,
           0.19618076086044312,
           0.08928465843200684,
           0.09731507301330566,
           0.13232827186584473,
           0.04096013307571411,
           0.12928253412246704,
           0.4192023277282715,
           0.3846663236618042,
           0.3362375497817993,
           0.10805356502532959,
           0.3162142038345337,
           0.0480036735534668,
           0.10288381576538086,
           0.10642457008361816,
           0.07730686664581299,
           0.0492168664932251,
           0.39074766635894775,
           0.02993100881576538,
           0.035402774810791016,
           0.17712199687957764,
           0.41235148906707764,
           0.10138654708862305,
           0.13289117813110352,
           0.14715278148651123,
           0.24192452430725098,
           0.2750293016433716,
           0.09581685066223145,
           0.014458179473876953,
           0.19081175327301025,
           0.19063031673431396,
           0.1551969051361084,
           0.13053584098815918,
           0.007138371467590332,
           0.09320473670959473,
           0.17203426361083984,
           0.01500082015991211,
           0.14806771278381348,
           0.3415799140930176,
           0.10273945331573486,
           0.1085587739944458,
           0.3282276391983032,
           0.11676108837127686,
           0.1459439992904663,
           0.27765870094299316,
           0.04551422595977783,
           0.18714356422424316,
           0.05306661128997803,
           0.03446495532989502,
           0.20324170589447021,
           0.1974276304244995,
           0.07552790641784668,
           0.06623601913452148,
           0.24833667278289795,
           0.05571591854095459,
           0.034741878509521484,
           0.04833722114562988,
           0.2582014799118042,
           0.23486542701721191,
           0.2207932472229004,
           0.21215510368347168,
           0.06482648849487305,
           0.016054272651672363,
           0.2107325792312622,
           0.05374586582183838,
           0.02230823040008545,
           0.31613409519195557,
           0.1435767412185669,
           0.3758732080459595,
           0.03547477722167969,
           0.23464596271514893,
           0.13697922229766846,
           0.1921231746673584,
           0.04324769973754883,
           0.38529813289642334,
           0.07605469226837158,
           0.20775938034057617,
           0.3949357271194458,
           0.22561907768249512,
           0.039359331130981445,
           0.26802027225494385,
           0.0015485286712646484,
           0.2857307195663452,
           0.029117107391357422,
           0.29081666469573975,
           0.2388702630996704,
           0.3688077926635742,
           0.24636876583099365,
           0.16183531284332275,
           0.21697461605072021,
           0.3200000524520874,
           0.041640400886535645
          ],
          "colorscale": [
           [
            0,
            "rgb(255,247,236)"
           ],
           [
            0.125,
            "rgb(254,232,200)"
           ],
           [
            0.25,
            "rgb(253,212,158)"
           ],
           [
            0.375,
            "rgb(253,187,132)"
           ],
           [
            0.5,
            "rgb(252,141,89)"
           ],
           [
            0.625,
            "rgb(239,101,72)"
           ],
           [
            0.75,
            "rgb(215,48,31)"
           ],
           [
            0.875,
            "rgb(179,0,0)"
           ],
           [
            1,
            "rgb(127,0,0)"
           ]
          ],
          "line": {
           "color": "DarkSlateGrey",
           "width": 1
          },
          "showscale": true,
          "size": [
           0.43935704231262207,
           0.30635201930999756,
           0.28983253240585327,
           0.10368621349334717,
           0.14867448806762695,
           0.7134997844696045,
           0.14893734455108643,
           0.16244864463806152,
           0.508385181427002,
           0.2959355115890503,
           0.21301865577697754,
           0.006452083587646484,
           0.12486833333969116,
           0.22672390937805176,
           0.08103930950164795,
           0.22898924350738525,
           0.128739595413208,
           0.24463653564453125,
           0.09937632083892822,
           0.07137513160705566,
           0.3809996247291565,
           0.3641980290412903,
           0.051694631576538086,
           0.16945523023605347,
           0.1812395453453064,
           0.10100066661834717,
           0.07331645488739014,
           0.386414110660553,
           0.396791934967041,
           0.08261990547180176,
           0.11835145950317383,
           0.11508476734161377,
           0.12939178943634033,
           0.11143052577972412,
           0.10159087181091309,
           0.10902655124664307,
           0.0698099136352539,
           0.4371746778488159,
           0.2012101411819458,
           0.03901243209838867,
           0.16497933864593506,
           0.06080496311187744,
           0.12815594673156738,
           0.12697935104370117,
           0.05210578441619873,
           0.1684662103652954,
           0.14571142196655273,
           0.04901599884033203,
           0.12444484233856201,
           0.09765231609344482,
           0.11684548854827881,
           0.0915839672088623,
           0.03135049343109131,
           0.19469618797302246,
           0.05119132995605469,
           0.11410164833068848,
           0.15110492706298828,
           0.07096409797668457,
           0.01669788360595703,
           0.02355802059173584,
           0.14009344577789307,
           0.3151055574417114,
           0.10612112283706665,
           0.17846918106079102,
           0.08950912952423096,
           0.09305739402770996,
           0.0697094202041626,
           0.3841778635978699,
           0.3839797377586365,
           0.07216739654541016,
           0.09880685806274414,
           0.16359543800354004,
           0.09678900241851807,
           0.17329877614974976,
           0.0851294994354248,
           0.08119797706604004,
           0.07738125324249268,
           0.06324481964111328,
           0.022684693336486816,
           0.18443185091018677,
           0.06942188739776611,
           0.020702242851257324,
           0.07423818111419678,
           0.07755452394485474,
           0.08076703548431396,
           0.08383297920227051,
           0.09195947647094727,
           0.08563685417175293,
           0.07364308834075928,
           0.04133838415145874,
           0.02823781967163086,
           0.09032702445983887,
           0.08224451541900635,
           0.14822125434875488,
           0.12446105480194092,
           0.0833432674407959,
           0.12065255641937256,
           0.16780602931976318,
           0.14514899253845215,
           0.1269688606262207,
           0.050478577613830566,
           0.1390014886856079,
           0.0733749270439148,
           0.12198150157928467,
           0.13196015357971191,
           0.16512203216552734,
           0.2199440598487854,
           0.13276135921478271,
           0.11668390035629272,
           0.21476686000823975,
           0.12984418869018555,
           0.11313974857330322,
           0.12548089027404785,
           0.13742327690124512,
           0.10734796524047852,
           0.08204400539398193,
           0.16575324535369873,
           0.1655256748199463,
           0.07922494411468506,
           0.16164040565490723,
           0.09793972969055176,
           0.10743093490600586,
           0.08085870742797852,
           0.16052067279815674,
           0.1592855453491211,
           0.08281302452087402,
           0.09301233291625977,
           0.13649892807006836,
           0.1396186351776123,
           0.07607412338256836,
           0.13914310932159424,
           0.1233900785446167,
           0.08105593919754028,
           0.15271323919296265,
           0.14081203937530518,
           0.06321489810943604,
           0.27557671070098877,
           0.333415150642395,
           0.10989224910736084,
           0.09127366542816162,
           0.09742999076843262,
           0.09604763984680176,
           0.03588974475860596,
           0.07902193069458008,
           0.3448539972305298,
           0.138671875,
           0.01836705207824707,
           0.3209080696105957,
           0.1336345672607422,
           0.08054172992706299,
           0.22163647413253784,
           0.047627806663513184,
           0.1037607192993164,
           0.14651942253112793,
           0.06830060482025146,
           0.17086094617843628,
           0.19044768810272217,
           0.08517313003540039,
           0.1340007781982422,
           0.3908923864364624,
           0.14265143871307373,
           0.004409074783325195,
           0.3374401330947876,
           0.12803125381469727,
           0.13950932025909424,
           0.09530532360076904,
           0.06616044044494629,
           0.17909979820251465,
           0.5167345404624939,
           0.17718172073364258,
           0.050851404666900635,
           0.15028852224349976,
           0.35894906520843506,
           0.0020972490310668945,
           0.1316206455230713,
           0.08327674865722656,
           0.11686265468597412,
           0.17198681831359863,
           0.17492741346359253,
           0.14936858415603638,
           0.130446195602417,
           0.043566107749938965,
           0.1612687110900879,
           0.12253367900848389,
           0.10051757097244263,
           0.2031511664390564,
           0.022834718227386475,
           0.12375473976135254,
           0.11372435092926025,
           0.015365839004516602,
           0.1382225751876831,
           0.14803695678710938,
           0.07450747489929199,
           0.385709285736084,
           0.13089394569396973,
           0.01826465129852295,
           0.14934468269348145,
           0.14895188808441162,
           0.08868575096130371,
           0.1275181770324707,
           0.13590705394744873,
           0.08985209465026855,
           0.12272191047668457,
           0.06129932403564453,
           0.1245889663696289,
           0.09140801429748535,
           0.29259228706359863,
           0.12696945667266846,
           0.09069550037384033,
           0.08926498889923096,
           0.1747530698776245,
           0.06755596399307251,
           0.1950453519821167,
           0.0969575047492981,
           0.2139168381690979,
           0.11404722929000854,
           0.08451980352401733,
           0.11233282089233398,
           0.08905935287475586,
           0.12413883209228516,
           0.38083338737487793,
           0.13326144218444824,
           0.03384804725646973,
           0.1300867795944214,
           0.11751186847686768,
           0.017471134662628174,
           0.10358190536499023,
           0.19463223218917847,
           0.08773612976074219,
           0.09576654434204102,
           0.13077974319458008,
           0.03941160440444946,
           0.1277340054512024,
           0.41765379905700684,
           0.38311779499053955,
           0.33468902111053467,
           0.10650503635406494,
           0.31466567516326904,
           0.04645514488220215,
           0.10133528709411621,
           0.10487604141235352,
           0.07575833797454834,
           0.04766833782196045,
           0.3891991376876831,
           0.028382480144500732,
           0.03385424613952637,
           0.175573468208313,
           0.410802960395813,
           0.0998380184173584,
           0.13134264945983887,
           0.14560425281524658,
           0.24037599563598633,
           0.27348077297210693,
           0.0942683219909668,
           0.012909650802612305,
           0.1892632246017456,
           0.18908178806304932,
           0.15364837646484375,
           0.12898731231689453,
           0.005589842796325684,
           0.09165620803833008,
           0.1704857349395752,
           0.013452291488647461,
           0.14651918411254883,
           0.34003138542175293,
           0.10119092464447021,
           0.10701024532318115,
           0.3266791105270386,
           0.11521255970001221,
           0.14439547061920166,
           0.2761101722717285,
           0.043965697288513184,
           0.18559503555297852,
           0.05151808261871338,
           0.03291642665863037,
           0.20169317722320557,
           0.19587910175323486,
           0.07397937774658203,
           0.06468749046325684,
           0.2467881441116333,
           0.05416738986968994,
           0.033193349838256836,
           0.046788692474365234,
           0.25665295124053955,
           0.23331689834594727,
           0.21924471855163574,
           0.21060657501220703,
           0.0632779598236084,
           0.014505743980407715,
           0.20918405055999756,
           0.05219733715057373,
           0.0207597017288208,
           0.3145855665206909,
           0.14202821254730225,
           0.3743246793746948,
           0.03392624855041504,
           0.23309743404388428,
           0.1354306936264038,
           0.19057464599609375,
           0.04169917106628418,
           0.3837496042251587,
           0.07450616359710693,
           0.20621085166931152,
           0.39338719844818115,
           0.22407054901123047,
           0.0378108024597168,
           0.2664717435836792,
           0,
           0.28418219089508057,
           0.027568578720092773,
           0.2892681360244751,
           0.23732173442840576,
           0.36725926399230957,
           0.244820237159729,
           0.1602867841720581,
           0.21542608737945557,
           0.31845152378082275,
           0.040091872215270996
          ],
          "sizemin": 2,
          "sizeref": 0.05720386505126953
         },
         "mode": "markers",
         "name": "coordinates",
         "text": [
          "<b><br> Node ID: </b> j_9006F <br> <b>Value:</b> 0.44",
          "<b><br> Node ID: </b> j_90334 <br> <b>Value:</b> 0.31",
          "<b><br> Node ID: </b> j_90335 <br> <b>Value:</b> 0.29",
          "<b><br> Node ID: </b> j_90336 <br> <b>Value:</b> 0.11",
          "<b><br> Node ID: </b> j_90363 <br> <b>Value:</b> 0.15",
          "<b><br> Node ID: </b> j_90364 <br> <b>Value:</b> 0.72",
          "<b><br> Node ID: </b> j_90365 <br> <b>Value:</b> 0.15",
          "<b><br> Node ID: </b> j_90366 <br> <b>Value:</b> 0.16",
          "<b><br> Node ID: </b> j_90367 <br> <b>Value:</b> 0.51",
          "<b><br> Node ID: </b> j_90368 <br> <b>Value:</b> 0.30",
          "<b><br> Node ID: </b> j_90369 <br> <b>Value:</b> 0.21",
          "<b><br> Node ID: </b> j_90370 <br> <b>Value:</b> 0.01",
          "<b><br> Node ID: </b> j_90371 <br> <b>Value:</b> 0.13",
          "<b><br> Node ID: </b> j_90372 <br> <b>Value:</b> 0.23",
          "<b><br> Node ID: </b> j_90373 <br> <b>Value:</b> 0.08",
          "<b><br> Node ID: </b> j_90374 <br> <b>Value:</b> 0.23",
          "<b><br> Node ID: </b> j_90375 <br> <b>Value:</b> 0.13",
          "<b><br> Node ID: </b> j_90376 <br> <b>Value:</b> 0.25",
          "<b><br> Node ID: </b> j_90377 <br> <b>Value:</b> 0.10",
          "<b><br> Node ID: </b> j_90378 <br> <b>Value:</b> 0.07",
          "<b><br> Node ID: </b> j_90379 <br> <b>Value:</b> 0.38",
          "<b><br> Node ID: </b> j_90380 <br> <b>Value:</b> 0.37",
          "<b><br> Node ID: </b> j_90381 <br> <b>Value:</b> 0.05",
          "<b><br> Node ID: </b> j_90382 <br> <b>Value:</b> 0.17",
          "<b><br> Node ID: </b> j_90383 <br> <b>Value:</b> 0.18",
          "<b><br> Node ID: </b> j_90384 <br> <b>Value:</b> 0.10",
          "<b><br> Node ID: </b> j_90385 <br> <b>Value:</b> 0.07",
          "<b><br> Node ID: </b> j_90386 <br> <b>Value:</b> 0.39",
          "<b><br> Node ID: </b> j_90387 <br> <b>Value:</b> 0.40",
          "<b><br> Node ID: </b> j_90388 <br> <b>Value:</b> 0.08",
          "<b><br> Node ID: </b> j_90389 <br> <b>Value:</b> 0.12",
          "<b><br> Node ID: </b> j_90390 <br> <b>Value:</b> 0.12",
          "<b><br> Node ID: </b> j_90391 <br> <b>Value:</b> 0.13",
          "<b><br> Node ID: </b> j_90392 <br> <b>Value:</b> 0.11",
          "<b><br> Node ID: </b> j_90393 <br> <b>Value:</b> 0.10",
          "<b><br> Node ID: </b> j_90394 <br> <b>Value:</b> 0.11",
          "<b><br> Node ID: </b> j_90395 <br> <b>Value:</b> 0.07",
          "<b><br> Node ID: </b> j_90396 <br> <b>Value:</b> 0.44",
          "<b><br> Node ID: </b> j_90397 <br> <b>Value:</b> 0.20",
          "<b><br> Node ID: </b> j_90398 <br> <b>Value:</b> 0.04",
          "<b><br> Node ID: </b> j_90399 <br> <b>Value:</b> 0.17",
          "<b><br> Node ID: </b> j_90400 <br> <b>Value:</b> 0.06",
          "<b><br> Node ID: </b> j_90401 <br> <b>Value:</b> 0.13",
          "<b><br> Node ID: </b> j_90402 <br> <b>Value:</b> 0.13",
          "<b><br> Node ID: </b> j_90403 <br> <b>Value:</b> 0.05",
          "<b><br> Node ID: </b> j_90404 <br> <b>Value:</b> 0.17",
          "<b><br> Node ID: </b> j_90405 <br> <b>Value:</b> 0.15",
          "<b><br> Node ID: </b> j_90406 <br> <b>Value:</b> 0.05",
          "<b><br> Node ID: </b> j_90407 <br> <b>Value:</b> 0.13",
          "<b><br> Node ID: </b> j_90408 <br> <b>Value:</b> 0.10",
          "<b><br> Node ID: </b> j_90427 <br> <b>Value:</b> 0.12",
          "<b><br> Node ID: </b> j_90428 <br> <b>Value:</b> 0.09",
          "<b><br> Node ID: </b> j_90430 <br> <b>Value:</b> 0.03",
          "<b><br> Node ID: </b> j_90433 <br> <b>Value:</b> 0.20",
          "<b><br> Node ID: </b> j_90434 <br> <b>Value:</b> 0.05",
          "<b><br> Node ID: </b> j_90435 <br> <b>Value:</b> 0.12",
          "<b><br> Node ID: </b> j_90436 <br> <b>Value:</b> 0.15",
          "<b><br> Node ID: </b> j_90437 <br> <b>Value:</b> 0.07",
          "<b><br> Node ID: </b> j_90438 <br> <b>Value:</b> 0.02",
          "<b><br> Node ID: </b> j_90439 <br> <b>Value:</b> 0.03",
          "<b><br> Node ID: </b> j_90440 <br> <b>Value:</b> 0.14",
          "<b><br> Node ID: </b> j_90441 <br> <b>Value:</b> 0.32",
          "<b><br> Node ID: </b> j_90442 <br> <b>Value:</b> 0.11",
          "<b><br> Node ID: </b> j_90443 <br> <b>Value:</b> 0.18",
          "<b><br> Node ID: </b> j_90444 <br> <b>Value:</b> 0.09",
          "<b><br> Node ID: </b> j_90445 <br> <b>Value:</b> 0.09",
          "<b><br> Node ID: </b> j_90446 <br> <b>Value:</b> 0.07",
          "<b><br> Node ID: </b> j_90447 <br> <b>Value:</b> 0.39",
          "<b><br> Node ID: </b> j_90448 <br> <b>Value:</b> 0.39",
          "<b><br> Node ID: </b> j_90449 <br> <b>Value:</b> 0.07",
          "<b><br> Node ID: </b> j_90450 <br> <b>Value:</b> 0.10",
          "<b><br> Node ID: </b> j_90451 <br> <b>Value:</b> 0.17",
          "<b><br> Node ID: </b> j_90452 <br> <b>Value:</b> 0.10",
          "<b><br> Node ID: </b> j_90453 <br> <b>Value:</b> 0.17",
          "<b><br> Node ID: </b> j_90454 <br> <b>Value:</b> 0.09",
          "<b><br> Node ID: </b> j_90455 <br> <b>Value:</b> 0.08",
          "<b><br> Node ID: </b> j_90456 <br> <b>Value:</b> 0.08",
          "<b><br> Node ID: </b> j_90457 <br> <b>Value:</b> 0.06",
          "<b><br> Node ID: </b> j_90459 <br> <b>Value:</b> 0.02",
          "<b><br> Node ID: </b> j_90460 <br> <b>Value:</b> 0.19",
          "<b><br> Node ID: </b> j_90461 <br> <b>Value:</b> 0.07",
          "<b><br> Node ID: </b> j_90462 <br> <b>Value:</b> 0.02",
          "<b><br> Node ID: </b> j_90463 <br> <b>Value:</b> 0.08",
          "<b><br> Node ID: </b> j_90464 <br> <b>Value:</b> 0.08",
          "<b><br> Node ID: </b> j_90465 <br> <b>Value:</b> 0.08",
          "<b><br> Node ID: </b> j_90466 <br> <b>Value:</b> 0.09",
          "<b><br> Node ID: </b> j_90467 <br> <b>Value:</b> 0.09",
          "<b><br> Node ID: </b> j_90468 <br> <b>Value:</b> 0.09",
          "<b><br> Node ID: </b> j_90469 <br> <b>Value:</b> 0.08",
          "<b><br> Node ID: </b> j_90470 <br> <b>Value:</b> 0.04",
          "<b><br> Node ID: </b> j_90471 <br> <b>Value:</b> 0.03",
          "<b><br> Node ID: </b> j_90477 <br> <b>Value:</b> 0.09",
          "<b><br> Node ID: </b> j_90478 <br> <b>Value:</b> 0.08",
          "<b><br> Node ID: </b> j_90479 <br> <b>Value:</b> 0.15",
          "<b><br> Node ID: </b> j_90480 <br> <b>Value:</b> 0.13",
          "<b><br> Node ID: </b> j_90481 <br> <b>Value:</b> 0.08",
          "<b><br> Node ID: </b> j_90482 <br> <b>Value:</b> 0.12",
          "<b><br> Node ID: </b> j_90483 <br> <b>Value:</b> 0.17",
          "<b><br> Node ID: </b> j_90484 <br> <b>Value:</b> 0.15",
          "<b><br> Node ID: </b> j_90485 <br> <b>Value:</b> 0.13",
          "<b><br> Node ID: </b> j_90486 <br> <b>Value:</b> 0.05",
          "<b><br> Node ID: </b> j_90487 <br> <b>Value:</b> 0.14",
          "<b><br> Node ID: </b> j_90488 <br> <b>Value:</b> 0.07",
          "<b><br> Node ID: </b> j_90489 <br> <b>Value:</b> 0.12",
          "<b><br> Node ID: </b> j_90490 <br> <b>Value:</b> 0.13",
          "<b><br> Node ID: </b> j_90491 <br> <b>Value:</b> 0.17",
          "<b><br> Node ID: </b> j_90492 <br> <b>Value:</b> 0.22",
          "<b><br> Node ID: </b> j_90493 <br> <b>Value:</b> 0.13",
          "<b><br> Node ID: </b> j_90494 <br> <b>Value:</b> 0.12",
          "<b><br> Node ID: </b> j_90495 <br> <b>Value:</b> 0.22",
          "<b><br> Node ID: </b> j_90496 <br> <b>Value:</b> 0.13",
          "<b><br> Node ID: </b> j_90497 <br> <b>Value:</b> 0.11",
          "<b><br> Node ID: </b> j_90498 <br> <b>Value:</b> 0.13",
          "<b><br> Node ID: </b> j_90499 <br> <b>Value:</b> 0.14",
          "<b><br> Node ID: </b> j_90500 <br> <b>Value:</b> 0.11",
          "<b><br> Node ID: </b> j_90501 <br> <b>Value:</b> 0.08",
          "<b><br> Node ID: </b> j_90502 <br> <b>Value:</b> 0.17",
          "<b><br> Node ID: </b> j_90503 <br> <b>Value:</b> 0.17",
          "<b><br> Node ID: </b> j_90504 <br> <b>Value:</b> 0.08",
          "<b><br> Node ID: </b> j_90505 <br> <b>Value:</b> 0.16",
          "<b><br> Node ID: </b> j_90506 <br> <b>Value:</b> 0.10",
          "<b><br> Node ID: </b> j_90507 <br> <b>Value:</b> 0.11",
          "<b><br> Node ID: </b> j_90508 <br> <b>Value:</b> 0.08",
          "<b><br> Node ID: </b> j_90509 <br> <b>Value:</b> 0.16",
          "<b><br> Node ID: </b> j_90510 <br> <b>Value:</b> 0.16",
          "<b><br> Node ID: </b> j_90511 <br> <b>Value:</b> 0.08",
          "<b><br> Node ID: </b> j_90512 <br> <b>Value:</b> 0.09",
          "<b><br> Node ID: </b> j_90513 <br> <b>Value:</b> 0.14",
          "<b><br> Node ID: </b> j_90514 <br> <b>Value:</b> 0.14",
          "<b><br> Node ID: </b> j_90515 <br> <b>Value:</b> 0.08",
          "<b><br> Node ID: </b> j_90516 <br> <b>Value:</b> 0.14",
          "<b><br> Node ID: </b> j_90517 <br> <b>Value:</b> 0.12",
          "<b><br> Node ID: </b> j_90518 <br> <b>Value:</b> 0.08",
          "<b><br> Node ID: </b> j_90519 <br> <b>Value:</b> 0.15",
          "<b><br> Node ID: </b> j_90520 <br> <b>Value:</b> 0.14",
          "<b><br> Node ID: </b> j_90521 <br> <b>Value:</b> 0.06",
          "<b><br> Node ID: </b> j_90522 <br> <b>Value:</b> 0.28",
          "<b><br> Node ID: </b> j_90523 <br> <b>Value:</b> 0.33",
          "<b><br> Node ID: </b> j_90524 <br> <b>Value:</b> 0.11",
          "<b><br> Node ID: </b> j_90525 <br> <b>Value:</b> 0.09",
          "<b><br> Node ID: </b> j_90526 <br> <b>Value:</b> 0.10",
          "<b><br> Node ID: </b> j_90527 <br> <b>Value:</b> 0.10",
          "<b><br> Node ID: </b> j_90549 <br> <b>Value:</b> 0.04",
          "<b><br> Node ID: </b> j_90550 <br> <b>Value:</b> 0.08",
          "<b><br> Node ID: </b> j_90551 <br> <b>Value:</b> 0.35",
          "<b><br> Node ID: </b> j_90553 <br> <b>Value:</b> 0.14",
          "<b><br> Node ID: </b> j_90554 <br> <b>Value:</b> 0.02",
          "<b><br> Node ID: </b> j_90555 <br> <b>Value:</b> 0.32",
          "<b><br> Node ID: </b> j_90556 <br> <b>Value:</b> 0.14",
          "<b><br> Node ID: </b> j_90557 <br> <b>Value:</b> 0.08",
          "<b><br> Node ID: </b> j_90558 <br> <b>Value:</b> 0.22",
          "<b><br> Node ID: </b> j_90559 <br> <b>Value:</b> 0.05",
          "<b><br> Node ID: </b> j_90560 <br> <b>Value:</b> 0.11",
          "<b><br> Node ID: </b> j_90561 <br> <b>Value:</b> 0.15",
          "<b><br> Node ID: </b> j_90562 <br> <b>Value:</b> 0.07",
          "<b><br> Node ID: </b> j_90563 <br> <b>Value:</b> 0.17",
          "<b><br> Node ID: </b> j_90564 <br> <b>Value:</b> 0.19",
          "<b><br> Node ID: </b> j_90565 <br> <b>Value:</b> 0.09",
          "<b><br> Node ID: </b> j_90566 <br> <b>Value:</b> 0.14",
          "<b><br> Node ID: </b> j_90567 <br> <b>Value:</b> 0.39",
          "<b><br> Node ID: </b> j_90568 <br> <b>Value:</b> 0.14",
          "<b><br> Node ID: </b> j_90569 <br> <b>Value:</b> 0.01",
          "<b><br> Node ID: </b> j_90570 <br> <b>Value:</b> 0.34",
          "<b><br> Node ID: </b> j_90571 <br> <b>Value:</b> 0.13",
          "<b><br> Node ID: </b> j_90572 <br> <b>Value:</b> 0.14",
          "<b><br> Node ID: </b> j_90573 <br> <b>Value:</b> 0.10",
          "<b><br> Node ID: </b> j_90574 <br> <b>Value:</b> 0.07",
          "<b><br> Node ID: </b> j_90575 <br> <b>Value:</b> 0.18",
          "<b><br> Node ID: </b> j_90576 <br> <b>Value:</b> 0.52",
          "<b><br> Node ID: </b> j_90577 <br> <b>Value:</b> 0.18",
          "<b><br> Node ID: </b> j_90578 <br> <b>Value:</b> 0.05",
          "<b><br> Node ID: </b> j_90579 <br> <b>Value:</b> 0.15",
          "<b><br> Node ID: </b> j_90580 <br> <b>Value:</b> 0.36",
          "<b><br> Node ID: </b> j_90581 <br> <b>Value:</b> 0.00",
          "<b><br> Node ID: </b> j_90582 <br> <b>Value:</b> 0.13",
          "<b><br> Node ID: </b> j_90583 <br> <b>Value:</b> 0.08",
          "<b><br> Node ID: </b> j_90584 <br> <b>Value:</b> 0.12",
          "<b><br> Node ID: </b> j_90585 <br> <b>Value:</b> 0.17",
          "<b><br> Node ID: </b> j_90586 <br> <b>Value:</b> 0.18",
          "<b><br> Node ID: </b> j_90587 <br> <b>Value:</b> 0.15",
          "<b><br> Node ID: </b> j_90588 <br> <b>Value:</b> 0.13",
          "<b><br> Node ID: </b> j_90589 <br> <b>Value:</b> 0.05",
          "<b><br> Node ID: </b> j_90590 <br> <b>Value:</b> 0.16",
          "<b><br> Node ID: </b> j_90591 <br> <b>Value:</b> 0.12",
          "<b><br> Node ID: </b> j_90592 <br> <b>Value:</b> 0.10",
          "<b><br> Node ID: </b> j_90593 <br> <b>Value:</b> 0.20",
          "<b><br> Node ID: </b> j_90594 <br> <b>Value:</b> 0.02",
          "<b><br> Node ID: </b> j_90595 <br> <b>Value:</b> 0.13",
          "<b><br> Node ID: </b> j_90596 <br> <b>Value:</b> 0.12",
          "<b><br> Node ID: </b> j_90597 <br> <b>Value:</b> 0.02",
          "<b><br> Node ID: </b> j_90598 <br> <b>Value:</b> 0.14",
          "<b><br> Node ID: </b> j_90599 <br> <b>Value:</b> 0.15",
          "<b><br> Node ID: </b> j_90600 <br> <b>Value:</b> 0.08",
          "<b><br> Node ID: </b> j_90601 <br> <b>Value:</b> 0.39",
          "<b><br> Node ID: </b> j_90602 <br> <b>Value:</b> 0.13",
          "<b><br> Node ID: </b> j_90603 <br> <b>Value:</b> 0.02",
          "<b><br> Node ID: </b> j_90604 <br> <b>Value:</b> 0.15",
          "<b><br> Node ID: </b> j_90605 <br> <b>Value:</b> 0.15",
          "<b><br> Node ID: </b> j_90606 <br> <b>Value:</b> 0.09",
          "<b><br> Node ID: </b> j_90607 <br> <b>Value:</b> 0.13",
          "<b><br> Node ID: </b> j_90608 <br> <b>Value:</b> 0.14",
          "<b><br> Node ID: </b> j_90609 <br> <b>Value:</b> 0.09",
          "<b><br> Node ID: </b> j_90610 <br> <b>Value:</b> 0.12",
          "<b><br> Node ID: </b> j_90611 <br> <b>Value:</b> 0.06",
          "<b><br> Node ID: </b> j_90612 <br> <b>Value:</b> 0.13",
          "<b><br> Node ID: </b> j_90613 <br> <b>Value:</b> 0.09",
          "<b><br> Node ID: </b> j_90615 <br> <b>Value:</b> 0.29",
          "<b><br> Node ID: </b> j_90616 <br> <b>Value:</b> 0.13",
          "<b><br> Node ID: </b> j_90617 <br> <b>Value:</b> 0.09",
          "<b><br> Node ID: </b> j_90618 <br> <b>Value:</b> 0.09",
          "<b><br> Node ID: </b> j_90619 <br> <b>Value:</b> 0.18",
          "<b><br> Node ID: </b> j_90620 <br> <b>Value:</b> 0.07",
          "<b><br> Node ID: </b> j_90621 <br> <b>Value:</b> 0.20",
          "<b><br> Node ID: </b> j_90623 <br> <b>Value:</b> 0.10",
          "<b><br> Node ID: </b> j_90624 <br> <b>Value:</b> 0.22",
          "<b><br> Node ID: </b> j_90625 <br> <b>Value:</b> 0.12",
          "<b><br> Node ID: </b> j_90626 <br> <b>Value:</b> 0.09",
          "<b><br> Node ID: </b> j_90627 <br> <b>Value:</b> 0.11",
          "<b><br> Node ID: </b> j_90628 <br> <b>Value:</b> 0.09",
          "<b><br> Node ID: </b> j_90629 <br> <b>Value:</b> 0.13",
          "<b><br> Node ID: </b> j_90630 <br> <b>Value:</b> 0.38",
          "<b><br> Node ID: </b> j_90631 <br> <b>Value:</b> 0.13",
          "<b><br> Node ID: </b> j_90632 <br> <b>Value:</b> 0.04",
          "<b><br> Node ID: </b> j_90633 <br> <b>Value:</b> 0.13",
          "<b><br> Node ID: </b> j_90634 <br> <b>Value:</b> 0.12",
          "<b><br> Node ID: </b> j_90635 <br> <b>Value:</b> 0.02",
          "<b><br> Node ID: </b> j_90636 <br> <b>Value:</b> 0.11",
          "<b><br> Node ID: </b> j_90637 <br> <b>Value:</b> 0.20",
          "<b><br> Node ID: </b> j_90638 <br> <b>Value:</b> 0.09",
          "<b><br> Node ID: </b> j_90639 <br> <b>Value:</b> 0.10",
          "<b><br> Node ID: </b> j_90640 <br> <b>Value:</b> 0.13",
          "<b><br> Node ID: </b> j_90641 <br> <b>Value:</b> 0.04",
          "<b><br> Node ID: </b> j_90642 <br> <b>Value:</b> 0.13",
          "<b><br> Node ID: </b> j_90643 <br> <b>Value:</b> 0.42",
          "<b><br> Node ID: </b> j_90644 <br> <b>Value:</b> 0.38",
          "<b><br> Node ID: </b> j_90645 <br> <b>Value:</b> 0.34",
          "<b><br> Node ID: </b> j_90646 <br> <b>Value:</b> 0.11",
          "<b><br> Node ID: </b> j_90647 <br> <b>Value:</b> 0.32",
          "<b><br> Node ID: </b> j_90648 <br> <b>Value:</b> 0.05",
          "<b><br> Node ID: </b> j_90649 <br> <b>Value:</b> 0.10",
          "<b><br> Node ID: </b> j_90650 <br> <b>Value:</b> 0.11",
          "<b><br> Node ID: </b> j_90651 <br> <b>Value:</b> 0.08",
          "<b><br> Node ID: </b> j_90652 <br> <b>Value:</b> 0.05",
          "<b><br> Node ID: </b> j_90653 <br> <b>Value:</b> 0.39",
          "<b><br> Node ID: </b> j_90654 <br> <b>Value:</b> 0.03",
          "<b><br> Node ID: </b> j_90655 <br> <b>Value:</b> 0.04",
          "<b><br> Node ID: </b> j_90656 <br> <b>Value:</b> 0.18",
          "<b><br> Node ID: </b> j_90657 <br> <b>Value:</b> 0.41",
          "<b><br> Node ID: </b> j_90658 <br> <b>Value:</b> 0.10",
          "<b><br> Node ID: </b> j_90659 <br> <b>Value:</b> 0.13",
          "<b><br> Node ID: </b> j_90662 <br> <b>Value:</b> 0.15",
          "<b><br> Node ID: </b> j_90663 <br> <b>Value:</b> 0.24",
          "<b><br> Node ID: </b> j_90664 <br> <b>Value:</b> 0.28",
          "<b><br> Node ID: </b> j_90665 <br> <b>Value:</b> 0.10",
          "<b><br> Node ID: </b> j_90669 <br> <b>Value:</b> 0.01",
          "<b><br> Node ID: </b> j_90670 <br> <b>Value:</b> 0.19",
          "<b><br> Node ID: </b> j_90671 <br> <b>Value:</b> 0.19",
          "<b><br> Node ID: </b> j_90672 <br> <b>Value:</b> 0.16",
          "<b><br> Node ID: </b> j_90673 <br> <b>Value:</b> 0.13",
          "<b><br> Node ID: </b> j_90674 <br> <b>Value:</b> 0.01",
          "<b><br> Node ID: </b> j_90675 <br> <b>Value:</b> 0.09",
          "<b><br> Node ID: </b> j_90676 <br> <b>Value:</b> 0.17",
          "<b><br> Node ID: </b> j_90677 <br> <b>Value:</b> 0.02",
          "<b><br> Node ID: </b> j_90678 <br> <b>Value:</b> 0.15",
          "<b><br> Node ID: </b> j_90679 <br> <b>Value:</b> 0.34",
          "<b><br> Node ID: </b> j_90680 <br> <b>Value:</b> 0.10",
          "<b><br> Node ID: </b> j_90681 <br> <b>Value:</b> 0.11",
          "<b><br> Node ID: </b> j_90682 <br> <b>Value:</b> 0.33",
          "<b><br> Node ID: </b> j_90683 <br> <b>Value:</b> 0.12",
          "<b><br> Node ID: </b> j_90684 <br> <b>Value:</b> 0.15",
          "<b><br> Node ID: </b> j_90685 <br> <b>Value:</b> 0.28",
          "<b><br> Node ID: </b> j_90686 <br> <b>Value:</b> 0.05",
          "<b><br> Node ID: </b> j_90688 <br> <b>Value:</b> 0.19",
          "<b><br> Node ID: </b> j_90689 <br> <b>Value:</b> 0.05",
          "<b><br> Node ID: </b> j_90690 <br> <b>Value:</b> 0.03",
          "<b><br> Node ID: </b> j_90691 <br> <b>Value:</b> 0.20",
          "<b><br> Node ID: </b> j_90692 <br> <b>Value:</b> 0.20",
          "<b><br> Node ID: </b> j_90693 <br> <b>Value:</b> 0.08",
          "<b><br> Node ID: </b> j_90694 <br> <b>Value:</b> 0.07",
          "<b><br> Node ID: </b> j_90695 <br> <b>Value:</b> 0.25",
          "<b><br> Node ID: </b> j_90696 <br> <b>Value:</b> 0.06",
          "<b><br> Node ID: </b> j_90697 <br> <b>Value:</b> 0.03",
          "<b><br> Node ID: </b> j_90698 <br> <b>Value:</b> 0.05",
          "<b><br> Node ID: </b> j_90699 <br> <b>Value:</b> 0.26",
          "<b><br> Node ID: </b> j_90700 <br> <b>Value:</b> 0.23",
          "<b><br> Node ID: </b> j_90701 <br> <b>Value:</b> 0.22",
          "<b><br> Node ID: </b> j_90702 <br> <b>Value:</b> 0.21",
          "<b><br> Node ID: </b> j_90703 <br> <b>Value:</b> 0.06",
          "<b><br> Node ID: </b> j_90704 <br> <b>Value:</b> 0.02",
          "<b><br> Node ID: </b> j_90705 <br> <b>Value:</b> 0.21",
          "<b><br> Node ID: </b> j_90706 <br> <b>Value:</b> 0.05",
          "<b><br> Node ID: </b> j_90707 <br> <b>Value:</b> 0.02",
          "<b><br> Node ID: </b> j_90708 <br> <b>Value:</b> 0.32",
          "<b><br> Node ID: </b> j_90709 <br> <b>Value:</b> 0.14",
          "<b><br> Node ID: </b> j_90710 <br> <b>Value:</b> 0.38",
          "<b><br> Node ID: </b> j_90724 <br> <b>Value:</b> 0.04",
          "<b><br> Node ID: </b> j_90725 <br> <b>Value:</b> 0.23",
          "<b><br> Node ID: </b> j_90726 <br> <b>Value:</b> 0.14",
          "<b><br> Node ID: </b> j_90727 <br> <b>Value:</b> 0.19",
          "<b><br> Node ID: </b> j_90728 <br> <b>Value:</b> 0.04",
          "<b><br> Node ID: </b> j_90729 <br> <b>Value:</b> 0.39",
          "<b><br> Node ID: </b> j_90730 <br> <b>Value:</b> 0.08",
          "<b><br> Node ID: </b> j_90731 <br> <b>Value:</b> 0.21",
          "<b><br> Node ID: </b> j_90732 <br> <b>Value:</b> 0.39",
          "<b><br> Node ID: </b> j_90733 <br> <b>Value:</b> 0.23",
          "<b><br> Node ID: </b> j_91272 <br> <b>Value:</b> 0.04",
          "<b><br> Node ID: </b> j_91273 <br> <b>Value:</b> 0.27",
          "<b><br> Node ID: </b> j_91274 <br> <b>Value:</b> 0.00",
          "<b><br> Node ID: </b> j_91275 <br> <b>Value:</b> 0.29",
          "<b><br> Node ID: </b> j_91276 <br> <b>Value:</b> 0.03",
          "<b><br> Node ID: </b> j_91277 <br> <b>Value:</b> 0.29",
          "<b><br> Node ID: </b> j_91278 <br> <b>Value:</b> 0.24",
          "<b><br> Node ID: </b> j_91279 <br> <b>Value:</b> 0.37",
          "<b><br> Node ID: </b> j_91292 <br> <b>Value:</b> 0.25",
          "<b><br> Node ID: </b> j_91293 <br> <b>Value:</b> 0.16",
          "<b><br> Node ID: </b> j_91294 <br> <b>Value:</b> 0.22",
          "<b><br> Node ID: </b> j_90552 <br> <b>Value:</b> 0.32",
          "<b><br> Node ID: </b> j_90431 <br> <b>Value:</b> 0.04"
         ],
         "type": "scatter",
         "x": [
          138143.828125,
          137673.34375,
          137834.046875,
          137884.953125,
          137716.28125,
          137710.515625,
          137706.109375,
          137757.796875,
          137751.203125,
          137747.171875,
          137794.3125,
          137811.203125,
          137791.921875,
          137756.609375,
          137772.28125,
          137732.5625,
          137750.59375,
          137712.546875,
          137729.265625,
          137797.90625,
          137758.375,
          137770.53125,
          137815.9375,
          137826.5,
          137849.234375,
          137837.90625,
          137838.234375,
          137798.25,
          137850.40625,
          137808.78125,
          137831.03125,
          137810.515625,
          137837.59375,
          137849.578125,
          137867.34375,
          137908.09375,
          137918.515625,
          137949.34375,
          137870.515625,
          137899.671875,
          137890.265625,
          137907.796875,
          137888.171875,
          137922.375,
          137926.015625,
          137945.203125,
          137925.28125,
          137957.9375,
          137984.859375,
          137982.03125,
          137611.5625,
          137608.0625,
          137595.84375,
          137692.640625,
          137707.921875,
          137688.421875,
          137646.390625,
          137660.109375,
          137695.3125,
          137682.328125,
          137647.953125,
          137691.25,
          137712.453125,
          137738.28125,
          137764.484375,
          137754.265625,
          137758.34375,
          137717.96875,
          137729.328125,
          137775.265625,
          137773.34375,
          137783.640625,
          137796.40625,
          137806.671875,
          137870.453125,
          137851.171875,
          137831.828125,
          137811.03125,
          137790.578125,
          137808.15625,
          137809.75,
          137856.484375,
          137907.34375,
          137911.328125,
          137914.96875,
          137918.71875,
          137978.859375,
          137975.6875,
          137971.9375,
          137968.34375,
          137963.84375,
          137535.125,
          137598.703125,
          137628.6875,
          137540.765625,
          137571.828125,
          137601.53125,
          137575.484375,
          137579.328125,
          137585.1875,
          137608.421875,
          137655.171875,
          137702.875,
          137698.859375,
          137694.8125,
          137646.359375,
          137691.015625,
          137687.703125,
          137729.9375,
          137733.6875,
          137737.1875,
          137741.09375,
          137744.59375,
          137775.359375,
          137805.4375,
          137800.703125,
          137828.609375,
          137798.015625,
          137826.65625,
          137764.59375,
          137794.09375,
          137822.984375,
          137791.09375,
          137819.984375,
          137853.109375,
          137885,
          137887.375,
          137891.65625,
          137852.9375,
          137896.515625,
          137913.953125,
          137903.234375,
          137916.109375,
          137959.5625,
          137996.9375,
          138017.609375,
          138025.984375,
          138014.875,
          137928.015625,
          137968.15625,
          138005.921875,
          138003.84375,
          137540.5625,
          137542.859375,
          137545.40625,
          137545.609375,
          137572.515625,
          137600.515625,
          137547.828125,
          137575.90625,
          137580.984375,
          137532.5625,
          137531.875,
          137594.53125,
          137623.734375,
          137619.484375,
          137643.609375,
          137644.671875,
          137647.140625,
          137627.828125,
          137626.3125,
          137669.921875,
          137681.984375,
          137675.21875,
          137679.21875,
          137683.375,
          137726.25,
          137719.859375,
          137714.640625,
          137710.5625,
          137743.296875,
          137798.703125,
          137805.859375,
          137776.046875,
          137753.140625,
          137750.5,
          137781.484375,
          137749.765625,
          137785.796875,
          137811.484375,
          137814.203125,
          137816.4375,
          137787.78125,
          137881.3125,
          137877.453125,
          137843.296875,
          137875.84375,
          137844.140625,
          137874.296875,
          137846.578125,
          137869.3125,
          137846.453125,
          137869.65625,
          137902.125,
          137938.6875,
          137938.203125,
          137935.875,
          137935.203125,
          137968.796875,
          137965.953125,
          137961.265625,
          137984.5,
          137988.609375,
          137992.625,
          137995.171875,
          137999.984375,
          137522.75,
          137579.765625,
          137621.53125,
          137664.109375,
          137708.984375,
          137707.609375,
          137704.5,
          137700.515625,
          137697.40625,
          137779.671875,
          137734.125,
          137733.421875,
          137749.875,
          137784.703125,
          137814.046875,
          137830.625,
          137822.234375,
          137809.453125,
          137797.59375,
          137797.234375,
          137840.640625,
          137852.5625,
          137871.625,
          137891.03125,
          137860.390625,
          137858,
          137914.984375,
          137971.4375,
          137910.015625,
          137918.34375,
          137951.046875,
          137977.984375,
          137921.734375,
          137949.5625,
          137928.9375,
          137879.40625,
          137917.796875,
          137956.625,
          137981.171875,
          137945.125,
          137906.578125,
          137678.484375,
          137679.9375,
          137705.65625,
          137685.125,
          137524.78125,
          137923.5625,
          137714.90625,
          138080.140625,
          138115.203125,
          138150.984375,
          138022.625,
          138027.5625,
          137997.984375,
          138078.515625,
          138113.0625,
          138149.015625,
          138153.65625,
          138151.375,
          138075.265625,
          138071.71875,
          138097.734375,
          138070.765625,
          138066.09375,
          138097.984375,
          138105.40625,
          137614.3125,
          137638.8125,
          137651.09375,
          137673.640625,
          137691.40625,
          137706.515625,
          137681.734375,
          137653.484375,
          137670.265625,
          137660.265625,
          137650.203125,
          137633.171875,
          137641.1875,
          137633.953125,
          137626.34375,
          137629.828125,
          137578.171875,
          137635.875,
          137883.734375,
          137901.046875,
          137951.046875,
          137895.328125,
          137945.234375,
          138134.375,
          138139.4375,
          138134.78125,
          138122.171875,
          138084.203125,
          138029.3125,
          138080.0625,
          138019.734375,
          138021.453125,
          138077.90625,
          137741.0625,
          137693.515625,
          137729.375,
          137685.4375,
          137717.625,
          137677.125,
          137705.953125,
          137668.71875,
          137760.375,
          137729.3125,
          137709.78125,
          137490.375,
          137593.046875
         ],
         "y": [
          456930.0625,
          458090,
          458100.71875,
          458094.84375,
          458085.90625,
          458074.5,
          458062.375,
          458065.09375,
          458054.3125,
          458045.59375,
          458077.65625,
          458069,
          458033.96875,
          458005.375,
          457996.9375,
          457964.875,
          457955.65625,
          457924.5625,
          457915.71875,
          457896.3125,
          457918.28125,
          457939.03125,
          457917.65625,
          457912.1875,
          457955.21875,
          457961.6875,
          457971.40625,
          457992.84375,
          457992.09375,
          458013.625,
          458014.46875,
          458024.875,
          458027.75,
          458028.9375,
          458062.5625,
          458082.21875,
          458059.6875,
          458043.125,
          457995.09375,
          457982.25,
          457952.4375,
          457941.21875,
          457904.15625,
          457891.65625,
          457931.6875,
          457931.5,
          457972,
          457959.71875,
          457948.71875,
          457915.875,
          457711.59375,
          457745.71875,
          457788.3125,
          457884.5625,
          457876.25,
          457836.46875,
          457817.15625,
          457794.65625,
          457772.96875,
          457753,
          457749.59375,
          457754.28125,
          457701.75,
          457746.78125,
          457795.84375,
          457801.25,
          457822.96875,
          457844.25,
          457865.21875,
          457840.84375,
          457837,
          457831.75,
          457880.71875,
          457875,
          457871,
          457834.875,
          457798.46875,
          457759.46875,
          457720.625,
          457702.75,
          457712.53125,
          457694.96875,
          457725.09375,
          457768.65625,
          457809.375,
          457851.25,
          457880.625,
          457845.71875,
          457803.6875,
          457763.71875,
          457715.15625,
          457507.75,
          457515.59375,
          457513.03125,
          457550.40625,
          457549.96875,
          457547.1875,
          457591.5625,
          457633.34375,
          457672.71875,
          457672.96875,
          457668.90625,
          457664.75,
          457622.875,
          457579.875,
          457543.28125,
          457539.1875,
          457496.96875,
          457493.28125,
          457535.0625,
          457577.5625,
          457619.4375,
          457661.0625,
          457658.25,
          457655.53125,
          457605.25,
          457598.375,
          457575.40625,
          457568.53125,
          457532.53125,
          457529.9375,
          457527.03125,
          457498.03125,
          457495.59375,
          457524.5625,
          457520.53125,
          457545.15625,
          457595.78125,
          457651.28125,
          457647.40625,
          457668.96875,
          457680.65625,
          457677.34375,
          457667.71875,
          457662.15625,
          457661.25,
          457660.78125,
          457631,
          457541.5625,
          457537.71875,
          457534.40625,
          457509.84375,
          457290.71875,
          457305.6875,
          457320.15625,
          457345.15625,
          457344.0625,
          457341.59375,
          457368.28125,
          457366.4375,
          457422.65625,
          457427.15625,
          457471.25,
          457470.875,
          457468.34375,
          457419.15625,
          457416.90625,
          457373.4375,
          457330.75,
          457305,
          457290.09375,
          457328.3125,
          457327.40625,
          457371.15625,
          457413.875,
          457456.0625,
          457450.5,
          457410.15625,
          457345.78125,
          457295.375,
          457292.15625,
          457287.25,
          457314.625,
          457317.125,
          457319.15625,
          457363.25,
          457359.75,
          457407.3125,
          457404.25,
          457401.875,
          457429.3125,
          457456.34375,
          457461.46875,
          457478.15625,
          457435.6875,
          457399.03125,
          457396,
          457358.65625,
          457357.40625,
          457318.15625,
          457318.6875,
          457309.71875,
          457307.5625,
          457310.15625,
          457300.03125,
          457320.3125,
          457357.5,
          457390.5,
          457387.59375,
          457354.46875,
          457320.78125,
          457295.625,
          457340.4375,
          457385.375,
          457413.09375,
          457465.59375,
          457277.6875,
          457283.21875,
          457275.65625,
          457270.0625,
          457280.25,
          457266,
          457228.1875,
          457183.125,
          457149.75,
          457141.71875,
          457163.125,
          457174.75,
          457221,
          457212.1875,
          457255.53125,
          457213.53125,
          457200.5,
          457173,
          457147.6875,
          457133.125,
          457106.6875,
          457113.6875,
          457154.9375,
          457196.71875,
          457206.28125,
          457282.03125,
          457277.0625,
          457271.84375,
          457247.34375,
          457204.25,
          457194.375,
          457192.40625,
          457187.25,
          457176.125,
          457126.71875,
          457079.34375,
          457054.625,
          457030.96875,
          457044.0625,
          457053.6875,
          457078.0625,
          457723.59375,
          457702.15625,
          457699.4375,
          457765.5625,
          457427.375,
          457193.4375,
          457265.21875,
          457103.0625,
          457102.875,
          457099.6875,
          456993.25,
          457001.6875,
          457034.5,
          457085.25,
          457082,
          457079.03125,
          457061.65625,
          457032.8125,
          457048.40625,
          457008.34375,
          457006.09375,
          456975.40625,
          456966.625,
          456946.84375,
          456953.90625,
          457818.53125,
          457830.21875,
          457836.6875,
          457860.75,
          457893.3125,
          457922.21875,
          457933.65625,
          457944.09375,
          457912.25,
          457893.65625,
          457875.71875,
          457858.40625,
          457922.71875,
          457903.03125,
          457884.25,
          457545.09375,
          457616.09375,
          457610.75,
          457504.1875,
          457502.53125,
          457498.125,
          457441.0625,
          457435.6875,
          457101.15625,
          457159.9375,
          457171.125,
          457180.4375,
          457184.09375,
          457189,
          457137.15625,
          457143.0625,
          457160.125,
          457112.125,
          458047.96875,
          458064.84375,
          458025.84375,
          458041.59375,
          458004,
          458018.59375,
          457982.03125,
          457995.5,
          458025.28125,
          457966.375,
          457930.21875,
          457337,
          457787.78125
         ]
        }
       ],
       "layout": {
        "font": {
         "color": "Black",
         "family": "Times new Roman",
         "size": 18
        },
        "height": 800,
        "legend": {
         "title": {
          "text": "Legend"
         }
        },
        "sliders": [
         {
          "active": 0,
          "currentvalue": {
           "font": {
            "size": 20
           },
           "prefix": "Time step (5 min): ",
           "visible": true,
           "xanchor": "right"
          },
          "len": 0.9,
          "pad": {
           "b": 10,
           "t": 50
          },
          "transition": {
           "duration": 300,
           "easing": "cubic-in-out"
          },
          "x": 0.1,
          "xanchor": "left",
          "y": 0,
          "yanchor": "top"
         }
        ],
        "template": {
         "data": {
          "bar": [
           {
            "error_x": {
             "color": "#2a3f5f"
            },
            "error_y": {
             "color": "#2a3f5f"
            },
            "marker": {
             "line": {
              "color": "#E5ECF6",
              "width": 0.5
             },
             "pattern": {
              "fillmode": "overlay",
              "size": 10,
              "solidity": 0.2
             }
            },
            "type": "bar"
           }
          ],
          "barpolar": [
           {
            "marker": {
             "line": {
              "color": "#E5ECF6",
              "width": 0.5
             },
             "pattern": {
              "fillmode": "overlay",
              "size": 10,
              "solidity": 0.2
             }
            },
            "type": "barpolar"
           }
          ],
          "carpet": [
           {
            "aaxis": {
             "endlinecolor": "#2a3f5f",
             "gridcolor": "white",
             "linecolor": "white",
             "minorgridcolor": "white",
             "startlinecolor": "#2a3f5f"
            },
            "baxis": {
             "endlinecolor": "#2a3f5f",
             "gridcolor": "white",
             "linecolor": "white",
             "minorgridcolor": "white",
             "startlinecolor": "#2a3f5f"
            },
            "type": "carpet"
           }
          ],
          "choropleth": [
           {
            "colorbar": {
             "outlinewidth": 0,
             "ticks": ""
            },
            "type": "choropleth"
           }
          ],
          "contour": [
           {
            "colorbar": {
             "outlinewidth": 0,
             "ticks": ""
            },
            "colorscale": [
             [
              0,
              "#0d0887"
             ],
             [
              0.1111111111111111,
              "#46039f"
             ],
             [
              0.2222222222222222,
              "#7201a8"
             ],
             [
              0.3333333333333333,
              "#9c179e"
             ],
             [
              0.4444444444444444,
              "#bd3786"
             ],
             [
              0.5555555555555556,
              "#d8576b"
             ],
             [
              0.6666666666666666,
              "#ed7953"
             ],
             [
              0.7777777777777778,
              "#fb9f3a"
             ],
             [
              0.8888888888888888,
              "#fdca26"
             ],
             [
              1,
              "#f0f921"
             ]
            ],
            "type": "contour"
           }
          ],
          "contourcarpet": [
           {
            "colorbar": {
             "outlinewidth": 0,
             "ticks": ""
            },
            "type": "contourcarpet"
           }
          ],
          "heatmap": [
           {
            "colorbar": {
             "outlinewidth": 0,
             "ticks": ""
            },
            "colorscale": [
             [
              0,
              "#0d0887"
             ],
             [
              0.1111111111111111,
              "#46039f"
             ],
             [
              0.2222222222222222,
              "#7201a8"
             ],
             [
              0.3333333333333333,
              "#9c179e"
             ],
             [
              0.4444444444444444,
              "#bd3786"
             ],
             [
              0.5555555555555556,
              "#d8576b"
             ],
             [
              0.6666666666666666,
              "#ed7953"
             ],
             [
              0.7777777777777778,
              "#fb9f3a"
             ],
             [
              0.8888888888888888,
              "#fdca26"
             ],
             [
              1,
              "#f0f921"
             ]
            ],
            "type": "heatmap"
           }
          ],
          "heatmapgl": [
           {
            "colorbar": {
             "outlinewidth": 0,
             "ticks": ""
            },
            "colorscale": [
             [
              0,
              "#0d0887"
             ],
             [
              0.1111111111111111,
              "#46039f"
             ],
             [
              0.2222222222222222,
              "#7201a8"
             ],
             [
              0.3333333333333333,
              "#9c179e"
             ],
             [
              0.4444444444444444,
              "#bd3786"
             ],
             [
              0.5555555555555556,
              "#d8576b"
             ],
             [
              0.6666666666666666,
              "#ed7953"
             ],
             [
              0.7777777777777778,
              "#fb9f3a"
             ],
             [
              0.8888888888888888,
              "#fdca26"
             ],
             [
              1,
              "#f0f921"
             ]
            ],
            "type": "heatmapgl"
           }
          ],
          "histogram": [
           {
            "marker": {
             "pattern": {
              "fillmode": "overlay",
              "size": 10,
              "solidity": 0.2
             }
            },
            "type": "histogram"
           }
          ],
          "histogram2d": [
           {
            "colorbar": {
             "outlinewidth": 0,
             "ticks": ""
            },
            "colorscale": [
             [
              0,
              "#0d0887"
             ],
             [
              0.1111111111111111,
              "#46039f"
             ],
             [
              0.2222222222222222,
              "#7201a8"
             ],
             [
              0.3333333333333333,
              "#9c179e"
             ],
             [
              0.4444444444444444,
              "#bd3786"
             ],
             [
              0.5555555555555556,
              "#d8576b"
             ],
             [
              0.6666666666666666,
              "#ed7953"
             ],
             [
              0.7777777777777778,
              "#fb9f3a"
             ],
             [
              0.8888888888888888,
              "#fdca26"
             ],
             [
              1,
              "#f0f921"
             ]
            ],
            "type": "histogram2d"
           }
          ],
          "histogram2dcontour": [
           {
            "colorbar": {
             "outlinewidth": 0,
             "ticks": ""
            },
            "colorscale": [
             [
              0,
              "#0d0887"
             ],
             [
              0.1111111111111111,
              "#46039f"
             ],
             [
              0.2222222222222222,
              "#7201a8"
             ],
             [
              0.3333333333333333,
              "#9c179e"
             ],
             [
              0.4444444444444444,
              "#bd3786"
             ],
             [
              0.5555555555555556,
              "#d8576b"
             ],
             [
              0.6666666666666666,
              "#ed7953"
             ],
             [
              0.7777777777777778,
              "#fb9f3a"
             ],
             [
              0.8888888888888888,
              "#fdca26"
             ],
             [
              1,
              "#f0f921"
             ]
            ],
            "type": "histogram2dcontour"
           }
          ],
          "mesh3d": [
           {
            "colorbar": {
             "outlinewidth": 0,
             "ticks": ""
            },
            "type": "mesh3d"
           }
          ],
          "parcoords": [
           {
            "line": {
             "colorbar": {
              "outlinewidth": 0,
              "ticks": ""
             }
            },
            "type": "parcoords"
           }
          ],
          "pie": [
           {
            "automargin": true,
            "type": "pie"
           }
          ],
          "scatter": [
           {
            "fillpattern": {
             "fillmode": "overlay",
             "size": 10,
             "solidity": 0.2
            },
            "type": "scatter"
           }
          ],
          "scatter3d": [
           {
            "line": {
             "colorbar": {
              "outlinewidth": 0,
              "ticks": ""
             }
            },
            "marker": {
             "colorbar": {
              "outlinewidth": 0,
              "ticks": ""
             }
            },
            "type": "scatter3d"
           }
          ],
          "scattercarpet": [
           {
            "marker": {
             "colorbar": {
              "outlinewidth": 0,
              "ticks": ""
             }
            },
            "type": "scattercarpet"
           }
          ],
          "scattergeo": [
           {
            "marker": {
             "colorbar": {
              "outlinewidth": 0,
              "ticks": ""
             }
            },
            "type": "scattergeo"
           }
          ],
          "scattergl": [
           {
            "marker": {
             "colorbar": {
              "outlinewidth": 0,
              "ticks": ""
             }
            },
            "type": "scattergl"
           }
          ],
          "scattermapbox": [
           {
            "marker": {
             "colorbar": {
              "outlinewidth": 0,
              "ticks": ""
             }
            },
            "type": "scattermapbox"
           }
          ],
          "scatterpolar": [
           {
            "marker": {
             "colorbar": {
              "outlinewidth": 0,
              "ticks": ""
             }
            },
            "type": "scatterpolar"
           }
          ],
          "scatterpolargl": [
           {
            "marker": {
             "colorbar": {
              "outlinewidth": 0,
              "ticks": ""
             }
            },
            "type": "scatterpolargl"
           }
          ],
          "scatterternary": [
           {
            "marker": {
             "colorbar": {
              "outlinewidth": 0,
              "ticks": ""
             }
            },
            "type": "scatterternary"
           }
          ],
          "surface": [
           {
            "colorbar": {
             "outlinewidth": 0,
             "ticks": ""
            },
            "colorscale": [
             [
              0,
              "#0d0887"
             ],
             [
              0.1111111111111111,
              "#46039f"
             ],
             [
              0.2222222222222222,
              "#7201a8"
             ],
             [
              0.3333333333333333,
              "#9c179e"
             ],
             [
              0.4444444444444444,
              "#bd3786"
             ],
             [
              0.5555555555555556,
              "#d8576b"
             ],
             [
              0.6666666666666666,
              "#ed7953"
             ],
             [
              0.7777777777777778,
              "#fb9f3a"
             ],
             [
              0.8888888888888888,
              "#fdca26"
             ],
             [
              1,
              "#f0f921"
             ]
            ],
            "type": "surface"
           }
          ],
          "table": [
           {
            "cells": {
             "fill": {
              "color": "#EBF0F8"
             },
             "line": {
              "color": "white"
             }
            },
            "header": {
             "fill": {
              "color": "#C8D4E3"
             },
             "line": {
              "color": "white"
             }
            },
            "type": "table"
           }
          ]
         },
         "layout": {
          "annotationdefaults": {
           "arrowcolor": "#2a3f5f",
           "arrowhead": 0,
           "arrowwidth": 1
          },
          "autotypenumbers": "strict",
          "coloraxis": {
           "colorbar": {
            "outlinewidth": 0,
            "ticks": ""
           }
          },
          "colorscale": {
           "diverging": [
            [
             0,
             "#8e0152"
            ],
            [
             0.1,
             "#c51b7d"
            ],
            [
             0.2,
             "#de77ae"
            ],
            [
             0.3,
             "#f1b6da"
            ],
            [
             0.4,
             "#fde0ef"
            ],
            [
             0.5,
             "#f7f7f7"
            ],
            [
             0.6,
             "#e6f5d0"
            ],
            [
             0.7,
             "#b8e186"
            ],
            [
             0.8,
             "#7fbc41"
            ],
            [
             0.9,
             "#4d9221"
            ],
            [
             1,
             "#276419"
            ]
           ],
           "sequential": [
            [
             0,
             "#0d0887"
            ],
            [
             0.1111111111111111,
             "#46039f"
            ],
            [
             0.2222222222222222,
             "#7201a8"
            ],
            [
             0.3333333333333333,
             "#9c179e"
            ],
            [
             0.4444444444444444,
             "#bd3786"
            ],
            [
             0.5555555555555556,
             "#d8576b"
            ],
            [
             0.6666666666666666,
             "#ed7953"
            ],
            [
             0.7777777777777778,
             "#fb9f3a"
            ],
            [
             0.8888888888888888,
             "#fdca26"
            ],
            [
             1,
             "#f0f921"
            ]
           ],
           "sequentialminus": [
            [
             0,
             "#0d0887"
            ],
            [
             0.1111111111111111,
             "#46039f"
            ],
            [
             0.2222222222222222,
             "#7201a8"
            ],
            [
             0.3333333333333333,
             "#9c179e"
            ],
            [
             0.4444444444444444,
             "#bd3786"
            ],
            [
             0.5555555555555556,
             "#d8576b"
            ],
            [
             0.6666666666666666,
             "#ed7953"
            ],
            [
             0.7777777777777778,
             "#fb9f3a"
            ],
            [
             0.8888888888888888,
             "#fdca26"
            ],
            [
             1,
             "#f0f921"
            ]
           ]
          },
          "colorway": [
           "#636efa",
           "#EF553B",
           "#00cc96",
           "#ab63fa",
           "#FFA15A",
           "#19d3f3",
           "#FF6692",
           "#B6E880",
           "#FF97FF",
           "#FECB52"
          ],
          "font": {
           "color": "#2a3f5f"
          },
          "geo": {
           "bgcolor": "white",
           "lakecolor": "white",
           "landcolor": "#E5ECF6",
           "showlakes": true,
           "showland": true,
           "subunitcolor": "white"
          },
          "hoverlabel": {
           "align": "left"
          },
          "hovermode": "closest",
          "mapbox": {
           "style": "light"
          },
          "paper_bgcolor": "white",
          "plot_bgcolor": "#E5ECF6",
          "polar": {
           "angularaxis": {
            "gridcolor": "white",
            "linecolor": "white",
            "ticks": ""
           },
           "bgcolor": "#E5ECF6",
           "radialaxis": {
            "gridcolor": "white",
            "linecolor": "white",
            "ticks": ""
           }
          },
          "scene": {
           "xaxis": {
            "backgroundcolor": "#E5ECF6",
            "gridcolor": "white",
            "gridwidth": 2,
            "linecolor": "white",
            "showbackground": true,
            "ticks": "",
            "zerolinecolor": "white"
           },
           "yaxis": {
            "backgroundcolor": "#E5ECF6",
            "gridcolor": "white",
            "gridwidth": 2,
            "linecolor": "white",
            "showbackground": true,
            "ticks": "",
            "zerolinecolor": "white"
           },
           "zaxis": {
            "backgroundcolor": "#E5ECF6",
            "gridcolor": "white",
            "gridwidth": 2,
            "linecolor": "white",
            "showbackground": true,
            "ticks": "",
            "zerolinecolor": "white"
           }
          },
          "shapedefaults": {
           "line": {
            "color": "#2a3f5f"
           }
          },
          "ternary": {
           "aaxis": {
            "gridcolor": "white",
            "linecolor": "white",
            "ticks": ""
           },
           "baxis": {
            "gridcolor": "white",
            "linecolor": "white",
            "ticks": ""
           },
           "bgcolor": "#E5ECF6",
           "caxis": {
            "gridcolor": "white",
            "linecolor": "white",
            "ticks": ""
           }
          },
          "title": {
           "x": 0.05
          },
          "xaxis": {
           "automargin": true,
           "gridcolor": "white",
           "linecolor": "white",
           "ticks": "",
           "title": {
            "standoff": 15
           },
           "zerolinecolor": "white",
           "zerolinewidth": 2
          },
          "yaxis": {
           "automargin": true,
           "gridcolor": "white",
           "linecolor": "white",
           "ticks": "",
           "title": {
            "standoff": 15
           },
           "zerolinecolor": "white",
           "zerolinewidth": 2
          }
         }
        },
        "title": {
         "text": "Spatial distribution of error in head at time: "
        },
        "updatemenus": [
         {
          "buttons": [
           {
            "args": [
             null,
             {
              "frame": {
               "duration": 500,
               "redraw": false
              },
              "fromcurrent": true,
              "transition": {
               "duration": 300,
               "easing": "quadratic-in-out"
              }
             }
            ],
            "label": "Play",
            "method": "animate"
           },
           {
            "args": [
             [
              null
             ],
             {
              "frame": {
               "duration": 0,
               "redraw": false
              },
              "mode": "immediate",
              "transition": {
               "duration": 0
              }
             }
            ],
            "label": "Pause",
            "method": "animate"
           }
          ],
          "direction": "left",
          "pad": {
           "r": 10,
           "t": 87
          },
          "showactive": false,
          "type": "buttons",
          "x": 0.1,
          "xanchor": "right",
          "y": 0,
          "yanchor": "top"
         }
        ],
        "width": 500,
        "xaxis": {
         "visible": false
        },
        "yaxis": {
         "visible": false
        }
       }
      }
     },
     "metadata": {},
     "output_type": "display_data"
    }
   ],
   "source": [
    "error = torch.abs(target - predicted)\n",
    "fig = vis.plot_nodal_variable(error, norm_sim_in_window, 'error in head at time: ', colorscale = 'OrRd')"
   ]
  },
  {
   "cell_type": "code",
   "execution_count": 18,
   "metadata": {},
   "outputs": [
    {
     "data": {
      "text/plain": [
       "'j_9006F'"
      ]
     },
     "execution_count": 18,
     "metadata": {},
     "output_type": "execute_result"
    }
   ],
   "source": [
    "norm_sim_in_window.name_nodes[0]"
   ]
  },
  {
   "cell_type": "code",
   "execution_count": null,
   "metadata": {},
   "outputs": [],
   "source": [
    "# fig.write_html('error.html')"
   ]
  },
  {
   "cell_type": "code",
   "execution_count": null,
   "metadata": {},
   "outputs": [],
   "source": [
    "fig = vis.plot_nodal_variable(target, norm_sim_in_window, 'Target Head ', colorscale = 'PuBu', ref_marker_size = 2.5)"
   ]
  },
  {
   "cell_type": "markdown",
   "metadata": {},
   "source": [
    "# Scratchpad"
   ]
  },
  {
   "cell_type": "code",
   "execution_count": null,
   "metadata": {},
   "outputs": [],
   "source": [
    "zero_cases_simulations_path = yaml_data['zero_cases_simulations_path']\n",
    "list_of_zero_cases_simulations  = os.listdir(zero_cases_simulations_path)\n",
    "\n",
    "zero_cases_simulations = utils.extract_simulations_from_folders(zero_cases_simulations_path, inp_path, max_events = 2)\n"
   ]
  },
  {
   "cell_type": "code",
   "execution_count": null,
   "metadata": {},
   "outputs": [],
   "source": [
    "gnn_model = GNNModel()"
   ]
  },
  {
   "cell_type": "code",
   "execution_count": null,
   "metadata": {},
   "outputs": [],
   "source": [
    "sim_trial = zero_cases_simulations[0]\n",
    "\n",
    "length = sim_trial.simulation_length\n",
    "sim_in_window = sim_trial.get_all_windows(steps_ahead = length-2)[0]\n",
    "norm_sim_in_window = normalizer.normalize_window(sim_in_window)\n",
    "\n",
    "name_nodes = norm_sim_in_window.name_nodes\n",
    "\n",
    "swmm_heads_pd       = utils.tensor_heads_to_normalized_pd(sim_in_window['y'],             normalizer, name_nodes)\n",
    "predicted_heads_pd  = utils.tensor_heads_to_normalized_pd(gnn_model(norm_sim_in_window),  normalizer, name_nodes)"
   ]
  },
  {
   "cell_type": "code",
   "execution_count": null,
   "metadata": {},
   "outputs": [],
   "source": [
    "target      = normalizer.unnormalize_heads(norm_sim_in_window.y)\n",
    "predicted   = normalizer.unnormalize_heads(gnn_model(norm_sim_in_window).detach())"
   ]
  },
  {
   "cell_type": "code",
   "execution_count": null,
   "metadata": {},
   "outputs": [],
   "source": [
    "pd.DataFrame(target[20,:].numpy()).plot()\n",
    "pd.DataFrame(predicted[20,:].numpy()).plot()"
   ]
  },
  {
   "cell_type": "code",
   "execution_count": null,
   "metadata": {},
   "outputs": [],
   "source": [
    "error = torch.abs(target - predicted)\n",
    "fig = vis.plot_nodal_variable(error, norm_sim_in_window, 'error in head at time: ', colorscale = 'OrRd')"
   ]
  },
  {
   "cell_type": "code",
   "execution_count": null,
   "metadata": {},
   "outputs": [],
   "source": [
    "fig = vis.plot_nodal_variable(target, norm_sim_in_window, 'Target ', colorscale = 'PuBu', ref_marker_size = 3)"
   ]
  },
  {
   "cell_type": "code",
   "execution_count": null,
   "metadata": {},
   "outputs": [],
   "source": [
    "normalizer.min_h"
   ]
  },
  {
   "cell_type": "markdown",
   "metadata": {},
   "source": [
    "----------------------------------"
   ]
  },
  {
   "cell_type": "code",
   "execution_count": 19,
   "metadata": {},
   "outputs": [],
   "source": [
    "event_in_windows = val_event.get_all_windows(steps_ahead=1)"
   ]
  },
  {
   "cell_type": "code",
   "execution_count": 20,
   "metadata": {},
   "outputs": [],
   "source": [
    "norm_event_in_windows = [normalizer.normalize_window(window) for window in event_in_windows]"
   ]
  },
  {
   "cell_type": "code",
   "execution_count": 21,
   "metadata": {},
   "outputs": [],
   "source": [
    "\n",
    "#Careful! This is not proper rollout!!\n",
    "results = []\n",
    "for i in norm_event_in_windows:\n",
    "    results.append(gnn_model(i))"
   ]
  },
  {
   "cell_type": "code",
   "execution_count": 22,
   "metadata": {},
   "outputs": [],
   "source": [
    "prediction = torch.cat(results, axis = 1)\n",
    "unnormalized_prediction = normalizer.unnormalize_heads(prediction)"
   ]
  },
  {
   "cell_type": "code",
   "execution_count": 23,
   "metadata": {},
   "outputs": [],
   "source": [
    "val_event =  validation_simulations[0]\n",
    "\n",
    "length = val_event.simulation_length\n",
    "sim_in_window = val_event.get_all_windows(steps_ahead = length-2)[0]\n",
    "norm_sim_in_window = normalizer.normalize_window(sim_in_window)\n",
    "\n",
    "name_nodes = norm_sim_in_window.name_nodes\n",
    "\n",
    "swmm_heads_pd       = utils.tensor_heads_to_normalized_pd(sim_in_window['y'],             normalizer, name_nodes)"
   ]
  },
  {
   "cell_type": "code",
   "execution_count": 71,
   "metadata": {},
   "outputs": [
    {
     "name": "stdout",
     "output_type": "stream",
     "text": [
      "Node:  253\n"
     ]
    },
    {
     "data": {
      "text/plain": [
       "<AxesSubplot:>"
      ]
     },
     "execution_count": 71,
     "metadata": {},
     "output_type": "execute_result"
    },
    {
     "data": {
      "image/png": "[encoded data removed]",
      "text/plain": [
       "<Figure size 432x288 with 1 Axes>"
      ]
     },
     "metadata": {
      "needs_background": "light"
     },
     "output_type": "display_data"
    }
   ],
   "source": [
    "node = np.random.randint(0, 300)\n",
    "print('Node: ', node)\n",
    "pd.DataFrame(unnormalized_prediction[node,:].detach().numpy()).plot()\n",
    "swmm_heads_pd.iloc[:,node].plot()"
   ]
  },
  {
   "cell_type": "code",
   "execution_count": null,
   "metadata": {},
   "outputs": [],
   "source": []
  }
 ],
 "metadata": {
  "kernelspec": {
   "display_name": "Python 3.10.2 ('third_SWMM': venv)",
   "language": "python",
   "name": "python3"
  },
  "language_info": {
   "codemirror_mode": {
    "name": "ipython",
    "version": 3
   },
   "file_extension": ".py",
   "mimetype": "text/x-python",
   "name": "python",
   "nbconvert_exporter": "python",
   "pygments_lexer": "ipython3",
   "version": "3.10.2"
  },
  "orig_nbformat": 4,
  "vscode": {
   "interpreter": {
    "hash": "f88404f1e87403b1e488e351250feb539bee03edfc67c7328abb8c80a54639ed"
   }
  }
 },
 "nbformat": 4,
 "nbformat_minor": 2
}
