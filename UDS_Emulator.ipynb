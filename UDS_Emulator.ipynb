{
 "cells": [
  {
   "cell_type": "markdown",
   "metadata": {},
   "source": [
    "# UDS emulator "
   ]
  },
  {
   "cell_type": "markdown",
   "metadata": {},
   "source": [
    "## Preliminaries"
   ]
  },
  {
   "cell_type": "code",
   "execution_count": 1,
   "metadata": {},
   "outputs": [],
   "source": [
    "from my_imports import *"
   ]
  },
  {
   "cell_type": "code",
   "execution_count": 2,
   "metadata": {},
   "outputs": [],
   "source": [
    "yaml_path = 'config_file.yaml'\n",
    "yaml_data = utils.load_yaml(yaml_path)\n",
    "\n",
    "# Directories\n",
    "training_simulations_path   = yaml_data['training_simulations_path']\n",
    "validation_simulations_path = yaml_data['validation_simulations_path']\n",
    "\n",
    "inp_path =  yaml_data['inp_path']"
   ]
  },
  {
   "cell_type": "markdown",
   "metadata": {},
   "source": [
    "## Create simulation objects from data"
   ]
  },
  {
   "cell_type": "code",
   "execution_count": 3,
   "metadata": {},
   "outputs": [
    {
     "name": "stdout",
     "output_type": "stream",
     "text": [
      "Number of training simulations:  163\n",
      "Number of validation simulations:  29\n"
     ]
    }
   ],
   "source": [
    "list_of_training_simulations    = os.listdir(training_simulations_path)\n",
    "list_of_validation_simulations  = os.listdir(validation_simulations_path)\n",
    "\n",
    "print('Number of training simulations: ', len(list_of_training_simulations))\n",
    "print('Number of validation simulations: ', len(list_of_validation_simulations))\n"
   ]
  },
  {
   "cell_type": "code",
   "execution_count": 4,
   "metadata": {},
   "outputs": [
    {
     "name": "stdout",
     "output_type": "stream",
     "text": [
      "The file does not have [STORAGE]\n",
      "\n",
      "The file does not have '[PUMPS]\\n'\n",
      "The file does not have '[ORIFICES]\\n'\n",
      "The file does not have '[WEIRS]\\n'\n"
     ]
    }
   ],
   "source": [
    "num_events = 10\n",
    "\n",
    "validation_simulations = utils.extract_simulations_from_folders(validation_simulations_path, inp_path, max_events =num_events)\n",
    "\n",
    "validation_windows = []\n",
    "events_to_validate= list(range(num_events))\n",
    "for event in events_to_validate:\n",
    "    sim = validation_simulations[event]\n",
    "    validation_windows += sim.get_all_windows(steps_ahead = 10)"
   ]
  },
  {
   "cell_type": "code",
   "execution_count": 5,
   "metadata": {},
   "outputs": [
    {
     "name": "stdout",
     "output_type": "stream",
     "text": [
      "The file does not have [STORAGE]\n",
      "\n",
      "The file does not have '[PUMPS]\\n'\n",
      "The file does not have '[ORIFICES]\\n'\n",
      "The file does not have '[WEIRS]\\n'\n"
     ]
    }
   ],
   "source": [
    "num_events = 10\n",
    "training_simulations = utils.extract_simulations_from_folders(training_simulations_path, inp_path, max_events = num_events)\n",
    "\n",
    "training_windows = []\n",
    "events_to_train= list(range(num_events))\n",
    "for event in events_to_train:\n",
    "    sim = training_simulations[event]\n",
    "    training_windows += sim.get_all_windows(steps_ahead = 10)"
   ]
  },
  {
   "cell_type": "markdown",
   "metadata": {},
   "source": [
    "## Normalizer"
   ]
  },
  {
   "cell_type": "code",
   "execution_count": 6,
   "metadata": {},
   "outputs": [],
   "source": [
    "normalizer = Normalizer(training_windows)"
   ]
  },
  {
   "cell_type": "code",
   "execution_count": 7,
   "metadata": {},
   "outputs": [],
   "source": [
    "normalized_training_windows = normalizer.get_list_normalized_training_windows()\n",
    "training_loader = DataLoader(normalized_training_windows, batch_size=32, shuffle = True)"
   ]
  },
  {
   "cell_type": "code",
   "execution_count": 8,
   "metadata": {},
   "outputs": [],
   "source": [
    "normalized_validation_windows = [normalizer.normalize_window(val_win) for val_win in validation_windows]\n",
    "validation_loader = DataLoader(normalized_validation_windows, batch_size=32)"
   ]
  },
  {
   "cell_type": "markdown",
   "metadata": {},
   "source": [
    "## Training GNN"
   ]
  },
  {
   "cell_type": "code",
   "execution_count": 9,
   "metadata": {},
   "outputs": [],
   "source": [
    "gnn_model = GNNModel()\n",
    "optimizer = optim.Adam(gnn_model.parameters(), lr = 0.01)\n",
    "scheduler = optim.lr_scheduler.ExponentialLR(optimizer, gamma=0.9)\n",
    "loss_fn = nn.MSELoss()"
   ]
  },
  {
   "cell_type": "code",
   "execution_count": 10,
   "metadata": {},
   "outputs": [
    {
     "name": "stdout",
     "output_type": "stream",
     "text": [
      "train() called:model=GNNModel, opt=Adam(lr=0.010000), epochs=50,device=cpu\n",
      "\n",
      "Epoch   1/ 50, train loss:  1.78, val loss:  1.27\n",
      "Epoch  10/ 50, train loss:  0.68, val loss:  1.30\n",
      "Epoch  20/ 50, train loss:  0.68, val loss:  1.29\n",
      "Early stopping! The Current Loss: 1.2930922231974942\n",
      "\n",
      "Time total:     221.76 sec\n",
      "Time per epoch:  4.44 sec\n"
     ]
    }
   ],
   "source": [
    "history = train(\n",
    "    model = gnn_model,\n",
    "    optimizer = optimizer,\n",
    "    scheduler = scheduler,\n",
    "    loss_fn = loss_fn,\n",
    "    train_dl = training_loader,\n",
    "    val_dl = validation_loader,\n",
    "    epochs = 50,\n",
    "    device = 'cpu',\n",
    "    report_freq = 10\n",
    "    )\n"
   ]
  },
  {
   "cell_type": "markdown",
   "metadata": {},
   "source": [
    "## Results"
   ]
  },
  {
   "cell_type": "code",
   "execution_count": 16,
   "metadata": {},
   "outputs": [
    {
     "data": {
      "application/vnd.plotly.v1+json": {
       "config": {
        "plotlyServerURL": "https://plot.ly"
       },
       "data": [
        {
         "line": {
          "width": 3
         },
         "marker": {
          "size": 12
         },
         "mode": "lines+markers",
         "name": "Training loss",
         "type": "scatter",
         "x": [
          0,
          1,
          2,
          3,
          4,
          5,
          6,
          7,
          8,
          9,
          10,
          11,
          12,
          13,
          14,
          15,
          16,
          17,
          18,
          19,
          20,
          21,
          22,
          23,
          24,
          25,
          26,
          27
         ],
         "y": [
          1.779546633075325,
          0.668842854173739,
          0.6752406805954919,
          0.6771741046047091,
          0.6775280034707077,
          0.6777280234547769,
          0.6777249262610703,
          0.6776843692483611,
          0.6775927658215809,
          0.6774546118818919,
          0.6773946894293962,
          0.6773427429933814,
          0.6772567311209845,
          0.6771815157794382,
          0.6771413031448092,
          0.6770696079855739,
          0.6770199825786009,
          0.6769809021030978,
          0.6769196534598315,
          0.6769023585351713,
          0.6768592328931217,
          0.6768150968925545,
          0.6767842439376968,
          0.6767429712797619,
          0.6767316758920106,
          0.6766912612466165,
          0.6766723593765939,
          0.676662938301394
         ]
        },
        {
         "line": {
          "width": 3
         },
         "marker": {
          "size": 12
         },
         "mode": "lines+markers",
         "name": "Validation loss",
         "type": "scatter",
         "x": [
          0,
          1,
          2,
          3,
          4,
          5,
          6,
          7,
          8,
          9,
          10,
          11,
          12,
          13,
          14,
          15,
          16,
          17,
          18,
          19,
          20,
          21,
          22,
          23,
          24,
          25,
          26,
          27
         ],
         "y": [
          1.2679574226451884,
          1.2863216973290201,
          1.2933889749755592,
          1.2962511684067564,
          1.2971861181864701,
          1.297445772486588,
          1.2973523708440717,
          1.29687657204704,
          1.2964596733069234,
          1.296227513702351,
          1.2959381087259152,
          1.2956056236034783,
          1.2953377138272282,
          1.2951242302882415,
          1.2948636359026502,
          1.2946654248262348,
          1.2944749509449387,
          1.2942734944421814,
          1.2941443751607784,
          1.293954557544401,
          1.2937917253171194,
          1.2936587402427078,
          1.293531869089334,
          1.2934515916233729,
          1.2933318866585481,
          1.2932666449510593,
          1.2931921549564074,
          1.2930922231974942
         ]
        }
       ],
       "layout": {
        "font": {
         "color": "Black",
         "family": "Times new Roman",
         "size": 28
        },
        "height": 800,
        "legend": {
         "title": {
          "text": "Legend"
         }
        },
        "margin": {
         "b": 80,
         "l": 80,
         "r": 80,
         "t": 80
        },
        "template": {
         "data": {
          "bar": [
           {
            "error_x": {
             "color": "#2a3f5f"
            },
            "error_y": {
             "color": "#2a3f5f"
            },
            "marker": {
             "line": {
              "color": "#E5ECF6",
              "width": 0.5
             },
             "pattern": {
              "fillmode": "overlay",
              "size": 10,
              "solidity": 0.2
             }
            },
            "type": "bar"
           }
          ],
          "barpolar": [
           {
            "marker": {
             "line": {
              "color": "#E5ECF6",
              "width": 0.5
             },
             "pattern": {
              "fillmode": "overlay",
              "size": 10,
              "solidity": 0.2
             }
            },
            "type": "barpolar"
           }
          ],
          "carpet": [
           {
            "aaxis": {
             "endlinecolor": "#2a3f5f",
             "gridcolor": "white",
             "linecolor": "white",
             "minorgridcolor": "white",
             "startlinecolor": "#2a3f5f"
            },
            "baxis": {
             "endlinecolor": "#2a3f5f",
             "gridcolor": "white",
             "linecolor": "white",
             "minorgridcolor": "white",
             "startlinecolor": "#2a3f5f"
            },
            "type": "carpet"
           }
          ],
          "choropleth": [
           {
            "colorbar": {
             "outlinewidth": 0,
             "ticks": ""
            },
            "type": "choropleth"
           }
          ],
          "contour": [
           {
            "colorbar": {
             "outlinewidth": 0,
             "ticks": ""
            },
            "colorscale": [
             [
              0,
              "#0d0887"
             ],
             [
              0.1111111111111111,
              "#46039f"
             ],
             [
              0.2222222222222222,
              "#7201a8"
             ],
             [
              0.3333333333333333,
              "#9c179e"
             ],
             [
              0.4444444444444444,
              "#bd3786"
             ],
             [
              0.5555555555555556,
              "#d8576b"
             ],
             [
              0.6666666666666666,
              "#ed7953"
             ],
             [
              0.7777777777777778,
              "#fb9f3a"
             ],
             [
              0.8888888888888888,
              "#fdca26"
             ],
             [
              1,
              "#f0f921"
             ]
            ],
            "type": "contour"
           }
          ],
          "contourcarpet": [
           {
            "colorbar": {
             "outlinewidth": 0,
             "ticks": ""
            },
            "type": "contourcarpet"
           }
          ],
          "heatmap": [
           {
            "colorbar": {
             "outlinewidth": 0,
             "ticks": ""
            },
            "colorscale": [
             [
              0,
              "#0d0887"
             ],
             [
              0.1111111111111111,
              "#46039f"
             ],
             [
              0.2222222222222222,
              "#7201a8"
             ],
             [
              0.3333333333333333,
              "#9c179e"
             ],
             [
              0.4444444444444444,
              "#bd3786"
             ],
             [
              0.5555555555555556,
              "#d8576b"
             ],
             [
              0.6666666666666666,
              "#ed7953"
             ],
             [
              0.7777777777777778,
              "#fb9f3a"
             ],
             [
              0.8888888888888888,
              "#fdca26"
             ],
             [
              1,
              "#f0f921"
             ]
            ],
            "type": "heatmap"
           }
          ],
          "heatmapgl": [
           {
            "colorbar": {
             "outlinewidth": 0,
             "ticks": ""
            },
            "colorscale": [
             [
              0,
              "#0d0887"
             ],
             [
              0.1111111111111111,
              "#46039f"
             ],
             [
              0.2222222222222222,
              "#7201a8"
             ],
             [
              0.3333333333333333,
              "#9c179e"
             ],
             [
              0.4444444444444444,
              "#bd3786"
             ],
             [
              0.5555555555555556,
              "#d8576b"
             ],
             [
              0.6666666666666666,
              "#ed7953"
             ],
             [
              0.7777777777777778,
              "#fb9f3a"
             ],
             [
              0.8888888888888888,
              "#fdca26"
             ],
             [
              1,
              "#f0f921"
             ]
            ],
            "type": "heatmapgl"
           }
          ],
          "histogram": [
           {
            "marker": {
             "pattern": {
              "fillmode": "overlay",
              "size": 10,
              "solidity": 0.2
             }
            },
            "type": "histogram"
           }
          ],
          "histogram2d": [
           {
            "colorbar": {
             "outlinewidth": 0,
             "ticks": ""
            },
            "colorscale": [
             [
              0,
              "#0d0887"
             ],
             [
              0.1111111111111111,
              "#46039f"
             ],
             [
              0.2222222222222222,
              "#7201a8"
             ],
             [
              0.3333333333333333,
              "#9c179e"
             ],
             [
              0.4444444444444444,
              "#bd3786"
             ],
             [
              0.5555555555555556,
              "#d8576b"
             ],
             [
              0.6666666666666666,
              "#ed7953"
             ],
             [
              0.7777777777777778,
              "#fb9f3a"
             ],
             [
              0.8888888888888888,
              "#fdca26"
             ],
             [
              1,
              "#f0f921"
             ]
            ],
            "type": "histogram2d"
           }
          ],
          "histogram2dcontour": [
           {
            "colorbar": {
             "outlinewidth": 0,
             "ticks": ""
            },
            "colorscale": [
             [
              0,
              "#0d0887"
             ],
             [
              0.1111111111111111,
              "#46039f"
             ],
             [
              0.2222222222222222,
              "#7201a8"
             ],
             [
              0.3333333333333333,
              "#9c179e"
             ],
             [
              0.4444444444444444,
              "#bd3786"
             ],
             [
              0.5555555555555556,
              "#d8576b"
             ],
             [
              0.6666666666666666,
              "#ed7953"
             ],
             [
              0.7777777777777778,
              "#fb9f3a"
             ],
             [
              0.8888888888888888,
              "#fdca26"
             ],
             [
              1,
              "#f0f921"
             ]
            ],
            "type": "histogram2dcontour"
           }
          ],
          "mesh3d": [
           {
            "colorbar": {
             "outlinewidth": 0,
             "ticks": ""
            },
            "type": "mesh3d"
           }
          ],
          "parcoords": [
           {
            "line": {
             "colorbar": {
              "outlinewidth": 0,
              "ticks": ""
             }
            },
            "type": "parcoords"
           }
          ],
          "pie": [
           {
            "automargin": true,
            "type": "pie"
           }
          ],
          "scatter": [
           {
            "fillpattern": {
             "fillmode": "overlay",
             "size": 10,
             "solidity": 0.2
            },
            "type": "scatter"
           }
          ],
          "scatter3d": [
           {
            "line": {
             "colorbar": {
              "outlinewidth": 0,
              "ticks": ""
             }
            },
            "marker": {
             "colorbar": {
              "outlinewidth": 0,
              "ticks": ""
             }
            },
            "type": "scatter3d"
           }
          ],
          "scattercarpet": [
           {
            "marker": {
             "colorbar": {
              "outlinewidth": 0,
              "ticks": ""
             }
            },
            "type": "scattercarpet"
           }
          ],
          "scattergeo": [
           {
            "marker": {
             "colorbar": {
              "outlinewidth": 0,
              "ticks": ""
             }
            },
            "type": "scattergeo"
           }
          ],
          "scattergl": [
           {
            "marker": {
             "colorbar": {
              "outlinewidth": 0,
              "ticks": ""
             }
            },
            "type": "scattergl"
           }
          ],
          "scattermapbox": [
           {
            "marker": {
             "colorbar": {
              "outlinewidth": 0,
              "ticks": ""
             }
            },
            "type": "scattermapbox"
           }
          ],
          "scatterpolar": [
           {
            "marker": {
             "colorbar": {
              "outlinewidth": 0,
              "ticks": ""
             }
            },
            "type": "scatterpolar"
           }
          ],
          "scatterpolargl": [
           {
            "marker": {
             "colorbar": {
              "outlinewidth": 0,
              "ticks": ""
             }
            },
            "type": "scatterpolargl"
           }
          ],
          "scatterternary": [
           {
            "marker": {
             "colorbar": {
              "outlinewidth": 0,
              "ticks": ""
             }
            },
            "type": "scatterternary"
           }
          ],
          "surface": [
           {
            "colorbar": {
             "outlinewidth": 0,
             "ticks": ""
            },
            "colorscale": [
             [
              0,
              "#0d0887"
             ],
             [
              0.1111111111111111,
              "#46039f"
             ],
             [
              0.2222222222222222,
              "#7201a8"
             ],
             [
              0.3333333333333333,
              "#9c179e"
             ],
             [
              0.4444444444444444,
              "#bd3786"
             ],
             [
              0.5555555555555556,
              "#d8576b"
             ],
             [
              0.6666666666666666,
              "#ed7953"
             ],
             [
              0.7777777777777778,
              "#fb9f3a"
             ],
             [
              0.8888888888888888,
              "#fdca26"
             ],
             [
              1,
              "#f0f921"
             ]
            ],
            "type": "surface"
           }
          ],
          "table": [
           {
            "cells": {
             "fill": {
              "color": "#EBF0F8"
             },
             "line": {
              "color": "white"
             }
            },
            "header": {
             "fill": {
              "color": "#C8D4E3"
             },
             "line": {
              "color": "white"
             }
            },
            "type": "table"
           }
          ]
         },
         "layout": {
          "annotationdefaults": {
           "arrowcolor": "#2a3f5f",
           "arrowhead": 0,
           "arrowwidth": 1
          },
          "autotypenumbers": "strict",
          "coloraxis": {
           "colorbar": {
            "outlinewidth": 0,
            "ticks": ""
           }
          },
          "colorscale": {
           "diverging": [
            [
             0,
             "#8e0152"
            ],
            [
             0.1,
             "#c51b7d"
            ],
            [
             0.2,
             "#de77ae"
            ],
            [
             0.3,
             "#f1b6da"
            ],
            [
             0.4,
             "#fde0ef"
            ],
            [
             0.5,
             "#f7f7f7"
            ],
            [
             0.6,
             "#e6f5d0"
            ],
            [
             0.7,
             "#b8e186"
            ],
            [
             0.8,
             "#7fbc41"
            ],
            [
             0.9,
             "#4d9221"
            ],
            [
             1,
             "#276419"
            ]
           ],
           "sequential": [
            [
             0,
             "#0d0887"
            ],
            [
             0.1111111111111111,
             "#46039f"
            ],
            [
             0.2222222222222222,
             "#7201a8"
            ],
            [
             0.3333333333333333,
             "#9c179e"
            ],
            [
             0.4444444444444444,
             "#bd3786"
            ],
            [
             0.5555555555555556,
             "#d8576b"
            ],
            [
             0.6666666666666666,
             "#ed7953"
            ],
            [
             0.7777777777777778,
             "#fb9f3a"
            ],
            [
             0.8888888888888888,
             "#fdca26"
            ],
            [
             1,
             "#f0f921"
            ]
           ],
           "sequentialminus": [
            [
             0,
             "#0d0887"
            ],
            [
             0.1111111111111111,
             "#46039f"
            ],
            [
             0.2222222222222222,
             "#7201a8"
            ],
            [
             0.3333333333333333,
             "#9c179e"
            ],
            [
             0.4444444444444444,
             "#bd3786"
            ],
            [
             0.5555555555555556,
             "#d8576b"
            ],
            [
             0.6666666666666666,
             "#ed7953"
            ],
            [
             0.7777777777777778,
             "#fb9f3a"
            ],
            [
             0.8888888888888888,
             "#fdca26"
            ],
            [
             1,
             "#f0f921"
            ]
           ]
          },
          "colorway": [
           "#636efa",
           "#EF553B",
           "#00cc96",
           "#ab63fa",
           "#FFA15A",
           "#19d3f3",
           "#FF6692",
           "#B6E880",
           "#FF97FF",
           "#FECB52"
          ],
          "font": {
           "color": "#2a3f5f"
          },
          "geo": {
           "bgcolor": "white",
           "lakecolor": "white",
           "landcolor": "#E5ECF6",
           "showlakes": true,
           "showland": true,
           "subunitcolor": "white"
          },
          "hoverlabel": {
           "align": "left"
          },
          "hovermode": "closest",
          "mapbox": {
           "style": "light"
          },
          "paper_bgcolor": "white",
          "plot_bgcolor": "#E5ECF6",
          "polar": {
           "angularaxis": {
            "gridcolor": "white",
            "linecolor": "white",
            "ticks": ""
           },
           "bgcolor": "#E5ECF6",
           "radialaxis": {
            "gridcolor": "white",
            "linecolor": "white",
            "ticks": ""
           }
          },
          "scene": {
           "xaxis": {
            "backgroundcolor": "#E5ECF6",
            "gridcolor": "white",
            "gridwidth": 2,
            "linecolor": "white",
            "showbackground": true,
            "ticks": "",
            "zerolinecolor": "white"
           },
           "yaxis": {
            "backgroundcolor": "#E5ECF6",
            "gridcolor": "white",
            "gridwidth": 2,
            "linecolor": "white",
            "showbackground": true,
            "ticks": "",
            "zerolinecolor": "white"
           },
           "zaxis": {
            "backgroundcolor": "#E5ECF6",
            "gridcolor": "white",
            "gridwidth": 2,
            "linecolor": "white",
            "showbackground": true,
            "ticks": "",
            "zerolinecolor": "white"
           }
          },
          "shapedefaults": {
           "line": {
            "color": "#2a3f5f"
           }
          },
          "ternary": {
           "aaxis": {
            "gridcolor": "white",
            "linecolor": "white",
            "ticks": ""
           },
           "baxis": {
            "gridcolor": "white",
            "linecolor": "white",
            "ticks": ""
           },
           "bgcolor": "#E5ECF6",
           "caxis": {
            "gridcolor": "white",
            "linecolor": "white",
            "ticks": ""
           }
          },
          "title": {
           "x": 0.05
          },
          "xaxis": {
           "automargin": true,
           "gridcolor": "white",
           "linecolor": "white",
           "ticks": "",
           "title": {
            "standoff": 15
           },
           "zerolinecolor": "white",
           "zerolinewidth": 2
          },
          "yaxis": {
           "automargin": true,
           "gridcolor": "white",
           "linecolor": "white",
           "ticks": "",
           "title": {
            "standoff": 15
           },
           "zerolinecolor": "white",
           "zerolinewidth": 2
          }
         }
        },
        "title": {
         "text": "Loss function"
        },
        "width": 1600,
        "xaxis": {
         "title": {
          "text": "Epochs"
         }
        },
        "yaxis": {
         "title": {
          "text": "MSE Loss"
         }
        }
       }
      }
     },
     "metadata": {},
     "output_type": "display_data"
    }
   ],
   "source": [
    "vis.plot_loss(history)"
   ]
  },
  {
   "cell_type": "markdown",
   "metadata": {},
   "source": [
    "## Using the metamodel"
   ]
  },
  {
   "cell_type": "code",
   "execution_count": 24,
   "metadata": {},
   "outputs": [
    {
     "data": {
      "text/plain": [
       "<module 'utils.head_change_utils' from 'c:\\\\Users\\\\agarzondiaz\\\\surfdrive\\\\Year 2\\\\Paper 2 - 3.0\\\\utils\\\\head_change_utils.py'>"
      ]
     },
     "execution_count": 24,
     "metadata": {},
     "output_type": "execute_result"
    }
   ],
   "source": [
    "importlib.reload(utils)"
   ]
  },
  {
   "cell_type": "code",
   "execution_count": 25,
   "metadata": {},
   "outputs": [],
   "source": [
    "val_event =  validation_simulations[0]\n",
    "\n",
    "length = val_event.simulation_length\n",
    "sim_in_window = val_event.get_all_windows(length-2)[0]\n",
    "norm_sim_in_window = normalizer.normalize_window(sim_in_window)\n",
    "\n",
    "name_nodes = norm_sim_in_window.name_nodes\n",
    "\n",
    "swmm_heads_pd       = utils.tensor_heads_to_normalized_pd(sim_in_window['y'],             normalizer, name_nodes)\n",
    "predicted_heads_pd  = utils.tensor_heads_to_normalized_pd(gnn_model(norm_sim_in_window),  normalizer, name_nodes)"
   ]
  },
  {
   "cell_type": "code",
   "execution_count": 26,
   "metadata": {},
   "outputs": [
    {
     "data": {
      "text/plain": [
       "<AxesSubplot:>"
      ]
     },
     "execution_count": 26,
     "metadata": {},
     "output_type": "execute_result"
    },
    {
     "data": {
      "image/png": "[encoded data removed]",
      "text/plain": [
       "<Figure size 432x288 with 1 Axes>"
      ]
     },
     "metadata": {
      "needs_background": "light"
     },
     "output_type": "display_data"
    }
   ],
   "source": [
    "node = name_nodes[24]\n",
    "\n",
    "swmm_heads_pd[node].plot()\n",
    "predicted_heads_pd[node].plot()"
   ]
  },
  {
   "cell_type": "markdown",
   "metadata": {},
   "source": [
    "# Scratchpad"
   ]
  },
  {
   "cell_type": "code",
   "execution_count": 59,
   "metadata": {},
   "outputs": [
    {
     "data": {
      "text/plain": [
       "<module 'visualizations.Visualization' from 'c:\\\\Users\\\\agarzondiaz\\\\surfdrive\\\\Year 2\\\\Paper 2 - 3.0\\\\visualizations\\\\Visualization.py'>"
      ]
     },
     "execution_count": 59,
     "metadata": {},
     "output_type": "execute_result"
    }
   ],
   "source": [
    "importlib.reload(vis)"
   ]
  },
  {
   "cell_type": "code",
   "execution_count": 62,
   "metadata": {},
   "outputs": [
    {
     "data": {
      "application/vnd.plotly.v1+json": {
       "config": {
        "plotlyServerURL": "https://plot.ly"
       },
       "data": [
        {
         "marker": {
          "color": [
           0.000030040740966796875,
           0.000030517578125,
           0.00003039836883544922,
           0.00003039836883544922,
           0.05130600929260254,
           0.05127286911010742,
           0.05125582218170166,
           0.0011785030364990234,
           0.0025167465209960938,
           0,
           0.0005290508270263672,
           0.020473241806030273,
           0.023656606674194336,
           0.000529170036315918,
           0.00003063678741455078,
           0,
           0.000030517578125,
           0.0001646280288696289,
           0.00003039836883544922,
           0.000030159950256347656,
           0.00003039836883544922,
           0.000030517578125,
           0.030028581619262695,
           0.010811328887939453,
           0.015416264533996582,
           0.05000007152557373,
           0.00003039836883544922,
           0.00003039836883544922,
           0.000030517578125,
           0.0500333309173584,
           0.033985257148742676,
           0.0037418603897094727,
           0.012073874473571777,
           0.02208578586578369,
           0.00003039836883544922,
           0.00029158592224121094,
           0.00003039836883544922,
           0,
           0.015982985496520996,
           0.000030517578125,
           0.0002900362014770508,
           0.00003039836883544922,
           0.0002913475036621094,
           0.00003039836883544922,
           0.000030040740966796875,
           0.00029087066650390625,
           0.00003039836883544922,
           0.00006103515625,
           0.00003039836883544922,
           0.00003039836883544922,
           0.001135706901550293,
           0.00029158592224121094,
           0.002665281295776367,
           0.004169464111328125,
           0.06406402587890625,
           0.004087686538696289,
           0.0024902820587158203,
           0.03548073768615723,
           0.03886830806732178,
           0.00003063678741455078,
           0.0002111196517944336,
           0.000030040740966796875,
           0.028215408325195312,
           0.039194583892822266,
           0.009832978248596191,
           0.00028967857360839844,
           0.000030279159545898438,
           0.00003039836883544922,
           0.00003039836883544922,
           0.020348310470581055,
           0.01034235954284668,
           0.010623335838317871,
           0.00029015541076660156,
           0.01163947582244873,
           0.00003039836883544922,
           0.020391225814819336,
           0.008484959602355957,
           0.02116847038269043,
           0.017650127410888672,
           0.000030040740966796875,
           0.048001766204833984,
           0.017576932907104492,
           0.003156900405883789,
           0.00003039836883544922,
           0.000030279159545898438,
           0.000030040740966796875,
           0.010030388832092285,
           0.003854990005493164,
           0.0012983083724975586,
           0.002292633056640625,
           0.007241010665893555,
           0.000030159950256347656,
           0.0005354881286621094,
           0.000030517578125,
           0.000030040740966796875,
           0.00029075145721435547,
           0.00035953521728515625,
           0.00028908252716064453,
           0.000030517578125,
           0.010291337966918945,
           0.031136751174926758,
           0.0017391443252563477,
           0.02334415912628174,
           0.00003039836883544922,
           0.00029075145721435547,
           0.012635946273803711,
           0.01661062240600586,
           0.00029158592224121094,
           0.010523200035095215,
           0.01177680492401123,
           0.010458111763000488,
           0.000030279159545898438,
           0.0002588033676147461,
           0.0012508630752563477,
           0.000030279159545898438,
           0.0002913475036621094,
           0.00003039836883544922,
           0.00003039836883544922,
           0.04016149044036865,
           0.004941225051879883,
           0.01534569263458252,
           0.000030279159545898438,
           0.00003039836883544922,
           0.0002903938293457031,
           0.0002897977828979492,
           0.05424618721008301,
           0.010515451431274414,
           0.00003039836883544922,
           0.0002911090850830078,
           0.04129147529602051,
           0.07129192352294922,
           0.007350444793701172,
           0.023959994316101074,
           0.0052068233489990234,
           0.0002911090850830078,
           0.00002956390380859375,
           0.030028700828552246,
           0.000030517578125,
           0.00003039836883544922,
           0.00003039836883544922,
           0.000030279159545898438,
           0.000030040740966796875,
           0.0002886056900024414,
           0.07994449138641357,
           0.0002886056900024414,
           0.04046928882598877,
           0.0005137920379638672,
           0.0002900362014770508,
           0.03046596050262451,
           0.04043567180633545,
           0.03368997573852539,
           0.000030517578125,
           0.000030279159545898438,
           0.00003039836883544922,
           0.028039216995239258,
           0.02247941493988037,
           0.020833253860473633,
           0.00028967857360839844,
           0.0002905130386352539,
           0.00029146671295166016,
           0.03955888748168945,
           0.05029165744781494,
           0.00028967857360839844,
           0.0002899169921875,
           0.01734912395477295,
           0.0002906322479248047,
           0.029419422149658203,
           0.06708264350891113,
           0.0254669189453125,
           0.02651345729827881,
           0.0007765293121337891,
           0.000030279159545898438,
           0.000030279159545898438,
           0.000030279159545898438,
           0.00029146671295166016,
           0.00029075145721435547,
           0.00029146671295166016,
           0.012816190719604492,
           0.03084540367126465,
           0.013221502304077148,
           0.0002887248992919922,
           0.000030279159545898438,
           0.000030040740966796875,
           0.005914092063903809,
           0.026815295219421387,
           0.022958874702453613,
           0.008351683616638184,
           0.00028967857360839844,
           0.00029015541076660156,
           0.000029206275939941406,
           0.00003039836883544922,
           0.010027647018432617,
           0.000030279159545898438,
           0.000030159950256347656,
           0.00029075145721435547,
           0.00014674663543701172,
           0.010030508041381836,
           0.020737528800964355,
           0.032620787620544434,
           0.0005469322204589844,
           0.00006282329559326172,
           0.000030279159545898438,
           0.001965761184692383,
           0.0010870695114135742,
           0.000030040740966796875,
           0.000029802322387695312,
           0.00029075145721435547,
           0.000030517578125,
           0.000030279159545898438,
           0.0002900362014770508,
           0.03697335720062256,
           0.09201431274414062,
           0.0252687931060791,
           0.024703145027160645,
           0.00003039836883544922,
           0.000030040740966796875,
           0.00003039836883544922,
           0.033702850341796875,
           0.00028908252716064453,
           0.00003039836883544922,
           0.0002911090850830078,
           0.00030875205993652344,
           0.00003123283386230469,
           0.0002911090850830078,
           0.09297215938568115,
           0.007609963417053223,
           0.03500044345855713,
           0.018735766410827637,
           0.015168547630310059,
           0.010095834732055664,
           0.0002905130386352539,
           0.00003039836883544922,
           0.00003039836883544922,
           0.000037550926208496094,
           0.00029027462005615234,
           0.00003039836883544922,
           0.0251312255859375,
           0.00003039836883544922,
           0.00003039836883544922,
           0.0016808509826660156,
           0.0074002742767333984,
           0.00010442733764648438,
           0.00003039836883544922,
           0.000030279159545898438,
           0.027361154556274414,
           0.046796202659606934,
           0.0349578857421875,
           0.000030279159545898438,
           0.000030279159545898438,
           0.0005340576171875,
           0.00028717517852783203,
           0.00029146671295166016,
           0.00029146671295166016,
           0.012023448944091797,
           0.05301690101623535,
           0.07301723957061768,
           0.08301317691802979,
           0.0006331205368041992,
           0.04322695732116699,
           0.029137730598449707,
           0.04251730442047119,
           0.0629584789276123,
           0.1130136251449585,
           0.000030517578125,
           0.00003039836883544922,
           0.015154361724853516,
           0.04794621467590332,
           0.00003039836883544922,
           0.016098737716674805,
           0.0018841028213500977,
           0.0009583234786987305,
           0.00003039836883544922,
           0.0006710290908813477,
           0.0022640228271484375,
           0.0005857944488525391,
           0.0015183687210083008,
           0.000030517578125,
           0.0005284547805786133,
           0.00016415119171142578,
           0.0006709098815917969,
           0.00008559226989746094,
           0.00007522106170654297,
           0.000047087669372558594,
           0.00003039836883544922,
           0.0006704330444335938,
           0.0006704330444335938,
           0.0006709098815917969,
           0.004627585411071777,
           0.00029158592224121094,
           0.004926443099975586,
           0.004245877265930176,
           0.007965326309204102,
           0.0014935731887817383,
           0.0005619525909423828,
           0.00003039836883544922,
           0.08301782608032227,
           0.00022339820861816406,
           0.000030159950256347656,
           0.00003039836883544922,
           0.0001882314682006836,
           0.000030279159545898438,
           0.0015091896057128906,
           0.00003039836883544922,
           0.000030517578125,
           0.0038930177688598633,
           0,
           0,
           0,
           0,
           0,
           0,
           0,
           0,
           0,
           0,
           0,
           0,
           0.0026661157608032227
          ],
          "colorscale": [
           [
            0,
            "rgb(255,247,236)"
           ],
           [
            0.125,
            "rgb(254,232,200)"
           ],
           [
            0.25,
            "rgb(253,212,158)"
           ],
           [
            0.375,
            "rgb(253,187,132)"
           ],
           [
            0.5,
            "rgb(252,141,89)"
           ],
           [
            0.625,
            "rgb(239,101,72)"
           ],
           [
            0.75,
            "rgb(215,48,31)"
           ],
           [
            0.875,
            "rgb(179,0,0)"
           ],
           [
            1,
            "rgb(127,0,0)"
           ]
          ],
          "line": {
           "color": "DarkSlateGrey",
           "width": 2
          },
          "showscale": true,
          "size": [
           0.000030040740966796875,
           0.000030517578125,
           0.00003039836883544922,
           0.00003039836883544922,
           0.05130600929260254,
           0.05127286911010742,
           0.05125582218170166,
           0.0011785030364990234,
           0.0025167465209960938,
           0,
           0.0005290508270263672,
           0.020473241806030273,
           0.023656606674194336,
           0.000529170036315918,
           0.00003063678741455078,
           0,
           0.000030517578125,
           0.0001646280288696289,
           0.00003039836883544922,
           0.000030159950256347656,
           0.00003039836883544922,
           0.000030517578125,
           0.030028581619262695,
           0.010811328887939453,
           0.015416264533996582,
           0.05000007152557373,
           0.00003039836883544922,
           0.00003039836883544922,
           0.000030517578125,
           0.0500333309173584,
           0.033985257148742676,
           0.0037418603897094727,
           0.012073874473571777,
           0.02208578586578369,
           0.00003039836883544922,
           0.00029158592224121094,
           0.00003039836883544922,
           0,
           0.015982985496520996,
           0.000030517578125,
           0.0002900362014770508,
           0.00003039836883544922,
           0.0002913475036621094,
           0.00003039836883544922,
           0.000030040740966796875,
           0.00029087066650390625,
           0.00003039836883544922,
           0.00006103515625,
           0.00003039836883544922,
           0.00003039836883544922,
           0.001135706901550293,
           0.00029158592224121094,
           0.002665281295776367,
           0.004169464111328125,
           0.06406402587890625,
           0.004087686538696289,
           0.0024902820587158203,
           0.03548073768615723,
           0.03886830806732178,
           0.00003063678741455078,
           0.0002111196517944336,
           0.000030040740966796875,
           0.028215408325195312,
           0.039194583892822266,
           0.009832978248596191,
           0.00028967857360839844,
           0.000030279159545898438,
           0.00003039836883544922,
           0.00003039836883544922,
           0.020348310470581055,
           0.01034235954284668,
           0.010623335838317871,
           0.00029015541076660156,
           0.01163947582244873,
           0.00003039836883544922,
           0.020391225814819336,
           0.008484959602355957,
           0.02116847038269043,
           0.017650127410888672,
           0.000030040740966796875,
           0.048001766204833984,
           0.017576932907104492,
           0.003156900405883789,
           0.00003039836883544922,
           0.000030279159545898438,
           0.000030040740966796875,
           0.010030388832092285,
           0.003854990005493164,
           0.0012983083724975586,
           0.002292633056640625,
           0.007241010665893555,
           0.000030159950256347656,
           0.0005354881286621094,
           0.000030517578125,
           0.000030040740966796875,
           0.00029075145721435547,
           0.00035953521728515625,
           0.00028908252716064453,
           0.000030517578125,
           0.010291337966918945,
           0.031136751174926758,
           0.0017391443252563477,
           0.02334415912628174,
           0.00003039836883544922,
           0.00029075145721435547,
           0.012635946273803711,
           0.01661062240600586,
           0.00029158592224121094,
           0.010523200035095215,
           0.01177680492401123,
           0.010458111763000488,
           0.000030279159545898438,
           0.0002588033676147461,
           0.0012508630752563477,
           0.000030279159545898438,
           0.0002913475036621094,
           0.00003039836883544922,
           0.00003039836883544922,
           0.04016149044036865,
           0.004941225051879883,
           0.01534569263458252,
           0.000030279159545898438,
           0.00003039836883544922,
           0.0002903938293457031,
           0.0002897977828979492,
           0.05424618721008301,
           0.010515451431274414,
           0.00003039836883544922,
           0.0002911090850830078,
           0.04129147529602051,
           0.07129192352294922,
           0.007350444793701172,
           0.023959994316101074,
           0.0052068233489990234,
           0.0002911090850830078,
           0.00002956390380859375,
           0.030028700828552246,
           0.000030517578125,
           0.00003039836883544922,
           0.00003039836883544922,
           0.000030279159545898438,
           0.000030040740966796875,
           0.0002886056900024414,
           0.07994449138641357,
           0.0002886056900024414,
           0.04046928882598877,
           0.0005137920379638672,
           0.0002900362014770508,
           0.03046596050262451,
           0.04043567180633545,
           0.03368997573852539,
           0.000030517578125,
           0.000030279159545898438,
           0.00003039836883544922,
           0.028039216995239258,
           0.02247941493988037,
           0.020833253860473633,
           0.00028967857360839844,
           0.0002905130386352539,
           0.00029146671295166016,
           0.03955888748168945,
           0.05029165744781494,
           0.00028967857360839844,
           0.0002899169921875,
           0.01734912395477295,
           0.0002906322479248047,
           0.029419422149658203,
           0.06708264350891113,
           0.0254669189453125,
           0.02651345729827881,
           0.0007765293121337891,
           0.000030279159545898438,
           0.000030279159545898438,
           0.000030279159545898438,
           0.00029146671295166016,
           0.00029075145721435547,
           0.00029146671295166016,
           0.012816190719604492,
           0.03084540367126465,
           0.013221502304077148,
           0.0002887248992919922,
           0.000030279159545898438,
           0.000030040740966796875,
           0.005914092063903809,
           0.026815295219421387,
           0.022958874702453613,
           0.008351683616638184,
           0.00028967857360839844,
           0.00029015541076660156,
           0.000029206275939941406,
           0.00003039836883544922,
           0.010027647018432617,
           0.000030279159545898438,
           0.000030159950256347656,
           0.00029075145721435547,
           0.00014674663543701172,
           0.010030508041381836,
           0.020737528800964355,
           0.032620787620544434,
           0.0005469322204589844,
           0.00006282329559326172,
           0.000030279159545898438,
           0.001965761184692383,
           0.0010870695114135742,
           0.000030040740966796875,
           0.000029802322387695312,
           0.00029075145721435547,
           0.000030517578125,
           0.000030279159545898438,
           0.0002900362014770508,
           0.03697335720062256,
           0.09201431274414062,
           0.0252687931060791,
           0.024703145027160645,
           0.00003039836883544922,
           0.000030040740966796875,
           0.00003039836883544922,
           0.033702850341796875,
           0.00028908252716064453,
           0.00003039836883544922,
           0.0002911090850830078,
           0.00030875205993652344,
           0.00003123283386230469,
           0.0002911090850830078,
           0.09297215938568115,
           0.007609963417053223,
           0.03500044345855713,
           0.018735766410827637,
           0.015168547630310059,
           0.010095834732055664,
           0.0002905130386352539,
           0.00003039836883544922,
           0.00003039836883544922,
           0.000037550926208496094,
           0.00029027462005615234,
           0.00003039836883544922,
           0.0251312255859375,
           0.00003039836883544922,
           0.00003039836883544922,
           0.0016808509826660156,
           0.0074002742767333984,
           0.00010442733764648438,
           0.00003039836883544922,
           0.000030279159545898438,
           0.027361154556274414,
           0.046796202659606934,
           0.0349578857421875,
           0.000030279159545898438,
           0.000030279159545898438,
           0.0005340576171875,
           0.00028717517852783203,
           0.00029146671295166016,
           0.00029146671295166016,
           0.012023448944091797,
           0.05301690101623535,
           0.07301723957061768,
           0.08301317691802979,
           0.0006331205368041992,
           0.04322695732116699,
           0.029137730598449707,
           0.04251730442047119,
           0.0629584789276123,
           0.1130136251449585,
           0.000030517578125,
           0.00003039836883544922,
           0.015154361724853516,
           0.04794621467590332,
           0.00003039836883544922,
           0.016098737716674805,
           0.0018841028213500977,
           0.0009583234786987305,
           0.00003039836883544922,
           0.0006710290908813477,
           0.0022640228271484375,
           0.0005857944488525391,
           0.0015183687210083008,
           0.000030517578125,
           0.0005284547805786133,
           0.00016415119171142578,
           0.0006709098815917969,
           0.00008559226989746094,
           0.00007522106170654297,
           0.000047087669372558594,
           0.00003039836883544922,
           0.0006704330444335938,
           0.0006704330444335938,
           0.0006709098815917969,
           0.004627585411071777,
           0.00029158592224121094,
           0.004926443099975586,
           0.004245877265930176,
           0.007965326309204102,
           0.0014935731887817383,
           0.0005619525909423828,
           0.00003039836883544922,
           0.08301782608032227,
           0.00022339820861816406,
           0.000030159950256347656,
           0.00003039836883544922,
           0.0001882314682006836,
           0.000030279159545898438,
           0.0015091896057128906,
           0.00003039836883544922,
           0.000030517578125,
           0.0038930177688598633,
           0,
           0,
           0,
           0,
           0,
           0,
           0,
           0,
           0,
           0,
           0,
           0,
           0.0026661157608032227
          ],
          "sizeref": 0.004612801026324837
         },
         "mode": "markers",
         "name": "coordinates",
         "text": [
          "j_9006F",
          "j_90334",
          "j_90335",
          "j_90336",
          "j_90363",
          "j_90364",
          "j_90365",
          "j_90366",
          "j_90367",
          "j_90368",
          "j_90369",
          "j_90370",
          "j_90371",
          "j_90372",
          "j_90373",
          "j_90374",
          "j_90375",
          "j_90376",
          "j_90377",
          "j_90378",
          "j_90379",
          "j_90380",
          "j_90381",
          "j_90382",
          "j_90383",
          "j_90384",
          "j_90385",
          "j_90386",
          "j_90387",
          "j_90388",
          "j_90389",
          "j_90390",
          "j_90391",
          "j_90392",
          "j_90393",
          "j_90394",
          "j_90395",
          "j_90396",
          "j_90397",
          "j_90398",
          "j_90399",
          "j_90400",
          "j_90401",
          "j_90402",
          "j_90403",
          "j_90404",
          "j_90405",
          "j_90406",
          "j_90407",
          "j_90408",
          "j_90427",
          "j_90428",
          "j_90430",
          "j_90433",
          "j_90434",
          "j_90435",
          "j_90436",
          "j_90437",
          "j_90438",
          "j_90439",
          "j_90440",
          "j_90441",
          "j_90442",
          "j_90443",
          "j_90444",
          "j_90445",
          "j_90446",
          "j_90447",
          "j_90448",
          "j_90449",
          "j_90450",
          "j_90451",
          "j_90452",
          "j_90453",
          "j_90454",
          "j_90455",
          "j_90456",
          "j_90457",
          "j_90459",
          "j_90460",
          "j_90461",
          "j_90462",
          "j_90463",
          "j_90464",
          "j_90465",
          "j_90466",
          "j_90467",
          "j_90468",
          "j_90469",
          "j_90470",
          "j_90471",
          "j_90477",
          "j_90478",
          "j_90479",
          "j_90480",
          "j_90481",
          "j_90482",
          "j_90483",
          "j_90484",
          "j_90485",
          "j_90486",
          "j_90487",
          "j_90488",
          "j_90489",
          "j_90490",
          "j_90491",
          "j_90492",
          "j_90493",
          "j_90494",
          "j_90495",
          "j_90496",
          "j_90497",
          "j_90498",
          "j_90499",
          "j_90500",
          "j_90501",
          "j_90502",
          "j_90503",
          "j_90504",
          "j_90505",
          "j_90506",
          "j_90507",
          "j_90508",
          "j_90509",
          "j_90510",
          "j_90511",
          "j_90512",
          "j_90513",
          "j_90514",
          "j_90515",
          "j_90516",
          "j_90517",
          "j_90518",
          "j_90519",
          "j_90520",
          "j_90521",
          "j_90522",
          "j_90523",
          "j_90524",
          "j_90525",
          "j_90526",
          "j_90527",
          "j_90549",
          "j_90550",
          "j_90551",
          "j_90553",
          "j_90554",
          "j_90555",
          "j_90556",
          "j_90557",
          "j_90558",
          "j_90559",
          "j_90560",
          "j_90561",
          "j_90562",
          "j_90563",
          "j_90564",
          "j_90565",
          "j_90566",
          "j_90567",
          "j_90568",
          "j_90569",
          "j_90570",
          "j_90571",
          "j_90572",
          "j_90573",
          "j_90574",
          "j_90575",
          "j_90576",
          "j_90577",
          "j_90578",
          "j_90579",
          "j_90580",
          "j_90581",
          "j_90582",
          "j_90583",
          "j_90584",
          "j_90585",
          "j_90586",
          "j_90587",
          "j_90588",
          "j_90589",
          "j_90590",
          "j_90591",
          "j_90592",
          "j_90593",
          "j_90594",
          "j_90595",
          "j_90596",
          "j_90597",
          "j_90598",
          "j_90599",
          "j_90600",
          "j_90601",
          "j_90602",
          "j_90603",
          "j_90604",
          "j_90605",
          "j_90606",
          "j_90607",
          "j_90608",
          "j_90609",
          "j_90610",
          "j_90611",
          "j_90612",
          "j_90613",
          "j_90615",
          "j_90616",
          "j_90617",
          "j_90618",
          "j_90619",
          "j_90620",
          "j_90621",
          "j_90623",
          "j_90624",
          "j_90625",
          "j_90626",
          "j_90627",
          "j_90628",
          "j_90629",
          "j_90630",
          "j_90631",
          "j_90632",
          "j_90633",
          "j_90634",
          "j_90635",
          "j_90636",
          "j_90637",
          "j_90638",
          "j_90639",
          "j_90640",
          "j_90641",
          "j_90642",
          "j_90643",
          "j_90644",
          "j_90645",
          "j_90646",
          "j_90647",
          "j_90648",
          "j_90649",
          "j_90650",
          "j_90651",
          "j_90652",
          "j_90653",
          "j_90654",
          "j_90655",
          "j_90656",
          "j_90657",
          "j_90658",
          "j_90659",
          "j_90662",
          "j_90663",
          "j_90664",
          "j_90665",
          "j_90669",
          "j_90670",
          "j_90671",
          "j_90672",
          "j_90673",
          "j_90674",
          "j_90675",
          "j_90676",
          "j_90677",
          "j_90678",
          "j_90679",
          "j_90680",
          "j_90681",
          "j_90682",
          "j_90683",
          "j_90684",
          "j_90685",
          "j_90686",
          "j_90688",
          "j_90689",
          "j_90690",
          "j_90691",
          "j_90692",
          "j_90693",
          "j_90694",
          "j_90695",
          "j_90696",
          "j_90697",
          "j_90698",
          "j_90699",
          "j_90700",
          "j_90701",
          "j_90702",
          "j_90703",
          "j_90704",
          "j_90705",
          "j_90706",
          "j_90707",
          "j_90708",
          "j_90709",
          "j_90710",
          "j_90724",
          "j_90725",
          "j_90726",
          "j_90727",
          "j_90728",
          "j_90729",
          "j_90730",
          "j_90731",
          "j_90732",
          "j_90733",
          "j_91272",
          "j_91273",
          "j_91274",
          "j_91275",
          "j_91276",
          "j_91277",
          "j_91278",
          "j_91279",
          "j_91292",
          "j_91293",
          "j_91294",
          "j_90552",
          "j_90431"
         ],
         "type": "scatter",
         "x": [
          138143.828125,
          137673.34375,
          137834.046875,
          137884.953125,
          137716.28125,
          137710.515625,
          137706.109375,
          137757.796875,
          137751.203125,
          137747.171875,
          137794.3125,
          137811.203125,
          137791.921875,
          137756.609375,
          137772.28125,
          137732.5625,
          137750.59375,
          137712.546875,
          137729.265625,
          137797.90625,
          137758.375,
          137770.53125,
          137815.9375,
          137826.5,
          137849.234375,
          137837.90625,
          137838.234375,
          137798.25,
          137850.40625,
          137808.78125,
          137831.03125,
          137810.515625,
          137837.59375,
          137849.578125,
          137867.34375,
          137908.09375,
          137918.515625,
          137949.34375,
          137870.515625,
          137899.671875,
          137890.265625,
          137907.796875,
          137888.171875,
          137922.375,
          137926.015625,
          137945.203125,
          137925.28125,
          137957.9375,
          137984.859375,
          137982.03125,
          137611.5625,
          137608.0625,
          137595.84375,
          137692.640625,
          137707.921875,
          137688.421875,
          137646.390625,
          137660.109375,
          137695.3125,
          137682.328125,
          137647.953125,
          137691.25,
          137712.453125,
          137738.28125,
          137764.484375,
          137754.265625,
          137758.34375,
          137717.96875,
          137729.328125,
          137775.265625,
          137773.34375,
          137783.640625,
          137796.40625,
          137806.671875,
          137870.453125,
          137851.171875,
          137831.828125,
          137811.03125,
          137790.578125,
          137808.15625,
          137809.75,
          137856.484375,
          137907.34375,
          137911.328125,
          137914.96875,
          137918.71875,
          137978.859375,
          137975.6875,
          137971.9375,
          137968.34375,
          137963.84375,
          137535.125,
          137598.703125,
          137628.6875,
          137540.765625,
          137571.828125,
          137601.53125,
          137575.484375,
          137579.328125,
          137585.1875,
          137608.421875,
          137655.171875,
          137702.875,
          137698.859375,
          137694.8125,
          137646.359375,
          137691.015625,
          137687.703125,
          137729.9375,
          137733.6875,
          137737.1875,
          137741.09375,
          137744.59375,
          137775.359375,
          137805.4375,
          137800.703125,
          137828.609375,
          137798.015625,
          137826.65625,
          137764.59375,
          137794.09375,
          137822.984375,
          137791.09375,
          137819.984375,
          137853.109375,
          137885,
          137887.375,
          137891.65625,
          137852.9375,
          137896.515625,
          137913.953125,
          137903.234375,
          137916.109375,
          137959.5625,
          137996.9375,
          138017.609375,
          138025.984375,
          138014.875,
          137928.015625,
          137968.15625,
          138005.921875,
          138003.84375,
          137540.5625,
          137542.859375,
          137545.40625,
          137545.609375,
          137572.515625,
          137600.515625,
          137547.828125,
          137575.90625,
          137580.984375,
          137532.5625,
          137531.875,
          137594.53125,
          137623.734375,
          137619.484375,
          137643.609375,
          137644.671875,
          137647.140625,
          137627.828125,
          137626.3125,
          137669.921875,
          137681.984375,
          137675.21875,
          137679.21875,
          137683.375,
          137726.25,
          137719.859375,
          137714.640625,
          137710.5625,
          137743.296875,
          137798.703125,
          137805.859375,
          137776.046875,
          137753.140625,
          137750.5,
          137781.484375,
          137749.765625,
          137785.796875,
          137811.484375,
          137814.203125,
          137816.4375,
          137787.78125,
          137881.3125,
          137877.453125,
          137843.296875,
          137875.84375,
          137844.140625,
          137874.296875,
          137846.578125,
          137869.3125,
          137846.453125,
          137869.65625,
          137902.125,
          137938.6875,
          137938.203125,
          137935.875,
          137935.203125,
          137968.796875,
          137965.953125,
          137961.265625,
          137984.5,
          137988.609375,
          137992.625,
          137995.171875,
          137999.984375,
          137522.75,
          137579.765625,
          137621.53125,
          137664.109375,
          137708.984375,
          137707.609375,
          137704.5,
          137700.515625,
          137697.40625,
          137779.671875,
          137734.125,
          137733.421875,
          137749.875,
          137784.703125,
          137814.046875,
          137830.625,
          137822.234375,
          137809.453125,
          137797.59375,
          137797.234375,
          137840.640625,
          137852.5625,
          137871.625,
          137891.03125,
          137860.390625,
          137858,
          137914.984375,
          137971.4375,
          137910.015625,
          137918.34375,
          137951.046875,
          137977.984375,
          137921.734375,
          137949.5625,
          137928.9375,
          137879.40625,
          137917.796875,
          137956.625,
          137981.171875,
          137945.125,
          137906.578125,
          137678.484375,
          137679.9375,
          137705.65625,
          137685.125,
          137524.78125,
          137923.5625,
          137714.90625,
          138080.140625,
          138115.203125,
          138150.984375,
          138022.625,
          138027.5625,
          137997.984375,
          138078.515625,
          138113.0625,
          138149.015625,
          138153.65625,
          138151.375,
          138075.265625,
          138071.71875,
          138097.734375,
          138070.765625,
          138066.09375,
          138097.984375,
          138105.40625,
          137614.3125,
          137638.8125,
          137651.09375,
          137673.640625,
          137691.40625,
          137706.515625,
          137681.734375,
          137653.484375,
          137670.265625,
          137660.265625,
          137650.203125,
          137633.171875,
          137641.1875,
          137633.953125,
          137626.34375,
          137629.828125,
          137578.171875,
          137635.875,
          137883.734375,
          137901.046875,
          137951.046875,
          137895.328125,
          137945.234375,
          138134.375,
          138139.4375,
          138134.78125,
          138122.171875,
          138084.203125,
          138029.3125,
          138080.0625,
          138019.734375,
          138021.453125,
          138077.90625,
          137741.0625,
          137693.515625,
          137729.375,
          137685.4375,
          137717.625,
          137677.125,
          137705.953125,
          137668.71875,
          137760.375,
          137729.3125,
          137709.78125,
          137490.375,
          137593.046875
         ],
         "y": [
          456930.0625,
          458090,
          458100.71875,
          458094.84375,
          458085.90625,
          458074.5,
          458062.375,
          458065.09375,
          458054.3125,
          458045.59375,
          458077.65625,
          458069,
          458033.96875,
          458005.375,
          457996.9375,
          457964.875,
          457955.65625,
          457924.5625,
          457915.71875,
          457896.3125,
          457918.28125,
          457939.03125,
          457917.65625,
          457912.1875,
          457955.21875,
          457961.6875,
          457971.40625,
          457992.84375,
          457992.09375,
          458013.625,
          458014.46875,
          458024.875,
          458027.75,
          458028.9375,
          458062.5625,
          458082.21875,
          458059.6875,
          458043.125,
          457995.09375,
          457982.25,
          457952.4375,
          457941.21875,
          457904.15625,
          457891.65625,
          457931.6875,
          457931.5,
          457972,
          457959.71875,
          457948.71875,
          457915.875,
          457711.59375,
          457745.71875,
          457788.3125,
          457884.5625,
          457876.25,
          457836.46875,
          457817.15625,
          457794.65625,
          457772.96875,
          457753,
          457749.59375,
          457754.28125,
          457701.75,
          457746.78125,
          457795.84375,
          457801.25,
          457822.96875,
          457844.25,
          457865.21875,
          457840.84375,
          457837,
          457831.75,
          457880.71875,
          457875,
          457871,
          457834.875,
          457798.46875,
          457759.46875,
          457720.625,
          457702.75,
          457712.53125,
          457694.96875,
          457725.09375,
          457768.65625,
          457809.375,
          457851.25,
          457880.625,
          457845.71875,
          457803.6875,
          457763.71875,
          457715.15625,
          457507.75,
          457515.59375,
          457513.03125,
          457550.40625,
          457549.96875,
          457547.1875,
          457591.5625,
          457633.34375,
          457672.71875,
          457672.96875,
          457668.90625,
          457664.75,
          457622.875,
          457579.875,
          457543.28125,
          457539.1875,
          457496.96875,
          457493.28125,
          457535.0625,
          457577.5625,
          457619.4375,
          457661.0625,
          457658.25,
          457655.53125,
          457605.25,
          457598.375,
          457575.40625,
          457568.53125,
          457532.53125,
          457529.9375,
          457527.03125,
          457498.03125,
          457495.59375,
          457524.5625,
          457520.53125,
          457545.15625,
          457595.78125,
          457651.28125,
          457647.40625,
          457668.96875,
          457680.65625,
          457677.34375,
          457667.71875,
          457662.15625,
          457661.25,
          457660.78125,
          457631,
          457541.5625,
          457537.71875,
          457534.40625,
          457509.84375,
          457290.71875,
          457305.6875,
          457320.15625,
          457345.15625,
          457344.0625,
          457341.59375,
          457368.28125,
          457366.4375,
          457422.65625,
          457427.15625,
          457471.25,
          457470.875,
          457468.34375,
          457419.15625,
          457416.90625,
          457373.4375,
          457330.75,
          457305,
          457290.09375,
          457328.3125,
          457327.40625,
          457371.15625,
          457413.875,
          457456.0625,
          457450.5,
          457410.15625,
          457345.78125,
          457295.375,
          457292.15625,
          457287.25,
          457314.625,
          457317.125,
          457319.15625,
          457363.25,
          457359.75,
          457407.3125,
          457404.25,
          457401.875,
          457429.3125,
          457456.34375,
          457461.46875,
          457478.15625,
          457435.6875,
          457399.03125,
          457396,
          457358.65625,
          457357.40625,
          457318.15625,
          457318.6875,
          457309.71875,
          457307.5625,
          457310.15625,
          457300.03125,
          457320.3125,
          457357.5,
          457390.5,
          457387.59375,
          457354.46875,
          457320.78125,
          457295.625,
          457340.4375,
          457385.375,
          457413.09375,
          457465.59375,
          457277.6875,
          457283.21875,
          457275.65625,
          457270.0625,
          457280.25,
          457266,
          457228.1875,
          457183.125,
          457149.75,
          457141.71875,
          457163.125,
          457174.75,
          457221,
          457212.1875,
          457255.53125,
          457213.53125,
          457200.5,
          457173,
          457147.6875,
          457133.125,
          457106.6875,
          457113.6875,
          457154.9375,
          457196.71875,
          457206.28125,
          457282.03125,
          457277.0625,
          457271.84375,
          457247.34375,
          457204.25,
          457194.375,
          457192.40625,
          457187.25,
          457176.125,
          457126.71875,
          457079.34375,
          457054.625,
          457030.96875,
          457044.0625,
          457053.6875,
          457078.0625,
          457723.59375,
          457702.15625,
          457699.4375,
          457765.5625,
          457427.375,
          457193.4375,
          457265.21875,
          457103.0625,
          457102.875,
          457099.6875,
          456993.25,
          457001.6875,
          457034.5,
          457085.25,
          457082,
          457079.03125,
          457061.65625,
          457032.8125,
          457048.40625,
          457008.34375,
          457006.09375,
          456975.40625,
          456966.625,
          456946.84375,
          456953.90625,
          457818.53125,
          457830.21875,
          457836.6875,
          457860.75,
          457893.3125,
          457922.21875,
          457933.65625,
          457944.09375,
          457912.25,
          457893.65625,
          457875.71875,
          457858.40625,
          457922.71875,
          457903.03125,
          457884.25,
          457545.09375,
          457616.09375,
          457610.75,
          457504.1875,
          457502.53125,
          457498.125,
          457441.0625,
          457435.6875,
          457101.15625,
          457159.9375,
          457171.125,
          457180.4375,
          457184.09375,
          457189,
          457137.15625,
          457143.0625,
          457160.125,
          457112.125,
          458047.96875,
          458064.84375,
          458025.84375,
          458041.59375,
          458004,
          458018.59375,
          457982.03125,
          457995.5,
          458025.28125,
          457966.375,
          457930.21875,
          457337,
          457787.78125
         ]
        }
       ],
       "layout": {
        "height": 800,
        "template": {
         "data": {
          "bar": [
           {
            "error_x": {
             "color": "#2a3f5f"
            },
            "error_y": {
             "color": "#2a3f5f"
            },
            "marker": {
             "line": {
              "color": "#E5ECF6",
              "width": 0.5
             },
             "pattern": {
              "fillmode": "overlay",
              "size": 10,
              "solidity": 0.2
             }
            },
            "type": "bar"
           }
          ],
          "barpolar": [
           {
            "marker": {
             "line": {
              "color": "#E5ECF6",
              "width": 0.5
             },
             "pattern": {
              "fillmode": "overlay",
              "size": 10,
              "solidity": 0.2
             }
            },
            "type": "barpolar"
           }
          ],
          "carpet": [
           {
            "aaxis": {
             "endlinecolor": "#2a3f5f",
             "gridcolor": "white",
             "linecolor": "white",
             "minorgridcolor": "white",
             "startlinecolor": "#2a3f5f"
            },
            "baxis": {
             "endlinecolor": "#2a3f5f",
             "gridcolor": "white",
             "linecolor": "white",
             "minorgridcolor": "white",
             "startlinecolor": "#2a3f5f"
            },
            "type": "carpet"
           }
          ],
          "choropleth": [
           {
            "colorbar": {
             "outlinewidth": 0,
             "ticks": ""
            },
            "type": "choropleth"
           }
          ],
          "contour": [
           {
            "colorbar": {
             "outlinewidth": 0,
             "ticks": ""
            },
            "colorscale": [
             [
              0,
              "#0d0887"
             ],
             [
              0.1111111111111111,
              "#46039f"
             ],
             [
              0.2222222222222222,
              "#7201a8"
             ],
             [
              0.3333333333333333,
              "#9c179e"
             ],
             [
              0.4444444444444444,
              "#bd3786"
             ],
             [
              0.5555555555555556,
              "#d8576b"
             ],
             [
              0.6666666666666666,
              "#ed7953"
             ],
             [
              0.7777777777777778,
              "#fb9f3a"
             ],
             [
              0.8888888888888888,
              "#fdca26"
             ],
             [
              1,
              "#f0f921"
             ]
            ],
            "type": "contour"
           }
          ],
          "contourcarpet": [
           {
            "colorbar": {
             "outlinewidth": 0,
             "ticks": ""
            },
            "type": "contourcarpet"
           }
          ],
          "heatmap": [
           {
            "colorbar": {
             "outlinewidth": 0,
             "ticks": ""
            },
            "colorscale": [
             [
              0,
              "#0d0887"
             ],
             [
              0.1111111111111111,
              "#46039f"
             ],
             [
              0.2222222222222222,
              "#7201a8"
             ],
             [
              0.3333333333333333,
              "#9c179e"
             ],
             [
              0.4444444444444444,
              "#bd3786"
             ],
             [
              0.5555555555555556,
              "#d8576b"
             ],
             [
              0.6666666666666666,
              "#ed7953"
             ],
             [
              0.7777777777777778,
              "#fb9f3a"
             ],
             [
              0.8888888888888888,
              "#fdca26"
             ],
             [
              1,
              "#f0f921"
             ]
            ],
            "type": "heatmap"
           }
          ],
          "heatmapgl": [
           {
            "colorbar": {
             "outlinewidth": 0,
             "ticks": ""
            },
            "colorscale": [
             [
              0,
              "#0d0887"
             ],
             [
              0.1111111111111111,
              "#46039f"
             ],
             [
              0.2222222222222222,
              "#7201a8"
             ],
             [
              0.3333333333333333,
              "#9c179e"
             ],
             [
              0.4444444444444444,
              "#bd3786"
             ],
             [
              0.5555555555555556,
              "#d8576b"
             ],
             [
              0.6666666666666666,
              "#ed7953"
             ],
             [
              0.7777777777777778,
              "#fb9f3a"
             ],
             [
              0.8888888888888888,
              "#fdca26"
             ],
             [
              1,
              "#f0f921"
             ]
            ],
            "type": "heatmapgl"
           }
          ],
          "histogram": [
           {
            "marker": {
             "pattern": {
              "fillmode": "overlay",
              "size": 10,
              "solidity": 0.2
             }
            },
            "type": "histogram"
           }
          ],
          "histogram2d": [
           {
            "colorbar": {
             "outlinewidth": 0,
             "ticks": ""
            },
            "colorscale": [
             [
              0,
              "#0d0887"
             ],
             [
              0.1111111111111111,
              "#46039f"
             ],
             [
              0.2222222222222222,
              "#7201a8"
             ],
             [
              0.3333333333333333,
              "#9c179e"
             ],
             [
              0.4444444444444444,
              "#bd3786"
             ],
             [
              0.5555555555555556,
              "#d8576b"
             ],
             [
              0.6666666666666666,
              "#ed7953"
             ],
             [
              0.7777777777777778,
              "#fb9f3a"
             ],
             [
              0.8888888888888888,
              "#fdca26"
             ],
             [
              1,
              "#f0f921"
             ]
            ],
            "type": "histogram2d"
           }
          ],
          "histogram2dcontour": [
           {
            "colorbar": {
             "outlinewidth": 0,
             "ticks": ""
            },
            "colorscale": [
             [
              0,
              "#0d0887"
             ],
             [
              0.1111111111111111,
              "#46039f"
             ],
             [
              0.2222222222222222,
              "#7201a8"
             ],
             [
              0.3333333333333333,
              "#9c179e"
             ],
             [
              0.4444444444444444,
              "#bd3786"
             ],
             [
              0.5555555555555556,
              "#d8576b"
             ],
             [
              0.6666666666666666,
              "#ed7953"
             ],
             [
              0.7777777777777778,
              "#fb9f3a"
             ],
             [
              0.8888888888888888,
              "#fdca26"
             ],
             [
              1,
              "#f0f921"
             ]
            ],
            "type": "histogram2dcontour"
           }
          ],
          "mesh3d": [
           {
            "colorbar": {
             "outlinewidth": 0,
             "ticks": ""
            },
            "type": "mesh3d"
           }
          ],
          "parcoords": [
           {
            "line": {
             "colorbar": {
              "outlinewidth": 0,
              "ticks": ""
             }
            },
            "type": "parcoords"
           }
          ],
          "pie": [
           {
            "automargin": true,
            "type": "pie"
           }
          ],
          "scatter": [
           {
            "fillpattern": {
             "fillmode": "overlay",
             "size": 10,
             "solidity": 0.2
            },
            "type": "scatter"
           }
          ],
          "scatter3d": [
           {
            "line": {
             "colorbar": {
              "outlinewidth": 0,
              "ticks": ""
             }
            },
            "marker": {
             "colorbar": {
              "outlinewidth": 0,
              "ticks": ""
             }
            },
            "type": "scatter3d"
           }
          ],
          "scattercarpet": [
           {
            "marker": {
             "colorbar": {
              "outlinewidth": 0,
              "ticks": ""
             }
            },
            "type": "scattercarpet"
           }
          ],
          "scattergeo": [
           {
            "marker": {
             "colorbar": {
              "outlinewidth": 0,
              "ticks": ""
             }
            },
            "type": "scattergeo"
           }
          ],
          "scattergl": [
           {
            "marker": {
             "colorbar": {
              "outlinewidth": 0,
              "ticks": ""
             }
            },
            "type": "scattergl"
           }
          ],
          "scattermapbox": [
           {
            "marker": {
             "colorbar": {
              "outlinewidth": 0,
              "ticks": ""
             }
            },
            "type": "scattermapbox"
           }
          ],
          "scatterpolar": [
           {
            "marker": {
             "colorbar": {
              "outlinewidth": 0,
              "ticks": ""
             }
            },
            "type": "scatterpolar"
           }
          ],
          "scatterpolargl": [
           {
            "marker": {
             "colorbar": {
              "outlinewidth": 0,
              "ticks": ""
             }
            },
            "type": "scatterpolargl"
           }
          ],
          "scatterternary": [
           {
            "marker": {
             "colorbar": {
              "outlinewidth": 0,
              "ticks": ""
             }
            },
            "type": "scatterternary"
           }
          ],
          "surface": [
           {
            "colorbar": {
             "outlinewidth": 0,
             "ticks": ""
            },
            "colorscale": [
             [
              0,
              "#0d0887"
             ],
             [
              0.1111111111111111,
              "#46039f"
             ],
             [
              0.2222222222222222,
              "#7201a8"
             ],
             [
              0.3333333333333333,
              "#9c179e"
             ],
             [
              0.4444444444444444,
              "#bd3786"
             ],
             [
              0.5555555555555556,
              "#d8576b"
             ],
             [
              0.6666666666666666,
              "#ed7953"
             ],
             [
              0.7777777777777778,
              "#fb9f3a"
             ],
             [
              0.8888888888888888,
              "#fdca26"
             ],
             [
              1,
              "#f0f921"
             ]
            ],
            "type": "surface"
           }
          ],
          "table": [
           {
            "cells": {
             "fill": {
              "color": "#EBF0F8"
             },
             "line": {
              "color": "white"
             }
            },
            "header": {
             "fill": {
              "color": "#C8D4E3"
             },
             "line": {
              "color": "white"
             }
            },
            "type": "table"
           }
          ]
         },
         "layout": {
          "annotationdefaults": {
           "arrowcolor": "#2a3f5f",
           "arrowhead": 0,
           "arrowwidth": 1
          },
          "autotypenumbers": "strict",
          "coloraxis": {
           "colorbar": {
            "outlinewidth": 0,
            "ticks": ""
           }
          },
          "colorscale": {
           "diverging": [
            [
             0,
             "#8e0152"
            ],
            [
             0.1,
             "#c51b7d"
            ],
            [
             0.2,
             "#de77ae"
            ],
            [
             0.3,
             "#f1b6da"
            ],
            [
             0.4,
             "#fde0ef"
            ],
            [
             0.5,
             "#f7f7f7"
            ],
            [
             0.6,
             "#e6f5d0"
            ],
            [
             0.7,
             "#b8e186"
            ],
            [
             0.8,
             "#7fbc41"
            ],
            [
             0.9,
             "#4d9221"
            ],
            [
             1,
             "#276419"
            ]
           ],
           "sequential": [
            [
             0,
             "#0d0887"
            ],
            [
             0.1111111111111111,
             "#46039f"
            ],
            [
             0.2222222222222222,
             "#7201a8"
            ],
            [
             0.3333333333333333,
             "#9c179e"
            ],
            [
             0.4444444444444444,
             "#bd3786"
            ],
            [
             0.5555555555555556,
             "#d8576b"
            ],
            [
             0.6666666666666666,
             "#ed7953"
            ],
            [
             0.7777777777777778,
             "#fb9f3a"
            ],
            [
             0.8888888888888888,
             "#fdca26"
            ],
            [
             1,
             "#f0f921"
            ]
           ],
           "sequentialminus": [
            [
             0,
             "#0d0887"
            ],
            [
             0.1111111111111111,
             "#46039f"
            ],
            [
             0.2222222222222222,
             "#7201a8"
            ],
            [
             0.3333333333333333,
             "#9c179e"
            ],
            [
             0.4444444444444444,
             "#bd3786"
            ],
            [
             0.5555555555555556,
             "#d8576b"
            ],
            [
             0.6666666666666666,
             "#ed7953"
            ],
            [
             0.7777777777777778,
             "#fb9f3a"
            ],
            [
             0.8888888888888888,
             "#fdca26"
            ],
            [
             1,
             "#f0f921"
            ]
           ]
          },
          "colorway": [
           "#636efa",
           "#EF553B",
           "#00cc96",
           "#ab63fa",
           "#FFA15A",
           "#19d3f3",
           "#FF6692",
           "#B6E880",
           "#FF97FF",
           "#FECB52"
          ],
          "font": {
           "color": "#2a3f5f"
          },
          "geo": {
           "bgcolor": "white",
           "lakecolor": "white",
           "landcolor": "#E5ECF6",
           "showlakes": true,
           "showland": true,
           "subunitcolor": "white"
          },
          "hoverlabel": {
           "align": "left"
          },
          "hovermode": "closest",
          "mapbox": {
           "style": "light"
          },
          "paper_bgcolor": "white",
          "plot_bgcolor": "#E5ECF6",
          "polar": {
           "angularaxis": {
            "gridcolor": "white",
            "linecolor": "white",
            "ticks": ""
           },
           "bgcolor": "#E5ECF6",
           "radialaxis": {
            "gridcolor": "white",
            "linecolor": "white",
            "ticks": ""
           }
          },
          "scene": {
           "xaxis": {
            "backgroundcolor": "#E5ECF6",
            "gridcolor": "white",
            "gridwidth": 2,
            "linecolor": "white",
            "showbackground": true,
            "ticks": "",
            "zerolinecolor": "white"
           },
           "yaxis": {
            "backgroundcolor": "#E5ECF6",
            "gridcolor": "white",
            "gridwidth": 2,
            "linecolor": "white",
            "showbackground": true,
            "ticks": "",
            "zerolinecolor": "white"
           },
           "zaxis": {
            "backgroundcolor": "#E5ECF6",
            "gridcolor": "white",
            "gridwidth": 2,
            "linecolor": "white",
            "showbackground": true,
            "ticks": "",
            "zerolinecolor": "white"
           }
          },
          "shapedefaults": {
           "line": {
            "color": "#2a3f5f"
           }
          },
          "ternary": {
           "aaxis": {
            "gridcolor": "white",
            "linecolor": "white",
            "ticks": ""
           },
           "baxis": {
            "gridcolor": "white",
            "linecolor": "white",
            "ticks": ""
           },
           "bgcolor": "#E5ECF6",
           "caxis": {
            "gridcolor": "white",
            "linecolor": "white",
            "ticks": ""
           }
          },
          "title": {
           "x": 0.05
          },
          "xaxis": {
           "automargin": true,
           "gridcolor": "white",
           "linecolor": "white",
           "ticks": "",
           "title": {
            "standoff": 15
           },
           "zerolinecolor": "white",
           "zerolinewidth": 2
          },
          "yaxis": {
           "automargin": true,
           "gridcolor": "white",
           "linecolor": "white",
           "ticks": "",
           "title": {
            "standoff": 15
           },
           "zerolinecolor": "white",
           "zerolinewidth": 2
          }
         }
        },
        "width": 500
       }
      }
     },
     "metadata": {},
     "output_type": "display_data"
    }
   ],
   "source": [
    "\n",
    "#OrRd: Orange to red\n",
    "\n",
    "columns = ['Node', 'x_coord' , 'y_coord']\n",
    "\n",
    "\n",
    "head = norm_sim_in_window.y[:,68]\n",
    "\n",
    "\n",
    "\n",
    "value = utils.head_to_depth(head, normalizer, norm_sim_in_window)\n",
    "\n",
    "fig = go.Figure()\n",
    "fig.add_trace(vis.plot_nodal_variable(value, norm_sim_in_window, colorscale = 'OrRd'))\n",
    "\n",
    "fig.update_layout(width=500, height=800)\n",
    "\n",
    "fig.show()\n"
   ]
  },
  {
   "cell_type": "code",
   "execution_count": 48,
   "metadata": {},
   "outputs": [
    {
     "data": {
      "text/plain": [
       "tensor([0., 0., 0., 0., 0., 0., 0., 0., 0., 0., 0., 0., 0., 0., 0., 0., 0., 0., 0., 0., 0., 0., 0., 0.,\n",
       "        0., 0., 0., 0., 0., 0., 0., 0., 0., 0., 0., 0., 0., 0., 0., 0., 0., 0., 0., 0., 0., 0., 0., 0.,\n",
       "        0., 0., 0., 0., 0., 0., 0., 0., 0., 0., 0., 0., 0., 0., 0., 0., 0., 0., 0., 0., 0., 0., 0., 0.,\n",
       "        0., 0., 0., 0., 0., 0., 0., 0., 0., 0., 0., 0., 0., 0., 0., 0., 0., 0., 0., 0., 0., 0., 0., 0.,\n",
       "        0., 0., 0., 0., 0., 0., 0., 0., 0., 0., 0., 0., 0., 0., 0., 0., 0., 0., 0., 0., 0., 0., 0., 0.,\n",
       "        0., 0., 0., 0., 0., 0., 0., 0., 0., 0., 0., 0., 0., 0., 0., 0., 0., 0., 0., 0., 0., 0., 0., 0.,\n",
       "        0., 0., 0., 0., 0., 0., 0., 0., 0., 0., 0., 0., 0., 0., 0., 0., 0., 0., 0., 0., 0., 0., 0., 0.,\n",
       "        0., 0., 0., 0., 0., 0., 0., 0., 0., 0., 0., 0., 0., 0., 0., 0., 0., 0., 0., 0., 0., 0., 0., 0.,\n",
       "        0., 0., 0., 0., 0., 0., 0., 0., 0., 0., 0., 0., 0., 0., 0., 0., 0., 0., 0., 0., 0., 0., 0., 0.,\n",
       "        0., 0., 0., 0., 0., 0., 0., 0., 0., 0., 0., 0., 0., 0., 0., 0., 0., 0., 0., 0., 0., 0., 0., 0.,\n",
       "        0., 0., 0., 0., 0., 0., 0., 0., 0., 0., 0., 0., 0., 0., 0., 0., 0., 0., 0., 0., 0., 0., 0., 0.,\n",
       "        0., 0., 0., 0., 0., 0., 0., 0., 0., 0., 0., 0., 0., 0., 0., 0., 0., 0., 0., 0., 0., 0., 0., 0.,\n",
       "        0., 0., 0., 0., 0., 0., 0., 0., 0., 0., 0., 0., 0., 0., 0., 0., 0., 0., 0., 0., 0., 0., 0., 0.,\n",
       "        0., 0., 0., 0., 0., 0.])"
      ]
     },
     "execution_count": 48,
     "metadata": {},
     "output_type": "execute_result"
    }
   ],
   "source": [
    "value"
   ]
  },
  {
   "cell_type": "code",
   "execution_count": 45,
   "metadata": {},
   "outputs": [],
   "source": [
    "ht = norm_sim_in_window.y[:,67]"
   ]
  },
  {
   "cell_type": "code",
   "execution_count": 36,
   "metadata": {},
   "outputs": [
    {
     "data": {
      "text/plain": [
       "torch.Size([318, 1])"
      ]
     },
     "execution_count": 36,
     "metadata": {},
     "output_type": "execute_result"
    }
   ],
   "source": [
    "norm_sim_in_window.norm_elev.shape"
   ]
  }
 ],
 "metadata": {
  "interpreter": {
   "hash": "f88404f1e87403b1e488e351250feb539bee03edfc67c7328abb8c80a54639ed"
  },
  "kernelspec": {
   "display_name": "Python 3.10.2 ('third_SWMM': venv)",
   "language": "python",
   "name": "python3"
  },
  "language_info": {
   "codemirror_mode": {
    "name": "ipython",
    "version": 3
   },
   "file_extension": ".py",
   "mimetype": "text/x-python",
   "name": "python",
   "nbconvert_exporter": "python",
   "pygments_lexer": "ipython3",
   "version": "3.10.2"
  },
  "orig_nbformat": 4
 },
 "nbformat": 4,
 "nbformat_minor": 2
}
