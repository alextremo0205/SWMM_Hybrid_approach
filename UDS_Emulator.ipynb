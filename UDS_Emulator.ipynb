{
 "cells": [
  {
   "cell_type": "markdown",
   "metadata": {},
   "source": [
    "# UDS emulator "
   ]
  },
  {
   "cell_type": "markdown",
   "metadata": {},
   "source": [
    "## Preliminaries"
   ]
  },
  {
   "cell_type": "code",
   "execution_count": 12,
   "metadata": {},
   "outputs": [],
   "source": [
    "from my_imports import *"
   ]
  },
  {
   "cell_type": "code",
   "execution_count": 13,
   "metadata": {},
   "outputs": [],
   "source": [
    "yaml_path = 'config_file.yaml'\n",
    "yaml_data = utils.load_yaml(yaml_path)\n",
    "\n",
    "training_simulations_path   = yaml_data['training_simulations_path']\n",
    "validation_simulations_path = yaml_data['validation_simulations_path']\n",
    "\n",
    "inp_path                    = yaml_data['inp_path']\n",
    "\n",
    "training_windows_path       = yaml_data['training_windows_path']\n",
    "use_saved_training_windows  = yaml_data['use_saved_training_windows']\n",
    "\n",
    "validation_windows_path       = yaml_data['validation_windows_path']\n",
    "use_saved_validation_windows  = yaml_data['use_saved_validation_windows']\n",
    "\n",
    "num_events_training     = yaml_data['num_events_training']\n",
    "num_events_validation   = yaml_data['num_events_validation']\n",
    "\n",
    "steps_behind            = yaml_data['steps_behind']\n",
    "steps_ahead             = yaml_data['steps_ahead']\n",
    "epochs                  = yaml_data['epochs']\n",
    "\n"
   ]
  },
  {
   "cell_type": "markdown",
   "metadata": {},
   "source": [
    "## Create simulation objects from data"
   ]
  },
  {
   "cell_type": "code",
   "execution_count": 3,
   "metadata": {},
   "outputs": [
    {
     "name": "stdout",
     "output_type": "stream",
     "text": [
      "Number of training simulations:  161\n",
      "Number of validation simulations:  29\n"
     ]
    }
   ],
   "source": [
    "list_of_training_simulations    = os.listdir(training_simulations_path)\n",
    "list_of_validation_simulations  = os.listdir(validation_simulations_path)\n",
    "\n",
    "random.shuffle(list_of_training_simulations)\n",
    "\n",
    "print('Number of training simulations: ', len(list_of_training_simulations))\n",
    "print('Number of validation simulations: ', len(list_of_validation_simulations))"
   ]
  },
  {
   "cell_type": "code",
   "execution_count": 4,
   "metadata": {},
   "outputs": [
    {
     "name": "stdout",
     "output_type": "stream",
     "text": [
      "The file does not have [STORAGE]\n",
      "\n",
      "The file does not have '[PUMPS]\\n'\n",
      "The file does not have '[ORIFICES]\\n'\n",
      "The file does not have '[WEIRS]\\n'\n",
      "Using loaded windows from:  C:\\Users\\agarzondiaz\\surfdrive\\Year 2\\Paper 2 - 3.0\\saved_objects\\training_windows_50_events_4_steps.pk\n"
     ]
    }
   ],
   "source": [
    "training_simulations = utils.extract_simulations_from_folders(training_simulations_path, inp_path, num_events_training)\n",
    "if use_saved_training_windows:\n",
    "    training_windows = utils.load_windows(training_windows_path)\n",
    "else:\n",
    "    training_windows = utils.get_all_windows_from_list_simulations(training_simulations, steps_ahead)"
   ]
  },
  {
   "cell_type": "code",
   "execution_count": 6,
   "metadata": {},
   "outputs": [
    {
     "name": "stdout",
     "output_type": "stream",
     "text": [
      "The file does not have [STORAGE]\n",
      "\n",
      "The file does not have '[PUMPS]\\n'\n",
      "The file does not have '[ORIFICES]\\n'\n",
      "The file does not have '[WEIRS]\\n'\n"
     ]
    }
   ],
   "source": [
    "validation_simulations = utils.extract_simulations_from_folders(validation_simulations_path, inp_path, num_events_validation)\n",
    "if use_saved_validation_windows:\n",
    "    validation_windows = utils.load_windows(validation_windows_path)\n",
    "else:\n",
    "    validation_windows = utils.get_all_windows_from_list_simulations(validation_simulations, steps_ahead = 115)"
   ]
  },
  {
   "cell_type": "code",
   "execution_count": 14,
   "metadata": {},
   "outputs": [
    {
     "name": "stdout",
     "output_type": "stream",
     "text": [
      "Number of training windows:  3824\n",
      "Number of validation windows:  29\n"
     ]
    }
   ],
   "source": [
    "print('Number of training windows: ',   len(training_windows))\n",
    "print('Number of validation windows: ', len(validation_windows))"
   ]
  },
  {
   "cell_type": "markdown",
   "metadata": {},
   "source": [
    "## Normalizer"
   ]
  },
  {
   "cell_type": "code",
   "execution_count": 15,
   "metadata": {},
   "outputs": [],
   "source": [
    "normalizer = Normalizer(training_windows)"
   ]
  },
  {
   "cell_type": "code",
   "execution_count": 16,
   "metadata": {},
   "outputs": [],
   "source": [
    "normalized_training_windows = normalizer.get_list_normalized_training_windows()\n",
    "training_loader = DataLoader(normalized_training_windows, batch_size=32, shuffle = True)"
   ]
  },
  {
   "cell_type": "code",
   "execution_count": 17,
   "metadata": {},
   "outputs": [],
   "source": [
    "normalized_validation_windows = [normalizer.normalize_window(val_win) for val_win in validation_windows]\n",
    "validation_loader = DataLoader(normalized_validation_windows, batch_size=32)"
   ]
  },
  {
   "cell_type": "markdown",
   "metadata": {},
   "source": [
    "## Training GNN"
   ]
  },
  {
   "cell_type": "code",
   "execution_count": 18,
   "metadata": {},
   "outputs": [],
   "source": [
    "gnn_model = GNNModel()\n",
    "# gnn_model.load_state_dict(torch.load('saved_objects/model_trained_4steps.pt'))\n",
    "\n",
    "optimizer = optim.Adam(gnn_model.parameters(), lr = 0.01)\n",
    "scheduler = optim.lr_scheduler.ExponentialLR(optimizer, gamma=0.9)\n",
    "loss_fn   = nn.MSELoss()"
   ]
  },
  {
   "cell_type": "code",
   "execution_count": null,
   "metadata": {},
   "outputs": [],
   "source": [
    "history = train(\n",
    "    model       = gnn_model,\n",
    "    optimizer   = optimizer,\n",
    "    scheduler   = scheduler,\n",
    "    loss_fn     = loss_fn,\n",
    "    train_dl    = training_loader,\n",
    "    val_dl      = validation_loader,\n",
    "    epochs      = epochs,\n",
    "    device      = 'cpu',\n",
    "    report_freq = 2\n",
    "    )"
   ]
  },
  {
   "cell_type": "code",
   "execution_count": null,
   "metadata": {},
   "outputs": [],
   "source": [
    "torch.save(gnn_model.state_dict(), 'saved_objects/trained_model_{}_steps.pt'.format(steps_ahead))"
   ]
  },
  {
   "cell_type": "code",
   "execution_count": 37,
   "metadata": {},
   "outputs": [
    {
     "ename": "NameError",
     "evalue": "name 'history' is not defined",
     "output_type": "error",
     "traceback": [
      "\u001b[1;31m---------------------------------------------------------------------------\u001b[0m",
      "\u001b[1;31mNameError\u001b[0m                                 Traceback (most recent call last)",
      "\u001b[1;32mc:\\Users\\agarzondiaz\\surfdrive\\Year 2\\Paper 2 - 3.0\\UDS_Emulator.ipynb Cell 18'\u001b[0m in \u001b[0;36m<cell line: 1>\u001b[1;34m()\u001b[0m\n\u001b[1;32m----> <a href='vscode-notebook-cell:/c%3A/Users/agarzondiaz/surfdrive/Year%202/Paper%202%20-%203.0/UDS_Emulator.ipynb#ch0000022?line=0'>1</a>\u001b[0m vis\u001b[39m.\u001b[39mplot_loss(history)\n",
      "\u001b[1;31mNameError\u001b[0m: name 'history' is not defined"
     ]
    }
   ],
   "source": [
    "vis.plot_loss(history)"
   ]
  },
  {
   "cell_type": "markdown",
   "metadata": {},
   "source": [
    "## Using the GNN"
   ]
  },
  {
   "cell_type": "code",
   "execution_count": 40,
   "metadata": {},
   "outputs": [
    {
     "name": "stdout",
     "output_type": "stream",
     "text": [
      "SWMMSimulation(synt_94)\n"
     ]
    }
   ],
   "source": [
    "val_event =  validation_simulations[-1]\n",
    "print(val_event)\n",
    "\n",
    "runoff_pd           = val_event.runoff_raw_data\n",
    "\n",
    "sim_in_window       = val_event.get_simulation_in_one_window()\n",
    "\n",
    "norm_sim_in_window  = normalizer.normalize_window(sim_in_window)\n",
    "\n",
    "swmm_heads_pd       = normalizer.get_unnormalized_heads_pd(sim_in_window['y']) \n",
    "predicted_heads_pd  = normalizer.get_unnormalized_heads_pd(gnn_model(norm_sim_in_window))"
   ]
  },
  {
   "cell_type": "code",
   "execution_count": 36,
   "metadata": {},
   "outputs": [],
   "source": [
    "node = 'j_90334'"
   ]
  },
  {
   "cell_type": "code",
   "execution_count": 70,
   "metadata": {},
   "outputs": [
    {
     "data": {
      "text/plain": [
       "<module 'visualization.Visualization' from 'c:\\\\Users\\\\agarzondiaz\\\\surfdrive\\\\Year 2\\\\Paper 2 - 3.0\\\\visualization\\\\Visualization.py'>"
      ]
     },
     "execution_count": 70,
     "metadata": {},
     "output_type": "execute_result"
    }
   ],
   "source": [
    "importlib.reload(vis)"
   ]
  },
  {
   "cell_type": "code",
   "execution_count": 67,
   "metadata": {},
   "outputs": [
    {
     "data": {
      "text/plain": [
       "'j_90369'"
      ]
     },
     "execution_count": 67,
     "metadata": {},
     "output_type": "execute_result"
    }
   ],
   "source": [
    "norm_sim_in_window.name_nodes[10]"
   ]
  },
  {
   "cell_type": "code",
   "execution_count": 71,
   "metadata": {},
   "outputs": [
    {
     "data": {
      "application/vnd.plotly.v1+json": {
       "config": {
        "plotlyServerURL": "https://plot.ly"
       },
       "data": [
        {
         "type": "bar",
         "x": [
          0,
          1,
          2,
          3,
          4,
          5,
          6,
          7,
          8,
          9,
          10,
          11,
          12,
          13,
          14,
          15,
          16,
          17,
          18,
          19,
          20,
          21,
          22,
          23,
          24,
          25,
          26,
          27,
          28,
          29,
          30,
          31,
          32,
          33,
          34,
          35,
          36,
          37,
          38,
          39,
          40,
          41,
          42,
          43,
          44,
          45,
          46,
          47,
          48,
          49,
          50,
          51,
          52,
          53
         ],
         "xaxis": "x",
         "y": [
          0,
          0,
          0,
          0,
          0,
          0,
          0,
          0,
          0,
          0,
          0,
          0,
          0,
          0,
          0,
          0,
          0,
          0,
          0,
          0,
          0,
          0,
          0,
          0,
          0,
          0,
          0,
          0.01,
          0.01,
          0.01,
          0,
          0,
          0,
          0,
          0,
          0,
          0,
          0,
          0,
          0,
          0,
          0,
          0,
          0,
          0,
          0,
          0,
          0,
          0,
          0,
          0,
          0,
          0,
          0
         ],
         "yaxis": "y2"
        },
        {
         "line": {
          "width": 3
         },
         "marker": {
          "size": 8
         },
         "mode": "lines+markers",
         "name": "SWMM",
         "type": "scatter",
         "x": [
          0,
          1,
          2,
          3,
          4,
          5,
          6,
          7,
          8,
          9,
          10,
          11,
          12,
          13,
          14,
          15,
          16,
          17,
          18,
          19,
          20,
          21,
          22,
          23,
          24,
          25,
          26,
          27,
          28,
          29,
          30,
          31,
          32,
          33,
          34,
          35,
          36,
          37,
          38,
          39,
          40,
          41,
          42,
          43,
          44,
          45,
          46,
          47,
          48,
          49,
          50,
          51
         ],
         "xaxis": "x",
         "y": [
          -0.30000001192092896,
          -0.30000001192092896,
          -0.30000001192092896,
          -0.30000001192092896,
          -0.30000001192092896,
          -0.30000001192092896,
          -0.30000001192092896,
          -0.30000001192092896,
          -0.30000001192092896,
          -0.30000001192092896,
          -0.30000001192092896,
          -0.30000001192092896,
          -0.30000001192092896,
          -0.30000001192092896,
          -0.30000001192092896,
          -0.30000001192092896,
          -0.30000001192092896,
          -0.30000001192092896,
          -0.30000001192092896,
          -0.30000001192092896,
          -0.30000001192092896,
          -0.27000001072883606,
          -0.27000001072883606,
          -0.27000001072883606,
          -0.25999999046325684,
          -0.25,
          -0.1899999976158142,
          -0.15000000596046448,
          -0.18000000715255737,
          -0.23000000417232513,
          -0.25,
          -0.25999999046325684,
          -0.25999999046325684,
          -0.27000001072883606,
          -0.27000001072883606,
          -0.27000001072883606,
          -0.2800000011920929,
          -0.2800000011920929,
          -0.2800000011920929,
          -0.2800000011920929,
          -0.28999999165534973,
          -0.2800000011920929,
          -0.28999999165534973,
          -0.30000001192092896,
          -0.30000001192092896,
          -0.30000001192092896,
          -0.30000001192092896,
          -0.30000001192092896,
          -0.30000001192092896,
          -0.30000001192092896,
          -0.30000001192092896,
          -0.30000001192092896
         ],
         "yaxis": "y"
        },
        {
         "line": {
          "width": 3
         },
         "marker": {
          "size": 8
         },
         "mode": "lines+markers",
         "name": "GNN",
         "type": "scatter",
         "x": [
          0,
          1,
          2,
          3,
          4,
          5,
          6,
          7,
          8,
          9,
          10,
          11,
          12,
          13,
          14,
          15,
          16,
          17,
          18,
          19,
          20,
          21,
          22,
          23,
          24,
          25,
          26,
          27,
          28,
          29,
          30,
          31,
          32,
          33,
          34,
          35,
          36,
          37,
          38,
          39,
          40,
          41,
          42,
          43,
          44,
          45,
          46,
          47,
          48,
          49,
          50,
          51
         ],
         "xaxis": "x",
         "y": [
          -0.8799999952316284,
          -0.8799999952316284,
          -0.8799999952316284,
          -0.8799999952316284,
          -0.8799999952316284,
          -0.8799999952316284,
          -0.8799999952316284,
          -0.8799999952316284,
          -0.8799999952316284,
          -0.8799999952316284,
          -0.8799999952316284,
          -0.8799999952316284,
          -0.8799999952316284,
          -0.8799999952316284,
          -0.8799999952316284,
          -0.8799999952316284,
          -0.8799999952316284,
          -0.8799999952316284,
          -0.8799999952316284,
          -0.8799999952316284,
          -0.8799999952316284,
          -0.8799999952316284,
          -0.8799999952316284,
          -0.8799999952316284,
          -0.8799999952316284,
          -0.8799999952316284,
          -0.8799999952316284,
          -0.8799999952316284,
          -0.8799999952316284,
          -0.8799999952316284,
          -0.8799999952316284,
          -0.8799999952316284,
          -0.8799999952316284,
          -0.8799999952316284,
          -0.8799999952316284,
          -0.8799999952316284,
          -0.8799999952316284,
          -0.8799999952316284,
          -0.8799999952316284,
          -0.8799999952316284,
          -0.8799999952316284,
          -0.8799999952316284,
          -0.8799999952316284,
          -0.8799999952316284,
          -0.8799999952316284,
          -0.8799999952316284,
          -0.8799999952316284,
          -0.8799999952316284,
          -0.8799999952316284,
          -0.8799999952316284,
          -0.8799999952316284,
          -0.8799999952316284
         ],
         "yaxis": "y"
        }
       ],
       "layout": {
        "height": 600,
        "legend": {
         "title": {
          "text": "Legend"
         }
        },
        "margin": {
         "b": 80,
         "l": 80,
         "r": 80,
         "t": 80
        },
        "template": {
         "data": {
          "bar": [
           {
            "error_x": {
             "color": "#2a3f5f"
            },
            "error_y": {
             "color": "#2a3f5f"
            },
            "marker": {
             "line": {
              "color": "#E5ECF6",
              "width": 0.5
             },
             "pattern": {
              "fillmode": "overlay",
              "size": 10,
              "solidity": 0.2
             }
            },
            "type": "bar"
           }
          ],
          "barpolar": [
           {
            "marker": {
             "line": {
              "color": "#E5ECF6",
              "width": 0.5
             },
             "pattern": {
              "fillmode": "overlay",
              "size": 10,
              "solidity": 0.2
             }
            },
            "type": "barpolar"
           }
          ],
          "carpet": [
           {
            "aaxis": {
             "endlinecolor": "#2a3f5f",
             "gridcolor": "white",
             "linecolor": "white",
             "minorgridcolor": "white",
             "startlinecolor": "#2a3f5f"
            },
            "baxis": {
             "endlinecolor": "#2a3f5f",
             "gridcolor": "white",
             "linecolor": "white",
             "minorgridcolor": "white",
             "startlinecolor": "#2a3f5f"
            },
            "type": "carpet"
           }
          ],
          "choropleth": [
           {
            "colorbar": {
             "outlinewidth": 0,
             "ticks": ""
            },
            "type": "choropleth"
           }
          ],
          "contour": [
           {
            "colorbar": {
             "outlinewidth": 0,
             "ticks": ""
            },
            "colorscale": [
             [
              0,
              "#0d0887"
             ],
             [
              0.1111111111111111,
              "#46039f"
             ],
             [
              0.2222222222222222,
              "#7201a8"
             ],
             [
              0.3333333333333333,
              "#9c179e"
             ],
             [
              0.4444444444444444,
              "#bd3786"
             ],
             [
              0.5555555555555556,
              "#d8576b"
             ],
             [
              0.6666666666666666,
              "#ed7953"
             ],
             [
              0.7777777777777778,
              "#fb9f3a"
             ],
             [
              0.8888888888888888,
              "#fdca26"
             ],
             [
              1,
              "#f0f921"
             ]
            ],
            "type": "contour"
           }
          ],
          "contourcarpet": [
           {
            "colorbar": {
             "outlinewidth": 0,
             "ticks": ""
            },
            "type": "contourcarpet"
           }
          ],
          "heatmap": [
           {
            "colorbar": {
             "outlinewidth": 0,
             "ticks": ""
            },
            "colorscale": [
             [
              0,
              "#0d0887"
             ],
             [
              0.1111111111111111,
              "#46039f"
             ],
             [
              0.2222222222222222,
              "#7201a8"
             ],
             [
              0.3333333333333333,
              "#9c179e"
             ],
             [
              0.4444444444444444,
              "#bd3786"
             ],
             [
              0.5555555555555556,
              "#d8576b"
             ],
             [
              0.6666666666666666,
              "#ed7953"
             ],
             [
              0.7777777777777778,
              "#fb9f3a"
             ],
             [
              0.8888888888888888,
              "#fdca26"
             ],
             [
              1,
              "#f0f921"
             ]
            ],
            "type": "heatmap"
           }
          ],
          "heatmapgl": [
           {
            "colorbar": {
             "outlinewidth": 0,
             "ticks": ""
            },
            "colorscale": [
             [
              0,
              "#0d0887"
             ],
             [
              0.1111111111111111,
              "#46039f"
             ],
             [
              0.2222222222222222,
              "#7201a8"
             ],
             [
              0.3333333333333333,
              "#9c179e"
             ],
             [
              0.4444444444444444,
              "#bd3786"
             ],
             [
              0.5555555555555556,
              "#d8576b"
             ],
             [
              0.6666666666666666,
              "#ed7953"
             ],
             [
              0.7777777777777778,
              "#fb9f3a"
             ],
             [
              0.8888888888888888,
              "#fdca26"
             ],
             [
              1,
              "#f0f921"
             ]
            ],
            "type": "heatmapgl"
           }
          ],
          "histogram": [
           {
            "marker": {
             "pattern": {
              "fillmode": "overlay",
              "size": 10,
              "solidity": 0.2
             }
            },
            "type": "histogram"
           }
          ],
          "histogram2d": [
           {
            "colorbar": {
             "outlinewidth": 0,
             "ticks": ""
            },
            "colorscale": [
             [
              0,
              "#0d0887"
             ],
             [
              0.1111111111111111,
              "#46039f"
             ],
             [
              0.2222222222222222,
              "#7201a8"
             ],
             [
              0.3333333333333333,
              "#9c179e"
             ],
             [
              0.4444444444444444,
              "#bd3786"
             ],
             [
              0.5555555555555556,
              "#d8576b"
             ],
             [
              0.6666666666666666,
              "#ed7953"
             ],
             [
              0.7777777777777778,
              "#fb9f3a"
             ],
             [
              0.8888888888888888,
              "#fdca26"
             ],
             [
              1,
              "#f0f921"
             ]
            ],
            "type": "histogram2d"
           }
          ],
          "histogram2dcontour": [
           {
            "colorbar": {
             "outlinewidth": 0,
             "ticks": ""
            },
            "colorscale": [
             [
              0,
              "#0d0887"
             ],
             [
              0.1111111111111111,
              "#46039f"
             ],
             [
              0.2222222222222222,
              "#7201a8"
             ],
             [
              0.3333333333333333,
              "#9c179e"
             ],
             [
              0.4444444444444444,
              "#bd3786"
             ],
             [
              0.5555555555555556,
              "#d8576b"
             ],
             [
              0.6666666666666666,
              "#ed7953"
             ],
             [
              0.7777777777777778,
              "#fb9f3a"
             ],
             [
              0.8888888888888888,
              "#fdca26"
             ],
             [
              1,
              "#f0f921"
             ]
            ],
            "type": "histogram2dcontour"
           }
          ],
          "mesh3d": [
           {
            "colorbar": {
             "outlinewidth": 0,
             "ticks": ""
            },
            "type": "mesh3d"
           }
          ],
          "parcoords": [
           {
            "line": {
             "colorbar": {
              "outlinewidth": 0,
              "ticks": ""
             }
            },
            "type": "parcoords"
           }
          ],
          "pie": [
           {
            "automargin": true,
            "type": "pie"
           }
          ],
          "scatter": [
           {
            "fillpattern": {
             "fillmode": "overlay",
             "size": 10,
             "solidity": 0.2
            },
            "type": "scatter"
           }
          ],
          "scatter3d": [
           {
            "line": {
             "colorbar": {
              "outlinewidth": 0,
              "ticks": ""
             }
            },
            "marker": {
             "colorbar": {
              "outlinewidth": 0,
              "ticks": ""
             }
            },
            "type": "scatter3d"
           }
          ],
          "scattercarpet": [
           {
            "marker": {
             "colorbar": {
              "outlinewidth": 0,
              "ticks": ""
             }
            },
            "type": "scattercarpet"
           }
          ],
          "scattergeo": [
           {
            "marker": {
             "colorbar": {
              "outlinewidth": 0,
              "ticks": ""
             }
            },
            "type": "scattergeo"
           }
          ],
          "scattergl": [
           {
            "marker": {
             "colorbar": {
              "outlinewidth": 0,
              "ticks": ""
             }
            },
            "type": "scattergl"
           }
          ],
          "scattermapbox": [
           {
            "marker": {
             "colorbar": {
              "outlinewidth": 0,
              "ticks": ""
             }
            },
            "type": "scattermapbox"
           }
          ],
          "scatterpolar": [
           {
            "marker": {
             "colorbar": {
              "outlinewidth": 0,
              "ticks": ""
             }
            },
            "type": "scatterpolar"
           }
          ],
          "scatterpolargl": [
           {
            "marker": {
             "colorbar": {
              "outlinewidth": 0,
              "ticks": ""
             }
            },
            "type": "scatterpolargl"
           }
          ],
          "scatterternary": [
           {
            "marker": {
             "colorbar": {
              "outlinewidth": 0,
              "ticks": ""
             }
            },
            "type": "scatterternary"
           }
          ],
          "surface": [
           {
            "colorbar": {
             "outlinewidth": 0,
             "ticks": ""
            },
            "colorscale": [
             [
              0,
              "#0d0887"
             ],
             [
              0.1111111111111111,
              "#46039f"
             ],
             [
              0.2222222222222222,
              "#7201a8"
             ],
             [
              0.3333333333333333,
              "#9c179e"
             ],
             [
              0.4444444444444444,
              "#bd3786"
             ],
             [
              0.5555555555555556,
              "#d8576b"
             ],
             [
              0.6666666666666666,
              "#ed7953"
             ],
             [
              0.7777777777777778,
              "#fb9f3a"
             ],
             [
              0.8888888888888888,
              "#fdca26"
             ],
             [
              1,
              "#f0f921"
             ]
            ],
            "type": "surface"
           }
          ],
          "table": [
           {
            "cells": {
             "fill": {
              "color": "#EBF0F8"
             },
             "line": {
              "color": "white"
             }
            },
            "header": {
             "fill": {
              "color": "#C8D4E3"
             },
             "line": {
              "color": "white"
             }
            },
            "type": "table"
           }
          ]
         },
         "layout": {
          "colorway": [
           "#3366CC",
           "#DC3912",
           "#FF9900",
           "#109618",
           "#990099",
           "#0099C6",
           "#DD4477",
           "#66AA00",
           "#B82E2E",
           "#316395"
          ],
          "font": {
           "color": "#707070",
           "family": "Nunito",
           "size": 16
          },
          "hovermode": "x",
          "paper_bgcolor": "#ffffff",
          "plot_bgcolor": "#ffffff",
          "title": {
           "font": {
            "color": "#1f1f1f",
            "family": "Lato",
            "size": 22
           }
          },
          "xaxis": {
           "showgrid": true,
           "showline": true,
           "showspikes": true,
           "spikemode": "across",
           "spikesnap": "cursor"
          }
         }
        },
        "title": {
         "text": "Head timeseries at node j_90369"
        },
        "width": 900,
        "xaxis": {
         "anchor": "y",
         "domain": [
          0,
          0.94
         ],
         "title": {
          "text": "Time steps (5 min)"
         }
        },
        "yaxis": {
         "anchor": "x",
         "domain": [
          0,
          1
         ],
         "title": {
          "text": "Head (MSL)"
         }
        },
        "yaxis2": {
         "anchor": "x",
         "overlaying": "y",
         "range": [
          0.02,
          0
         ],
         "side": "right"
        }
       }
      }
     },
     "metadata": {},
     "output_type": "display_data"
    }
   ],
   "source": [
    "node = 'j_90369'\n",
    "vis.plot_heads_timeseries(swmm_heads_pd, predicted_heads_pd, runoff_pd, node)"
   ]
  },
  {
   "cell_type": "code",
   "execution_count": null,
   "metadata": {},
   "outputs": [],
   "source": []
  },
  {
   "cell_type": "markdown",
   "metadata": {},
   "source": [
    "## Visualization of results"
   ]
  },
  {
   "cell_type": "code",
   "execution_count": null,
   "metadata": {},
   "outputs": [],
   "source": [
    "target      = normalizer.unnormalize_heads(norm_sim_in_window.y)\n",
    "predicted   = normalizer.unnormalize_heads(gnn_model(norm_sim_in_window).detach())"
   ]
  },
  {
   "cell_type": "code",
   "execution_count": null,
   "metadata": {},
   "outputs": [],
   "source": [
    "pd.DataFrame(target[-1,:].numpy()).plot()\n",
    "pd.DataFrame(predicted[-1,:].numpy()).plot()"
   ]
  },
  {
   "cell_type": "code",
   "execution_count": null,
   "metadata": {},
   "outputs": [],
   "source": [
    "importlib.reload(vis)"
   ]
  },
  {
   "cell_type": "code",
   "execution_count": null,
   "metadata": {},
   "outputs": [],
   "source": [
    "error = torch.abs(target - predicted)\n",
    "fig = vis.plot_nodal_variable(error, norm_sim_in_window, 'error in head (m) ', colorscale = 'OrRd')\n"
   ]
  },
  {
   "cell_type": "code",
   "execution_count": null,
   "metadata": {},
   "outputs": [],
   "source": [
    "norm_sim_in_window.name_nodes[0]"
   ]
  },
  {
   "cell_type": "code",
   "execution_count": null,
   "metadata": {},
   "outputs": [],
   "source": [
    "# fig.write_html('error.html')"
   ]
  },
  {
   "cell_type": "code",
   "execution_count": null,
   "metadata": {},
   "outputs": [],
   "source": [
    "fig = vis.plot_nodal_variable(target, norm_sim_in_window, 'Target Head ', colorscale = 'PuBu', ref_marker_size = 2.5)"
   ]
  },
  {
   "cell_type": "markdown",
   "metadata": {},
   "source": [
    "# Scratchpad (old)"
   ]
  },
  {
   "cell_type": "code",
   "execution_count": null,
   "metadata": {},
   "outputs": [],
   "source": [
    "zero_cases_simulations_path = yaml_data['zero_cases_simulations_path']\n",
    "list_of_zero_cases_simulations  = os.listdir(zero_cases_simulations_path)\n",
    "\n",
    "zero_cases_simulations = utils.extract_simulations_from_folders(zero_cases_simulations_path, inp_path, max_events = 2)\n"
   ]
  },
  {
   "cell_type": "code",
   "execution_count": null,
   "metadata": {},
   "outputs": [],
   "source": [
    "gnn_model = GNNModel()"
   ]
  },
  {
   "cell_type": "code",
   "execution_count": null,
   "metadata": {},
   "outputs": [],
   "source": [
    "sim_trial = zero_cases_simulations[0]\n",
    "\n",
    "length = sim_trial.simulation_length\n",
    "sim_in_window = sim_trial.get_all_windows(steps_ahead = length-2)[0]\n",
    "norm_sim_in_window = normalizer.normalize_window(sim_in_window)\n",
    "\n",
    "name_nodes = norm_sim_in_window.name_nodes\n",
    "\n",
    "swmm_heads_pd       = utils.tensor_heads_to_normalized_pd(sim_in_window['y'],             normalizer, name_nodes)\n",
    "predicted_heads_pd  = utils.tensor_heads_to_normalized_pd(gnn_model(norm_sim_in_window),  normalizer, name_nodes)"
   ]
  },
  {
   "cell_type": "code",
   "execution_count": null,
   "metadata": {},
   "outputs": [],
   "source": [
    "target      = normalizer.unnormalize_heads(norm_sim_in_window.y)\n",
    "predicted   = normalizer.unnormalize_heads(gnn_model(norm_sim_in_window).detach())"
   ]
  },
  {
   "cell_type": "code",
   "execution_count": null,
   "metadata": {},
   "outputs": [],
   "source": [
    "pd.DataFrame(target[-1,:].numpy()).plot()\n",
    "pd.DataFrame(predicted[-1,:].numpy()).plot()"
   ]
  },
  {
   "cell_type": "code",
   "execution_count": null,
   "metadata": {},
   "outputs": [],
   "source": [
    "error = torch.abs(target - predicted)\n",
    "fig = vis.plot_nodal_variable(error, norm_sim_in_window, 'error in head at time: ', colorscale = 'OrRd')"
   ]
  },
  {
   "cell_type": "code",
   "execution_count": null,
   "metadata": {},
   "outputs": [],
   "source": [
    "norm_sim_in_window.name_nodes[0]"
   ]
  },
  {
   "cell_type": "code",
   "execution_count": null,
   "metadata": {},
   "outputs": [],
   "source": [
    "# fig.write_html('error.html')"
   ]
  },
  {
   "cell_type": "code",
   "execution_count": null,
   "metadata": {},
   "outputs": [],
   "source": [
    "fig = vis.plot_nodal_variable(target, norm_sim_in_window, 'Target Head ', colorscale = 'PuBu', ref_marker_size = 2.5)"
   ]
  },
  {
   "cell_type": "markdown",
   "metadata": {},
   "source": [
    "# Scratchpad (new)"
   ]
  },
  {
   "cell_type": "code",
   "execution_count": null,
   "metadata": {},
   "outputs": [],
   "source": [
    "val_event =  validation_simulations[17]\n",
    "event_in_windows = val_event.get_all_windows(steps_ahead=1)\n",
    "print(val_event.name_simulation)"
   ]
  },
  {
   "cell_type": "code",
   "execution_count": null,
   "metadata": {},
   "outputs": [],
   "source": [
    "norm_event_in_windows = [normalizer.normalize_window(window) for window in event_in_windows]"
   ]
  },
  {
   "cell_type": "code",
   "execution_count": null,
   "metadata": {},
   "outputs": [],
   "source": [
    "results = []\n",
    "for i in norm_event_in_windows:\n",
    "    results.append(gnn_model(i))"
   ]
  },
  {
   "cell_type": "code",
   "execution_count": null,
   "metadata": {},
   "outputs": [],
   "source": [
    "prediction = torch.cat(results, axis = 1)\n",
    "unnormalized_prediction = normalizer.unnormalize_heads(prediction)"
   ]
  },
  {
   "cell_type": "code",
   "execution_count": null,
   "metadata": {},
   "outputs": [],
   "source": [
    "val_event =  validation_simulations[17]\n",
    "\n",
    "length = val_event.simulation_length\n",
    "sim_in_window = val_event.get_all_windows(steps_ahead = length-2)[0]\n",
    "norm_sim_in_window = normalizer.normalize_window(sim_in_window)\n",
    "\n",
    "name_nodes = norm_sim_in_window.name_nodes\n",
    "\n",
    "swmm_heads_pd       = utils.tensor_heads_to_normalized_pd(sim_in_window['y'],             normalizer, name_nodes)"
   ]
  },
  {
   "cell_type": "code",
   "execution_count": null,
   "metadata": {},
   "outputs": [],
   "source": [
    "name_nodes =norm_sim_in_window.name_nodes"
   ]
  },
  {
   "cell_type": "code",
   "execution_count": null,
   "metadata": {},
   "outputs": [],
   "source": [
    "name_nodes.index('j_90507') #j_90450"
   ]
  },
  {
   "cell_type": "code",
   "execution_count": null,
   "metadata": {},
   "outputs": [],
   "source": [
    "rollout_results = gnn_model(norm_sim_in_window)\n",
    "unnormalized_rollout = normalizer.unnormalize_heads(rollout_results)"
   ]
  },
  {
   "cell_type": "code",
   "execution_count": null,
   "metadata": {},
   "outputs": [],
   "source": [
    "node = np.random.randint(0, 300)\n",
    "\n",
    "print('Node: ', node, 'ID: ', name_nodes[node])\n",
    "pd.DataFrame(unnormalized_prediction[node,:].detach().numpy()).plot()\n",
    "swmm_heads_pd.iloc[:,node].plot()\n",
    "\n",
    "\n",
    "import matplotlib.pyplot as plt\n",
    "a = pd.DataFrame(unnormalized_rollout[node,:].detach().numpy())\n",
    "b = pd.DataFrame(swmm_heads_pd.iloc[:,node])\n",
    "\n",
    "fig, ax = plt.subplots()\n",
    "\n",
    "ax.plot(a)\n",
    "ax.plot(b)\n",
    "\n",
    "plt.show()"
   ]
  },
  {
   "cell_type": "code",
   "execution_count": null,
   "metadata": {},
   "outputs": [],
   "source": [
    "val_event.name_simulation"
   ]
  }
 ],
 "metadata": {
  "kernelspec": {
   "display_name": "Python 3.10.2 ('third_SWMM': venv)",
   "language": "python",
   "name": "python3"
  },
  "language_info": {
   "codemirror_mode": {
    "name": "ipython",
    "version": 3
   },
   "file_extension": ".py",
   "mimetype": "text/x-python",
   "name": "python",
   "nbconvert_exporter": "python",
   "pygments_lexer": "ipython3",
   "version": "3.10.2"
  },
  "orig_nbformat": 4,
  "vscode": {
   "interpreter": {
    "hash": "f88404f1e87403b1e488e351250feb539bee03edfc67c7328abb8c80a54639ed"
   }
  }
 },
 "nbformat": 4,
 "nbformat_minor": 2
}
