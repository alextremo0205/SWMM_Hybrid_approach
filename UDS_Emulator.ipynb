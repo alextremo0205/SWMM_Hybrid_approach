{
 "cells": [
  {
   "cell_type": "markdown",
   "metadata": {},
   "source": [
    "# UDS emulator "
   ]
  },
  {
   "cell_type": "markdown",
   "metadata": {},
   "source": [
    "## Preliminaries"
   ]
  },
  {
   "cell_type": "code",
   "execution_count": null,
   "metadata": {},
   "outputs": [],
   "source": [
    "from my_imports import *"
   ]
  },
  {
   "cell_type": "code",
   "execution_count": null,
   "metadata": {},
   "outputs": [],
   "source": [
    "yaml_path = 'config_file.yaml'\n",
    "yaml_data = utils.load_yaml(yaml_path)\n",
    "\n",
    "training_simulations_path       = yaml_data['training_simulations_path']\n",
    "validation_simulations_path     = yaml_data['validation_simulations_path']\n",
    "\n",
    "inp_path                        = yaml_data['inp_path']\n",
    "\n",
    "training_windows_path           = yaml_data['training_windows_path']\n",
    "use_saved_training_windows      = yaml_data['use_saved_training_windows']\n",
    "\n",
    "validation_windows_path         = yaml_data['validation_windows_path']\n",
    "use_saved_validation_windows    = yaml_data['use_saved_validation_windows']\n",
    "\n",
    "num_events_training             = yaml_data['num_events_training']\n",
    "num_events_validation           = yaml_data['num_events_validation']\n",
    "\n",
    "steps_behind                    = yaml_data['steps_behind']\n",
    "steps_ahead                     = yaml_data['steps_ahead']\n",
    "epochs                          = yaml_data['epochs']\n",
    "\n"
   ]
  },
  {
   "cell_type": "markdown",
   "metadata": {},
   "source": [
    "## Create simulation objects from data"
   ]
  },
  {
   "cell_type": "code",
   "execution_count": null,
   "metadata": {},
   "outputs": [],
   "source": [
    "list_of_training_simulations    = os.listdir(training_simulations_path)\n",
    "list_of_validation_simulations  = os.listdir(validation_simulations_path)\n",
    "\n",
    "random.shuffle(list_of_training_simulations)\n",
    "\n",
    "print('Number of training simulations: ', len(list_of_training_simulations))\n",
    "print('Number of validation simulations: ', len(list_of_validation_simulations))"
   ]
  },
  {
   "cell_type": "code",
   "execution_count": null,
   "metadata": {},
   "outputs": [],
   "source": [
    "training_simulations = utils.extract_simulations_from_folders(training_simulations_path, inp_path, num_events_training)"
   ]
  },
  {
   "cell_type": "code",
   "execution_count": null,
   "metadata": {},
   "outputs": [],
   "source": [
    "if use_saved_training_windows:\n",
    "    training_windows = utils.load_windows(training_windows_path)\n",
    "else:\n",
    "    training_windows = utils.get_all_windows_from_list_simulations(training_simulations, steps_ahead, steps_behind)"
   ]
  },
  {
   "cell_type": "code",
   "execution_count": null,
   "metadata": {},
   "outputs": [],
   "source": [
    "# utils.save_pickle(training_windows, 'saved_objects/training_windows_20_events_10_1_steps.pk')"
   ]
  },
  {
   "cell_type": "code",
   "execution_count": null,
   "metadata": {},
   "outputs": [],
   "source": [
    "validation_simulations = utils.extract_simulations_from_folders(validation_simulations_path, inp_path, num_events_validation)"
   ]
  },
  {
   "cell_type": "code",
   "execution_count": null,
   "metadata": {},
   "outputs": [],
   "source": [
    "if use_saved_validation_windows:\n",
    "    validation_windows = utils.load_windows(validation_windows_path)\n",
    "else:\n",
    "    validation_windows = utils.get_all_windows_from_list_simulations(validation_simulations, steps_ahead = 10, steps_behind = steps_behind)"
   ]
  },
  {
   "cell_type": "code",
   "execution_count": null,
   "metadata": {},
   "outputs": [],
   "source": [
    "print('Number of training windows: ',   len(training_windows))\n",
    "print('Number of validation windows: ', len(validation_windows))"
   ]
  },
  {
   "cell_type": "markdown",
   "metadata": {},
   "source": [
    "## Normalizer"
   ]
  },
  {
   "cell_type": "code",
   "execution_count": null,
   "metadata": {},
   "outputs": [],
   "source": [
    "normalizer = Normalizer(training_windows)"
   ]
  },
  {
   "cell_type": "code",
   "execution_count": null,
   "metadata": {},
   "outputs": [],
   "source": [
    "normalized_training_windows = normalizer.get_list_normalized_training_windows()\n",
    "training_loader = DataLoader(normalized_training_windows, batch_size=32, shuffle = True)"
   ]
  },
  {
   "cell_type": "code",
   "execution_count": null,
   "metadata": {},
   "outputs": [],
   "source": [
    "normalized_validation_windows = [normalizer.normalize_window(val_win) for val_win in validation_windows]\n",
    "validation_loader = DataLoader(normalized_validation_windows, batch_size=32)"
   ]
  },
  {
   "cell_type": "markdown",
   "metadata": {},
   "source": [
    "## Training GNN"
   ]
  },
  {
   "cell_type": "code",
   "execution_count": null,
   "metadata": {},
   "outputs": [],
   "source": [
    "gnn_model = GNNModel(steps_ahead, steps_behind)\n",
    "# gnn_model.load_state_dict(torch.load('saved_objects/model_trained_4steps.pt'))\n",
    "\n",
    "optimizer = optim.Adam(gnn_model.parameters(), lr = 0.01)\n",
    "scheduler = optim.lr_scheduler.ExponentialLR(optimizer, gamma=0.9)\n",
    "loss_fn   = nn.MSELoss()"
   ]
  },
  {
   "cell_type": "code",
   "execution_count": null,
   "metadata": {},
   "outputs": [],
   "source": [
    "history = train(\n",
    "    model       = gnn_model,\n",
    "    optimizer   = optimizer,\n",
    "    scheduler   = scheduler,\n",
    "    loss_fn     = loss_fn,\n",
    "    train_dl    = training_loader,\n",
    "    val_dl      = validation_loader,\n",
    "    epochs      = epochs,\n",
    "    device      = 'cpu',\n",
    "    report_freq = 2\n",
    "    )"
   ]
  },
  {
   "cell_type": "code",
   "execution_count": null,
   "metadata": {},
   "outputs": [],
   "source": [
    "# torch.save(gnn_model.state_dict(), 'saved_objects/trained_model_{}_epochs_{}_steps.pt'.format(epochs, steps_ahead))"
   ]
  },
  {
   "cell_type": "code",
   "execution_count": null,
   "metadata": {},
   "outputs": [],
   "source": [
    "gnn_model(normalized_validation_windows[0])"
   ]
  },
  {
   "cell_type": "code",
   "execution_count": null,
   "metadata": {},
   "outputs": [],
   "source": [
    "vis.plot_loss(history)"
   ]
  },
  {
   "cell_type": "markdown",
   "metadata": {},
   "source": [
    "## Using the GNN"
   ]
  },
  {
   "cell_type": "code",
   "execution_count": null,
   "metadata": {},
   "outputs": [],
   "source": [
    "val_event =  validation_simulations[-1]\n",
    "print(val_event)\n",
    "\n",
    "runoff_pd           = val_event.runoff_raw_data\n",
    "\n",
    "sim_in_window       = val_event.get_simulation_in_one_window(steps_behind = 1)\n",
    "\n",
    "norm_sim_in_window  = normalizer.normalize_window(sim_in_window)\n",
    "\n",
    "swmm_heads_pd       = normalizer.get_unnormalized_heads_pd(sim_in_window['y']) \n",
    "predicted_heads_pd  = normalizer.get_unnormalized_heads_pd(gnn_model(norm_sim_in_window))"
   ]
  },
  {
   "cell_type": "code",
   "execution_count": null,
   "metadata": {},
   "outputs": [],
   "source": [
    "importlib.reload(vis)"
   ]
  },
  {
   "cell_type": "code",
   "execution_count": null,
   "metadata": {},
   "outputs": [],
   "source": [
    "node = 'j_90575'\n",
    "vis.plot_heads_timeseries(swmm_heads_pd, predicted_heads_pd, runoff_pd, node)"
   ]
  },
  {
   "cell_type": "markdown",
   "metadata": {},
   "source": [
    "## Visualization of results"
   ]
  },
  {
   "cell_type": "code",
   "execution_count": null,
   "metadata": {},
   "outputs": [],
   "source": [
    "importlib.reload(vis)"
   ]
  },
  {
   "cell_type": "code",
   "execution_count": null,
   "metadata": {},
   "outputs": [],
   "source": [
    "error = predicted_heads_pd - swmm_heads_pd"
   ]
  },
  {
   "cell_type": "code",
   "execution_count": null,
   "metadata": {},
   "outputs": [],
   "source": [
    "error= error.transpose().to_numpy()"
   ]
  },
  {
   "cell_type": "code",
   "execution_count": null,
   "metadata": {},
   "outputs": [],
   "source": [
    "error = abs(error)\n",
    "fig = vis.plot_nodal_variable(error, norm_sim_in_window, 'error in head (m) ', colorscale = 'OrRd')\n"
   ]
  },
  {
   "cell_type": "code",
   "execution_count": null,
   "metadata": {},
   "outputs": [],
   "source": [
    "norm_sim_in_window.name_nodes[0]"
   ]
  },
  {
   "cell_type": "code",
   "execution_count": null,
   "metadata": {},
   "outputs": [],
   "source": [
    "# fig.write_html('error.html')"
   ]
  },
  {
   "cell_type": "code",
   "execution_count": null,
   "metadata": {},
   "outputs": [],
   "source": [
    "fig = vis.plot_nodal_variable(swmm_heads_pd.transpose().to_numpy(), norm_sim_in_window, 'Target Head ', colorscale = 'PuBu', ref_marker_size = 2.5)"
   ]
  },
  {
   "cell_type": "markdown",
   "metadata": {},
   "source": [
    "# Scratchpad (old)"
   ]
  },
  {
   "cell_type": "code",
   "execution_count": null,
   "metadata": {},
   "outputs": [],
   "source": [
    "zero_cases_simulations_path = yaml_data['zero_cases_simulations_path']\n",
    "list_of_zero_cases_simulations  = os.listdir(zero_cases_simulations_path)\n",
    "\n",
    "zero_cases_simulations = utils.extract_simulations_from_folders(zero_cases_simulations_path, inp_path, max_events = 2)\n"
   ]
  },
  {
   "cell_type": "code",
   "execution_count": null,
   "metadata": {},
   "outputs": [],
   "source": [
    "gnn_model = GNNModel()"
   ]
  },
  {
   "cell_type": "code",
   "execution_count": null,
   "metadata": {},
   "outputs": [],
   "source": [
    "sim_trial = zero_cases_simulations[0]\n",
    "\n",
    "length = sim_trial.simulation_length\n",
    "sim_in_window = sim_trial.get_all_windows(steps_ahead = length-2)[0]\n",
    "norm_sim_in_window = normalizer.normalize_window(sim_in_window)\n",
    "\n",
    "name_nodes = norm_sim_in_window.name_nodes\n",
    "\n",
    "swmm_heads_pd       = utils.tensor_heads_to_normalized_pd(sim_in_window['y'],             normalizer, name_nodes)\n",
    "predicted_heads_pd  = utils.tensor_heads_to_normalized_pd(gnn_model(norm_sim_in_window),  normalizer, name_nodes)"
   ]
  },
  {
   "cell_type": "code",
   "execution_count": null,
   "metadata": {},
   "outputs": [],
   "source": [
    "target      = normalizer.unnormalize_heads(norm_sim_in_window.y)\n",
    "predicted   = normalizer.unnormalize_heads(gnn_model(norm_sim_in_window).detach())"
   ]
  },
  {
   "cell_type": "code",
   "execution_count": null,
   "metadata": {},
   "outputs": [],
   "source": [
    "pd.DataFrame(target[-1,:].numpy()).plot()\n",
    "pd.DataFrame(predicted[-1,:].numpy()).plot()"
   ]
  },
  {
   "cell_type": "code",
   "execution_count": null,
   "metadata": {},
   "outputs": [],
   "source": [
    "error = torch.abs(target - predicted)\n",
    "fig = vis.plot_nodal_variable(error, norm_sim_in_window, 'error in head at time: ', colorscale = 'OrRd')"
   ]
  },
  {
   "cell_type": "code",
   "execution_count": null,
   "metadata": {},
   "outputs": [],
   "source": [
    "norm_sim_in_window.name_nodes[0]"
   ]
  },
  {
   "cell_type": "code",
   "execution_count": null,
   "metadata": {},
   "outputs": [],
   "source": [
    "# fig.write_html('error.html')"
   ]
  },
  {
   "cell_type": "code",
   "execution_count": null,
   "metadata": {},
   "outputs": [],
   "source": [
    "fig = vis.plot_nodal_variable(target, norm_sim_in_window, 'Target Head ', colorscale = 'PuBu', ref_marker_size = 2.5)"
   ]
  },
  {
   "cell_type": "markdown",
   "metadata": {},
   "source": [
    "# Scratchpad (new)"
   ]
  },
  {
   "cell_type": "code",
   "execution_count": null,
   "metadata": {},
   "outputs": [],
   "source": [
    "val_event =  validation_simulations[0]\n",
    "event_in_windows = val_event.get_all_windows(steps_ahead=1, steps_behind = 1)\n",
    "print(val_event.name_simulation)"
   ]
  },
  {
   "cell_type": "code",
   "execution_count": null,
   "metadata": {},
   "outputs": [],
   "source": [
    "norm_event_in_windows = [normalizer.normalize_window(window) for window in event_in_windows]"
   ]
  },
  {
   "cell_type": "code",
   "execution_count": null,
   "metadata": {},
   "outputs": [],
   "source": [
    "results = []\n",
    "for i in norm_event_in_windows:\n",
    "    results.append(gnn_model(i))"
   ]
  },
  {
   "cell_type": "code",
   "execution_count": null,
   "metadata": {},
   "outputs": [],
   "source": [
    "prediction = torch.cat(results, axis = 1)\n",
    "unnormalized_prediction = normalizer.unnormalize_heads(prediction)"
   ]
  },
  {
   "cell_type": "code",
   "execution_count": null,
   "metadata": {},
   "outputs": [],
   "source": [
    "val_event =  validation_simulations[17]\n",
    "\n",
    "length = val_event.simulation_length\n",
    "sim_in_window = val_event.get_all_windows(steps_ahead = length-2)[0]\n",
    "norm_sim_in_window = normalizer.normalize_window(sim_in_window)\n",
    "\n",
    "name_nodes = norm_sim_in_window.name_nodes\n",
    "\n",
    "swmm_heads_pd       = utils.tensor_heads_to_normalized_pd(sim_in_window['y'],             normalizer, name_nodes)"
   ]
  },
  {
   "cell_type": "code",
   "execution_count": null,
   "metadata": {},
   "outputs": [],
   "source": [
    "name_nodes =norm_sim_in_window.name_nodes"
   ]
  },
  {
   "cell_type": "code",
   "execution_count": null,
   "metadata": {},
   "outputs": [],
   "source": [
    "name_nodes.index('j_90507') #j_90450"
   ]
  },
  {
   "cell_type": "code",
   "execution_count": null,
   "metadata": {},
   "outputs": [],
   "source": [
    "rollout_results = gnn_model(norm_sim_in_window)\n",
    "unnormalized_rollout = normalizer.unnormalize_heads(rollout_results)"
   ]
  },
  {
   "cell_type": "code",
   "execution_count": null,
   "metadata": {},
   "outputs": [],
   "source": [
    "node = np.random.randint(0, 300)\n",
    "\n",
    "print('Node: ', node, 'ID: ', name_nodes[node])\n",
    "pd.DataFrame(unnormalized_prediction[node,:].detach().numpy()).plot()\n",
    "swmm_heads_pd.iloc[:,node].plot()\n",
    "\n",
    "\n",
    "import matplotlib.pyplot as plt\n",
    "a = pd.DataFrame(unnormalized_rollout[node,:].detach().numpy())\n",
    "b = pd.DataFrame(swmm_heads_pd.iloc[:,node])\n",
    "\n",
    "fig, ax = plt.subplots()\n",
    "\n",
    "ax.plot(a)\n",
    "ax.plot(b)\n",
    "\n",
    "plt.show()"
   ]
  },
  {
   "cell_type": "code",
   "execution_count": null,
   "metadata": {},
   "outputs": [],
   "source": [
    "val_event.name_simulation"
   ]
  },
  {
   "cell_type": "code",
   "execution_count": null,
   "metadata": {},
   "outputs": [],
   "source": [
    "norm_sim_in_window"
   ]
  },
  {
   "cell_type": "code",
   "execution_count": null,
   "metadata": {},
   "outputs": [],
   "source": [
    "win = normalized_training_windows[0]"
   ]
  },
  {
   "cell_type": "code",
   "execution_count": null,
   "metadata": {},
   "outputs": [],
   "source": [
    "gnn_model = GNNModel()"
   ]
  },
  {
   "cell_type": "code",
   "execution_count": null,
   "metadata": {},
   "outputs": [],
   "source": [
    "gnn_model(win)"
   ]
  },
  {
   "cell_type": "code",
   "execution_count": null,
   "metadata": {},
   "outputs": [],
   "source": [
    "norm_event_in_windows[0]"
   ]
  },
  {
   "cell_type": "code",
   "execution_count": null,
   "metadata": {},
   "outputs": [],
   "source": [
    "validation_windows[0]"
   ]
  },
  {
   "cell_type": "code",
   "execution_count": null,
   "metadata": {},
   "outputs": [],
   "source": [
    "pred = torch.zeros(20, 15)  "
   ]
  },
  {
   "cell_type": "code",
   "execution_count": null,
   "metadata": {},
   "outputs": [],
   "source": [
    "steps_behind"
   ]
  }
 ],
 "metadata": {
  "kernelspec": {
   "display_name": "Python 3.10.2 ('third_SWMM': venv)",
   "language": "python",
   "name": "python3"
  },
  "language_info": {
   "codemirror_mode": {
    "name": "ipython",
    "version": 3
   },
   "file_extension": ".py",
   "mimetype": "text/x-python",
   "name": "python",
   "nbconvert_exporter": "python",
   "pygments_lexer": "ipython3",
   "version": "3.10.2"
  },
  "orig_nbformat": 4,
  "vscode": {
   "interpreter": {
    "hash": "f88404f1e87403b1e488e351250feb539bee03edfc67c7328abb8c80a54639ed"
   }
  }
 },
 "nbformat": 4,
 "nbformat_minor": 2
}
