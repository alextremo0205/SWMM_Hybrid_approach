{
 "cells": [
  {
   "cell_type": "markdown",
   "metadata": {},
   "source": [
    "# UDS emulator "
   ]
  },
  {
   "cell_type": "markdown",
   "metadata": {},
   "source": [
    "## Preliminaries"
   ]
  },
  {
   "cell_type": "code",
   "execution_count": 1,
   "metadata": {},
   "outputs": [],
   "source": [
    "num_events_training     = 50\n",
    "num_events_validation   = 5\n",
    "steps_ahead             = 1"
   ]
  },
  {
   "cell_type": "code",
   "execution_count": 2,
   "metadata": {},
   "outputs": [],
   "source": [
    "from my_imports import *"
   ]
  },
  {
   "cell_type": "code",
   "execution_count": 3,
   "metadata": {},
   "outputs": [],
   "source": [
    "yaml_path = 'config_file.yaml'\n",
    "yaml_data = utils.load_yaml(yaml_path)\n",
    "\n",
    "# Directories\n",
    "training_simulations_path   = yaml_data['training_simulations_path']\n",
    "validation_simulations_path = yaml_data['validation_simulations_path']\n",
    "\n",
    "inp_path =  yaml_data['inp_path']"
   ]
  },
  {
   "cell_type": "markdown",
   "metadata": {},
   "source": [
    "## Create simulation objects from data"
   ]
  },
  {
   "cell_type": "code",
   "execution_count": 4,
   "metadata": {},
   "outputs": [
    {
     "name": "stdout",
     "output_type": "stream",
     "text": [
      "Number of training simulations:  161\n",
      "Number of validation simulations:  29\n"
     ]
    }
   ],
   "source": [
    "list_of_training_simulations    = os.listdir(training_simulations_path)\n",
    "list_of_validation_simulations  = os.listdir(validation_simulations_path)\n",
    "\n",
    "print('Number of training simulations: ', len(list_of_training_simulations))\n",
    "print('Number of validation simulations: ', len(list_of_validation_simulations))\n"
   ]
  },
  {
   "cell_type": "code",
   "execution_count": 5,
   "metadata": {},
   "outputs": [
    {
     "name": "stdout",
     "output_type": "stream",
     "text": [
      "The file does not have [STORAGE]\n",
      "\n",
      "The file does not have '[PUMPS]\\n'\n",
      "The file does not have '[ORIFICES]\\n'\n",
      "The file does not have '[WEIRS]\\n'\n"
     ]
    }
   ],
   "source": [
    "training_simulations = utils.extract_simulations_from_folders(training_simulations_path, inp_path, max_events = num_events_training)\n",
    "\n",
    "training_windows = []\n",
    "events_to_train= list(range(num_events_training))\n",
    "for event in events_to_train:\n",
    "    sim = training_simulations[event]\n",
    "    training_windows += sim.get_all_windows(steps_ahead = steps_ahead)\n"
   ]
  },
  {
   "cell_type": "code",
   "execution_count": 6,
   "metadata": {},
   "outputs": [
    {
     "name": "stdout",
     "output_type": "stream",
     "text": [
      "The file does not have [STORAGE]\n",
      "\n",
      "The file does not have '[PUMPS]\\n'\n",
      "The file does not have '[ORIFICES]\\n'\n",
      "The file does not have '[WEIRS]\\n'\n"
     ]
    }
   ],
   "source": [
    "validation_simulations = utils.extract_simulations_from_folders(validation_simulations_path, inp_path, max_events =num_events_validation)\n",
    "\n",
    "validation_windows = []\n",
    "events_to_validate= list(range(num_events_validation))\n",
    "for event in events_to_validate:\n",
    "    sim = validation_simulations[event]\n",
    "    validation_windows += sim.get_all_windows(steps_ahead = steps_ahead)"
   ]
  },
  {
   "cell_type": "markdown",
   "metadata": {},
   "source": [
    "## Normalizer"
   ]
  },
  {
   "cell_type": "code",
   "execution_count": 7,
   "metadata": {},
   "outputs": [],
   "source": [
    "normalizer = Normalizer(training_windows)"
   ]
  },
  {
   "cell_type": "code",
   "execution_count": 8,
   "metadata": {},
   "outputs": [],
   "source": [
    "normalized_training_windows = normalizer.get_list_normalized_training_windows()\n",
    "training_loader = DataLoader(normalized_training_windows, batch_size=32, shuffle = True)"
   ]
  },
  {
   "cell_type": "code",
   "execution_count": 9,
   "metadata": {},
   "outputs": [],
   "source": [
    "normalized_validation_windows = [normalizer.normalize_window(val_win) for val_win in validation_windows]\n",
    "validation_loader = DataLoader(normalized_validation_windows, batch_size=32)"
   ]
  },
  {
   "cell_type": "markdown",
   "metadata": {},
   "source": [
    "## Training GNN"
   ]
  },
  {
   "cell_type": "code",
   "execution_count": 10,
   "metadata": {},
   "outputs": [],
   "source": [
    "gnn_model = GNNModel()\n",
    "optimizer = optim.Adam(gnn_model.parameters(), lr = 0.01)\n",
    "scheduler = optim.lr_scheduler.ExponentialLR(optimizer, gamma=0.9)\n",
    "loss_fn   = nn.MSELoss()"
   ]
  },
  {
   "cell_type": "code",
   "execution_count": 11,
   "metadata": {},
   "outputs": [
    {
     "name": "stdout",
     "output_type": "stream",
     "text": [
      "train() called:model=GNNModel, opt=Adam(lr=0.010000), epochs=20,device=cpu\n",
      "\n",
      "Epoch   1/ 20, train loss:  0.53, val loss:  0.28\n",
      "Epoch   2/ 20, train loss:  0.24, val loss:  0.19\n",
      "Epoch   4/ 20, train loss:  0.22, val loss:  0.15\n",
      "Epoch   6/ 20, train loss:  0.20, val loss:  0.17\n",
      "Epoch   8/ 20, train loss:  0.20, val loss:  0.17\n",
      "Epoch  10/ 20, train loss:  0.20, val loss:  0.16\n",
      "Epoch  12/ 20, train loss:  0.20, val loss:  0.15\n",
      "Epoch  14/ 20, train loss:  0.19, val loss:  0.14\n",
      "Epoch  16/ 20, train loss:  0.19, val loss:  0.15\n",
      "Epoch  18/ 20, train loss:  0.19, val loss:  0.15\n",
      "Epoch  20/ 20, train loss:  0.19, val loss:  0.14\n",
      "\n",
      "Time total:     7617.24 sec\n",
      "Time per epoch: 380.86 sec\n"
     ]
    }
   ],
   "source": [
    "history = train(\n",
    "    model = gnn_model,\n",
    "    optimizer = optimizer,\n",
    "    scheduler = scheduler,\n",
    "    loss_fn = loss_fn,\n",
    "    train_dl = training_loader,\n",
    "    val_dl = validation_loader,\n",
    "    epochs = 20,\n",
    "    device = 'cpu',\n",
    "    report_freq = 2\n",
    "    )\n"
   ]
  },
  {
   "cell_type": "markdown",
   "metadata": {},
   "source": [
    "## Results"
   ]
  },
  {
   "cell_type": "code",
   "execution_count": 12,
   "metadata": {},
   "outputs": [
    {
     "data": {
      "application/vnd.plotly.v1+json": {
       "config": {
        "plotlyServerURL": "https://plot.ly"
       },
       "data": [
        {
         "line": {
          "width": 3
         },
         "marker": {
          "size": 12
         },
         "mode": "lines+markers",
         "name": "Training loss",
         "type": "scatter",
         "x": [
          0,
          1,
          2,
          3,
          4,
          5,
          6,
          7,
          8,
          9,
          10,
          11,
          12,
          13,
          14,
          15,
          16,
          17,
          18,
          19
         ],
         "y": [
          0.5286259769690124,
          0.2374765991458088,
          0.22011545613430825,
          0.21578199581780746,
          0.21833881781873737,
          0.20129376710349023,
          0.20089970028510926,
          0.20180826591984638,
          0.198441183592373,
          0.19915853600325575,
          0.19579741065310516,
          0.19667726899032428,
          0.19515451323935692,
          0.19483150235233188,
          0.19207746399950754,
          0.1904719230210276,
          0.18989853606328475,
          0.18783594348940288,
          0.18862473670425706,
          0.18893886997762813
         ]
        },
        {
         "line": {
          "width": 3
         },
         "marker": {
          "size": 12
         },
         "mode": "lines+markers",
         "name": "Validation loss",
         "type": "scatter",
         "x": [
          0,
          1,
          2,
          3,
          4,
          5,
          6,
          7,
          8,
          9,
          10,
          11,
          12,
          13,
          14,
          15,
          16,
          17,
          18,
          19
         ],
         "y": [
          0.2801830041484543,
          0.1913978205023644,
          0.17667460058020942,
          0.15084684483052366,
          0.15811325775425286,
          0.1665336795756058,
          0.17209449333781723,
          0.1670482153777634,
          0.15858484160699668,
          0.15971417578755834,
          0.16075917559270425,
          0.15033829444203956,
          0.19968308912270338,
          0.14338676522689722,
          0.14629744033882372,
          0.1458529653255341,
          0.1517473404965967,
          0.14756621262921696,
          0.1632610869188472,
          0.14333521792405426
         ]
        }
       ],
       "layout": {
        "font": {
         "color": "Black",
         "family": "Times new Roman",
         "size": 28
        },
        "height": 600,
        "legend": {
         "title": {
          "text": "Legend"
         }
        },
        "margin": {
         "b": 80,
         "l": 80,
         "r": 80,
         "t": 80
        },
        "template": {
         "data": {
          "bar": [
           {
            "error_x": {
             "color": "#2a3f5f"
            },
            "error_y": {
             "color": "#2a3f5f"
            },
            "marker": {
             "line": {
              "color": "#E5ECF6",
              "width": 0.5
             },
             "pattern": {
              "fillmode": "overlay",
              "size": 10,
              "solidity": 0.2
             }
            },
            "type": "bar"
           }
          ],
          "barpolar": [
           {
            "marker": {
             "line": {
              "color": "#E5ECF6",
              "width": 0.5
             },
             "pattern": {
              "fillmode": "overlay",
              "size": 10,
              "solidity": 0.2
             }
            },
            "type": "barpolar"
           }
          ],
          "carpet": [
           {
            "aaxis": {
             "endlinecolor": "#2a3f5f",
             "gridcolor": "white",
             "linecolor": "white",
             "minorgridcolor": "white",
             "startlinecolor": "#2a3f5f"
            },
            "baxis": {
             "endlinecolor": "#2a3f5f",
             "gridcolor": "white",
             "linecolor": "white",
             "minorgridcolor": "white",
             "startlinecolor": "#2a3f5f"
            },
            "type": "carpet"
           }
          ],
          "choropleth": [
           {
            "colorbar": {
             "outlinewidth": 0,
             "ticks": ""
            },
            "type": "choropleth"
           }
          ],
          "contour": [
           {
            "colorbar": {
             "outlinewidth": 0,
             "ticks": ""
            },
            "colorscale": [
             [
              0,
              "#0d0887"
             ],
             [
              0.1111111111111111,
              "#46039f"
             ],
             [
              0.2222222222222222,
              "#7201a8"
             ],
             [
              0.3333333333333333,
              "#9c179e"
             ],
             [
              0.4444444444444444,
              "#bd3786"
             ],
             [
              0.5555555555555556,
              "#d8576b"
             ],
             [
              0.6666666666666666,
              "#ed7953"
             ],
             [
              0.7777777777777778,
              "#fb9f3a"
             ],
             [
              0.8888888888888888,
              "#fdca26"
             ],
             [
              1,
              "#f0f921"
             ]
            ],
            "type": "contour"
           }
          ],
          "contourcarpet": [
           {
            "colorbar": {
             "outlinewidth": 0,
             "ticks": ""
            },
            "type": "contourcarpet"
           }
          ],
          "heatmap": [
           {
            "colorbar": {
             "outlinewidth": 0,
             "ticks": ""
            },
            "colorscale": [
             [
              0,
              "#0d0887"
             ],
             [
              0.1111111111111111,
              "#46039f"
             ],
             [
              0.2222222222222222,
              "#7201a8"
             ],
             [
              0.3333333333333333,
              "#9c179e"
             ],
             [
              0.4444444444444444,
              "#bd3786"
             ],
             [
              0.5555555555555556,
              "#d8576b"
             ],
             [
              0.6666666666666666,
              "#ed7953"
             ],
             [
              0.7777777777777778,
              "#fb9f3a"
             ],
             [
              0.8888888888888888,
              "#fdca26"
             ],
             [
              1,
              "#f0f921"
             ]
            ],
            "type": "heatmap"
           }
          ],
          "heatmapgl": [
           {
            "colorbar": {
             "outlinewidth": 0,
             "ticks": ""
            },
            "colorscale": [
             [
              0,
              "#0d0887"
             ],
             [
              0.1111111111111111,
              "#46039f"
             ],
             [
              0.2222222222222222,
              "#7201a8"
             ],
             [
              0.3333333333333333,
              "#9c179e"
             ],
             [
              0.4444444444444444,
              "#bd3786"
             ],
             [
              0.5555555555555556,
              "#d8576b"
             ],
             [
              0.6666666666666666,
              "#ed7953"
             ],
             [
              0.7777777777777778,
              "#fb9f3a"
             ],
             [
              0.8888888888888888,
              "#fdca26"
             ],
             [
              1,
              "#f0f921"
             ]
            ],
            "type": "heatmapgl"
           }
          ],
          "histogram": [
           {
            "marker": {
             "pattern": {
              "fillmode": "overlay",
              "size": 10,
              "solidity": 0.2
             }
            },
            "type": "histogram"
           }
          ],
          "histogram2d": [
           {
            "colorbar": {
             "outlinewidth": 0,
             "ticks": ""
            },
            "colorscale": [
             [
              0,
              "#0d0887"
             ],
             [
              0.1111111111111111,
              "#46039f"
             ],
             [
              0.2222222222222222,
              "#7201a8"
             ],
             [
              0.3333333333333333,
              "#9c179e"
             ],
             [
              0.4444444444444444,
              "#bd3786"
             ],
             [
              0.5555555555555556,
              "#d8576b"
             ],
             [
              0.6666666666666666,
              "#ed7953"
             ],
             [
              0.7777777777777778,
              "#fb9f3a"
             ],
             [
              0.8888888888888888,
              "#fdca26"
             ],
             [
              1,
              "#f0f921"
             ]
            ],
            "type": "histogram2d"
           }
          ],
          "histogram2dcontour": [
           {
            "colorbar": {
             "outlinewidth": 0,
             "ticks": ""
            },
            "colorscale": [
             [
              0,
              "#0d0887"
             ],
             [
              0.1111111111111111,
              "#46039f"
             ],
             [
              0.2222222222222222,
              "#7201a8"
             ],
             [
              0.3333333333333333,
              "#9c179e"
             ],
             [
              0.4444444444444444,
              "#bd3786"
             ],
             [
              0.5555555555555556,
              "#d8576b"
             ],
             [
              0.6666666666666666,
              "#ed7953"
             ],
             [
              0.7777777777777778,
              "#fb9f3a"
             ],
             [
              0.8888888888888888,
              "#fdca26"
             ],
             [
              1,
              "#f0f921"
             ]
            ],
            "type": "histogram2dcontour"
           }
          ],
          "mesh3d": [
           {
            "colorbar": {
             "outlinewidth": 0,
             "ticks": ""
            },
            "type": "mesh3d"
           }
          ],
          "parcoords": [
           {
            "line": {
             "colorbar": {
              "outlinewidth": 0,
              "ticks": ""
             }
            },
            "type": "parcoords"
           }
          ],
          "pie": [
           {
            "automargin": true,
            "type": "pie"
           }
          ],
          "scatter": [
           {
            "fillpattern": {
             "fillmode": "overlay",
             "size": 10,
             "solidity": 0.2
            },
            "type": "scatter"
           }
          ],
          "scatter3d": [
           {
            "line": {
             "colorbar": {
              "outlinewidth": 0,
              "ticks": ""
             }
            },
            "marker": {
             "colorbar": {
              "outlinewidth": 0,
              "ticks": ""
             }
            },
            "type": "scatter3d"
           }
          ],
          "scattercarpet": [
           {
            "marker": {
             "colorbar": {
              "outlinewidth": 0,
              "ticks": ""
             }
            },
            "type": "scattercarpet"
           }
          ],
          "scattergeo": [
           {
            "marker": {
             "colorbar": {
              "outlinewidth": 0,
              "ticks": ""
             }
            },
            "type": "scattergeo"
           }
          ],
          "scattergl": [
           {
            "marker": {
             "colorbar": {
              "outlinewidth": 0,
              "ticks": ""
             }
            },
            "type": "scattergl"
           }
          ],
          "scattermapbox": [
           {
            "marker": {
             "colorbar": {
              "outlinewidth": 0,
              "ticks": ""
             }
            },
            "type": "scattermapbox"
           }
          ],
          "scatterpolar": [
           {
            "marker": {
             "colorbar": {
              "outlinewidth": 0,
              "ticks": ""
             }
            },
            "type": "scatterpolar"
           }
          ],
          "scatterpolargl": [
           {
            "marker": {
             "colorbar": {
              "outlinewidth": 0,
              "ticks": ""
             }
            },
            "type": "scatterpolargl"
           }
          ],
          "scatterternary": [
           {
            "marker": {
             "colorbar": {
              "outlinewidth": 0,
              "ticks": ""
             }
            },
            "type": "scatterternary"
           }
          ],
          "surface": [
           {
            "colorbar": {
             "outlinewidth": 0,
             "ticks": ""
            },
            "colorscale": [
             [
              0,
              "#0d0887"
             ],
             [
              0.1111111111111111,
              "#46039f"
             ],
             [
              0.2222222222222222,
              "#7201a8"
             ],
             [
              0.3333333333333333,
              "#9c179e"
             ],
             [
              0.4444444444444444,
              "#bd3786"
             ],
             [
              0.5555555555555556,
              "#d8576b"
             ],
             [
              0.6666666666666666,
              "#ed7953"
             ],
             [
              0.7777777777777778,
              "#fb9f3a"
             ],
             [
              0.8888888888888888,
              "#fdca26"
             ],
             [
              1,
              "#f0f921"
             ]
            ],
            "type": "surface"
           }
          ],
          "table": [
           {
            "cells": {
             "fill": {
              "color": "#EBF0F8"
             },
             "line": {
              "color": "white"
             }
            },
            "header": {
             "fill": {
              "color": "#C8D4E3"
             },
             "line": {
              "color": "white"
             }
            },
            "type": "table"
           }
          ]
         },
         "layout": {
          "annotationdefaults": {
           "arrowcolor": "#2a3f5f",
           "arrowhead": 0,
           "arrowwidth": 1
          },
          "autotypenumbers": "strict",
          "coloraxis": {
           "colorbar": {
            "outlinewidth": 0,
            "ticks": ""
           }
          },
          "colorscale": {
           "diverging": [
            [
             0,
             "#8e0152"
            ],
            [
             0.1,
             "#c51b7d"
            ],
            [
             0.2,
             "#de77ae"
            ],
            [
             0.3,
             "#f1b6da"
            ],
            [
             0.4,
             "#fde0ef"
            ],
            [
             0.5,
             "#f7f7f7"
            ],
            [
             0.6,
             "#e6f5d0"
            ],
            [
             0.7,
             "#b8e186"
            ],
            [
             0.8,
             "#7fbc41"
            ],
            [
             0.9,
             "#4d9221"
            ],
            [
             1,
             "#276419"
            ]
           ],
           "sequential": [
            [
             0,
             "#0d0887"
            ],
            [
             0.1111111111111111,
             "#46039f"
            ],
            [
             0.2222222222222222,
             "#7201a8"
            ],
            [
             0.3333333333333333,
             "#9c179e"
            ],
            [
             0.4444444444444444,
             "#bd3786"
            ],
            [
             0.5555555555555556,
             "#d8576b"
            ],
            [
             0.6666666666666666,
             "#ed7953"
            ],
            [
             0.7777777777777778,
             "#fb9f3a"
            ],
            [
             0.8888888888888888,
             "#fdca26"
            ],
            [
             1,
             "#f0f921"
            ]
           ],
           "sequentialminus": [
            [
             0,
             "#0d0887"
            ],
            [
             0.1111111111111111,
             "#46039f"
            ],
            [
             0.2222222222222222,
             "#7201a8"
            ],
            [
             0.3333333333333333,
             "#9c179e"
            ],
            [
             0.4444444444444444,
             "#bd3786"
            ],
            [
             0.5555555555555556,
             "#d8576b"
            ],
            [
             0.6666666666666666,
             "#ed7953"
            ],
            [
             0.7777777777777778,
             "#fb9f3a"
            ],
            [
             0.8888888888888888,
             "#fdca26"
            ],
            [
             1,
             "#f0f921"
            ]
           ]
          },
          "colorway": [
           "#636efa",
           "#EF553B",
           "#00cc96",
           "#ab63fa",
           "#FFA15A",
           "#19d3f3",
           "#FF6692",
           "#B6E880",
           "#FF97FF",
           "#FECB52"
          ],
          "font": {
           "color": "#2a3f5f"
          },
          "geo": {
           "bgcolor": "white",
           "lakecolor": "white",
           "landcolor": "#E5ECF6",
           "showlakes": true,
           "showland": true,
           "subunitcolor": "white"
          },
          "hoverlabel": {
           "align": "left"
          },
          "hovermode": "closest",
          "mapbox": {
           "style": "light"
          },
          "paper_bgcolor": "white",
          "plot_bgcolor": "#E5ECF6",
          "polar": {
           "angularaxis": {
            "gridcolor": "white",
            "linecolor": "white",
            "ticks": ""
           },
           "bgcolor": "#E5ECF6",
           "radialaxis": {
            "gridcolor": "white",
            "linecolor": "white",
            "ticks": ""
           }
          },
          "scene": {
           "xaxis": {
            "backgroundcolor": "#E5ECF6",
            "gridcolor": "white",
            "gridwidth": 2,
            "linecolor": "white",
            "showbackground": true,
            "ticks": "",
            "zerolinecolor": "white"
           },
           "yaxis": {
            "backgroundcolor": "#E5ECF6",
            "gridcolor": "white",
            "gridwidth": 2,
            "linecolor": "white",
            "showbackground": true,
            "ticks": "",
            "zerolinecolor": "white"
           },
           "zaxis": {
            "backgroundcolor": "#E5ECF6",
            "gridcolor": "white",
            "gridwidth": 2,
            "linecolor": "white",
            "showbackground": true,
            "ticks": "",
            "zerolinecolor": "white"
           }
          },
          "shapedefaults": {
           "line": {
            "color": "#2a3f5f"
           }
          },
          "ternary": {
           "aaxis": {
            "gridcolor": "white",
            "linecolor": "white",
            "ticks": ""
           },
           "baxis": {
            "gridcolor": "white",
            "linecolor": "white",
            "ticks": ""
           },
           "bgcolor": "#E5ECF6",
           "caxis": {
            "gridcolor": "white",
            "linecolor": "white",
            "ticks": ""
           }
          },
          "title": {
           "x": 0.05
          },
          "xaxis": {
           "automargin": true,
           "gridcolor": "white",
           "linecolor": "white",
           "ticks": "",
           "title": {
            "standoff": 15
           },
           "zerolinecolor": "white",
           "zerolinewidth": 2
          },
          "yaxis": {
           "automargin": true,
           "gridcolor": "white",
           "linecolor": "white",
           "ticks": "",
           "title": {
            "standoff": 15
           },
           "zerolinecolor": "white",
           "zerolinewidth": 2
          }
         }
        },
        "title": {
         "text": "Loss function"
        },
        "width": 900,
        "xaxis": {
         "title": {
          "text": "Epochs"
         }
        },
        "yaxis": {
         "title": {
          "text": "MSE Loss"
         }
        }
       }
      }
     },
     "metadata": {},
     "output_type": "display_data"
    }
   ],
   "source": [
    "vis.plot_loss(history)"
   ]
  },
  {
   "cell_type": "markdown",
   "metadata": {},
   "source": [
    "## Using the metamodel"
   ]
  },
  {
   "cell_type": "code",
   "execution_count": 13,
   "metadata": {},
   "outputs": [],
   "source": [
    "val_event =  validation_simulations[0]\n",
    "\n",
    "length = val_event.simulation_length\n",
    "sim_in_window = val_event.get_all_windows(steps_ahead = 1)[0]\n",
    "norm_sim_in_window = normalizer.normalize_window(sim_in_window)\n",
    "\n",
    "name_nodes = norm_sim_in_window.name_nodes\n",
    "\n",
    "swmm_heads_pd       = utils.tensor_heads_to_normalized_pd(sim_in_window['y'],             normalizer, name_nodes)\n",
    "predicted_heads_pd  = utils.tensor_heads_to_normalized_pd(gnn_model(norm_sim_in_window),  normalizer, name_nodes)"
   ]
  },
  {
   "cell_type": "code",
   "execution_count": 14,
   "metadata": {},
   "outputs": [
    {
     "data": {
      "text/plain": [
       "<AxesSubplot:>"
      ]
     },
     "execution_count": 14,
     "metadata": {},
     "output_type": "execute_result"
    },
    {
     "data": {
      "image/png": "[encoded data removed]",
      "text/plain": [
       "<Figure size 432x288 with 1 Axes>"
      ]
     },
     "metadata": {
      "needs_background": "light"
     },
     "output_type": "display_data"
    }
   ],
   "source": [
    "node = name_nodes[24]\n",
    "\n",
    "swmm_heads_pd[node].plot()\n",
    "predicted_heads_pd[node].plot()"
   ]
  },
  {
   "cell_type": "markdown",
   "metadata": {},
   "source": [
    "## Visualization of results"
   ]
  },
  {
   "cell_type": "code",
   "execution_count": 15,
   "metadata": {},
   "outputs": [],
   "source": [
    "target      = normalizer.unnormalize_heads(norm_sim_in_window.y)\n",
    "predicted   = normalizer.unnormalize_heads(gnn_model(norm_sim_in_window).detach())"
   ]
  },
  {
   "cell_type": "code",
   "execution_count": null,
   "metadata": {},
   "outputs": [],
   "source": [
    "pd.DataFrame(target[-1,:].numpy()).plot()\n",
    "pd.DataFrame(predicted[-1,:].numpy()).plot()"
   ]
  },
  {
   "cell_type": "code",
   "execution_count": null,
   "metadata": {},
   "outputs": [],
   "source": [
    "importlib.reload(vis)"
   ]
  },
  {
   "cell_type": "code",
   "execution_count": 16,
   "metadata": {},
   "outputs": [
    {
     "data": {
      "application/vnd.plotly.v1+json": {
       "config": {
        "plotlyServerURL": "https://plot.ly"
       },
       "data": [
        {
         "hovertemplate": "%{text}",
         "marker": {
          "color": [
           0.006242036819458008,
           0.0055162906646728516,
           0.006484031677246094,
           0.005322933197021484,
           0.006193637847900391,
           0.006193637847900391,
           0.006193637847900391,
           0.006000161170959473,
           0.0071451663970947266,
           0.005903363227844238,
           0.0059517621994018555,
           0.007336020469665527,
           0.007813572883605957,
           0.00570988655090332,
           0.006953835487365723,
           0.005854964256286621,
           0.0061452388763427734,
           0.005226254463195801,
           0.005322933197021484,
           0.006435394287109375,
           0.00570988655090332,
           0.0060967206954956055,
           0.006762981414794922,
           0.0009336471557617188,
           0.005910217761993408,
           0.006858468055725098,
           0.006290435791015625,
           0.005613207817077637,
           0.005467891693115234,
           0.006387114524841309,
           0.0072446465492248535,
           0.007908821105957031,
           0.005661487579345703,
           0.00570988655090332,
           0.005419731140136719,
           0.004984378814697266,
           0.004887580871582031,
           0.00459742546081543,
           0.006228089332580566,
           0.007181048393249512,
           0.006000161170959473,
           0.005758404731750488,
           0.006000161170959473,
           0.006242036819458008,
           0.00570988655090332,
           0.0059517621994018555,
           0.007813572883605957,
           0.00724029541015625,
           0.006484031677246094,
           0.00604856014251709,
           0.0065805912017822266,
           0.006290435791015625,
           0.039999961853027344,
           0.006290435791015625,
           0.0065805912017822266,
           0.006290435791015625,
           0.006858468055725098,
           0.009306550025939941,
           0.010980606079101562,
           0.0055162906646728516,
           0.005274653434753418,
           0.005129575729370117,
           0.007053852081298828,
           0.003734111785888672,
           0.003458380699157715,
           0.0065805912017822266,
           0.006242036819458008,
           0.00570988655090332,
           0.005806684494018555,
           0.007049202919006348,
           0.006953835487365723,
           0.000784754753112793,
           0.006532192230224609,
           0.0034023523330688477,
           0.006953835487365723,
           0.007622361183166504,
           0.006926774978637695,
           0.006291449069976807,
           0.009799838066101074,
           0.00795072317123413,
           0.013077139854431152,
           0.004159450531005859,
           0.006482362747192383,
           0.007117331027984619,
           0.007622361183166504,
           0.006667375564575195,
           0.006532192230224609,
           0.007431149482727051,
           0.007813572883605957,
           0.00686335563659668,
           0.006672799587249756,
           0.006000161170959473,
           0.006484031677246094,
           0.00604856014251709,
           0.00570988655090332,
           0.006435394287109375,
           0.006762981414794922,
           0.005854964256286621,
           0.005467891693115234,
           0.0060967206954956055,
           0.006858468055725098,
           0.007431149482727051,
           0.007308006286621094,
           0.005613207817077637,
           0.006000161170959473,
           0.007622361183166504,
           0.007181048393249512,
           0.00604856014251709,
           0.006418347358703613,
           0.006609201431274414,
           0.00604856014251709,
           0.005371451377868652,
           0.007049202919006348,
           0.006953835487365723,
           0.006338715553283691,
           0.005806684494018555,
           0.005613207817077637,
           0.005613207817077637,
           0.005854964256286621,
           0.00724029541015625,
           0.007336020469665527,
           0.006290435791015625,
           0.006762981414794922,
           0.00570988655090332,
           0.006000161170959473,
           0.00737154483795166,
           0.007622361183166504,
           0.005758404731750488,
           0.00604856014251709,
           0.006484031677246094,
           0.006667375564575195,
           0.00022399425506591797,
           0.0008033514022827148,
           0.005846619606018066,
           0.006193637847900391,
           0.005661487579345703,
           0.005806684494018555,
           0.005467891693115234,
           0.006762981414794922,
           0.006193637847900391,
           0.005758404731750488,
           0.005371451377868652,
           0.006484031677246094,
           0.015201926231384277,
           0.004258871078491211,
           0.006338715553283691,
           0.0061452388763427734,
           0.005661487579345703,
           0.006290435791015625,
           0.006338715553283691,
           0.006609201431274414,
           0.007731199264526367,
           0.007813572883605957,
           0.006338715553283691,
           0.006762981414794922,
           0.006672799587249756,
           0.005973994731903076,
           0.0061452388763427734,
           0.005467891693115234,
           0.004355430603027344,
           0.0033992528915405273,
           0.00604856014251709,
           0.004887580871582031,
           0.0065805912017822266,
           0.0047307610511779785,
           0.0061452388763427734,
           0.006037533283233643,
           0.008474409580230713,
           0.008224189281463623,
           0.009919464588165283,
           0.0007551312446594238,
           0.007326006889343262,
           0.005129575729370117,
           0.005661487579345703,
           0.005661487579345703,
           0.006000161170959473,
           0.006193637847900391,
           0.006867408752441406,
           0.005910217761993408,
           0.006100893020629883,
           0.006242036819458008,
           0.005854964256286621,
           0.00570988655090332,
           0.0072446465492248535,
           0.00686335563659668,
           0.006100893020629883,
           0.006672799587249756,
           0.0061452388763427734,
           0.00604856014251709,
           0.005854964256286621,
           0.00570988655090332,
           0.005903363227844238,
           0.0055648088455200195,
           0.005322933197021484,
           0.005806684494018555,
           0.005903363227844238,
           0.006242036819458008,
           0.006858468055725098,
           0.0065805912017822266,
           0.006338715553283691,
           0.0061452388763427734,
           0.005322933197021484,
           0.0055648088455200195,
           0.005806684494018555,
           0.0055162906646728516,
           0.004984378814697266,
           0.005903363227844238,
           0.00604856014251709,
           0.005613207817077637,
           0.006290435791015625,
           0.013431549072265625,
           0.015759944915771484,
           0.00030106306076049805,
           0.005820631980895996,
           0.006100893020629883,
           0.006672799587249756,
           0.005910217761993408,
           0.011031031608581543,
           0.006484031677246094,
           0.006193637847900391,
           0.005419731140136719,
           0.006532192230224609,
           0.006762981414794922,
           0.007049202919006348,
           0.007410287857055664,
           0.006672799587249756,
           0.007908821105957031,
           0.006609201431274414,
           0.007049202919006348,
           0.006435394287109375,
           0.005903363227844238,
           0.007376551628112793,
           0.006482362747192383,
           0.006545662879943848,
           0.005226254463195801,
           0.004162192344665527,
           0.004984378814697266,
           0.004355430603027344,
           0.005903363227844238,
           0.0055162906646728516,
           0.006338715553283691,
           0.006667375564575195,
           0.006532192230224609,
           0.005661487579345703,
           0.007308006286621094,
           0.006926774978637695,
           0.006736397743225098,
           0.002518773078918457,
           0.003670215606689453,
           0.004403829574584961,
           0.00604856014251709,
           0.0065805912017822266,
           0.005806684494018555,
           0.002176523208618164,
           0.005613207817077637,
           0.00570988655090332,
           0.005758404731750488,
           0.006858468055725098,
           0.007526755332946777,
           0.007308006286621094,
           0.0055648088455200195,
           0.005661487579345703,
           0.005903363227844238,
           0.004984378814697266,
           0.00459742546081543,
           0.0059517621994018555,
           0.006338715553283691,
           0.004645705223083496,
           0.006762981414794922,
           0.006242036819458008,
           0.003900766372680664,
           0.006435394287109375,
           0.006890535354614258,
           0.0059517621994018555,
           0.00570988655090332,
           0.004015803337097168,
           0.002864241600036621,
           0.004355430603027344,
           0.004210472106933594,
           0.010062694549560547,
           0.004500627517700195,
           0.004839181900024414,
           0.0050811767578125,
           0.005371451377868652,
           0.010062694549560547,
           0.010062694549560547,
           0.010062694549560547,
           0.007049202919006348,
           0.0055648088455200195,
           0.005758404731750488,
           0.007622361183166504,
           0.006338715553283691,
           0.005032658576965332,
           0.005467891693115234,
           0.00474238395690918,
           0.005758404731750488,
           0.004500627517700195,
           0.004258871078491211,
           0.004015803337097168,
           0.004210472106933594,
           0.002518773078918457,
           0.004887580871582031,
           0.004015803337097168,
           0.0034401416778564453,
           0.005177736282348633,
           0.003209710121154785,
           0.008159399032592773,
           0.002518773078918457,
           0.008159399032592773,
           0.0019432306289672852,
           0.008440256118774414,
           0.0007975101470947266,
           0.010062694549560547,
           0.004548907279968262,
           0.005613207817077637,
           0.0015976428985595703,
           0.009928226470947266,
           0
          ],
          "colorscale": [
           [
            0,
            "rgb(255,247,236)"
           ],
           [
            0.125,
            "rgb(254,232,200)"
           ],
           [
            0.25,
            "rgb(253,212,158)"
           ],
           [
            0.375,
            "rgb(253,187,132)"
           ],
           [
            0.5,
            "rgb(252,141,89)"
           ],
           [
            0.625,
            "rgb(239,101,72)"
           ],
           [
            0.75,
            "rgb(215,48,31)"
           ],
           [
            0.875,
            "rgb(179,0,0)"
           ],
           [
            1,
            "rgb(127,0,0)"
           ]
          ],
          "line": {
           "color": "DarkSlateGrey",
           "width": 1
          },
          "showscale": true,
          "size": [
           0.006242036819458008,
           0.0055162906646728516,
           0.006484031677246094,
           0.005322933197021484,
           0.006193637847900391,
           0.006193637847900391,
           0.006193637847900391,
           0.006000161170959473,
           0.0071451663970947266,
           0.005903363227844238,
           0.0059517621994018555,
           0.007336020469665527,
           0.007813572883605957,
           0.00570988655090332,
           0.006953835487365723,
           0.005854964256286621,
           0.0061452388763427734,
           0.005226254463195801,
           0.005322933197021484,
           0.006435394287109375,
           0.00570988655090332,
           0.0060967206954956055,
           0.006762981414794922,
           0.0009336471557617188,
           0.005910217761993408,
           0.006858468055725098,
           0.006290435791015625,
           0.005613207817077637,
           0.005467891693115234,
           0.006387114524841309,
           0.0072446465492248535,
           0.007908821105957031,
           0.005661487579345703,
           0.00570988655090332,
           0.005419731140136719,
           0.004984378814697266,
           0.004887580871582031,
           0.00459742546081543,
           0.006228089332580566,
           0.007181048393249512,
           0.006000161170959473,
           0.005758404731750488,
           0.006000161170959473,
           0.006242036819458008,
           0.00570988655090332,
           0.0059517621994018555,
           0.007813572883605957,
           0.00724029541015625,
           0.006484031677246094,
           0.00604856014251709,
           0.0065805912017822266,
           0.006290435791015625,
           0.039999961853027344,
           0.006290435791015625,
           0.0065805912017822266,
           0.006290435791015625,
           0.006858468055725098,
           0.009306550025939941,
           0.010980606079101562,
           0.0055162906646728516,
           0.005274653434753418,
           0.005129575729370117,
           0.007053852081298828,
           0.003734111785888672,
           0.003458380699157715,
           0.0065805912017822266,
           0.006242036819458008,
           0.00570988655090332,
           0.005806684494018555,
           0.007049202919006348,
           0.006953835487365723,
           0.000784754753112793,
           0.006532192230224609,
           0.0034023523330688477,
           0.006953835487365723,
           0.007622361183166504,
           0.006926774978637695,
           0.006291449069976807,
           0.009799838066101074,
           0.00795072317123413,
           0.013077139854431152,
           0.004159450531005859,
           0.006482362747192383,
           0.007117331027984619,
           0.007622361183166504,
           0.006667375564575195,
           0.006532192230224609,
           0.007431149482727051,
           0.007813572883605957,
           0.00686335563659668,
           0.006672799587249756,
           0.006000161170959473,
           0.006484031677246094,
           0.00604856014251709,
           0.00570988655090332,
           0.006435394287109375,
           0.006762981414794922,
           0.005854964256286621,
           0.005467891693115234,
           0.0060967206954956055,
           0.006858468055725098,
           0.007431149482727051,
           0.007308006286621094,
           0.005613207817077637,
           0.006000161170959473,
           0.007622361183166504,
           0.007181048393249512,
           0.00604856014251709,
           0.006418347358703613,
           0.006609201431274414,
           0.00604856014251709,
           0.005371451377868652,
           0.007049202919006348,
           0.006953835487365723,
           0.006338715553283691,
           0.005806684494018555,
           0.005613207817077637,
           0.005613207817077637,
           0.005854964256286621,
           0.00724029541015625,
           0.007336020469665527,
           0.006290435791015625,
           0.006762981414794922,
           0.00570988655090332,
           0.006000161170959473,
           0.00737154483795166,
           0.007622361183166504,
           0.005758404731750488,
           0.00604856014251709,
           0.006484031677246094,
           0.006667375564575195,
           0.00022399425506591797,
           0.0008033514022827148,
           0.005846619606018066,
           0.006193637847900391,
           0.005661487579345703,
           0.005806684494018555,
           0.005467891693115234,
           0.006762981414794922,
           0.006193637847900391,
           0.005758404731750488,
           0.005371451377868652,
           0.006484031677246094,
           0.015201926231384277,
           0.004258871078491211,
           0.006338715553283691,
           0.0061452388763427734,
           0.005661487579345703,
           0.006290435791015625,
           0.006338715553283691,
           0.006609201431274414,
           0.007731199264526367,
           0.007813572883605957,
           0.006338715553283691,
           0.006762981414794922,
           0.006672799587249756,
           0.005973994731903076,
           0.0061452388763427734,
           0.005467891693115234,
           0.004355430603027344,
           0.0033992528915405273,
           0.00604856014251709,
           0.004887580871582031,
           0.0065805912017822266,
           0.0047307610511779785,
           0.0061452388763427734,
           0.006037533283233643,
           0.008474409580230713,
           0.008224189281463623,
           0.009919464588165283,
           0.0007551312446594238,
           0.007326006889343262,
           0.005129575729370117,
           0.005661487579345703,
           0.005661487579345703,
           0.006000161170959473,
           0.006193637847900391,
           0.006867408752441406,
           0.005910217761993408,
           0.006100893020629883,
           0.006242036819458008,
           0.005854964256286621,
           0.00570988655090332,
           0.0072446465492248535,
           0.00686335563659668,
           0.006100893020629883,
           0.006672799587249756,
           0.0061452388763427734,
           0.00604856014251709,
           0.005854964256286621,
           0.00570988655090332,
           0.005903363227844238,
           0.0055648088455200195,
           0.005322933197021484,
           0.005806684494018555,
           0.005903363227844238,
           0.006242036819458008,
           0.006858468055725098,
           0.0065805912017822266,
           0.006338715553283691,
           0.0061452388763427734,
           0.005322933197021484,
           0.0055648088455200195,
           0.005806684494018555,
           0.0055162906646728516,
           0.004984378814697266,
           0.005903363227844238,
           0.00604856014251709,
           0.005613207817077637,
           0.006290435791015625,
           0.013431549072265625,
           0.015759944915771484,
           0.00030106306076049805,
           0.005820631980895996,
           0.006100893020629883,
           0.006672799587249756,
           0.005910217761993408,
           0.011031031608581543,
           0.006484031677246094,
           0.006193637847900391,
           0.005419731140136719,
           0.006532192230224609,
           0.006762981414794922,
           0.007049202919006348,
           0.007410287857055664,
           0.006672799587249756,
           0.007908821105957031,
           0.006609201431274414,
           0.007049202919006348,
           0.006435394287109375,
           0.005903363227844238,
           0.007376551628112793,
           0.006482362747192383,
           0.006545662879943848,
           0.005226254463195801,
           0.004162192344665527,
           0.004984378814697266,
           0.004355430603027344,
           0.005903363227844238,
           0.0055162906646728516,
           0.006338715553283691,
           0.006667375564575195,
           0.006532192230224609,
           0.005661487579345703,
           0.007308006286621094,
           0.006926774978637695,
           0.006736397743225098,
           0.002518773078918457,
           0.003670215606689453,
           0.004403829574584961,
           0.00604856014251709,
           0.0065805912017822266,
           0.005806684494018555,
           0.002176523208618164,
           0.005613207817077637,
           0.00570988655090332,
           0.005758404731750488,
           0.006858468055725098,
           0.007526755332946777,
           0.007308006286621094,
           0.0055648088455200195,
           0.005661487579345703,
           0.005903363227844238,
           0.004984378814697266,
           0.00459742546081543,
           0.0059517621994018555,
           0.006338715553283691,
           0.004645705223083496,
           0.006762981414794922,
           0.006242036819458008,
           0.003900766372680664,
           0.006435394287109375,
           0.006890535354614258,
           0.0059517621994018555,
           0.00570988655090332,
           0.004015803337097168,
           0.002864241600036621,
           0.004355430603027344,
           0.004210472106933594,
           0.010062694549560547,
           0.004500627517700195,
           0.004839181900024414,
           0.0050811767578125,
           0.005371451377868652,
           0.010062694549560547,
           0.010062694549560547,
           0.010062694549560547,
           0.007049202919006348,
           0.0055648088455200195,
           0.005758404731750488,
           0.007622361183166504,
           0.006338715553283691,
           0.005032658576965332,
           0.005467891693115234,
           0.00474238395690918,
           0.005758404731750488,
           0.004500627517700195,
           0.004258871078491211,
           0.004015803337097168,
           0.004210472106933594,
           0.002518773078918457,
           0.004887580871582031,
           0.004015803337097168,
           0.0034401416778564453,
           0.005177736282348633,
           0.003209710121154785,
           0.008159399032592773,
           0.002518773078918457,
           0.008159399032592773,
           0.0019432306289672852,
           0.008440256118774414,
           0.0007975101470947266,
           0.010062694549560547,
           0.004548907279968262,
           0.005613207817077637,
           0.0015976428985595703,
           0.009928226470947266,
           0
          ],
          "sizemin": 2,
          "sizeref": 0.0031999969482421876
         },
         "mode": "markers",
         "name": "coordinates",
         "text": [
          "<b><br> Node ID: </b> j_9006F <br> <b>Value:</b> 0.01",
          "<b><br> Node ID: </b> j_90334 <br> <b>Value:</b> 0.01",
          "<b><br> Node ID: </b> j_90335 <br> <b>Value:</b> 0.01",
          "<b><br> Node ID: </b> j_90336 <br> <b>Value:</b> 0.01",
          "<b><br> Node ID: </b> j_90363 <br> <b>Value:</b> 0.01",
          "<b><br> Node ID: </b> j_90364 <br> <b>Value:</b> 0.01",
          "<b><br> Node ID: </b> j_90365 <br> <b>Value:</b> 0.01",
          "<b><br> Node ID: </b> j_90366 <br> <b>Value:</b> 0.01",
          "<b><br> Node ID: </b> j_90367 <br> <b>Value:</b> 0.01",
          "<b><br> Node ID: </b> j_90368 <br> <b>Value:</b> 0.01",
          "<b><br> Node ID: </b> j_90369 <br> <b>Value:</b> 0.01",
          "<b><br> Node ID: </b> j_90370 <br> <b>Value:</b> 0.01",
          "<b><br> Node ID: </b> j_90371 <br> <b>Value:</b> 0.01",
          "<b><br> Node ID: </b> j_90372 <br> <b>Value:</b> 0.01",
          "<b><br> Node ID: </b> j_90373 <br> <b>Value:</b> 0.01",
          "<b><br> Node ID: </b> j_90374 <br> <b>Value:</b> 0.01",
          "<b><br> Node ID: </b> j_90375 <br> <b>Value:</b> 0.01",
          "<b><br> Node ID: </b> j_90376 <br> <b>Value:</b> 0.01",
          "<b><br> Node ID: </b> j_90377 <br> <b>Value:</b> 0.01",
          "<b><br> Node ID: </b> j_90378 <br> <b>Value:</b> 0.01",
          "<b><br> Node ID: </b> j_90379 <br> <b>Value:</b> 0.01",
          "<b><br> Node ID: </b> j_90380 <br> <b>Value:</b> 0.01",
          "<b><br> Node ID: </b> j_90381 <br> <b>Value:</b> 0.01",
          "<b><br> Node ID: </b> j_90382 <br> <b>Value:</b> 0.00",
          "<b><br> Node ID: </b> j_90383 <br> <b>Value:</b> 0.01",
          "<b><br> Node ID: </b> j_90384 <br> <b>Value:</b> 0.01",
          "<b><br> Node ID: </b> j_90385 <br> <b>Value:</b> 0.01",
          "<b><br> Node ID: </b> j_90386 <br> <b>Value:</b> 0.01",
          "<b><br> Node ID: </b> j_90387 <br> <b>Value:</b> 0.01",
          "<b><br> Node ID: </b> j_90388 <br> <b>Value:</b> 0.01",
          "<b><br> Node ID: </b> j_90389 <br> <b>Value:</b> 0.01",
          "<b><br> Node ID: </b> j_90390 <br> <b>Value:</b> 0.01",
          "<b><br> Node ID: </b> j_90391 <br> <b>Value:</b> 0.01",
          "<b><br> Node ID: </b> j_90392 <br> <b>Value:</b> 0.01",
          "<b><br> Node ID: </b> j_90393 <br> <b>Value:</b> 0.01",
          "<b><br> Node ID: </b> j_90394 <br> <b>Value:</b> 0.00",
          "<b><br> Node ID: </b> j_90395 <br> <b>Value:</b> 0.00",
          "<b><br> Node ID: </b> j_90396 <br> <b>Value:</b> 0.00",
          "<b><br> Node ID: </b> j_90397 <br> <b>Value:</b> 0.01",
          "<b><br> Node ID: </b> j_90398 <br> <b>Value:</b> 0.01",
          "<b><br> Node ID: </b> j_90399 <br> <b>Value:</b> 0.01",
          "<b><br> Node ID: </b> j_90400 <br> <b>Value:</b> 0.01",
          "<b><br> Node ID: </b> j_90401 <br> <b>Value:</b> 0.01",
          "<b><br> Node ID: </b> j_90402 <br> <b>Value:</b> 0.01",
          "<b><br> Node ID: </b> j_90403 <br> <b>Value:</b> 0.01",
          "<b><br> Node ID: </b> j_90404 <br> <b>Value:</b> 0.01",
          "<b><br> Node ID: </b> j_90405 <br> <b>Value:</b> 0.01",
          "<b><br> Node ID: </b> j_90406 <br> <b>Value:</b> 0.01",
          "<b><br> Node ID: </b> j_90407 <br> <b>Value:</b> 0.01",
          "<b><br> Node ID: </b> j_90408 <br> <b>Value:</b> 0.01",
          "<b><br> Node ID: </b> j_90427 <br> <b>Value:</b> 0.01",
          "<b><br> Node ID: </b> j_90428 <br> <b>Value:</b> 0.01",
          "<b><br> Node ID: </b> j_90430 <br> <b>Value:</b> 0.04",
          "<b><br> Node ID: </b> j_90433 <br> <b>Value:</b> 0.01",
          "<b><br> Node ID: </b> j_90434 <br> <b>Value:</b> 0.01",
          "<b><br> Node ID: </b> j_90435 <br> <b>Value:</b> 0.01",
          "<b><br> Node ID: </b> j_90436 <br> <b>Value:</b> 0.01",
          "<b><br> Node ID: </b> j_90437 <br> <b>Value:</b> 0.01",
          "<b><br> Node ID: </b> j_90438 <br> <b>Value:</b> 0.01",
          "<b><br> Node ID: </b> j_90439 <br> <b>Value:</b> 0.01",
          "<b><br> Node ID: </b> j_90440 <br> <b>Value:</b> 0.01",
          "<b><br> Node ID: </b> j_90441 <br> <b>Value:</b> 0.01",
          "<b><br> Node ID: </b> j_90442 <br> <b>Value:</b> 0.01",
          "<b><br> Node ID: </b> j_90443 <br> <b>Value:</b> 0.00",
          "<b><br> Node ID: </b> j_90444 <br> <b>Value:</b> 0.00",
          "<b><br> Node ID: </b> j_90445 <br> <b>Value:</b> 0.01",
          "<b><br> Node ID: </b> j_90446 <br> <b>Value:</b> 0.01",
          "<b><br> Node ID: </b> j_90447 <br> <b>Value:</b> 0.01",
          "<b><br> Node ID: </b> j_90448 <br> <b>Value:</b> 0.01",
          "<b><br> Node ID: </b> j_90449 <br> <b>Value:</b> 0.01",
          "<b><br> Node ID: </b> j_90450 <br> <b>Value:</b> 0.01",
          "<b><br> Node ID: </b> j_90451 <br> <b>Value:</b> 0.00",
          "<b><br> Node ID: </b> j_90452 <br> <b>Value:</b> 0.01",
          "<b><br> Node ID: </b> j_90453 <br> <b>Value:</b> 0.00",
          "<b><br> Node ID: </b> j_90454 <br> <b>Value:</b> 0.01",
          "<b><br> Node ID: </b> j_90455 <br> <b>Value:</b> 0.01",
          "<b><br> Node ID: </b> j_90456 <br> <b>Value:</b> 0.01",
          "<b><br> Node ID: </b> j_90457 <br> <b>Value:</b> 0.01",
          "<b><br> Node ID: </b> j_90459 <br> <b>Value:</b> 0.01",
          "<b><br> Node ID: </b> j_90460 <br> <b>Value:</b> 0.01",
          "<b><br> Node ID: </b> j_90461 <br> <b>Value:</b> 0.01",
          "<b><br> Node ID: </b> j_90462 <br> <b>Value:</b> 0.00",
          "<b><br> Node ID: </b> j_90463 <br> <b>Value:</b> 0.01",
          "<b><br> Node ID: </b> j_90464 <br> <b>Value:</b> 0.01",
          "<b><br> Node ID: </b> j_90465 <br> <b>Value:</b> 0.01",
          "<b><br> Node ID: </b> j_90466 <br> <b>Value:</b> 0.01",
          "<b><br> Node ID: </b> j_90467 <br> <b>Value:</b> 0.01",
          "<b><br> Node ID: </b> j_90468 <br> <b>Value:</b> 0.01",
          "<b><br> Node ID: </b> j_90469 <br> <b>Value:</b> 0.01",
          "<b><br> Node ID: </b> j_90470 <br> <b>Value:</b> 0.01",
          "<b><br> Node ID: </b> j_90471 <br> <b>Value:</b> 0.01",
          "<b><br> Node ID: </b> j_90477 <br> <b>Value:</b> 0.01",
          "<b><br> Node ID: </b> j_90478 <br> <b>Value:</b> 0.01",
          "<b><br> Node ID: </b> j_90479 <br> <b>Value:</b> 0.01",
          "<b><br> Node ID: </b> j_90480 <br> <b>Value:</b> 0.01",
          "<b><br> Node ID: </b> j_90481 <br> <b>Value:</b> 0.01",
          "<b><br> Node ID: </b> j_90482 <br> <b>Value:</b> 0.01",
          "<b><br> Node ID: </b> j_90483 <br> <b>Value:</b> 0.01",
          "<b><br> Node ID: </b> j_90484 <br> <b>Value:</b> 0.01",
          "<b><br> Node ID: </b> j_90485 <br> <b>Value:</b> 0.01",
          "<b><br> Node ID: </b> j_90486 <br> <b>Value:</b> 0.01",
          "<b><br> Node ID: </b> j_90487 <br> <b>Value:</b> 0.01",
          "<b><br> Node ID: </b> j_90488 <br> <b>Value:</b> 0.01",
          "<b><br> Node ID: </b> j_90489 <br> <b>Value:</b> 0.01",
          "<b><br> Node ID: </b> j_90490 <br> <b>Value:</b> 0.01",
          "<b><br> Node ID: </b> j_90491 <br> <b>Value:</b> 0.01",
          "<b><br> Node ID: </b> j_90492 <br> <b>Value:</b> 0.01",
          "<b><br> Node ID: </b> j_90493 <br> <b>Value:</b> 0.01",
          "<b><br> Node ID: </b> j_90494 <br> <b>Value:</b> 0.01",
          "<b><br> Node ID: </b> j_90495 <br> <b>Value:</b> 0.01",
          "<b><br> Node ID: </b> j_90496 <br> <b>Value:</b> 0.01",
          "<b><br> Node ID: </b> j_90497 <br> <b>Value:</b> 0.01",
          "<b><br> Node ID: </b> j_90498 <br> <b>Value:</b> 0.01",
          "<b><br> Node ID: </b> j_90499 <br> <b>Value:</b> 0.01",
          "<b><br> Node ID: </b> j_90500 <br> <b>Value:</b> 0.01",
          "<b><br> Node ID: </b> j_90501 <br> <b>Value:</b> 0.01",
          "<b><br> Node ID: </b> j_90502 <br> <b>Value:</b> 0.01",
          "<b><br> Node ID: </b> j_90503 <br> <b>Value:</b> 0.01",
          "<b><br> Node ID: </b> j_90504 <br> <b>Value:</b> 0.01",
          "<b><br> Node ID: </b> j_90505 <br> <b>Value:</b> 0.01",
          "<b><br> Node ID: </b> j_90506 <br> <b>Value:</b> 0.01",
          "<b><br> Node ID: </b> j_90507 <br> <b>Value:</b> 0.01",
          "<b><br> Node ID: </b> j_90508 <br> <b>Value:</b> 0.01",
          "<b><br> Node ID: </b> j_90509 <br> <b>Value:</b> 0.01",
          "<b><br> Node ID: </b> j_90510 <br> <b>Value:</b> 0.01",
          "<b><br> Node ID: </b> j_90511 <br> <b>Value:</b> 0.01",
          "<b><br> Node ID: </b> j_90512 <br> <b>Value:</b> 0.01",
          "<b><br> Node ID: </b> j_90513 <br> <b>Value:</b> 0.01",
          "<b><br> Node ID: </b> j_90514 <br> <b>Value:</b> 0.01",
          "<b><br> Node ID: </b> j_90515 <br> <b>Value:</b> 0.01",
          "<b><br> Node ID: </b> j_90516 <br> <b>Value:</b> 0.01",
          "<b><br> Node ID: </b> j_90517 <br> <b>Value:</b> 0.00",
          "<b><br> Node ID: </b> j_90518 <br> <b>Value:</b> 0.00",
          "<b><br> Node ID: </b> j_90519 <br> <b>Value:</b> 0.01",
          "<b><br> Node ID: </b> j_90520 <br> <b>Value:</b> 0.01",
          "<b><br> Node ID: </b> j_90521 <br> <b>Value:</b> 0.01",
          "<b><br> Node ID: </b> j_90522 <br> <b>Value:</b> 0.01",
          "<b><br> Node ID: </b> j_90523 <br> <b>Value:</b> 0.01",
          "<b><br> Node ID: </b> j_90524 <br> <b>Value:</b> 0.01",
          "<b><br> Node ID: </b> j_90525 <br> <b>Value:</b> 0.01",
          "<b><br> Node ID: </b> j_90526 <br> <b>Value:</b> 0.01",
          "<b><br> Node ID: </b> j_90527 <br> <b>Value:</b> 0.01",
          "<b><br> Node ID: </b> j_90549 <br> <b>Value:</b> 0.01",
          "<b><br> Node ID: </b> j_90550 <br> <b>Value:</b> 0.02",
          "<b><br> Node ID: </b> j_90551 <br> <b>Value:</b> 0.00",
          "<b><br> Node ID: </b> j_90553 <br> <b>Value:</b> 0.01",
          "<b><br> Node ID: </b> j_90554 <br> <b>Value:</b> 0.01",
          "<b><br> Node ID: </b> j_90555 <br> <b>Value:</b> 0.01",
          "<b><br> Node ID: </b> j_90556 <br> <b>Value:</b> 0.01",
          "<b><br> Node ID: </b> j_90557 <br> <b>Value:</b> 0.01",
          "<b><br> Node ID: </b> j_90558 <br> <b>Value:</b> 0.01",
          "<b><br> Node ID: </b> j_90559 <br> <b>Value:</b> 0.01",
          "<b><br> Node ID: </b> j_90560 <br> <b>Value:</b> 0.01",
          "<b><br> Node ID: </b> j_90561 <br> <b>Value:</b> 0.01",
          "<b><br> Node ID: </b> j_90562 <br> <b>Value:</b> 0.01",
          "<b><br> Node ID: </b> j_90563 <br> <b>Value:</b> 0.01",
          "<b><br> Node ID: </b> j_90564 <br> <b>Value:</b> 0.01",
          "<b><br> Node ID: </b> j_90565 <br> <b>Value:</b> 0.01",
          "<b><br> Node ID: </b> j_90566 <br> <b>Value:</b> 0.01",
          "<b><br> Node ID: </b> j_90567 <br> <b>Value:</b> 0.00",
          "<b><br> Node ID: </b> j_90568 <br> <b>Value:</b> 0.00",
          "<b><br> Node ID: </b> j_90569 <br> <b>Value:</b> 0.01",
          "<b><br> Node ID: </b> j_90570 <br> <b>Value:</b> 0.00",
          "<b><br> Node ID: </b> j_90571 <br> <b>Value:</b> 0.01",
          "<b><br> Node ID: </b> j_90572 <br> <b>Value:</b> 0.00",
          "<b><br> Node ID: </b> j_90573 <br> <b>Value:</b> 0.01",
          "<b><br> Node ID: </b> j_90574 <br> <b>Value:</b> 0.01",
          "<b><br> Node ID: </b> j_90575 <br> <b>Value:</b> 0.01",
          "<b><br> Node ID: </b> j_90576 <br> <b>Value:</b> 0.01",
          "<b><br> Node ID: </b> j_90577 <br> <b>Value:</b> 0.01",
          "<b><br> Node ID: </b> j_90578 <br> <b>Value:</b> 0.00",
          "<b><br> Node ID: </b> j_90579 <br> <b>Value:</b> 0.01",
          "<b><br> Node ID: </b> j_90580 <br> <b>Value:</b> 0.01",
          "<b><br> Node ID: </b> j_90581 <br> <b>Value:</b> 0.01",
          "<b><br> Node ID: </b> j_90582 <br> <b>Value:</b> 0.01",
          "<b><br> Node ID: </b> j_90583 <br> <b>Value:</b> 0.01",
          "<b><br> Node ID: </b> j_90584 <br> <b>Value:</b> 0.01",
          "<b><br> Node ID: </b> j_90585 <br> <b>Value:</b> 0.01",
          "<b><br> Node ID: </b> j_90586 <br> <b>Value:</b> 0.01",
          "<b><br> Node ID: </b> j_90587 <br> <b>Value:</b> 0.01",
          "<b><br> Node ID: </b> j_90588 <br> <b>Value:</b> 0.01",
          "<b><br> Node ID: </b> j_90589 <br> <b>Value:</b> 0.01",
          "<b><br> Node ID: </b> j_90590 <br> <b>Value:</b> 0.01",
          "<b><br> Node ID: </b> j_90591 <br> <b>Value:</b> 0.01",
          "<b><br> Node ID: </b> j_90592 <br> <b>Value:</b> 0.01",
          "<b><br> Node ID: </b> j_90593 <br> <b>Value:</b> 0.01",
          "<b><br> Node ID: </b> j_90594 <br> <b>Value:</b> 0.01",
          "<b><br> Node ID: </b> j_90595 <br> <b>Value:</b> 0.01",
          "<b><br> Node ID: </b> j_90596 <br> <b>Value:</b> 0.01",
          "<b><br> Node ID: </b> j_90597 <br> <b>Value:</b> 0.01",
          "<b><br> Node ID: </b> j_90598 <br> <b>Value:</b> 0.01",
          "<b><br> Node ID: </b> j_90599 <br> <b>Value:</b> 0.01",
          "<b><br> Node ID: </b> j_90600 <br> <b>Value:</b> 0.01",
          "<b><br> Node ID: </b> j_90601 <br> <b>Value:</b> 0.01",
          "<b><br> Node ID: </b> j_90602 <br> <b>Value:</b> 0.01",
          "<b><br> Node ID: </b> j_90603 <br> <b>Value:</b> 0.01",
          "<b><br> Node ID: </b> j_90604 <br> <b>Value:</b> 0.01",
          "<b><br> Node ID: </b> j_90605 <br> <b>Value:</b> 0.01",
          "<b><br> Node ID: </b> j_90606 <br> <b>Value:</b> 0.01",
          "<b><br> Node ID: </b> j_90607 <br> <b>Value:</b> 0.01",
          "<b><br> Node ID: </b> j_90608 <br> <b>Value:</b> 0.01",
          "<b><br> Node ID: </b> j_90609 <br> <b>Value:</b> 0.01",
          "<b><br> Node ID: </b> j_90610 <br> <b>Value:</b> 0.01",
          "<b><br> Node ID: </b> j_90611 <br> <b>Value:</b> 0.01",
          "<b><br> Node ID: </b> j_90612 <br> <b>Value:</b> 0.01",
          "<b><br> Node ID: </b> j_90613 <br> <b>Value:</b> 0.00",
          "<b><br> Node ID: </b> j_90615 <br> <b>Value:</b> 0.01",
          "<b><br> Node ID: </b> j_90616 <br> <b>Value:</b> 0.01",
          "<b><br> Node ID: </b> j_90617 <br> <b>Value:</b> 0.01",
          "<b><br> Node ID: </b> j_90618 <br> <b>Value:</b> 0.01",
          "<b><br> Node ID: </b> j_90619 <br> <b>Value:</b> 0.01",
          "<b><br> Node ID: </b> j_90620 <br> <b>Value:</b> 0.02",
          "<b><br> Node ID: </b> j_90621 <br> <b>Value:</b> 0.00",
          "<b><br> Node ID: </b> j_90623 <br> <b>Value:</b> 0.01",
          "<b><br> Node ID: </b> j_90624 <br> <b>Value:</b> 0.01",
          "<b><br> Node ID: </b> j_90625 <br> <b>Value:</b> 0.01",
          "<b><br> Node ID: </b> j_90626 <br> <b>Value:</b> 0.01",
          "<b><br> Node ID: </b> j_90627 <br> <b>Value:</b> 0.01",
          "<b><br> Node ID: </b> j_90628 <br> <b>Value:</b> 0.01",
          "<b><br> Node ID: </b> j_90629 <br> <b>Value:</b> 0.01",
          "<b><br> Node ID: </b> j_90630 <br> <b>Value:</b> 0.01",
          "<b><br> Node ID: </b> j_90631 <br> <b>Value:</b> 0.01",
          "<b><br> Node ID: </b> j_90632 <br> <b>Value:</b> 0.01",
          "<b><br> Node ID: </b> j_90633 <br> <b>Value:</b> 0.01",
          "<b><br> Node ID: </b> j_90634 <br> <b>Value:</b> 0.01",
          "<b><br> Node ID: </b> j_90635 <br> <b>Value:</b> 0.01",
          "<b><br> Node ID: </b> j_90636 <br> <b>Value:</b> 0.01",
          "<b><br> Node ID: </b> j_90637 <br> <b>Value:</b> 0.01",
          "<b><br> Node ID: </b> j_90638 <br> <b>Value:</b> 0.01",
          "<b><br> Node ID: </b> j_90639 <br> <b>Value:</b> 0.01",
          "<b><br> Node ID: </b> j_90640 <br> <b>Value:</b> 0.01",
          "<b><br> Node ID: </b> j_90641 <br> <b>Value:</b> 0.01",
          "<b><br> Node ID: </b> j_90642 <br> <b>Value:</b> 0.01",
          "<b><br> Node ID: </b> j_90643 <br> <b>Value:</b> 0.01",
          "<b><br> Node ID: </b> j_90644 <br> <b>Value:</b> 0.01",
          "<b><br> Node ID: </b> j_90645 <br> <b>Value:</b> 0.00",
          "<b><br> Node ID: </b> j_90646 <br> <b>Value:</b> 0.00",
          "<b><br> Node ID: </b> j_90647 <br> <b>Value:</b> 0.00",
          "<b><br> Node ID: </b> j_90648 <br> <b>Value:</b> 0.01",
          "<b><br> Node ID: </b> j_90649 <br> <b>Value:</b> 0.01",
          "<b><br> Node ID: </b> j_90650 <br> <b>Value:</b> 0.01",
          "<b><br> Node ID: </b> j_90651 <br> <b>Value:</b> 0.01",
          "<b><br> Node ID: </b> j_90652 <br> <b>Value:</b> 0.01",
          "<b><br> Node ID: </b> j_90653 <br> <b>Value:</b> 0.01",
          "<b><br> Node ID: </b> j_90654 <br> <b>Value:</b> 0.01",
          "<b><br> Node ID: </b> j_90655 <br> <b>Value:</b> 0.01",
          "<b><br> Node ID: </b> j_90656 <br> <b>Value:</b> 0.01",
          "<b><br> Node ID: </b> j_90657 <br> <b>Value:</b> 0.00",
          "<b><br> Node ID: </b> j_90658 <br> <b>Value:</b> 0.00",
          "<b><br> Node ID: </b> j_90659 <br> <b>Value:</b> 0.00",
          "<b><br> Node ID: </b> j_90662 <br> <b>Value:</b> 0.01",
          "<b><br> Node ID: </b> j_90663 <br> <b>Value:</b> 0.01",
          "<b><br> Node ID: </b> j_90664 <br> <b>Value:</b> 0.01",
          "<b><br> Node ID: </b> j_90665 <br> <b>Value:</b> 0.00",
          "<b><br> Node ID: </b> j_90669 <br> <b>Value:</b> 0.01",
          "<b><br> Node ID: </b> j_90670 <br> <b>Value:</b> 0.01",
          "<b><br> Node ID: </b> j_90671 <br> <b>Value:</b> 0.01",
          "<b><br> Node ID: </b> j_90672 <br> <b>Value:</b> 0.01",
          "<b><br> Node ID: </b> j_90673 <br> <b>Value:</b> 0.01",
          "<b><br> Node ID: </b> j_90674 <br> <b>Value:</b> 0.01",
          "<b><br> Node ID: </b> j_90675 <br> <b>Value:</b> 0.01",
          "<b><br> Node ID: </b> j_90676 <br> <b>Value:</b> 0.01",
          "<b><br> Node ID: </b> j_90677 <br> <b>Value:</b> 0.01",
          "<b><br> Node ID: </b> j_90678 <br> <b>Value:</b> 0.00",
          "<b><br> Node ID: </b> j_90679 <br> <b>Value:</b> 0.00",
          "<b><br> Node ID: </b> j_90680 <br> <b>Value:</b> 0.01",
          "<b><br> Node ID: </b> j_90681 <br> <b>Value:</b> 0.01",
          "<b><br> Node ID: </b> j_90682 <br> <b>Value:</b> 0.00",
          "<b><br> Node ID: </b> j_90683 <br> <b>Value:</b> 0.01",
          "<b><br> Node ID: </b> j_90684 <br> <b>Value:</b> 0.01",
          "<b><br> Node ID: </b> j_90685 <br> <b>Value:</b> 0.00",
          "<b><br> Node ID: </b> j_90686 <br> <b>Value:</b> 0.01",
          "<b><br> Node ID: </b> j_90688 <br> <b>Value:</b> 0.01",
          "<b><br> Node ID: </b> j_90689 <br> <b>Value:</b> 0.01",
          "<b><br> Node ID: </b> j_90690 <br> <b>Value:</b> 0.01",
          "<b><br> Node ID: </b> j_90691 <br> <b>Value:</b> 0.00",
          "<b><br> Node ID: </b> j_90692 <br> <b>Value:</b> 0.00",
          "<b><br> Node ID: </b> j_90693 <br> <b>Value:</b> 0.00",
          "<b><br> Node ID: </b> j_90694 <br> <b>Value:</b> 0.00",
          "<b><br> Node ID: </b> j_90695 <br> <b>Value:</b> 0.01",
          "<b><br> Node ID: </b> j_90696 <br> <b>Value:</b> 0.00",
          "<b><br> Node ID: </b> j_90697 <br> <b>Value:</b> 0.00",
          "<b><br> Node ID: </b> j_90698 <br> <b>Value:</b> 0.01",
          "<b><br> Node ID: </b> j_90699 <br> <b>Value:</b> 0.01",
          "<b><br> Node ID: </b> j_90700 <br> <b>Value:</b> 0.01",
          "<b><br> Node ID: </b> j_90701 <br> <b>Value:</b> 0.01",
          "<b><br> Node ID: </b> j_90702 <br> <b>Value:</b> 0.01",
          "<b><br> Node ID: </b> j_90703 <br> <b>Value:</b> 0.01",
          "<b><br> Node ID: </b> j_90704 <br> <b>Value:</b> 0.01",
          "<b><br> Node ID: </b> j_90705 <br> <b>Value:</b> 0.01",
          "<b><br> Node ID: </b> j_90706 <br> <b>Value:</b> 0.01",
          "<b><br> Node ID: </b> j_90707 <br> <b>Value:</b> 0.01",
          "<b><br> Node ID: </b> j_90708 <br> <b>Value:</b> 0.01",
          "<b><br> Node ID: </b> j_90709 <br> <b>Value:</b> 0.01",
          "<b><br> Node ID: </b> j_90710 <br> <b>Value:</b> 0.00",
          "<b><br> Node ID: </b> j_90724 <br> <b>Value:</b> 0.01",
          "<b><br> Node ID: </b> j_90725 <br> <b>Value:</b> 0.00",
          "<b><br> Node ID: </b> j_90726 <br> <b>Value:</b> 0.00",
          "<b><br> Node ID: </b> j_90727 <br> <b>Value:</b> 0.00",
          "<b><br> Node ID: </b> j_90728 <br> <b>Value:</b> 0.00",
          "<b><br> Node ID: </b> j_90729 <br> <b>Value:</b> 0.00",
          "<b><br> Node ID: </b> j_90730 <br> <b>Value:</b> 0.00",
          "<b><br> Node ID: </b> j_90731 <br> <b>Value:</b> 0.00",
          "<b><br> Node ID: </b> j_90732 <br> <b>Value:</b> 0.00",
          "<b><br> Node ID: </b> j_90733 <br> <b>Value:</b> 0.01",
          "<b><br> Node ID: </b> j_91272 <br> <b>Value:</b> 0.00",
          "<b><br> Node ID: </b> j_91273 <br> <b>Value:</b> 0.01",
          "<b><br> Node ID: </b> j_91274 <br> <b>Value:</b> 0.00",
          "<b><br> Node ID: </b> j_91275 <br> <b>Value:</b> 0.01",
          "<b><br> Node ID: </b> j_91276 <br> <b>Value:</b> 0.00",
          "<b><br> Node ID: </b> j_91277 <br> <b>Value:</b> 0.01",
          "<b><br> Node ID: </b> j_91278 <br> <b>Value:</b> 0.00",
          "<b><br> Node ID: </b> j_91279 <br> <b>Value:</b> 0.01",
          "<b><br> Node ID: </b> j_91292 <br> <b>Value:</b> 0.00",
          "<b><br> Node ID: </b> j_91293 <br> <b>Value:</b> 0.01",
          "<b><br> Node ID: </b> j_91294 <br> <b>Value:</b> 0.00",
          "<b><br> Node ID: </b> j_90552 <br> <b>Value:</b> 0.01",
          "<b><br> Node ID: </b> j_90431 <br> <b>Value:</b> 0.00"
         ],
         "type": "scatter",
         "x": [
          138143.828125,
          137673.34375,
          137834.046875,
          137884.953125,
          137716.28125,
          137710.515625,
          137706.109375,
          137757.796875,
          137751.203125,
          137747.171875,
          137794.3125,
          137811.203125,
          137791.921875,
          137756.609375,
          137772.28125,
          137732.5625,
          137750.59375,
          137712.546875,
          137729.265625,
          137797.90625,
          137758.375,
          137770.53125,
          137815.9375,
          137826.5,
          137849.234375,
          137837.90625,
          137838.234375,
          137798.25,
          137850.40625,
          137808.78125,
          137831.03125,
          137810.515625,
          137837.59375,
          137849.578125,
          137867.34375,
          137908.09375,
          137918.515625,
          137949.34375,
          137870.515625,
          137899.671875,
          137890.265625,
          137907.796875,
          137888.171875,
          137922.375,
          137926.015625,
          137945.203125,
          137925.28125,
          137957.9375,
          137984.859375,
          137982.03125,
          137611.5625,
          137608.0625,
          137595.84375,
          137692.640625,
          137707.921875,
          137688.421875,
          137646.390625,
          137660.109375,
          137695.3125,
          137682.328125,
          137647.953125,
          137691.25,
          137712.453125,
          137738.28125,
          137764.484375,
          137754.265625,
          137758.34375,
          137717.96875,
          137729.328125,
          137775.265625,
          137773.34375,
          137783.640625,
          137796.40625,
          137806.671875,
          137870.453125,
          137851.171875,
          137831.828125,
          137811.03125,
          137790.578125,
          137808.15625,
          137809.75,
          137856.484375,
          137907.34375,
          137911.328125,
          137914.96875,
          137918.71875,
          137978.859375,
          137975.6875,
          137971.9375,
          137968.34375,
          137963.84375,
          137535.125,
          137598.703125,
          137628.6875,
          137540.765625,
          137571.828125,
          137601.53125,
          137575.484375,
          137579.328125,
          137585.1875,
          137608.421875,
          137655.171875,
          137702.875,
          137698.859375,
          137694.8125,
          137646.359375,
          137691.015625,
          137687.703125,
          137729.9375,
          137733.6875,
          137737.1875,
          137741.09375,
          137744.59375,
          137775.359375,
          137805.4375,
          137800.703125,
          137828.609375,
          137798.015625,
          137826.65625,
          137764.59375,
          137794.09375,
          137822.984375,
          137791.09375,
          137819.984375,
          137853.109375,
          137885,
          137887.375,
          137891.65625,
          137852.9375,
          137896.515625,
          137913.953125,
          137903.234375,
          137916.109375,
          137959.5625,
          137996.9375,
          138017.609375,
          138025.984375,
          138014.875,
          137928.015625,
          137968.15625,
          138005.921875,
          138003.84375,
          137540.5625,
          137542.859375,
          137545.40625,
          137545.609375,
          137572.515625,
          137600.515625,
          137547.828125,
          137575.90625,
          137580.984375,
          137532.5625,
          137531.875,
          137594.53125,
          137623.734375,
          137619.484375,
          137643.609375,
          137644.671875,
          137647.140625,
          137627.828125,
          137626.3125,
          137669.921875,
          137681.984375,
          137675.21875,
          137679.21875,
          137683.375,
          137726.25,
          137719.859375,
          137714.640625,
          137710.5625,
          137743.296875,
          137798.703125,
          137805.859375,
          137776.046875,
          137753.140625,
          137750.5,
          137781.484375,
          137749.765625,
          137785.796875,
          137811.484375,
          137814.203125,
          137816.4375,
          137787.78125,
          137881.3125,
          137877.453125,
          137843.296875,
          137875.84375,
          137844.140625,
          137874.296875,
          137846.578125,
          137869.3125,
          137846.453125,
          137869.65625,
          137902.125,
          137938.6875,
          137938.203125,
          137935.875,
          137935.203125,
          137968.796875,
          137965.953125,
          137961.265625,
          137984.5,
          137988.609375,
          137992.625,
          137995.171875,
          137999.984375,
          137522.75,
          137579.765625,
          137621.53125,
          137664.109375,
          137708.984375,
          137707.609375,
          137704.5,
          137700.515625,
          137697.40625,
          137779.671875,
          137734.125,
          137733.421875,
          137749.875,
          137784.703125,
          137814.046875,
          137830.625,
          137822.234375,
          137809.453125,
          137797.59375,
          137797.234375,
          137840.640625,
          137852.5625,
          137871.625,
          137891.03125,
          137860.390625,
          137858,
          137914.984375,
          137971.4375,
          137910.015625,
          137918.34375,
          137951.046875,
          137977.984375,
          137921.734375,
          137949.5625,
          137928.9375,
          137879.40625,
          137917.796875,
          137956.625,
          137981.171875,
          137945.125,
          137906.578125,
          137678.484375,
          137679.9375,
          137705.65625,
          137685.125,
          137524.78125,
          137923.5625,
          137714.90625,
          138080.140625,
          138115.203125,
          138150.984375,
          138022.625,
          138027.5625,
          137997.984375,
          138078.515625,
          138113.0625,
          138149.015625,
          138153.65625,
          138151.375,
          138075.265625,
          138071.71875,
          138097.734375,
          138070.765625,
          138066.09375,
          138097.984375,
          138105.40625,
          137614.3125,
          137638.8125,
          137651.09375,
          137673.640625,
          137691.40625,
          137706.515625,
          137681.734375,
          137653.484375,
          137670.265625,
          137660.265625,
          137650.203125,
          137633.171875,
          137641.1875,
          137633.953125,
          137626.34375,
          137629.828125,
          137578.171875,
          137635.875,
          137883.734375,
          137901.046875,
          137951.046875,
          137895.328125,
          137945.234375,
          138134.375,
          138139.4375,
          138134.78125,
          138122.171875,
          138084.203125,
          138029.3125,
          138080.0625,
          138019.734375,
          138021.453125,
          138077.90625,
          137741.0625,
          137693.515625,
          137729.375,
          137685.4375,
          137717.625,
          137677.125,
          137705.953125,
          137668.71875,
          137760.375,
          137729.3125,
          137709.78125,
          137490.375,
          137593.046875
         ],
         "y": [
          456930.0625,
          458090,
          458100.71875,
          458094.84375,
          458085.90625,
          458074.5,
          458062.375,
          458065.09375,
          458054.3125,
          458045.59375,
          458077.65625,
          458069,
          458033.96875,
          458005.375,
          457996.9375,
          457964.875,
          457955.65625,
          457924.5625,
          457915.71875,
          457896.3125,
          457918.28125,
          457939.03125,
          457917.65625,
          457912.1875,
          457955.21875,
          457961.6875,
          457971.40625,
          457992.84375,
          457992.09375,
          458013.625,
          458014.46875,
          458024.875,
          458027.75,
          458028.9375,
          458062.5625,
          458082.21875,
          458059.6875,
          458043.125,
          457995.09375,
          457982.25,
          457952.4375,
          457941.21875,
          457904.15625,
          457891.65625,
          457931.6875,
          457931.5,
          457972,
          457959.71875,
          457948.71875,
          457915.875,
          457711.59375,
          457745.71875,
          457788.3125,
          457884.5625,
          457876.25,
          457836.46875,
          457817.15625,
          457794.65625,
          457772.96875,
          457753,
          457749.59375,
          457754.28125,
          457701.75,
          457746.78125,
          457795.84375,
          457801.25,
          457822.96875,
          457844.25,
          457865.21875,
          457840.84375,
          457837,
          457831.75,
          457880.71875,
          457875,
          457871,
          457834.875,
          457798.46875,
          457759.46875,
          457720.625,
          457702.75,
          457712.53125,
          457694.96875,
          457725.09375,
          457768.65625,
          457809.375,
          457851.25,
          457880.625,
          457845.71875,
          457803.6875,
          457763.71875,
          457715.15625,
          457507.75,
          457515.59375,
          457513.03125,
          457550.40625,
          457549.96875,
          457547.1875,
          457591.5625,
          457633.34375,
          457672.71875,
          457672.96875,
          457668.90625,
          457664.75,
          457622.875,
          457579.875,
          457543.28125,
          457539.1875,
          457496.96875,
          457493.28125,
          457535.0625,
          457577.5625,
          457619.4375,
          457661.0625,
          457658.25,
          457655.53125,
          457605.25,
          457598.375,
          457575.40625,
          457568.53125,
          457532.53125,
          457529.9375,
          457527.03125,
          457498.03125,
          457495.59375,
          457524.5625,
          457520.53125,
          457545.15625,
          457595.78125,
          457651.28125,
          457647.40625,
          457668.96875,
          457680.65625,
          457677.34375,
          457667.71875,
          457662.15625,
          457661.25,
          457660.78125,
          457631,
          457541.5625,
          457537.71875,
          457534.40625,
          457509.84375,
          457290.71875,
          457305.6875,
          457320.15625,
          457345.15625,
          457344.0625,
          457341.59375,
          457368.28125,
          457366.4375,
          457422.65625,
          457427.15625,
          457471.25,
          457470.875,
          457468.34375,
          457419.15625,
          457416.90625,
          457373.4375,
          457330.75,
          457305,
          457290.09375,
          457328.3125,
          457327.40625,
          457371.15625,
          457413.875,
          457456.0625,
          457450.5,
          457410.15625,
          457345.78125,
          457295.375,
          457292.15625,
          457287.25,
          457314.625,
          457317.125,
          457319.15625,
          457363.25,
          457359.75,
          457407.3125,
          457404.25,
          457401.875,
          457429.3125,
          457456.34375,
          457461.46875,
          457478.15625,
          457435.6875,
          457399.03125,
          457396,
          457358.65625,
          457357.40625,
          457318.15625,
          457318.6875,
          457309.71875,
          457307.5625,
          457310.15625,
          457300.03125,
          457320.3125,
          457357.5,
          457390.5,
          457387.59375,
          457354.46875,
          457320.78125,
          457295.625,
          457340.4375,
          457385.375,
          457413.09375,
          457465.59375,
          457277.6875,
          457283.21875,
          457275.65625,
          457270.0625,
          457280.25,
          457266,
          457228.1875,
          457183.125,
          457149.75,
          457141.71875,
          457163.125,
          457174.75,
          457221,
          457212.1875,
          457255.53125,
          457213.53125,
          457200.5,
          457173,
          457147.6875,
          457133.125,
          457106.6875,
          457113.6875,
          457154.9375,
          457196.71875,
          457206.28125,
          457282.03125,
          457277.0625,
          457271.84375,
          457247.34375,
          457204.25,
          457194.375,
          457192.40625,
          457187.25,
          457176.125,
          457126.71875,
          457079.34375,
          457054.625,
          457030.96875,
          457044.0625,
          457053.6875,
          457078.0625,
          457723.59375,
          457702.15625,
          457699.4375,
          457765.5625,
          457427.375,
          457193.4375,
          457265.21875,
          457103.0625,
          457102.875,
          457099.6875,
          456993.25,
          457001.6875,
          457034.5,
          457085.25,
          457082,
          457079.03125,
          457061.65625,
          457032.8125,
          457048.40625,
          457008.34375,
          457006.09375,
          456975.40625,
          456966.625,
          456946.84375,
          456953.90625,
          457818.53125,
          457830.21875,
          457836.6875,
          457860.75,
          457893.3125,
          457922.21875,
          457933.65625,
          457944.09375,
          457912.25,
          457893.65625,
          457875.71875,
          457858.40625,
          457922.71875,
          457903.03125,
          457884.25,
          457545.09375,
          457616.09375,
          457610.75,
          457504.1875,
          457502.53125,
          457498.125,
          457441.0625,
          457435.6875,
          457101.15625,
          457159.9375,
          457171.125,
          457180.4375,
          457184.09375,
          457189,
          457137.15625,
          457143.0625,
          457160.125,
          457112.125,
          458047.96875,
          458064.84375,
          458025.84375,
          458041.59375,
          458004,
          458018.59375,
          457982.03125,
          457995.5,
          458025.28125,
          457966.375,
          457930.21875,
          457337,
          457787.78125
         ]
        }
       ],
       "layout": {
        "font": {
         "color": "Black",
         "family": "Times new Roman",
         "size": 18
        },
        "height": 800,
        "legend": {
         "title": {
          "text": "Legend"
         }
        },
        "sliders": [
         {
          "active": 0,
          "currentvalue": {
           "font": {
            "size": 20
           },
           "prefix": "Time step (5 min): ",
           "visible": true,
           "xanchor": "right"
          },
          "len": 0.9,
          "pad": {
           "b": 10,
           "t": 50
          },
          "transition": {
           "duration": 300,
           "easing": "cubic-in-out"
          },
          "x": 0.1,
          "xanchor": "left",
          "y": 0,
          "yanchor": "top"
         }
        ],
        "template": {
         "data": {
          "bar": [
           {
            "error_x": {
             "color": "#2a3f5f"
            },
            "error_y": {
             "color": "#2a3f5f"
            },
            "marker": {
             "line": {
              "color": "#E5ECF6",
              "width": 0.5
             },
             "pattern": {
              "fillmode": "overlay",
              "size": 10,
              "solidity": 0.2
             }
            },
            "type": "bar"
           }
          ],
          "barpolar": [
           {
            "marker": {
             "line": {
              "color": "#E5ECF6",
              "width": 0.5
             },
             "pattern": {
              "fillmode": "overlay",
              "size": 10,
              "solidity": 0.2
             }
            },
            "type": "barpolar"
           }
          ],
          "carpet": [
           {
            "aaxis": {
             "endlinecolor": "#2a3f5f",
             "gridcolor": "white",
             "linecolor": "white",
             "minorgridcolor": "white",
             "startlinecolor": "#2a3f5f"
            },
            "baxis": {
             "endlinecolor": "#2a3f5f",
             "gridcolor": "white",
             "linecolor": "white",
             "minorgridcolor": "white",
             "startlinecolor": "#2a3f5f"
            },
            "type": "carpet"
           }
          ],
          "choropleth": [
           {
            "colorbar": {
             "outlinewidth": 0,
             "ticks": ""
            },
            "type": "choropleth"
           }
          ],
          "contour": [
           {
            "colorbar": {
             "outlinewidth": 0,
             "ticks": ""
            },
            "colorscale": [
             [
              0,
              "#0d0887"
             ],
             [
              0.1111111111111111,
              "#46039f"
             ],
             [
              0.2222222222222222,
              "#7201a8"
             ],
             [
              0.3333333333333333,
              "#9c179e"
             ],
             [
              0.4444444444444444,
              "#bd3786"
             ],
             [
              0.5555555555555556,
              "#d8576b"
             ],
             [
              0.6666666666666666,
              "#ed7953"
             ],
             [
              0.7777777777777778,
              "#fb9f3a"
             ],
             [
              0.8888888888888888,
              "#fdca26"
             ],
             [
              1,
              "#f0f921"
             ]
            ],
            "type": "contour"
           }
          ],
          "contourcarpet": [
           {
            "colorbar": {
             "outlinewidth": 0,
             "ticks": ""
            },
            "type": "contourcarpet"
           }
          ],
          "heatmap": [
           {
            "colorbar": {
             "outlinewidth": 0,
             "ticks": ""
            },
            "colorscale": [
             [
              0,
              "#0d0887"
             ],
             [
              0.1111111111111111,
              "#46039f"
             ],
             [
              0.2222222222222222,
              "#7201a8"
             ],
             [
              0.3333333333333333,
              "#9c179e"
             ],
             [
              0.4444444444444444,
              "#bd3786"
             ],
             [
              0.5555555555555556,
              "#d8576b"
             ],
             [
              0.6666666666666666,
              "#ed7953"
             ],
             [
              0.7777777777777778,
              "#fb9f3a"
             ],
             [
              0.8888888888888888,
              "#fdca26"
             ],
             [
              1,
              "#f0f921"
             ]
            ],
            "type": "heatmap"
           }
          ],
          "heatmapgl": [
           {
            "colorbar": {
             "outlinewidth": 0,
             "ticks": ""
            },
            "colorscale": [
             [
              0,
              "#0d0887"
             ],
             [
              0.1111111111111111,
              "#46039f"
             ],
             [
              0.2222222222222222,
              "#7201a8"
             ],
             [
              0.3333333333333333,
              "#9c179e"
             ],
             [
              0.4444444444444444,
              "#bd3786"
             ],
             [
              0.5555555555555556,
              "#d8576b"
             ],
             [
              0.6666666666666666,
              "#ed7953"
             ],
             [
              0.7777777777777778,
              "#fb9f3a"
             ],
             [
              0.8888888888888888,
              "#fdca26"
             ],
             [
              1,
              "#f0f921"
             ]
            ],
            "type": "heatmapgl"
           }
          ],
          "histogram": [
           {
            "marker": {
             "pattern": {
              "fillmode": "overlay",
              "size": 10,
              "solidity": 0.2
             }
            },
            "type": "histogram"
           }
          ],
          "histogram2d": [
           {
            "colorbar": {
             "outlinewidth": 0,
             "ticks": ""
            },
            "colorscale": [
             [
              0,
              "#0d0887"
             ],
             [
              0.1111111111111111,
              "#46039f"
             ],
             [
              0.2222222222222222,
              "#7201a8"
             ],
             [
              0.3333333333333333,
              "#9c179e"
             ],
             [
              0.4444444444444444,
              "#bd3786"
             ],
             [
              0.5555555555555556,
              "#d8576b"
             ],
             [
              0.6666666666666666,
              "#ed7953"
             ],
             [
              0.7777777777777778,
              "#fb9f3a"
             ],
             [
              0.8888888888888888,
              "#fdca26"
             ],
             [
              1,
              "#f0f921"
             ]
            ],
            "type": "histogram2d"
           }
          ],
          "histogram2dcontour": [
           {
            "colorbar": {
             "outlinewidth": 0,
             "ticks": ""
            },
            "colorscale": [
             [
              0,
              "#0d0887"
             ],
             [
              0.1111111111111111,
              "#46039f"
             ],
             [
              0.2222222222222222,
              "#7201a8"
             ],
             [
              0.3333333333333333,
              "#9c179e"
             ],
             [
              0.4444444444444444,
              "#bd3786"
             ],
             [
              0.5555555555555556,
              "#d8576b"
             ],
             [
              0.6666666666666666,
              "#ed7953"
             ],
             [
              0.7777777777777778,
              "#fb9f3a"
             ],
             [
              0.8888888888888888,
              "#fdca26"
             ],
             [
              1,
              "#f0f921"
             ]
            ],
            "type": "histogram2dcontour"
           }
          ],
          "mesh3d": [
           {
            "colorbar": {
             "outlinewidth": 0,
             "ticks": ""
            },
            "type": "mesh3d"
           }
          ],
          "parcoords": [
           {
            "line": {
             "colorbar": {
              "outlinewidth": 0,
              "ticks": ""
             }
            },
            "type": "parcoords"
           }
          ],
          "pie": [
           {
            "automargin": true,
            "type": "pie"
           }
          ],
          "scatter": [
           {
            "fillpattern": {
             "fillmode": "overlay",
             "size": 10,
             "solidity": 0.2
            },
            "type": "scatter"
           }
          ],
          "scatter3d": [
           {
            "line": {
             "colorbar": {
              "outlinewidth": 0,
              "ticks": ""
             }
            },
            "marker": {
             "colorbar": {
              "outlinewidth": 0,
              "ticks": ""
             }
            },
            "type": "scatter3d"
           }
          ],
          "scattercarpet": [
           {
            "marker": {
             "colorbar": {
              "outlinewidth": 0,
              "ticks": ""
             }
            },
            "type": "scattercarpet"
           }
          ],
          "scattergeo": [
           {
            "marker": {
             "colorbar": {
              "outlinewidth": 0,
              "ticks": ""
             }
            },
            "type": "scattergeo"
           }
          ],
          "scattergl": [
           {
            "marker": {
             "colorbar": {
              "outlinewidth": 0,
              "ticks": ""
             }
            },
            "type": "scattergl"
           }
          ],
          "scattermapbox": [
           {
            "marker": {
             "colorbar": {
              "outlinewidth": 0,
              "ticks": ""
             }
            },
            "type": "scattermapbox"
           }
          ],
          "scatterpolar": [
           {
            "marker": {
             "colorbar": {
              "outlinewidth": 0,
              "ticks": ""
             }
            },
            "type": "scatterpolar"
           }
          ],
          "scatterpolargl": [
           {
            "marker": {
             "colorbar": {
              "outlinewidth": 0,
              "ticks": ""
             }
            },
            "type": "scatterpolargl"
           }
          ],
          "scatterternary": [
           {
            "marker": {
             "colorbar": {
              "outlinewidth": 0,
              "ticks": ""
             }
            },
            "type": "scatterternary"
           }
          ],
          "surface": [
           {
            "colorbar": {
             "outlinewidth": 0,
             "ticks": ""
            },
            "colorscale": [
             [
              0,
              "#0d0887"
             ],
             [
              0.1111111111111111,
              "#46039f"
             ],
             [
              0.2222222222222222,
              "#7201a8"
             ],
             [
              0.3333333333333333,
              "#9c179e"
             ],
             [
              0.4444444444444444,
              "#bd3786"
             ],
             [
              0.5555555555555556,
              "#d8576b"
             ],
             [
              0.6666666666666666,
              "#ed7953"
             ],
             [
              0.7777777777777778,
              "#fb9f3a"
             ],
             [
              0.8888888888888888,
              "#fdca26"
             ],
             [
              1,
              "#f0f921"
             ]
            ],
            "type": "surface"
           }
          ],
          "table": [
           {
            "cells": {
             "fill": {
              "color": "#EBF0F8"
             },
             "line": {
              "color": "white"
             }
            },
            "header": {
             "fill": {
              "color": "#C8D4E3"
             },
             "line": {
              "color": "white"
             }
            },
            "type": "table"
           }
          ]
         },
         "layout": {
          "annotationdefaults": {
           "arrowcolor": "#2a3f5f",
           "arrowhead": 0,
           "arrowwidth": 1
          },
          "autotypenumbers": "strict",
          "coloraxis": {
           "colorbar": {
            "outlinewidth": 0,
            "ticks": ""
           }
          },
          "colorscale": {
           "diverging": [
            [
             0,
             "#8e0152"
            ],
            [
             0.1,
             "#c51b7d"
            ],
            [
             0.2,
             "#de77ae"
            ],
            [
             0.3,
             "#f1b6da"
            ],
            [
             0.4,
             "#fde0ef"
            ],
            [
             0.5,
             "#f7f7f7"
            ],
            [
             0.6,
             "#e6f5d0"
            ],
            [
             0.7,
             "#b8e186"
            ],
            [
             0.8,
             "#7fbc41"
            ],
            [
             0.9,
             "#4d9221"
            ],
            [
             1,
             "#276419"
            ]
           ],
           "sequential": [
            [
             0,
             "#0d0887"
            ],
            [
             0.1111111111111111,
             "#46039f"
            ],
            [
             0.2222222222222222,
             "#7201a8"
            ],
            [
             0.3333333333333333,
             "#9c179e"
            ],
            [
             0.4444444444444444,
             "#bd3786"
            ],
            [
             0.5555555555555556,
             "#d8576b"
            ],
            [
             0.6666666666666666,
             "#ed7953"
            ],
            [
             0.7777777777777778,
             "#fb9f3a"
            ],
            [
             0.8888888888888888,
             "#fdca26"
            ],
            [
             1,
             "#f0f921"
            ]
           ],
           "sequentialminus": [
            [
             0,
             "#0d0887"
            ],
            [
             0.1111111111111111,
             "#46039f"
            ],
            [
             0.2222222222222222,
             "#7201a8"
            ],
            [
             0.3333333333333333,
             "#9c179e"
            ],
            [
             0.4444444444444444,
             "#bd3786"
            ],
            [
             0.5555555555555556,
             "#d8576b"
            ],
            [
             0.6666666666666666,
             "#ed7953"
            ],
            [
             0.7777777777777778,
             "#fb9f3a"
            ],
            [
             0.8888888888888888,
             "#fdca26"
            ],
            [
             1,
             "#f0f921"
            ]
           ]
          },
          "colorway": [
           "#636efa",
           "#EF553B",
           "#00cc96",
           "#ab63fa",
           "#FFA15A",
           "#19d3f3",
           "#FF6692",
           "#B6E880",
           "#FF97FF",
           "#FECB52"
          ],
          "font": {
           "color": "#2a3f5f"
          },
          "geo": {
           "bgcolor": "white",
           "lakecolor": "white",
           "landcolor": "#E5ECF6",
           "showlakes": true,
           "showland": true,
           "subunitcolor": "white"
          },
          "hoverlabel": {
           "align": "left"
          },
          "hovermode": "closest",
          "mapbox": {
           "style": "light"
          },
          "paper_bgcolor": "white",
          "plot_bgcolor": "#E5ECF6",
          "polar": {
           "angularaxis": {
            "gridcolor": "white",
            "linecolor": "white",
            "ticks": ""
           },
           "bgcolor": "#E5ECF6",
           "radialaxis": {
            "gridcolor": "white",
            "linecolor": "white",
            "ticks": ""
           }
          },
          "scene": {
           "xaxis": {
            "backgroundcolor": "#E5ECF6",
            "gridcolor": "white",
            "gridwidth": 2,
            "linecolor": "white",
            "showbackground": true,
            "ticks": "",
            "zerolinecolor": "white"
           },
           "yaxis": {
            "backgroundcolor": "#E5ECF6",
            "gridcolor": "white",
            "gridwidth": 2,
            "linecolor": "white",
            "showbackground": true,
            "ticks": "",
            "zerolinecolor": "white"
           },
           "zaxis": {
            "backgroundcolor": "#E5ECF6",
            "gridcolor": "white",
            "gridwidth": 2,
            "linecolor": "white",
            "showbackground": true,
            "ticks": "",
            "zerolinecolor": "white"
           }
          },
          "shapedefaults": {
           "line": {
            "color": "#2a3f5f"
           }
          },
          "ternary": {
           "aaxis": {
            "gridcolor": "white",
            "linecolor": "white",
            "ticks": ""
           },
           "baxis": {
            "gridcolor": "white",
            "linecolor": "white",
            "ticks": ""
           },
           "bgcolor": "#E5ECF6",
           "caxis": {
            "gridcolor": "white",
            "linecolor": "white",
            "ticks": ""
           }
          },
          "title": {
           "x": 0.05
          },
          "xaxis": {
           "automargin": true,
           "gridcolor": "white",
           "linecolor": "white",
           "ticks": "",
           "title": {
            "standoff": 15
           },
           "zerolinecolor": "white",
           "zerolinewidth": 2
          },
          "yaxis": {
           "automargin": true,
           "gridcolor": "white",
           "linecolor": "white",
           "ticks": "",
           "title": {
            "standoff": 15
           },
           "zerolinecolor": "white",
           "zerolinewidth": 2
          }
         }
        },
        "title": {
         "text": "Spatial distribution of error in head at time: "
        },
        "updatemenus": [
         {
          "buttons": [
           {
            "args": [
             null,
             {
              "frame": {
               "duration": 500,
               "redraw": false
              },
              "fromcurrent": true,
              "transition": {
               "duration": 300,
               "easing": "quadratic-in-out"
              }
             }
            ],
            "label": "Play",
            "method": "animate"
           },
           {
            "args": [
             [
              null
             ],
             {
              "frame": {
               "duration": 0,
               "redraw": false
              },
              "mode": "immediate",
              "transition": {
               "duration": 0
              }
             }
            ],
            "label": "Pause",
            "method": "animate"
           }
          ],
          "direction": "left",
          "pad": {
           "r": 10,
           "t": 87
          },
          "showactive": false,
          "type": "buttons",
          "x": 0.1,
          "xanchor": "right",
          "y": 0,
          "yanchor": "top"
         }
        ],
        "width": 500,
        "xaxis": {
         "visible": false
        },
        "yaxis": {
         "visible": false
        }
       }
      }
     },
     "metadata": {},
     "output_type": "display_data"
    }
   ],
   "source": [
    "error = torch.abs(target - predicted)\n",
    "fig = vis.plot_nodal_variable(error, norm_sim_in_window, 'error in head at time: ', colorscale = 'OrRd')"
   ]
  },
  {
   "cell_type": "code",
   "execution_count": null,
   "metadata": {},
   "outputs": [],
   "source": [
    "norm_sim_in_window.name_nodes[0]"
   ]
  },
  {
   "cell_type": "code",
   "execution_count": null,
   "metadata": {},
   "outputs": [],
   "source": [
    "# fig.write_html('error.html')"
   ]
  },
  {
   "cell_type": "code",
   "execution_count": null,
   "metadata": {},
   "outputs": [],
   "source": [
    "fig = vis.plot_nodal_variable(target, norm_sim_in_window, 'Target Head ', colorscale = 'PuBu', ref_marker_size = 2.5)"
   ]
  },
  {
   "cell_type": "markdown",
   "metadata": {},
   "source": [
    "# Scratchpad"
   ]
  },
  {
   "cell_type": "code",
   "execution_count": null,
   "metadata": {},
   "outputs": [],
   "source": [
    "zero_cases_simulations_path = yaml_data['zero_cases_simulations_path']\n",
    "list_of_zero_cases_simulations  = os.listdir(zero_cases_simulations_path)\n",
    "\n",
    "zero_cases_simulations = utils.extract_simulations_from_folders(zero_cases_simulations_path, inp_path, max_events = 2)\n"
   ]
  },
  {
   "cell_type": "code",
   "execution_count": null,
   "metadata": {},
   "outputs": [],
   "source": [
    "gnn_model = GNNModel()"
   ]
  },
  {
   "cell_type": "code",
   "execution_count": null,
   "metadata": {},
   "outputs": [],
   "source": [
    "sim_trial = zero_cases_simulations[0]\n",
    "\n",
    "length = sim_trial.simulation_length\n",
    "sim_in_window = sim_trial.get_all_windows(steps_ahead = length-2)[0]\n",
    "norm_sim_in_window = normalizer.normalize_window(sim_in_window)\n",
    "\n",
    "name_nodes = norm_sim_in_window.name_nodes\n",
    "\n",
    "swmm_heads_pd       = utils.tensor_heads_to_normalized_pd(sim_in_window['y'],             normalizer, name_nodes)\n",
    "predicted_heads_pd  = utils.tensor_heads_to_normalized_pd(gnn_model(norm_sim_in_window),  normalizer, name_nodes)"
   ]
  },
  {
   "cell_type": "code",
   "execution_count": null,
   "metadata": {},
   "outputs": [],
   "source": [
    "target      = normalizer.unnormalize_heads(norm_sim_in_window.y)\n",
    "predicted   = normalizer.unnormalize_heads(gnn_model(norm_sim_in_window).detach())"
   ]
  },
  {
   "cell_type": "code",
   "execution_count": null,
   "metadata": {},
   "outputs": [],
   "source": [
    "pd.DataFrame(target[20,:].numpy()).plot()\n",
    "pd.DataFrame(predicted[20,:].numpy()).plot()"
   ]
  },
  {
   "cell_type": "code",
   "execution_count": null,
   "metadata": {},
   "outputs": [],
   "source": [
    "error = torch.abs(target - predicted)\n",
    "fig = vis.plot_nodal_variable(error, norm_sim_in_window, 'error in head at time: ', colorscale = 'OrRd')"
   ]
  },
  {
   "cell_type": "code",
   "execution_count": null,
   "metadata": {},
   "outputs": [],
   "source": [
    "fig = vis.plot_nodal_variable(target, norm_sim_in_window, 'Target ', colorscale = 'PuBu', ref_marker_size = 3)"
   ]
  },
  {
   "cell_type": "code",
   "execution_count": null,
   "metadata": {},
   "outputs": [],
   "source": [
    "normalizer.min_h"
   ]
  },
  {
   "cell_type": "markdown",
   "metadata": {},
   "source": [
    "----------------------------------"
   ]
  },
  {
   "cell_type": "code",
   "execution_count": 20,
   "metadata": {},
   "outputs": [],
   "source": [
    "event_in_windows = val_event.get_all_windows(steps_ahead=1)"
   ]
  },
  {
   "cell_type": "code",
   "execution_count": 23,
   "metadata": {},
   "outputs": [],
   "source": [
    "norm_event_in_windows = [normalizer.normalize_window(window) for window in event_in_windows]"
   ]
  },
  {
   "cell_type": "code",
   "execution_count": 24,
   "metadata": {},
   "outputs": [],
   "source": [
    "results = []\n",
    "for i in norm_event_in_windows:\n",
    "    results.append(gnn_model(i))"
   ]
  },
  {
   "cell_type": "code",
   "execution_count": 33,
   "metadata": {},
   "outputs": [],
   "source": [
    "prediction = torch.cat(results, axis = 1)\n",
    "unnormalized_prediction = normalizer.unnormalize_heads(prediction)"
   ]
  },
  {
   "cell_type": "code",
   "execution_count": 38,
   "metadata": {},
   "outputs": [],
   "source": [
    "val_event =  validation_simulations[0]\n",
    "\n",
    "length = val_event.simulation_length\n",
    "sim_in_window = val_event.get_all_windows(steps_ahead = length-2)[0]\n",
    "norm_sim_in_window = normalizer.normalize_window(sim_in_window)\n",
    "\n",
    "name_nodes = norm_sim_in_window.name_nodes\n",
    "\n",
    "swmm_heads_pd       = utils.tensor_heads_to_normalized_pd(sim_in_window['y'],             normalizer, name_nodes)"
   ]
  },
  {
   "cell_type": "code",
   "execution_count": 99,
   "metadata": {},
   "outputs": [
    {
     "name": "stdout",
     "output_type": "stream",
     "text": [
      "Node:  73\n"
     ]
    },
    {
     "data": {
      "text/plain": [
       "<AxesSubplot:>"
      ]
     },
     "execution_count": 99,
     "metadata": {},
     "output_type": "execute_result"
    },
    {
     "data": {
      "image/png": "[encoded data removed]",
      "text/plain": [
       "<Figure size 432x288 with 1 Axes>"
      ]
     },
     "metadata": {
      "needs_background": "light"
     },
     "output_type": "display_data"
    }
   ],
   "source": [
    "node = np.random.randint(0, 300)\n",
    "print('Node: ', node)\n",
    "pd.DataFrame(unnormalized_prediction[node,:].detach().numpy()).plot()\n",
    "swmm_heads_pd.iloc[:,node].plot()"
   ]
  }
 ],
 "metadata": {
  "kernelspec": {
   "display_name": "Python 3.10.2 ('third_SWMM': venv)",
   "language": "python",
   "name": "python3"
  },
  "language_info": {
   "codemirror_mode": {
    "name": "ipython",
    "version": 3
   },
   "file_extension": ".py",
   "mimetype": "text/x-python",
   "name": "python",
   "nbconvert_exporter": "python",
   "pygments_lexer": "ipython3",
   "version": "3.10.2"
  },
  "orig_nbformat": 4,
  "vscode": {
   "interpreter": {
    "hash": "f88404f1e87403b1e488e351250feb539bee03edfc67c7328abb8c80a54639ed"
   }
  }
 },
 "nbformat": 4,
 "nbformat_minor": 2
}
