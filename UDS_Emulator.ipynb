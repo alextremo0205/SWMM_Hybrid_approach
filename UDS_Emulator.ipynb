{
 "cells": [
  {
   "cell_type": "markdown",
   "metadata": {},
   "source": [
    "# UDS emulator "
   ]
  },
  {
   "cell_type": "markdown",
   "metadata": {},
   "source": [
    "## Preliminaries"
   ]
  },
  {
   "cell_type": "code",
   "execution_count": 1,
   "metadata": {},
   "outputs": [
    {
     "name": "stdout",
     "output_type": "stream",
     "text": [
      "The current branch is: Badly_Implemented_Temporal_Bundling\n"
     ]
    }
   ],
   "source": [
    "from my_imports import *"
   ]
  },
  {
   "cell_type": "code",
   "execution_count": 2,
   "metadata": {},
   "outputs": [],
   "source": [
    "yaml_path = 'config_file.yaml'\n",
    "yaml_data = utils.load_yaml(yaml_path)\n",
    "\n",
    "training_simulations_path       = yaml_data['training_simulations_path']\n",
    "validation_simulations_path     = yaml_data['validation_simulations_path']\n",
    "\n",
    "inp_path                        = yaml_data['inp_path']\n",
    "\n",
    "training_windows_path           = yaml_data['training_windows_path']\n",
    "use_saved_training_windows      = yaml_data['use_saved_training_windows']\n",
    "\n",
    "validation_windows_path         = yaml_data['validation_windows_path']\n",
    "use_saved_validation_windows    = yaml_data['use_saved_validation_windows']\n",
    "\n",
    "num_events_training             = yaml_data['num_events_training']\n",
    "num_events_validation           = yaml_data['num_events_validation']\n",
    "\n",
    "steps_behind                    = yaml_data['steps_behind']\n",
    "steps_ahead                     = yaml_data['steps_ahead']\n",
    "epochs                          = yaml_data['epochs']\n",
    "\n"
   ]
  },
  {
   "cell_type": "markdown",
   "metadata": {},
   "source": [
    "## Create simulation objects from data"
   ]
  },
  {
   "cell_type": "code",
   "execution_count": 3,
   "metadata": {},
   "outputs": [
    {
     "name": "stdout",
     "output_type": "stream",
     "text": [
      "Number of training simulations:  161\n",
      "Number of validation simulations:  29\n"
     ]
    }
   ],
   "source": [
    "list_of_training_simulations    = os.listdir(training_simulations_path)\n",
    "list_of_validation_simulations  = os.listdir(validation_simulations_path)\n",
    "\n",
    "random.shuffle(list_of_training_simulations)\n",
    "\n",
    "print('Number of training simulations: ', len(list_of_training_simulations))\n",
    "print('Number of validation simulations: ', len(list_of_validation_simulations))"
   ]
  },
  {
   "cell_type": "code",
   "execution_count": 4,
   "metadata": {},
   "outputs": [
    {
     "name": "stdout",
     "output_type": "stream",
     "text": [
      "The file does not have [STORAGE]\n",
      "\n",
      "The file does not have '[PUMPS]\\n'\n",
      "The file does not have '[ORIFICES]\\n'\n",
      "The file does not have '[WEIRS]\\n'\n"
     ]
    }
   ],
   "source": [
    "training_simulations = utils.extract_simulations_from_folders(training_simulations_path, inp_path, num_events_training)"
   ]
  },
  {
   "cell_type": "code",
   "execution_count": 5,
   "metadata": {},
   "outputs": [],
   "source": [
    "if use_saved_training_windows:\n",
    "    training_windows = utils.load_windows(training_windows_path)\n",
    "else:\n",
    "    training_windows = utils.get_all_windows_from_list_simulations(training_simulations, steps_ahead, steps_behind)"
   ]
  },
  {
   "cell_type": "code",
   "execution_count": 6,
   "metadata": {},
   "outputs": [],
   "source": [
    "# utils.save_pickle(training_windows, 'saved_objects/training_windows_debugging.pk')"
   ]
  },
  {
   "cell_type": "code",
   "execution_count": 7,
   "metadata": {},
   "outputs": [
    {
     "name": "stdout",
     "output_type": "stream",
     "text": [
      "The file does not have [STORAGE]\n",
      "\n",
      "The file does not have '[PUMPS]\\n'\n",
      "The file does not have '[ORIFICES]\\n'\n",
      "The file does not have '[WEIRS]\\n'\n"
     ]
    }
   ],
   "source": [
    "validation_simulations = utils.extract_simulations_from_folders(validation_simulations_path, inp_path, num_events_validation)"
   ]
  },
  {
   "cell_type": "code",
   "execution_count": 8,
   "metadata": {},
   "outputs": [],
   "source": [
    "if use_saved_validation_windows:\n",
    "    validation_windows = utils.load_windows(validation_windows_path)\n",
    "else:\n",
    "    validation_windows = utils.get_all_windows_from_list_simulations(validation_simulations, steps_ahead = 60, steps_behind = steps_behind)"
   ]
  },
  {
   "cell_type": "code",
   "execution_count": 9,
   "metadata": {},
   "outputs": [
    {
     "name": "stdout",
     "output_type": "stream",
     "text": [
      "Number of training windows:  1676\n",
      "Number of validation windows:  37\n"
     ]
    }
   ],
   "source": [
    "print('Number of training windows: ',   len(training_windows))\n",
    "print('Number of validation windows: ', len(validation_windows))"
   ]
  },
  {
   "cell_type": "markdown",
   "metadata": {},
   "source": [
    "## Normalizer"
   ]
  },
  {
   "cell_type": "code",
   "execution_count": 10,
   "metadata": {},
   "outputs": [],
   "source": [
    "normalizer = Normalizer(training_windows)"
   ]
  },
  {
   "cell_type": "code",
   "execution_count": 11,
   "metadata": {},
   "outputs": [],
   "source": [
    "normalized_training_windows = normalizer.get_list_normalized_training_windows()\n",
    "training_loader = DataLoader(normalized_training_windows, batch_size=32, shuffle = True)"
   ]
  },
  {
   "cell_type": "code",
   "execution_count": 12,
   "metadata": {},
   "outputs": [],
   "source": [
    "normalized_validation_windows = [normalizer.normalize_window(val_win) for val_win in validation_windows]\n",
    "validation_loader = DataLoader(normalized_validation_windows, batch_size=32)"
   ]
  },
  {
   "cell_type": "markdown",
   "metadata": {},
   "source": [
    "## Training GNN"
   ]
  },
  {
   "cell_type": "code",
   "execution_count": 15,
   "metadata": {},
   "outputs": [],
   "source": [
    "gnn_model = GNNModel(steps_ahead=1, steps_behind=6)\n",
    "# gnn_model.load_state_dict(torch.load('saved_objects/model_trained_4steps.pt'))\n",
    "\n",
    "optimizer = optim.Adam(gnn_model.parameters(), lr = 0.01)\n",
    "scheduler = optim.lr_scheduler.ExponentialLR(optimizer, gamma=0.9)\n",
    "loss_fn   = nn.MSELoss()"
   ]
  },
  {
   "cell_type": "code",
   "execution_count": 16,
   "metadata": {},
   "outputs": [
    {
     "name": "stdout",
     "output_type": "stream",
     "text": [
      "train() called:model=GNNModel, opt=Adam(lr=0.010000), epochs=20,device=cpu\n",
      "\n",
      "Best model so far at epoch:  1\n",
      "Epoch   1/ 20, train loss:  4.42, val loss:  2.09\n",
      "Epoch   2/ 20, train loss:  0.46, val loss:  2.30\n",
      "Best model so far at epoch:  3\n",
      "Epoch   4/ 20, train loss:  0.29, val loss:  1.64\n",
      "Epoch   6/ 20, train loss:  0.19, val loss:  1.58\n",
      "Epoch   8/ 20, train loss:  0.18, val loss:  1.00\n",
      "Epoch  10/ 20, train loss:  0.17, val loss:  1.02\n",
      "Best model so far at epoch:  11\n",
      "Epoch  12/ 20, train loss:  0.15, val loss:  1.18\n",
      "Epoch  14/ 20, train loss:  0.14, val loss:  3.26\n",
      "Epoch  16/ 20, train loss:  0.14, val loss:  1.64\n",
      "Epoch  18/ 20, train loss:  0.13, val loss:  0.87\n",
      "Best model so far at epoch:  20\n",
      "Epoch  20/ 20, train loss:  0.13, val loss:  0.60\n",
      "Best model found at epoch:  20\n",
      "This best model has this validation loss:  0.5976412695285084\n",
      "\n",
      "Time total:     647.73 sec\n",
      "Time per epoch: 32.39 sec\n"
     ]
    }
   ],
   "source": [
    "history = train(\n",
    "    model       = gnn_model,\n",
    "    optimizer   = optimizer,\n",
    "    scheduler   = scheduler,\n",
    "    loss_fn     = loss_fn,\n",
    "    train_dl    = training_loader,\n",
    "    val_dl      = validation_loader,\n",
    "    epochs      = epochs,\n",
    "    device      = 'cpu',\n",
    "    report_freq = 2\n",
    "    )"
   ]
  },
  {
   "cell_type": "code",
   "execution_count": null,
   "metadata": {},
   "outputs": [],
   "source": [
    "# torch.save(gnn_model.state_dict(), 'saved_objects/trained_model_{}_epochs_{}_steps.pt'.format(epochs, steps_ahead))"
   ]
  },
  {
   "cell_type": "code",
   "execution_count": 17,
   "metadata": {},
   "outputs": [
    {
     "data": {
      "application/vnd.plotly.v1+json": {
       "config": {
        "plotlyServerURL": "https://plot.ly"
       },
       "data": [
        {
         "line": {
          "width": 3
         },
         "marker": {
          "size": 8
         },
         "mode": "lines+markers",
         "name": "Training loss",
         "type": "scatter",
         "x": [
          0,
          1,
          2,
          3,
          4,
          5,
          6,
          7,
          8,
          9,
          10,
          11,
          12,
          13,
          14,
          15,
          16,
          17,
          18,
          19
         ],
         "y": [
          4.42,
          0.46,
          0.35,
          0.29,
          0.22,
          0.19,
          0.18,
          0.18,
          0.17,
          0.17,
          0.15,
          0.15,
          0.15,
          0.14,
          0.14,
          0.14,
          0.13,
          0.13,
          0.13,
          0.13
         ]
        },
        {
         "line": {
          "width": 3
         },
         "marker": {
          "size": 8
         },
         "mode": "lines+markers",
         "name": "Validation loss",
         "type": "scatter",
         "x": [
          0,
          1,
          2,
          3,
          4,
          5,
          6,
          7,
          8,
          9,
          10,
          11,
          12,
          13,
          14,
          15,
          16,
          17,
          18,
          19
         ],
         "y": [
          2.09,
          2.3,
          0.97,
          1.64,
          1.41,
          1.58,
          4.11,
          1,
          1.93,
          1.02,
          0.67,
          1.18,
          0.76,
          3.26,
          2.32,
          1.64,
          0.89,
          0.87,
          1.01,
          0.6
         ]
        }
       ],
       "layout": {
        "height": 600,
        "legend": {
         "title": {
          "text": "Legend"
         }
        },
        "margin": {
         "b": 80,
         "l": 80,
         "r": 80,
         "t": 80
        },
        "template": {
         "data": {
          "bar": [
           {
            "error_x": {
             "color": "#2a3f5f"
            },
            "error_y": {
             "color": "#2a3f5f"
            },
            "marker": {
             "line": {
              "color": "#E5ECF6",
              "width": 0.5
             },
             "pattern": {
              "fillmode": "overlay",
              "size": 10,
              "solidity": 0.2
             }
            },
            "type": "bar"
           }
          ],
          "barpolar": [
           {
            "marker": {
             "line": {
              "color": "#E5ECF6",
              "width": 0.5
             },
             "pattern": {
              "fillmode": "overlay",
              "size": 10,
              "solidity": 0.2
             }
            },
            "type": "barpolar"
           }
          ],
          "carpet": [
           {
            "aaxis": {
             "endlinecolor": "#2a3f5f",
             "gridcolor": "white",
             "linecolor": "white",
             "minorgridcolor": "white",
             "startlinecolor": "#2a3f5f"
            },
            "baxis": {
             "endlinecolor": "#2a3f5f",
             "gridcolor": "white",
             "linecolor": "white",
             "minorgridcolor": "white",
             "startlinecolor": "#2a3f5f"
            },
            "type": "carpet"
           }
          ],
          "choropleth": [
           {
            "colorbar": {
             "outlinewidth": 0,
             "ticks": ""
            },
            "type": "choropleth"
           }
          ],
          "contour": [
           {
            "colorbar": {
             "outlinewidth": 0,
             "ticks": ""
            },
            "colorscale": [
             [
              0,
              "#0d0887"
             ],
             [
              0.1111111111111111,
              "#46039f"
             ],
             [
              0.2222222222222222,
              "#7201a8"
             ],
             [
              0.3333333333333333,
              "#9c179e"
             ],
             [
              0.4444444444444444,
              "#bd3786"
             ],
             [
              0.5555555555555556,
              "#d8576b"
             ],
             [
              0.6666666666666666,
              "#ed7953"
             ],
             [
              0.7777777777777778,
              "#fb9f3a"
             ],
             [
              0.8888888888888888,
              "#fdca26"
             ],
             [
              1,
              "#f0f921"
             ]
            ],
            "type": "contour"
           }
          ],
          "contourcarpet": [
           {
            "colorbar": {
             "outlinewidth": 0,
             "ticks": ""
            },
            "type": "contourcarpet"
           }
          ],
          "heatmap": [
           {
            "colorbar": {
             "outlinewidth": 0,
             "ticks": ""
            },
            "colorscale": [
             [
              0,
              "#0d0887"
             ],
             [
              0.1111111111111111,
              "#46039f"
             ],
             [
              0.2222222222222222,
              "#7201a8"
             ],
             [
              0.3333333333333333,
              "#9c179e"
             ],
             [
              0.4444444444444444,
              "#bd3786"
             ],
             [
              0.5555555555555556,
              "#d8576b"
             ],
             [
              0.6666666666666666,
              "#ed7953"
             ],
             [
              0.7777777777777778,
              "#fb9f3a"
             ],
             [
              0.8888888888888888,
              "#fdca26"
             ],
             [
              1,
              "#f0f921"
             ]
            ],
            "type": "heatmap"
           }
          ],
          "heatmapgl": [
           {
            "colorbar": {
             "outlinewidth": 0,
             "ticks": ""
            },
            "colorscale": [
             [
              0,
              "#0d0887"
             ],
             [
              0.1111111111111111,
              "#46039f"
             ],
             [
              0.2222222222222222,
              "#7201a8"
             ],
             [
              0.3333333333333333,
              "#9c179e"
             ],
             [
              0.4444444444444444,
              "#bd3786"
             ],
             [
              0.5555555555555556,
              "#d8576b"
             ],
             [
              0.6666666666666666,
              "#ed7953"
             ],
             [
              0.7777777777777778,
              "#fb9f3a"
             ],
             [
              0.8888888888888888,
              "#fdca26"
             ],
             [
              1,
              "#f0f921"
             ]
            ],
            "type": "heatmapgl"
           }
          ],
          "histogram": [
           {
            "marker": {
             "pattern": {
              "fillmode": "overlay",
              "size": 10,
              "solidity": 0.2
             }
            },
            "type": "histogram"
           }
          ],
          "histogram2d": [
           {
            "colorbar": {
             "outlinewidth": 0,
             "ticks": ""
            },
            "colorscale": [
             [
              0,
              "#0d0887"
             ],
             [
              0.1111111111111111,
              "#46039f"
             ],
             [
              0.2222222222222222,
              "#7201a8"
             ],
             [
              0.3333333333333333,
              "#9c179e"
             ],
             [
              0.4444444444444444,
              "#bd3786"
             ],
             [
              0.5555555555555556,
              "#d8576b"
             ],
             [
              0.6666666666666666,
              "#ed7953"
             ],
             [
              0.7777777777777778,
              "#fb9f3a"
             ],
             [
              0.8888888888888888,
              "#fdca26"
             ],
             [
              1,
              "#f0f921"
             ]
            ],
            "type": "histogram2d"
           }
          ],
          "histogram2dcontour": [
           {
            "colorbar": {
             "outlinewidth": 0,
             "ticks": ""
            },
            "colorscale": [
             [
              0,
              "#0d0887"
             ],
             [
              0.1111111111111111,
              "#46039f"
             ],
             [
              0.2222222222222222,
              "#7201a8"
             ],
             [
              0.3333333333333333,
              "#9c179e"
             ],
             [
              0.4444444444444444,
              "#bd3786"
             ],
             [
              0.5555555555555556,
              "#d8576b"
             ],
             [
              0.6666666666666666,
              "#ed7953"
             ],
             [
              0.7777777777777778,
              "#fb9f3a"
             ],
             [
              0.8888888888888888,
              "#fdca26"
             ],
             [
              1,
              "#f0f921"
             ]
            ],
            "type": "histogram2dcontour"
           }
          ],
          "mesh3d": [
           {
            "colorbar": {
             "outlinewidth": 0,
             "ticks": ""
            },
            "type": "mesh3d"
           }
          ],
          "parcoords": [
           {
            "line": {
             "colorbar": {
              "outlinewidth": 0,
              "ticks": ""
             }
            },
            "type": "parcoords"
           }
          ],
          "pie": [
           {
            "automargin": true,
            "type": "pie"
           }
          ],
          "scatter": [
           {
            "fillpattern": {
             "fillmode": "overlay",
             "size": 10,
             "solidity": 0.2
            },
            "type": "scatter"
           }
          ],
          "scatter3d": [
           {
            "line": {
             "colorbar": {
              "outlinewidth": 0,
              "ticks": ""
             }
            },
            "marker": {
             "colorbar": {
              "outlinewidth": 0,
              "ticks": ""
             }
            },
            "type": "scatter3d"
           }
          ],
          "scattercarpet": [
           {
            "marker": {
             "colorbar": {
              "outlinewidth": 0,
              "ticks": ""
             }
            },
            "type": "scattercarpet"
           }
          ],
          "scattergeo": [
           {
            "marker": {
             "colorbar": {
              "outlinewidth": 0,
              "ticks": ""
             }
            },
            "type": "scattergeo"
           }
          ],
          "scattergl": [
           {
            "marker": {
             "colorbar": {
              "outlinewidth": 0,
              "ticks": ""
             }
            },
            "type": "scattergl"
           }
          ],
          "scattermapbox": [
           {
            "marker": {
             "colorbar": {
              "outlinewidth": 0,
              "ticks": ""
             }
            },
            "type": "scattermapbox"
           }
          ],
          "scatterpolar": [
           {
            "marker": {
             "colorbar": {
              "outlinewidth": 0,
              "ticks": ""
             }
            },
            "type": "scatterpolar"
           }
          ],
          "scatterpolargl": [
           {
            "marker": {
             "colorbar": {
              "outlinewidth": 0,
              "ticks": ""
             }
            },
            "type": "scatterpolargl"
           }
          ],
          "scatterternary": [
           {
            "marker": {
             "colorbar": {
              "outlinewidth": 0,
              "ticks": ""
             }
            },
            "type": "scatterternary"
           }
          ],
          "surface": [
           {
            "colorbar": {
             "outlinewidth": 0,
             "ticks": ""
            },
            "colorscale": [
             [
              0,
              "#0d0887"
             ],
             [
              0.1111111111111111,
              "#46039f"
             ],
             [
              0.2222222222222222,
              "#7201a8"
             ],
             [
              0.3333333333333333,
              "#9c179e"
             ],
             [
              0.4444444444444444,
              "#bd3786"
             ],
             [
              0.5555555555555556,
              "#d8576b"
             ],
             [
              0.6666666666666666,
              "#ed7953"
             ],
             [
              0.7777777777777778,
              "#fb9f3a"
             ],
             [
              0.8888888888888888,
              "#fdca26"
             ],
             [
              1,
              "#f0f921"
             ]
            ],
            "type": "surface"
           }
          ],
          "table": [
           {
            "cells": {
             "fill": {
              "color": "#EBF0F8"
             },
             "line": {
              "color": "white"
             }
            },
            "header": {
             "fill": {
              "color": "#C8D4E3"
             },
             "line": {
              "color": "white"
             }
            },
            "type": "table"
           }
          ]
         },
         "layout": {
          "colorway": [
           "#3366CC",
           "#DC3912",
           "#FF9900",
           "#109618",
           "#990099",
           "#0099C6",
           "#DD4477",
           "#66AA00",
           "#B82E2E",
           "#316395"
          ],
          "font": {
           "color": "#707070",
           "family": "Nunito",
           "size": 16
          },
          "hovermode": "x",
          "paper_bgcolor": "#ffffff",
          "plot_bgcolor": "#ffffff",
          "title": {
           "font": {
            "color": "#1f1f1f",
            "family": "Lato",
            "size": 22
           }
          },
          "xaxis": {
           "showgrid": true,
           "showline": true,
           "showspikes": true,
           "spikemode": "across",
           "spikesnap": "cursor"
          }
         }
        },
        "title": {
         "text": "Loss function"
        },
        "width": 900,
        "xaxis": {
         "title": {
          "text": "Epochs"
         }
        },
        "yaxis": {
         "title": {
          "text": "MSE Loss"
         }
        }
       }
      }
     },
     "metadata": {},
     "output_type": "display_data"
    }
   ],
   "source": [
    "vis.plot_loss(history)"
   ]
  },
  {
   "cell_type": "markdown",
   "metadata": {},
   "source": [
    "## Using the GNN"
   ]
  },
  {
   "cell_type": "code",
   "execution_count": 18,
   "metadata": {},
   "outputs": [
    {
     "name": "stdout",
     "output_type": "stream",
     "text": [
      "SWMMSimulation(real_90)\n"
     ]
    }
   ],
   "source": [
    "val_event =  validation_simulations[-1]\n",
    "print(val_event)\n",
    "\n",
    "runoff_pd           = val_event.runoff_raw_data\n",
    "\n",
    "sim_in_window       = val_event.get_simulation_in_one_window(steps_behind = 1)\n",
    "\n",
    "norm_sim_in_window  = normalizer.normalize_window(sim_in_window)\n",
    "\n",
    "swmm_heads_pd       = normalizer.get_unnormalized_heads_pd(sim_in_window['y']) \n",
    "predicted_heads_pd  = normalizer.get_unnormalized_heads_pd(gnn_model(norm_sim_in_window))"
   ]
  },
  {
   "cell_type": "code",
   "execution_count": null,
   "metadata": {},
   "outputs": [],
   "source": [
    "importlib.reload(vis)"
   ]
  },
  {
   "cell_type": "code",
   "execution_count": 33,
   "metadata": {},
   "outputs": [
    {
     "data": {
      "application/vnd.plotly.v1+json": {
       "config": {
        "plotlyServerURL": "https://plot.ly"
       },
       "data": [
        {
         "type": "bar",
         "x": [
          0,
          1,
          2,
          3,
          4,
          5,
          6,
          7,
          8,
          9,
          10,
          11,
          12,
          13,
          14,
          15,
          16,
          17,
          18,
          19,
          20,
          21,
          22,
          23,
          24,
          25,
          26,
          27,
          28,
          29,
          30,
          31,
          32,
          33,
          34,
          35,
          36,
          37,
          38,
          39,
          40,
          41,
          42,
          43,
          44,
          45,
          46,
          47,
          48,
          49,
          50,
          51,
          52,
          53,
          54,
          55,
          56,
          57,
          58,
          59,
          60,
          61,
          62,
          63,
          64,
          65,
          66,
          67,
          68,
          69,
          70,
          71,
          72,
          73,
          74,
          75,
          76,
          77,
          78,
          79,
          80,
          81,
          82,
          83,
          84,
          85,
          86,
          87,
          88,
          89,
          90,
          91,
          92,
          93,
          94,
          95,
          96,
          97,
          98,
          99,
          100,
          101,
          102,
          103,
          104,
          105,
          106,
          107,
          108,
          109,
          110,
          111,
          112,
          113,
          114,
          115,
          116,
          117,
          118,
          119,
          120,
          121,
          122,
          123,
          124,
          125,
          126,
          127,
          128,
          129,
          130,
          131,
          132,
          133,
          134,
          135,
          136,
          137,
          138,
          139,
          140,
          141,
          142,
          143,
          144,
          145,
          146,
          147,
          148,
          149,
          150,
          151,
          152,
          153,
          154,
          155,
          156,
          157,
          158,
          159,
          160,
          161,
          162,
          163,
          164,
          165,
          166,
          167,
          168,
          169,
          170,
          171,
          172,
          173,
          174,
          175,
          176,
          177,
          178,
          179,
          180,
          181,
          182,
          183,
          184,
          185,
          186,
          187,
          188,
          189,
          190,
          191,
          192,
          193,
          194,
          195,
          196,
          197,
          198,
          199,
          200,
          201,
          202,
          203,
          204,
          205,
          206,
          207,
          208,
          209,
          210,
          211,
          212,
          213,
          214,
          215
         ],
         "xaxis": "x",
         "y": [
          0,
          0,
          0,
          0,
          0,
          0,
          0,
          0,
          0,
          0,
          0,
          0,
          0,
          0,
          0,
          0,
          0,
          0,
          0,
          0,
          0,
          0,
          0,
          0,
          0,
          0,
          0,
          0,
          0,
          0,
          0,
          0,
          0,
          0,
          0,
          0,
          0,
          0,
          0,
          0,
          0,
          0,
          0,
          0,
          0,
          0,
          0,
          0,
          0,
          0,
          0,
          0,
          0,
          0,
          0,
          0,
          0,
          0,
          0,
          0,
          0,
          0,
          0,
          0,
          0,
          0,
          0,
          0,
          0,
          0,
          0,
          0,
          0,
          0,
          0,
          0,
          0,
          0,
          0,
          0,
          0,
          0,
          0,
          0,
          0,
          0,
          0,
          0,
          0,
          0,
          0,
          0,
          0,
          0,
          0,
          0,
          0,
          0,
          0,
          0,
          0,
          0,
          0,
          0,
          0,
          0,
          0,
          0,
          0,
          0,
          0,
          0,
          0,
          0,
          0,
          0,
          0,
          0,
          0,
          0,
          0,
          0,
          0,
          0,
          0.01,
          0,
          0,
          0,
          0,
          0,
          0,
          0,
          0,
          0,
          0,
          0,
          0,
          0,
          0,
          0,
          0,
          0,
          0,
          0,
          0,
          0,
          0,
          0,
          0,
          0,
          0,
          0,
          0,
          0.01,
          0.01,
          0,
          0,
          0,
          0,
          0,
          0,
          0,
          0,
          0,
          0,
          0,
          0,
          0,
          0,
          0,
          0,
          0,
          0,
          0,
          0,
          0,
          0,
          0,
          0,
          0,
          0,
          0,
          0,
          0,
          0,
          0,
          0,
          0,
          0,
          0,
          0,
          0,
          0,
          0,
          0,
          0,
          0,
          0,
          0,
          0,
          0,
          0,
          0,
          0,
          0,
          0,
          0,
          0,
          0,
          0,
          0,
          0,
          0,
          0,
          0,
          0
         ],
         "yaxis": "y2"
        },
        {
         "line": {
          "width": 3
         },
         "marker": {
          "size": 8
         },
         "mode": "lines+markers",
         "name": "SWMM",
         "type": "scatter",
         "x": [
          0,
          1,
          2,
          3,
          4,
          5,
          6,
          7,
          8,
          9,
          10,
          11,
          12,
          13,
          14,
          15,
          16,
          17,
          18,
          19,
          20,
          21,
          22,
          23,
          24,
          25,
          26,
          27,
          28,
          29,
          30,
          31,
          32,
          33,
          34,
          35,
          36,
          37,
          38,
          39,
          40,
          41,
          42,
          43,
          44,
          45,
          46,
          47,
          48,
          49,
          50,
          51,
          52,
          53,
          54,
          55,
          56,
          57,
          58,
          59,
          60,
          61,
          62,
          63,
          64,
          65,
          66,
          67,
          68,
          69,
          70,
          71,
          72,
          73,
          74,
          75,
          76,
          77,
          78,
          79,
          80,
          81,
          82,
          83,
          84,
          85,
          86,
          87,
          88,
          89,
          90,
          91,
          92,
          93,
          94,
          95,
          96,
          97,
          98,
          99,
          100,
          101,
          102,
          103,
          104,
          105,
          106,
          107,
          108,
          109,
          110,
          111,
          112,
          113,
          114,
          115,
          116,
          117,
          118,
          119,
          120,
          121,
          122,
          123,
          124,
          125,
          126,
          127,
          128,
          129,
          130,
          131,
          132,
          133,
          134,
          135,
          136,
          137,
          138,
          139,
          140,
          141,
          142,
          143,
          144,
          145,
          146,
          147,
          148,
          149,
          150,
          151,
          152,
          153,
          154,
          155,
          156,
          157,
          158,
          159,
          160,
          161,
          162,
          163,
          164,
          165,
          166,
          167,
          168,
          169,
          170,
          171,
          172,
          173,
          174,
          175,
          176,
          177,
          178,
          179,
          180,
          181,
          182,
          183,
          184,
          185,
          186,
          187,
          188,
          189,
          190,
          191,
          192,
          193,
          194,
          195,
          196,
          197,
          198,
          199,
          200,
          201,
          202,
          203,
          204,
          205,
          206,
          207,
          208,
          209,
          210,
          211,
          212
         ],
         "xaxis": "x",
         "y": [
          -0.30000001192092896,
          -0.30000001192092896,
          -0.30000001192092896,
          -0.30000001192092896,
          -0.30000001192092896,
          -0.30000001192092896,
          -0.30000001192092896,
          -0.30000001192092896,
          -0.30000001192092896,
          -0.30000001192092896,
          -0.30000001192092896,
          -0.30000001192092896,
          -0.30000001192092896,
          -0.30000001192092896,
          -0.30000001192092896,
          -0.30000001192092896,
          -0.30000001192092896,
          -0.30000001192092896,
          -0.30000001192092896,
          -0.30000001192092896,
          -0.30000001192092896,
          -0.30000001192092896,
          -0.30000001192092896,
          -0.30000001192092896,
          -0.30000001192092896,
          -0.30000001192092896,
          -0.30000001192092896,
          -0.30000001192092896,
          -0.30000001192092896,
          -0.30000001192092896,
          -0.30000001192092896,
          -0.30000001192092896,
          -0.30000001192092896,
          -0.30000001192092896,
          -0.30000001192092896,
          -0.30000001192092896,
          -0.30000001192092896,
          -0.30000001192092896,
          -0.30000001192092896,
          -0.30000001192092896,
          -0.30000001192092896,
          -0.30000001192092896,
          -0.30000001192092896,
          -0.30000001192092896,
          -0.30000001192092896,
          -0.30000001192092896,
          -0.30000001192092896,
          -0.30000001192092896,
          -0.30000001192092896,
          -0.30000001192092896,
          -0.30000001192092896,
          -0.30000001192092896,
          -0.30000001192092896,
          -0.30000001192092896,
          -0.30000001192092896,
          -0.30000001192092896,
          -0.30000001192092896,
          -0.30000001192092896,
          -0.30000001192092896,
          -0.30000001192092896,
          -0.30000001192092896,
          -0.30000001192092896,
          -0.30000001192092896,
          -0.30000001192092896,
          -0.30000001192092896,
          -0.30000001192092896,
          -0.30000001192092896,
          -0.30000001192092896,
          -0.30000001192092896,
          -0.30000001192092896,
          -0.30000001192092896,
          -0.30000001192092896,
          -0.30000001192092896,
          -0.30000001192092896,
          -0.30000001192092896,
          -0.30000001192092896,
          -0.30000001192092896,
          -0.30000001192092896,
          -0.30000001192092896,
          -0.30000001192092896,
          -0.30000001192092896,
          -0.30000001192092896,
          -0.30000001192092896,
          -0.30000001192092896,
          -0.30000001192092896,
          -0.30000001192092896,
          -0.30000001192092896,
          -0.30000001192092896,
          -0.30000001192092896,
          -0.30000001192092896,
          -0.30000001192092896,
          -0.30000001192092896,
          -0.30000001192092896,
          -0.30000001192092896,
          -0.30000001192092896,
          -0.30000001192092896,
          -0.30000001192092896,
          -0.30000001192092896,
          -0.30000001192092896,
          -0.30000001192092896,
          -0.30000001192092896,
          -0.30000001192092896,
          -0.30000001192092896,
          -0.30000001192092896,
          -0.30000001192092896,
          -0.30000001192092896,
          -0.30000001192092896,
          -0.30000001192092896,
          -0.30000001192092896,
          -0.30000001192092896,
          -0.30000001192092896,
          -0.30000001192092896,
          -0.30000001192092896,
          -0.30000001192092896,
          -0.30000001192092896,
          -0.30000001192092896,
          -0.30000001192092896,
          -0.30000001192092896,
          -0.30000001192092896,
          -0.30000001192092896,
          -0.30000001192092896,
          -0.30000001192092896,
          -0.25999999046325684,
          -0.23000000417232513,
          -0.27000001072883606,
          -0.28999999165534973,
          -0.30000001192092896,
          -0.30000001192092896,
          -0.30000001192092896,
          -0.30000001192092896,
          -0.30000001192092896,
          -0.30000001192092896,
          -0.30000001192092896,
          -0.30000001192092896,
          -0.30000001192092896,
          -0.30000001192092896,
          -0.30000001192092896,
          -0.30000001192092896,
          -0.30000001192092896,
          -0.30000001192092896,
          -0.30000001192092896,
          -0.30000001192092896,
          -0.30000001192092896,
          -0.30000001192092896,
          -0.30000001192092896,
          -0.30000001192092896,
          -0.30000001192092896,
          -0.30000001192092896,
          -0.30000001192092896,
          -0.30000001192092896,
          -0.30000001192092896,
          -0.30000001192092896,
          -0.20999999344348907,
          -0.2199999988079071,
          -0.2800000011920929,
          -0.25999999046325684,
          -0.28999999165534973,
          -0.30000001192092896,
          -0.30000001192092896,
          -0.30000001192092896,
          -0.30000001192092896,
          -0.30000001192092896,
          -0.30000001192092896,
          -0.30000001192092896,
          -0.30000001192092896,
          -0.30000001192092896,
          -0.30000001192092896,
          -0.30000001192092896,
          -0.30000001192092896,
          -0.30000001192092896,
          -0.30000001192092896,
          -0.30000001192092896,
          -0.30000001192092896,
          -0.30000001192092896,
          -0.30000001192092896,
          -0.30000001192092896,
          -0.30000001192092896,
          -0.30000001192092896,
          -0.30000001192092896,
          -0.30000001192092896,
          -0.30000001192092896,
          -0.30000001192092896,
          -0.30000001192092896,
          -0.30000001192092896,
          -0.30000001192092896,
          -0.30000001192092896,
          -0.30000001192092896,
          -0.30000001192092896,
          -0.30000001192092896,
          -0.30000001192092896,
          -0.30000001192092896,
          -0.30000001192092896,
          -0.30000001192092896,
          -0.30000001192092896,
          -0.30000001192092896,
          -0.30000001192092896,
          -0.30000001192092896,
          -0.30000001192092896,
          -0.30000001192092896,
          -0.30000001192092896,
          -0.30000001192092896,
          -0.30000001192092896,
          -0.30000001192092896,
          -0.30000001192092896,
          -0.30000001192092896,
          -0.30000001192092896,
          -0.30000001192092896,
          -0.30000001192092896,
          -0.30000001192092896,
          -0.30000001192092896,
          -0.30000001192092896,
          -0.30000001192092896,
          -0.30000001192092896
         ],
         "yaxis": "y"
        },
        {
         "line": {
          "width": 3
         },
         "marker": {
          "size": 8
         },
         "mode": "lines+markers",
         "name": "GNN",
         "type": "scatter",
         "x": [
          0,
          1,
          2,
          3,
          4,
          5,
          6,
          7,
          8,
          9,
          10,
          11,
          12,
          13,
          14,
          15,
          16,
          17,
          18,
          19,
          20,
          21,
          22,
          23,
          24,
          25,
          26,
          27,
          28,
          29,
          30,
          31,
          32,
          33,
          34,
          35,
          36,
          37,
          38,
          39,
          40,
          41,
          42,
          43,
          44,
          45,
          46,
          47,
          48,
          49,
          50,
          51,
          52,
          53,
          54,
          55,
          56,
          57,
          58,
          59,
          60,
          61,
          62,
          63,
          64,
          65,
          66,
          67,
          68,
          69,
          70,
          71,
          72,
          73,
          74,
          75,
          76,
          77,
          78,
          79,
          80,
          81,
          82,
          83,
          84,
          85,
          86,
          87,
          88,
          89,
          90,
          91,
          92,
          93,
          94,
          95,
          96,
          97,
          98,
          99,
          100,
          101,
          102,
          103,
          104,
          105,
          106,
          107,
          108,
          109,
          110,
          111,
          112,
          113,
          114,
          115,
          116,
          117,
          118,
          119,
          120,
          121,
          122,
          123,
          124,
          125,
          126,
          127,
          128,
          129,
          130,
          131,
          132,
          133,
          134,
          135,
          136,
          137,
          138,
          139,
          140,
          141,
          142,
          143,
          144,
          145,
          146,
          147,
          148,
          149,
          150,
          151,
          152,
          153,
          154,
          155,
          156,
          157,
          158,
          159,
          160,
          161,
          162,
          163,
          164,
          165,
          166,
          167,
          168,
          169,
          170,
          171,
          172,
          173,
          174,
          175,
          176,
          177,
          178,
          179,
          180,
          181,
          182,
          183,
          184,
          185,
          186,
          187,
          188,
          189,
          190,
          191,
          192,
          193,
          194,
          195,
          196,
          197,
          198,
          199,
          200,
          201,
          202
         ],
         "xaxis": "x",
         "y": [
          -1.399999976158142,
          -1.5299999713897705,
          -1.5299999713897705,
          -1.5199999809265137,
          -1.5199999809265137,
          -1.5,
          -1.5,
          -1.5199999809265137,
          -1.5099999904632568,
          -1.5099999904632568,
          -1.5099999904632568,
          -1.5099999904632568,
          -1.5099999904632568,
          -1.5099999904632568,
          -1.5099999904632568,
          -1.5099999904632568,
          -1.5099999904632568,
          -1.5099999904632568,
          -1.5099999904632568,
          -1.5099999904632568,
          -1.5099999904632568,
          -1.5099999904632568,
          -1.5099999904632568,
          -1.5099999904632568,
          -1.5099999904632568,
          -1.5099999904632568,
          -1.5099999904632568,
          -1.5099999904632568,
          -1.5099999904632568,
          -1.5099999904632568,
          -1.5099999904632568,
          -1.5099999904632568,
          -1.5099999904632568,
          -1.5099999904632568,
          -1.5099999904632568,
          -1.5099999904632568,
          -1.5099999904632568,
          -1.5099999904632568,
          -1.5099999904632568,
          -1.5099999904632568,
          -1.5099999904632568,
          -1.5099999904632568,
          -1.5099999904632568,
          -1.5099999904632568,
          -1.5099999904632568,
          -1.5099999904632568,
          -1.5099999904632568,
          -1.5099999904632568,
          -1.5099999904632568,
          -1.5099999904632568,
          -1.5099999904632568,
          -1.5099999904632568,
          -1.5099999904632568,
          -1.5099999904632568,
          -1.5099999904632568,
          -1.5099999904632568,
          -1.5099999904632568,
          -1.5099999904632568,
          -1.5099999904632568,
          -1.5099999904632568,
          -1.5099999904632568,
          -1.5099999904632568,
          -1.5099999904632568,
          -1.5099999904632568,
          -1.5099999904632568,
          -1.5099999904632568,
          -1.5099999904632568,
          -1.5099999904632568,
          -1.5099999904632568,
          -1.5099999904632568,
          -1.5099999904632568,
          -1.5099999904632568,
          -1.5099999904632568,
          -1.5099999904632568,
          -1.5099999904632568,
          -1.5099999904632568,
          -1.5099999904632568,
          -1.5099999904632568,
          -1.5099999904632568,
          -1.5099999904632568,
          -1.5099999904632568,
          -1.5099999904632568,
          -1.5099999904632568,
          -1.5099999904632568,
          -1.5099999904632568,
          -1.5099999904632568,
          -1.5099999904632568,
          -1.5099999904632568,
          -1.5099999904632568,
          -1.5099999904632568,
          -1.5099999904632568,
          -1.5099999904632568,
          -1.5099999904632568,
          -1.5099999904632568,
          -1.5099999904632568,
          -1.5099999904632568,
          -1.5099999904632568,
          -1.5099999904632568,
          -1.5099999904632568,
          -1.5099999904632568,
          -1.5099999904632568,
          -1.5099999904632568,
          -1.5099999904632568,
          -1.5099999904632568,
          -1.5099999904632568,
          -1.5099999904632568,
          -1.5099999904632568,
          -1.5099999904632568,
          -1.5099999904632568,
          -1.5099999904632568,
          -1.5099999904632568,
          -1.5099999904632568,
          -1.4900000095367432,
          -1.4299999475479126,
          -1.4600000381469727,
          -1.4800000190734863,
          -1.4700000286102295,
          -1.4700000286102295,
          -1.4800000190734863,
          -1.5,
          -1.4900000095367432,
          -1.4900000095367432,
          -1.5,
          -1.5,
          -1.5,
          -1.5,
          -1.5,
          -1.5,
          -1.5099999904632568,
          -1.5099999904632568,
          -1.5099999904632568,
          -1.5099999904632568,
          -1.5099999904632568,
          -1.5099999904632568,
          -1.5099999904632568,
          -1.5099999904632568,
          -1.5099999904632568,
          -1.5099999904632568,
          -1.5099999904632568,
          -1.5099999904632568,
          -1.5099999904632568,
          -1.5099999904632568,
          -1.350000023841858,
          -1.340000033378601,
          -1.4199999570846558,
          -1.409999966621399,
          -1.409999966621399,
          -1.409999966621399,
          -1.440000057220459,
          -1.4600000381469727,
          -1.4700000286102295,
          -1.4800000190734863,
          -1.4800000190734863,
          -1.4800000190734863,
          -1.4900000095367432,
          -1.4900000095367432,
          -1.4900000095367432,
          -1.5,
          -1.5,
          -1.5,
          -1.5,
          -1.5,
          -1.5,
          -1.5099999904632568,
          -1.5099999904632568,
          -1.5099999904632568,
          -1.5099999904632568,
          -1.5099999904632568,
          -1.5099999904632568,
          -1.5099999904632568,
          -1.5099999904632568,
          -1.5099999904632568,
          -1.5099999904632568,
          -1.5099999904632568,
          -1.5099999904632568,
          -1.5099999904632568,
          -1.5099999904632568,
          -1.5099999904632568,
          -1.5099999904632568,
          -1.5099999904632568,
          -1.5099999904632568,
          -1.5099999904632568,
          -1.5099999904632568,
          -1.5099999904632568,
          -1.5099999904632568,
          -1.5099999904632568,
          -1.5099999904632568,
          -1.5099999904632568,
          -1.5099999904632568,
          -1.5099999904632568,
          -1.5099999904632568,
          -1.5099999904632568,
          -1.5099999904632568,
          -1.5099999904632568,
          -1.5099999904632568,
          -1.5099999904632568,
          -1.5099999904632568,
          -1.5099999904632568,
          -1.5099999904632568,
          -1.5099999904632568,
          -1.5099999904632568,
          -1.5099999904632568,
          -1.5099999904632568
         ],
         "yaxis": "y"
        }
       ],
       "layout": {
        "height": 600,
        "legend": {
         "title": {
          "text": "Legend"
         }
        },
        "margin": {
         "b": 80,
         "l": 80,
         "r": 80,
         "t": 80
        },
        "template": {
         "data": {
          "bar": [
           {
            "error_x": {
             "color": "#2a3f5f"
            },
            "error_y": {
             "color": "#2a3f5f"
            },
            "marker": {
             "line": {
              "color": "#E5ECF6",
              "width": 0.5
             },
             "pattern": {
              "fillmode": "overlay",
              "size": 10,
              "solidity": 0.2
             }
            },
            "type": "bar"
           }
          ],
          "barpolar": [
           {
            "marker": {
             "line": {
              "color": "#E5ECF6",
              "width": 0.5
             },
             "pattern": {
              "fillmode": "overlay",
              "size": 10,
              "solidity": 0.2
             }
            },
            "type": "barpolar"
           }
          ],
          "carpet": [
           {
            "aaxis": {
             "endlinecolor": "#2a3f5f",
             "gridcolor": "white",
             "linecolor": "white",
             "minorgridcolor": "white",
             "startlinecolor": "#2a3f5f"
            },
            "baxis": {
             "endlinecolor": "#2a3f5f",
             "gridcolor": "white",
             "linecolor": "white",
             "minorgridcolor": "white",
             "startlinecolor": "#2a3f5f"
            },
            "type": "carpet"
           }
          ],
          "choropleth": [
           {
            "colorbar": {
             "outlinewidth": 0,
             "ticks": ""
            },
            "type": "choropleth"
           }
          ],
          "contour": [
           {
            "colorbar": {
             "outlinewidth": 0,
             "ticks": ""
            },
            "colorscale": [
             [
              0,
              "#0d0887"
             ],
             [
              0.1111111111111111,
              "#46039f"
             ],
             [
              0.2222222222222222,
              "#7201a8"
             ],
             [
              0.3333333333333333,
              "#9c179e"
             ],
             [
              0.4444444444444444,
              "#bd3786"
             ],
             [
              0.5555555555555556,
              "#d8576b"
             ],
             [
              0.6666666666666666,
              "#ed7953"
             ],
             [
              0.7777777777777778,
              "#fb9f3a"
             ],
             [
              0.8888888888888888,
              "#fdca26"
             ],
             [
              1,
              "#f0f921"
             ]
            ],
            "type": "contour"
           }
          ],
          "contourcarpet": [
           {
            "colorbar": {
             "outlinewidth": 0,
             "ticks": ""
            },
            "type": "contourcarpet"
           }
          ],
          "heatmap": [
           {
            "colorbar": {
             "outlinewidth": 0,
             "ticks": ""
            },
            "colorscale": [
             [
              0,
              "#0d0887"
             ],
             [
              0.1111111111111111,
              "#46039f"
             ],
             [
              0.2222222222222222,
              "#7201a8"
             ],
             [
              0.3333333333333333,
              "#9c179e"
             ],
             [
              0.4444444444444444,
              "#bd3786"
             ],
             [
              0.5555555555555556,
              "#d8576b"
             ],
             [
              0.6666666666666666,
              "#ed7953"
             ],
             [
              0.7777777777777778,
              "#fb9f3a"
             ],
             [
              0.8888888888888888,
              "#fdca26"
             ],
             [
              1,
              "#f0f921"
             ]
            ],
            "type": "heatmap"
           }
          ],
          "heatmapgl": [
           {
            "colorbar": {
             "outlinewidth": 0,
             "ticks": ""
            },
            "colorscale": [
             [
              0,
              "#0d0887"
             ],
             [
              0.1111111111111111,
              "#46039f"
             ],
             [
              0.2222222222222222,
              "#7201a8"
             ],
             [
              0.3333333333333333,
              "#9c179e"
             ],
             [
              0.4444444444444444,
              "#bd3786"
             ],
             [
              0.5555555555555556,
              "#d8576b"
             ],
             [
              0.6666666666666666,
              "#ed7953"
             ],
             [
              0.7777777777777778,
              "#fb9f3a"
             ],
             [
              0.8888888888888888,
              "#fdca26"
             ],
             [
              1,
              "#f0f921"
             ]
            ],
            "type": "heatmapgl"
           }
          ],
          "histogram": [
           {
            "marker": {
             "pattern": {
              "fillmode": "overlay",
              "size": 10,
              "solidity": 0.2
             }
            },
            "type": "histogram"
           }
          ],
          "histogram2d": [
           {
            "colorbar": {
             "outlinewidth": 0,
             "ticks": ""
            },
            "colorscale": [
             [
              0,
              "#0d0887"
             ],
             [
              0.1111111111111111,
              "#46039f"
             ],
             [
              0.2222222222222222,
              "#7201a8"
             ],
             [
              0.3333333333333333,
              "#9c179e"
             ],
             [
              0.4444444444444444,
              "#bd3786"
             ],
             [
              0.5555555555555556,
              "#d8576b"
             ],
             [
              0.6666666666666666,
              "#ed7953"
             ],
             [
              0.7777777777777778,
              "#fb9f3a"
             ],
             [
              0.8888888888888888,
              "#fdca26"
             ],
             [
              1,
              "#f0f921"
             ]
            ],
            "type": "histogram2d"
           }
          ],
          "histogram2dcontour": [
           {
            "colorbar": {
             "outlinewidth": 0,
             "ticks": ""
            },
            "colorscale": [
             [
              0,
              "#0d0887"
             ],
             [
              0.1111111111111111,
              "#46039f"
             ],
             [
              0.2222222222222222,
              "#7201a8"
             ],
             [
              0.3333333333333333,
              "#9c179e"
             ],
             [
              0.4444444444444444,
              "#bd3786"
             ],
             [
              0.5555555555555556,
              "#d8576b"
             ],
             [
              0.6666666666666666,
              "#ed7953"
             ],
             [
              0.7777777777777778,
              "#fb9f3a"
             ],
             [
              0.8888888888888888,
              "#fdca26"
             ],
             [
              1,
              "#f0f921"
             ]
            ],
            "type": "histogram2dcontour"
           }
          ],
          "mesh3d": [
           {
            "colorbar": {
             "outlinewidth": 0,
             "ticks": ""
            },
            "type": "mesh3d"
           }
          ],
          "parcoords": [
           {
            "line": {
             "colorbar": {
              "outlinewidth": 0,
              "ticks": ""
             }
            },
            "type": "parcoords"
           }
          ],
          "pie": [
           {
            "automargin": true,
            "type": "pie"
           }
          ],
          "scatter": [
           {
            "fillpattern": {
             "fillmode": "overlay",
             "size": 10,
             "solidity": 0.2
            },
            "type": "scatter"
           }
          ],
          "scatter3d": [
           {
            "line": {
             "colorbar": {
              "outlinewidth": 0,
              "ticks": ""
             }
            },
            "marker": {
             "colorbar": {
              "outlinewidth": 0,
              "ticks": ""
             }
            },
            "type": "scatter3d"
           }
          ],
          "scattercarpet": [
           {
            "marker": {
             "colorbar": {
              "outlinewidth": 0,
              "ticks": ""
             }
            },
            "type": "scattercarpet"
           }
          ],
          "scattergeo": [
           {
            "marker": {
             "colorbar": {
              "outlinewidth": 0,
              "ticks": ""
             }
            },
            "type": "scattergeo"
           }
          ],
          "scattergl": [
           {
            "marker": {
             "colorbar": {
              "outlinewidth": 0,
              "ticks": ""
             }
            },
            "type": "scattergl"
           }
          ],
          "scattermapbox": [
           {
            "marker": {
             "colorbar": {
              "outlinewidth": 0,
              "ticks": ""
             }
            },
            "type": "scattermapbox"
           }
          ],
          "scatterpolar": [
           {
            "marker": {
             "colorbar": {
              "outlinewidth": 0,
              "ticks": ""
             }
            },
            "type": "scatterpolar"
           }
          ],
          "scatterpolargl": [
           {
            "marker": {
             "colorbar": {
              "outlinewidth": 0,
              "ticks": ""
             }
            },
            "type": "scatterpolargl"
           }
          ],
          "scatterternary": [
           {
            "marker": {
             "colorbar": {
              "outlinewidth": 0,
              "ticks": ""
             }
            },
            "type": "scatterternary"
           }
          ],
          "surface": [
           {
            "colorbar": {
             "outlinewidth": 0,
             "ticks": ""
            },
            "colorscale": [
             [
              0,
              "#0d0887"
             ],
             [
              0.1111111111111111,
              "#46039f"
             ],
             [
              0.2222222222222222,
              "#7201a8"
             ],
             [
              0.3333333333333333,
              "#9c179e"
             ],
             [
              0.4444444444444444,
              "#bd3786"
             ],
             [
              0.5555555555555556,
              "#d8576b"
             ],
             [
              0.6666666666666666,
              "#ed7953"
             ],
             [
              0.7777777777777778,
              "#fb9f3a"
             ],
             [
              0.8888888888888888,
              "#fdca26"
             ],
             [
              1,
              "#f0f921"
             ]
            ],
            "type": "surface"
           }
          ],
          "table": [
           {
            "cells": {
             "fill": {
              "color": "#EBF0F8"
             },
             "line": {
              "color": "white"
             }
            },
            "header": {
             "fill": {
              "color": "#C8D4E3"
             },
             "line": {
              "color": "white"
             }
            },
            "type": "table"
           }
          ]
         },
         "layout": {
          "colorway": [
           "#3366CC",
           "#DC3912",
           "#FF9900",
           "#109618",
           "#990099",
           "#0099C6",
           "#DD4477",
           "#66AA00",
           "#B82E2E",
           "#316395"
          ],
          "font": {
           "color": "#707070",
           "family": "Nunito",
           "size": 16
          },
          "hovermode": "x",
          "paper_bgcolor": "#ffffff",
          "plot_bgcolor": "#ffffff",
          "title": {
           "font": {
            "color": "#1f1f1f",
            "family": "Lato",
            "size": 22
           }
          },
          "xaxis": {
           "showgrid": true,
           "showline": true,
           "showspikes": true,
           "spikemode": "across",
           "spikesnap": "cursor"
          }
         }
        },
        "title": {
         "text": "Head timeseries at node j_90369"
        },
        "width": 900,
        "xaxis": {
         "anchor": "y",
         "domain": [
          0,
          0.94
         ],
         "title": {
          "text": "Time steps (5 min)"
         }
        },
        "yaxis": {
         "anchor": "x",
         "domain": [
          0,
          1
         ],
         "title": {
          "text": "Head (MSL)"
         }
        },
        "yaxis2": {
         "anchor": "x",
         "overlaying": "y",
         "range": [
          0.03,
          0
         ],
         "side": "right"
        }
       }
      }
     },
     "metadata": {},
     "output_type": "display_data"
    }
   ],
   "source": [
    "node =  'j_90369'\n",
    "vis.plot_heads_timeseries(swmm_heads_pd, predicted_heads_pd, runoff_pd, node)"
   ]
  },
  {
   "cell_type": "markdown",
   "metadata": {},
   "source": [
    "## Visualization of results"
   ]
  },
  {
   "cell_type": "code",
   "execution_count": null,
   "metadata": {},
   "outputs": [],
   "source": [
    "importlib.reload(vis)"
   ]
  },
  {
   "cell_type": "code",
   "execution_count": null,
   "metadata": {},
   "outputs": [],
   "source": [
    "error = predicted_heads_pd - swmm_heads_pd"
   ]
  },
  {
   "cell_type": "code",
   "execution_count": null,
   "metadata": {},
   "outputs": [],
   "source": [
    "error= error.transpose().to_numpy()"
   ]
  },
  {
   "cell_type": "code",
   "execution_count": null,
   "metadata": {},
   "outputs": [],
   "source": [
    "error = abs(error)\n",
    "fig = vis.plot_nodal_variable(error, norm_sim_in_window, 'error in head (m) ', colorscale = 'OrRd')\n"
   ]
  },
  {
   "cell_type": "code",
   "execution_count": null,
   "metadata": {},
   "outputs": [],
   "source": [
    "norm_sim_in_window.name_nodes[0]"
   ]
  },
  {
   "cell_type": "code",
   "execution_count": null,
   "metadata": {},
   "outputs": [],
   "source": [
    "# fig.write_html('error.html')"
   ]
  },
  {
   "cell_type": "code",
   "execution_count": null,
   "metadata": {},
   "outputs": [],
   "source": [
    "fig = vis.plot_nodal_variable(swmm_heads_pd.transpose().to_numpy(), norm_sim_in_window, 'Target Head ', colorscale = 'PuBu', ref_marker_size = 2.5)"
   ]
  },
  {
   "cell_type": "markdown",
   "metadata": {},
   "source": [
    "# Scratchpad (old)"
   ]
  },
  {
   "cell_type": "code",
   "execution_count": null,
   "metadata": {},
   "outputs": [],
   "source": [
    "zero_cases_simulations_path = yaml_data['zero_cases_simulations_path']\n",
    "list_of_zero_cases_simulations  = os.listdir(zero_cases_simulations_path)\n",
    "\n",
    "zero_cases_simulations = utils.extract_simulations_from_folders(zero_cases_simulations_path, inp_path, max_events = 2)\n"
   ]
  },
  {
   "cell_type": "code",
   "execution_count": null,
   "metadata": {},
   "outputs": [],
   "source": [
    "gnn_model = GNNModel()"
   ]
  },
  {
   "cell_type": "code",
   "execution_count": null,
   "metadata": {},
   "outputs": [],
   "source": [
    "sim_trial = zero_cases_simulations[0]\n",
    "\n",
    "length = sim_trial.simulation_length\n",
    "sim_in_window = sim_trial.get_all_windows(steps_ahead = length-2)[0]\n",
    "norm_sim_in_window = normalizer.normalize_window(sim_in_window)\n",
    "\n",
    "name_nodes = norm_sim_in_window.name_nodes\n",
    "\n",
    "swmm_heads_pd       = utils.tensor_heads_to_normalized_pd(sim_in_window['y'],             normalizer, name_nodes)\n",
    "predicted_heads_pd  = utils.tensor_heads_to_normalized_pd(gnn_model(norm_sim_in_window),  normalizer, name_nodes)"
   ]
  },
  {
   "cell_type": "code",
   "execution_count": null,
   "metadata": {},
   "outputs": [],
   "source": [
    "target      = normalizer.unnormalize_heads(norm_sim_in_window.y)\n",
    "predicted   = normalizer.unnormalize_heads(gnn_model(norm_sim_in_window).detach())"
   ]
  },
  {
   "cell_type": "code",
   "execution_count": null,
   "metadata": {},
   "outputs": [],
   "source": [
    "pd.DataFrame(target[-1,:].numpy()).plot()\n",
    "pd.DataFrame(predicted[-1,:].numpy()).plot()"
   ]
  },
  {
   "cell_type": "code",
   "execution_count": null,
   "metadata": {},
   "outputs": [],
   "source": [
    "error = torch.abs(target - predicted)\n",
    "fig = vis.plot_nodal_variable(error, norm_sim_in_window, 'error in head at time: ', colorscale = 'OrRd')"
   ]
  },
  {
   "cell_type": "code",
   "execution_count": null,
   "metadata": {},
   "outputs": [],
   "source": [
    "norm_sim_in_window.name_nodes[0]"
   ]
  },
  {
   "cell_type": "code",
   "execution_count": null,
   "metadata": {},
   "outputs": [],
   "source": [
    "# fig.write_html('error.html')"
   ]
  },
  {
   "cell_type": "code",
   "execution_count": null,
   "metadata": {},
   "outputs": [],
   "source": [
    "fig = vis.plot_nodal_variable(target, norm_sim_in_window, 'Target Head ', colorscale = 'PuBu', ref_marker_size = 2.5)"
   ]
  },
  {
   "cell_type": "markdown",
   "metadata": {},
   "source": [
    "# Scratchpad (new)"
   ]
  },
  {
   "cell_type": "code",
   "execution_count": 27,
   "metadata": {},
   "outputs": [
    {
     "name": "stdout",
     "output_type": "stream",
     "text": [
      "real_80\n"
     ]
    }
   ],
   "source": [
    "val_event =  validation_simulations[0]\n",
    "event_in_windows = val_event.get_all_windows(steps_ahead=1, steps_behind = 1)\n",
    "print(val_event.name_simulation)"
   ]
  },
  {
   "cell_type": "code",
   "execution_count": 28,
   "metadata": {},
   "outputs": [],
   "source": [
    "norm_event_in_windows = [normalizer.normalize_window(window) for window in event_in_windows]"
   ]
  },
  {
   "cell_type": "code",
   "execution_count": 29,
   "metadata": {},
   "outputs": [
    {
     "ename": "RuntimeError",
     "evalue": "Trying to create tensor with negative dimension -6: [318, -6]",
     "output_type": "error",
     "traceback": [
      "\u001b[1;31m---------------------------------------------------------------------------\u001b[0m",
      "\u001b[1;31mRuntimeError\u001b[0m                              Traceback (most recent call last)",
      "\u001b[1;32mc:\\Users\\agarzondiaz\\surfdrive\\Year 2\\Paper 2 - 3.0\\UDS_Emulator.ipynb Cell 47'\u001b[0m in \u001b[0;36m<cell line: 2>\u001b[1;34m()\u001b[0m\n\u001b[0;32m      <a href='vscode-notebook-cell:/c%3A/Users/agarzondiaz/surfdrive/Year%202/Paper%202%20-%203.0/UDS_Emulator.ipynb#ch0000047?line=0'>1</a>\u001b[0m results \u001b[39m=\u001b[39m []\n\u001b[0;32m      <a href='vscode-notebook-cell:/c%3A/Users/agarzondiaz/surfdrive/Year%202/Paper%202%20-%203.0/UDS_Emulator.ipynb#ch0000047?line=1'>2</a>\u001b[0m \u001b[39mfor\u001b[39;00m i \u001b[39min\u001b[39;00m norm_event_in_windows:\n\u001b[1;32m----> <a href='vscode-notebook-cell:/c%3A/Users/agarzondiaz/surfdrive/Year%202/Paper%202%20-%203.0/UDS_Emulator.ipynb#ch0000047?line=2'>3</a>\u001b[0m     results\u001b[39m.\u001b[39mappend(gnn_model(i))\n",
      "File \u001b[1;32mc:\\Users\\agarzondiaz\\surfdrive\\Year 2\\Paper 2 - 3.0\\third_SWMM\\lib\\site-packages\\torch\\nn\\modules\\module.py:1110\u001b[0m, in \u001b[0;36mModule._call_impl\u001b[1;34m(self, *input, **kwargs)\u001b[0m\n\u001b[0;32m   1106\u001b[0m \u001b[39m# If we don't have any hooks, we want to skip the rest of the logic in\u001b[39;00m\n\u001b[0;32m   1107\u001b[0m \u001b[39m# this function, and just call forward.\u001b[39;00m\n\u001b[0;32m   1108\u001b[0m \u001b[39mif\u001b[39;00m \u001b[39mnot\u001b[39;00m (\u001b[39mself\u001b[39m\u001b[39m.\u001b[39m_backward_hooks \u001b[39mor\u001b[39;00m \u001b[39mself\u001b[39m\u001b[39m.\u001b[39m_forward_hooks \u001b[39mor\u001b[39;00m \u001b[39mself\u001b[39m\u001b[39m.\u001b[39m_forward_pre_hooks \u001b[39mor\u001b[39;00m _global_backward_hooks\n\u001b[0;32m   1109\u001b[0m         \u001b[39mor\u001b[39;00m _global_forward_hooks \u001b[39mor\u001b[39;00m _global_forward_pre_hooks):\n\u001b[1;32m-> 1110\u001b[0m     \u001b[39mreturn\u001b[39;00m forward_call(\u001b[39m*\u001b[39m\u001b[39minput\u001b[39m, \u001b[39m*\u001b[39m\u001b[39m*\u001b[39mkwargs)\n\u001b[0;32m   1111\u001b[0m \u001b[39m# Do not call functions when jit is used\u001b[39;00m\n\u001b[0;32m   1112\u001b[0m full_backward_hooks, non_full_backward_hooks \u001b[39m=\u001b[39m [], []\n",
      "File \u001b[1;32mc:\\Users\\agarzondiaz\\surfdrive\\Year 2\\Paper 2 - 3.0\\models\\GNNModel.py:36\u001b[0m, in \u001b[0;36mGNNModel.forward\u001b[1;34m(self, data)\u001b[0m\n\u001b[0;32m     33\u001b[0m length_simulation \u001b[39m=\u001b[39m runoff\u001b[39m.\u001b[39mshape[\u001b[39m1\u001b[39m] \u001b[39m-\u001b[39m \u001b[39mself\u001b[39m\u001b[39m.\u001b[39msteps_behind\n\u001b[0;32m     34\u001b[0m num_nodes       \u001b[39m=\u001b[39m d\u001b[39m.\u001b[39mnum_nodes\n\u001b[1;32m---> 36\u001b[0m pred \u001b[39m=\u001b[39m torch\u001b[39m.\u001b[39;49mzeros(num_nodes, length_simulation)        \n\u001b[0;32m     37\u001b[0m \u001b[39m# print('pred.shape', pred.shape)\u001b[39;00m\n\u001b[0;32m     38\u001b[0m \u001b[39m# print('self.steps_behind', self.steps_behind)\u001b[39;00m\n\u001b[0;32m     39\u001b[0m \u001b[39m# print('self.steps_ahead', self.steps_ahead)\u001b[39;00m\n\u001b[0;32m     42\u001b[0m \u001b[39mfor\u001b[39;00m step \u001b[39min\u001b[39;00m \u001b[39mrange\u001b[39m(\u001b[39m0\u001b[39m,length_simulation, \u001b[39mself\u001b[39m\u001b[39m.\u001b[39msteps_ahead):\n",
      "\u001b[1;31mRuntimeError\u001b[0m: Trying to create tensor with negative dimension -6: [318, -6]"
     ]
    }
   ],
   "source": [
    "results = []\n",
    "for i in norm_event_in_windows:\n",
    "    results.append(gnn_model(i))"
   ]
  },
  {
   "cell_type": "code",
   "execution_count": 31,
   "metadata": {},
   "outputs": [
    {
     "ename": "NotImplementedError",
     "evalue": "There were no tensor arguments to this function (e.g., you passed an empty list of Tensors), but no fallback function is registered for schema aten::_cat.  This usually means that this function requires a non-empty list of Tensors, or that you (the operator writer) forgot to register a fallback function.  Available functions are [CPU, QuantizedCPU, BackendSelect, Python, Named, Conjugate, Negative, ZeroTensor, ADInplaceOrView, AutogradOther, AutogradCPU, AutogradCUDA, AutogradXLA, AutogradLazy, AutogradXPU, AutogradMLC, AutogradHPU, AutogradNestedTensor, AutogradPrivateUse1, AutogradPrivateUse2, AutogradPrivateUse3, Tracer, AutocastCPU, Autocast, Batched, VmapMode, Functionalize].\n\nCPU: registered at aten\\src\\ATen\\RegisterCPU.cpp:21063 [kernel]\nQuantizedCPU: registered at aten\\src\\ATen\\RegisterQuantizedCPU.cpp:1258 [kernel]\nBackendSelect: fallthrough registered at ..\\aten\\src\\ATen\\core\\BackendSelectFallbackKernel.cpp:3 [backend fallback]\nPython: registered at ..\\aten\\src\\ATen\\core\\PythonFallbackKernel.cpp:47 [backend fallback]\nNamed: registered at ..\\aten\\src\\ATen\\core\\NamedRegistrations.cpp:7 [backend fallback]\nConjugate: registered at ..\\aten\\src\\ATen\\ConjugateFallback.cpp:18 [backend fallback]\nNegative: registered at ..\\aten\\src\\ATen\\native\\NegateFallback.cpp:18 [backend fallback]\nZeroTensor: registered at ..\\aten\\src\\ATen\\ZeroTensorFallback.cpp:86 [backend fallback]\nADInplaceOrView: fallthrough registered at ..\\aten\\src\\ATen\\core\\VariableFallbackKernel.cpp:64 [backend fallback]\nAutogradOther: registered at ..\\torch\\csrc\\autograd\\generated\\VariableType_3.cpp:11380 [autograd kernel]\nAutogradCPU: registered at ..\\torch\\csrc\\autograd\\generated\\VariableType_3.cpp:11380 [autograd kernel]\nAutogradCUDA: registered at ..\\torch\\csrc\\autograd\\generated\\VariableType_3.cpp:11380 [autograd kernel]\nAutogradXLA: registered at ..\\torch\\csrc\\autograd\\generated\\VariableType_3.cpp:11380 [autograd kernel]\nAutogradLazy: registered at ..\\torch\\csrc\\autograd\\generated\\VariableType_3.cpp:11380 [autograd kernel]\nAutogradXPU: registered at ..\\torch\\csrc\\autograd\\generated\\VariableType_3.cpp:11380 [autograd kernel]\nAutogradMLC: registered at ..\\torch\\csrc\\autograd\\generated\\VariableType_3.cpp:11380 [autograd kernel]\nAutogradHPU: registered at ..\\torch\\csrc\\autograd\\generated\\VariableType_3.cpp:11380 [autograd kernel]\nAutogradNestedTensor: registered at ..\\torch\\csrc\\autograd\\generated\\VariableType_3.cpp:11380 [autograd kernel]\nAutogradPrivateUse1: registered at ..\\torch\\csrc\\autograd\\generated\\VariableType_3.cpp:11380 [autograd kernel]\nAutogradPrivateUse2: registered at ..\\torch\\csrc\\autograd\\generated\\VariableType_3.cpp:11380 [autograd kernel]\nAutogradPrivateUse3: registered at ..\\torch\\csrc\\autograd\\generated\\VariableType_3.cpp:11380 [autograd kernel]\nTracer: registered at ..\\torch\\csrc\\autograd\\generated\\TraceType_3.cpp:11220 [kernel]\nAutocastCPU: fallthrough registered at ..\\aten\\src\\ATen\\autocast_mode.cpp:461 [backend fallback]\nAutocast: fallthrough registered at ..\\aten\\src\\ATen\\autocast_mode.cpp:305 [backend fallback]\nBatched: registered at ..\\aten\\src\\ATen\\BatchingRegistrations.cpp:1059 [backend fallback]\nVmapMode: fallthrough registered at ..\\aten\\src\\ATen\\VmapModeRegistrations.cpp:33 [backend fallback]\nFunctionalize: registered at ..\\aten\\src\\ATen\\FunctionalizeFallbackKernel.cpp:52 [backend fallback]\n",
     "output_type": "error",
     "traceback": [
      "\u001b[1;31m---------------------------------------------------------------------------\u001b[0m",
      "\u001b[1;31mNotImplementedError\u001b[0m                       Traceback (most recent call last)",
      "\u001b[1;32mc:\\Users\\agarzondiaz\\surfdrive\\Year 2\\Paper 2 - 3.0\\UDS_Emulator.ipynb Cell 48'\u001b[0m in \u001b[0;36m<cell line: 1>\u001b[1;34m()\u001b[0m\n\u001b[1;32m----> <a href='vscode-notebook-cell:/c%3A/Users/agarzondiaz/surfdrive/Year%202/Paper%202%20-%203.0/UDS_Emulator.ipynb#ch0000048?line=0'>1</a>\u001b[0m prediction \u001b[39m=\u001b[39m torch\u001b[39m.\u001b[39;49mcat(results, axis \u001b[39m=\u001b[39;49m \u001b[39m1\u001b[39;49m)\n\u001b[0;32m      <a href='vscode-notebook-cell:/c%3A/Users/agarzondiaz/surfdrive/Year%202/Paper%202%20-%203.0/UDS_Emulator.ipynb#ch0000048?line=1'>2</a>\u001b[0m unnormalized_prediction \u001b[39m=\u001b[39m normalizer\u001b[39m.\u001b[39munnormalize_heads(prediction)\n",
      "\u001b[1;31mNotImplementedError\u001b[0m: There were no tensor arguments to this function (e.g., you passed an empty list of Tensors), but no fallback function is registered for schema aten::_cat.  This usually means that this function requires a non-empty list of Tensors, or that you (the operator writer) forgot to register a fallback function.  Available functions are [CPU, QuantizedCPU, BackendSelect, Python, Named, Conjugate, Negative, ZeroTensor, ADInplaceOrView, AutogradOther, AutogradCPU, AutogradCUDA, AutogradXLA, AutogradLazy, AutogradXPU, AutogradMLC, AutogradHPU, AutogradNestedTensor, AutogradPrivateUse1, AutogradPrivateUse2, AutogradPrivateUse3, Tracer, AutocastCPU, Autocast, Batched, VmapMode, Functionalize].\n\nCPU: registered at aten\\src\\ATen\\RegisterCPU.cpp:21063 [kernel]\nQuantizedCPU: registered at aten\\src\\ATen\\RegisterQuantizedCPU.cpp:1258 [kernel]\nBackendSelect: fallthrough registered at ..\\aten\\src\\ATen\\core\\BackendSelectFallbackKernel.cpp:3 [backend fallback]\nPython: registered at ..\\aten\\src\\ATen\\core\\PythonFallbackKernel.cpp:47 [backend fallback]\nNamed: registered at ..\\aten\\src\\ATen\\core\\NamedRegistrations.cpp:7 [backend fallback]\nConjugate: registered at ..\\aten\\src\\ATen\\ConjugateFallback.cpp:18 [backend fallback]\nNegative: registered at ..\\aten\\src\\ATen\\native\\NegateFallback.cpp:18 [backend fallback]\nZeroTensor: registered at ..\\aten\\src\\ATen\\ZeroTensorFallback.cpp:86 [backend fallback]\nADInplaceOrView: fallthrough registered at ..\\aten\\src\\ATen\\core\\VariableFallbackKernel.cpp:64 [backend fallback]\nAutogradOther: registered at ..\\torch\\csrc\\autograd\\generated\\VariableType_3.cpp:11380 [autograd kernel]\nAutogradCPU: registered at ..\\torch\\csrc\\autograd\\generated\\VariableType_3.cpp:11380 [autograd kernel]\nAutogradCUDA: registered at ..\\torch\\csrc\\autograd\\generated\\VariableType_3.cpp:11380 [autograd kernel]\nAutogradXLA: registered at ..\\torch\\csrc\\autograd\\generated\\VariableType_3.cpp:11380 [autograd kernel]\nAutogradLazy: registered at ..\\torch\\csrc\\autograd\\generated\\VariableType_3.cpp:11380 [autograd kernel]\nAutogradXPU: registered at ..\\torch\\csrc\\autograd\\generated\\VariableType_3.cpp:11380 [autograd kernel]\nAutogradMLC: registered at ..\\torch\\csrc\\autograd\\generated\\VariableType_3.cpp:11380 [autograd kernel]\nAutogradHPU: registered at ..\\torch\\csrc\\autograd\\generated\\VariableType_3.cpp:11380 [autograd kernel]\nAutogradNestedTensor: registered at ..\\torch\\csrc\\autograd\\generated\\VariableType_3.cpp:11380 [autograd kernel]\nAutogradPrivateUse1: registered at ..\\torch\\csrc\\autograd\\generated\\VariableType_3.cpp:11380 [autograd kernel]\nAutogradPrivateUse2: registered at ..\\torch\\csrc\\autograd\\generated\\VariableType_3.cpp:11380 [autograd kernel]\nAutogradPrivateUse3: registered at ..\\torch\\csrc\\autograd\\generated\\VariableType_3.cpp:11380 [autograd kernel]\nTracer: registered at ..\\torch\\csrc\\autograd\\generated\\TraceType_3.cpp:11220 [kernel]\nAutocastCPU: fallthrough registered at ..\\aten\\src\\ATen\\autocast_mode.cpp:461 [backend fallback]\nAutocast: fallthrough registered at ..\\aten\\src\\ATen\\autocast_mode.cpp:305 [backend fallback]\nBatched: registered at ..\\aten\\src\\ATen\\BatchingRegistrations.cpp:1059 [backend fallback]\nVmapMode: fallthrough registered at ..\\aten\\src\\ATen\\VmapModeRegistrations.cpp:33 [backend fallback]\nFunctionalize: registered at ..\\aten\\src\\ATen\\FunctionalizeFallbackKernel.cpp:52 [backend fallback]\n"
     ]
    }
   ],
   "source": [
    "prediction = torch.cat(results, axis = 1)\n",
    "unnormalized_prediction = normalizer.unnormalize_heads(prediction)"
   ]
  },
  {
   "cell_type": "code",
   "execution_count": 30,
   "metadata": {},
   "outputs": [
    {
     "ename": "IndexError",
     "evalue": "list index out of range",
     "output_type": "error",
     "traceback": [
      "\u001b[1;31m---------------------------------------------------------------------------\u001b[0m",
      "\u001b[1;31mIndexError\u001b[0m                                Traceback (most recent call last)",
      "\u001b[1;32mc:\\Users\\agarzondiaz\\surfdrive\\Year 2\\Paper 2 - 3.0\\UDS_Emulator.ipynb Cell 49'\u001b[0m in \u001b[0;36m<cell line: 1>\u001b[1;34m()\u001b[0m\n\u001b[1;32m----> <a href='vscode-notebook-cell:/c%3A/Users/agarzondiaz/surfdrive/Year%202/Paper%202%20-%203.0/UDS_Emulator.ipynb#ch0000049?line=0'>1</a>\u001b[0m val_event \u001b[39m=\u001b[39m  validation_simulations[\u001b[39m17\u001b[39;49m]\n\u001b[0;32m      <a href='vscode-notebook-cell:/c%3A/Users/agarzondiaz/surfdrive/Year%202/Paper%202%20-%203.0/UDS_Emulator.ipynb#ch0000049?line=2'>3</a>\u001b[0m length \u001b[39m=\u001b[39m val_event\u001b[39m.\u001b[39msimulation_length\n\u001b[0;32m      <a href='vscode-notebook-cell:/c%3A/Users/agarzondiaz/surfdrive/Year%202/Paper%202%20-%203.0/UDS_Emulator.ipynb#ch0000049?line=3'>4</a>\u001b[0m sim_in_window \u001b[39m=\u001b[39m val_event\u001b[39m.\u001b[39mget_all_windows(steps_ahead \u001b[39m=\u001b[39m length\u001b[39m-\u001b[39m\u001b[39m2\u001b[39m)[\u001b[39m0\u001b[39m]\n",
      "\u001b[1;31mIndexError\u001b[0m: list index out of range"
     ]
    }
   ],
   "source": [
    "val_event =  validation_simulations[17]\n",
    "\n",
    "length = val_event.simulation_length\n",
    "sim_in_window = val_event.get_all_windows(steps_ahead = length-2)[0]\n",
    "norm_sim_in_window = normalizer.normalize_window(sim_in_window)\n",
    "\n",
    "name_nodes = norm_sim_in_window.name_nodes\n",
    "\n",
    "swmm_heads_pd       = utils.tensor_heads_to_normalized_pd(sim_in_window['y'],             normalizer, name_nodes)"
   ]
  },
  {
   "cell_type": "code",
   "execution_count": null,
   "metadata": {},
   "outputs": [],
   "source": [
    "name_nodes =norm_sim_in_window.name_nodes"
   ]
  },
  {
   "cell_type": "code",
   "execution_count": null,
   "metadata": {},
   "outputs": [],
   "source": [
    "name_nodes.index('j_90507') #j_90450"
   ]
  },
  {
   "cell_type": "code",
   "execution_count": null,
   "metadata": {},
   "outputs": [],
   "source": [
    "rollout_results = gnn_model(norm_sim_in_window)\n",
    "unnormalized_rollout = normalizer.unnormalize_heads(rollout_results)"
   ]
  },
  {
   "cell_type": "code",
   "execution_count": null,
   "metadata": {},
   "outputs": [],
   "source": [
    "node = np.random.randint(0, 300)\n",
    "\n",
    "print('Node: ', node, 'ID: ', name_nodes[node])\n",
    "pd.DataFrame(unnormalized_prediction[node,:].detach().numpy()).plot()\n",
    "swmm_heads_pd.iloc[:,node].plot()\n",
    "\n",
    "\n",
    "import matplotlib.pyplot as plt\n",
    "a = pd.DataFrame(unnormalized_rollout[node,:].detach().numpy())\n",
    "b = pd.DataFrame(swmm_heads_pd.iloc[:,node])\n",
    "\n",
    "fig, ax = plt.subplots()\n",
    "\n",
    "ax.plot(a)\n",
    "ax.plot(b)\n",
    "\n",
    "plt.show()"
   ]
  },
  {
   "cell_type": "code",
   "execution_count": null,
   "metadata": {},
   "outputs": [],
   "source": [
    "val_event.name_simulation"
   ]
  },
  {
   "cell_type": "code",
   "execution_count": null,
   "metadata": {},
   "outputs": [],
   "source": [
    "norm_sim_in_window"
   ]
  },
  {
   "cell_type": "code",
   "execution_count": null,
   "metadata": {},
   "outputs": [],
   "source": [
    "win = normalized_training_windows[0]"
   ]
  },
  {
   "cell_type": "code",
   "execution_count": null,
   "metadata": {},
   "outputs": [],
   "source": [
    "gnn_model = GNNModel()"
   ]
  },
  {
   "cell_type": "code",
   "execution_count": null,
   "metadata": {},
   "outputs": [],
   "source": [
    "gnn_model(win)"
   ]
  },
  {
   "cell_type": "code",
   "execution_count": null,
   "metadata": {},
   "outputs": [],
   "source": [
    "norm_event_in_windows[0]"
   ]
  },
  {
   "cell_type": "code",
   "execution_count": 21,
   "metadata": {},
   "outputs": [
    {
     "data": {
      "text/plain": [
       "['j_9006F',\n",
       " 'j_90334',\n",
       " 'j_90335',\n",
       " 'j_90336',\n",
       " 'j_90363',\n",
       " 'j_90364',\n",
       " 'j_90365',\n",
       " 'j_90366',\n",
       " 'j_90367',\n",
       " 'j_90368',\n",
       " 'j_90369',\n",
       " 'j_90370',\n",
       " 'j_90371',\n",
       " 'j_90372',\n",
       " 'j_90373',\n",
       " 'j_90374',\n",
       " 'j_90375',\n",
       " 'j_90376',\n",
       " 'j_90377',\n",
       " 'j_90378',\n",
       " 'j_90379',\n",
       " 'j_90380',\n",
       " 'j_90381',\n",
       " 'j_90382',\n",
       " 'j_90383',\n",
       " 'j_90384',\n",
       " 'j_90385',\n",
       " 'j_90386',\n",
       " 'j_90387',\n",
       " 'j_90388',\n",
       " 'j_90389',\n",
       " 'j_90390',\n",
       " 'j_90391',\n",
       " 'j_90392',\n",
       " 'j_90393',\n",
       " 'j_90394',\n",
       " 'j_90395',\n",
       " 'j_90396',\n",
       " 'j_90397',\n",
       " 'j_90398',\n",
       " 'j_90399',\n",
       " 'j_90400',\n",
       " 'j_90401',\n",
       " 'j_90402',\n",
       " 'j_90403',\n",
       " 'j_90404',\n",
       " 'j_90405',\n",
       " 'j_90406',\n",
       " 'j_90407',\n",
       " 'j_90408',\n",
       " 'j_90427',\n",
       " 'j_90428',\n",
       " 'j_90430',\n",
       " 'j_90433',\n",
       " 'j_90434',\n",
       " 'j_90435',\n",
       " 'j_90436',\n",
       " 'j_90437',\n",
       " 'j_90438',\n",
       " 'j_90439',\n",
       " 'j_90440',\n",
       " 'j_90441',\n",
       " 'j_90442',\n",
       " 'j_90443',\n",
       " 'j_90444',\n",
       " 'j_90445',\n",
       " 'j_90446',\n",
       " 'j_90447',\n",
       " 'j_90448',\n",
       " 'j_90449',\n",
       " 'j_90450',\n",
       " 'j_90451',\n",
       " 'j_90452',\n",
       " 'j_90453',\n",
       " 'j_90454',\n",
       " 'j_90455',\n",
       " 'j_90456',\n",
       " 'j_90457',\n",
       " 'j_90459',\n",
       " 'j_90460',\n",
       " 'j_90461',\n",
       " 'j_90462',\n",
       " 'j_90463',\n",
       " 'j_90464',\n",
       " 'j_90465',\n",
       " 'j_90466',\n",
       " 'j_90467',\n",
       " 'j_90468',\n",
       " 'j_90469',\n",
       " 'j_90470',\n",
       " 'j_90471',\n",
       " 'j_90477',\n",
       " 'j_90478',\n",
       " 'j_90479',\n",
       " 'j_90480',\n",
       " 'j_90481',\n",
       " 'j_90482',\n",
       " 'j_90483',\n",
       " 'j_90484',\n",
       " 'j_90485',\n",
       " 'j_90486',\n",
       " 'j_90487',\n",
       " 'j_90488',\n",
       " 'j_90489',\n",
       " 'j_90490',\n",
       " 'j_90491',\n",
       " 'j_90492',\n",
       " 'j_90493',\n",
       " 'j_90494',\n",
       " 'j_90495',\n",
       " 'j_90496',\n",
       " 'j_90497',\n",
       " 'j_90498',\n",
       " 'j_90499',\n",
       " 'j_90500',\n",
       " 'j_90501',\n",
       " 'j_90502',\n",
       " 'j_90503',\n",
       " 'j_90504',\n",
       " 'j_90505',\n",
       " 'j_90506',\n",
       " 'j_90507',\n",
       " 'j_90508',\n",
       " 'j_90509',\n",
       " 'j_90510',\n",
       " 'j_90511',\n",
       " 'j_90512',\n",
       " 'j_90513',\n",
       " 'j_90514',\n",
       " 'j_90515',\n",
       " 'j_90516',\n",
       " 'j_90517',\n",
       " 'j_90518',\n",
       " 'j_90519',\n",
       " 'j_90520',\n",
       " 'j_90521',\n",
       " 'j_90522',\n",
       " 'j_90523',\n",
       " 'j_90524',\n",
       " 'j_90525',\n",
       " 'j_90526',\n",
       " 'j_90527',\n",
       " 'j_90549',\n",
       " 'j_90550',\n",
       " 'j_90551',\n",
       " 'j_90553',\n",
       " 'j_90554',\n",
       " 'j_90555',\n",
       " 'j_90556',\n",
       " 'j_90557',\n",
       " 'j_90558',\n",
       " 'j_90559',\n",
       " 'j_90560',\n",
       " 'j_90561',\n",
       " 'j_90562',\n",
       " 'j_90563',\n",
       " 'j_90564',\n",
       " 'j_90565',\n",
       " 'j_90566',\n",
       " 'j_90567',\n",
       " 'j_90568',\n",
       " 'j_90569',\n",
       " 'j_90570',\n",
       " 'j_90571',\n",
       " 'j_90572',\n",
       " 'j_90573',\n",
       " 'j_90574',\n",
       " 'j_90575',\n",
       " 'j_90576',\n",
       " 'j_90577',\n",
       " 'j_90578',\n",
       " 'j_90579',\n",
       " 'j_90580',\n",
       " 'j_90581',\n",
       " 'j_90582',\n",
       " 'j_90583',\n",
       " 'j_90584',\n",
       " 'j_90585',\n",
       " 'j_90586',\n",
       " 'j_90587',\n",
       " 'j_90588',\n",
       " 'j_90589',\n",
       " 'j_90590',\n",
       " 'j_90591',\n",
       " 'j_90592',\n",
       " 'j_90593',\n",
       " 'j_90594',\n",
       " 'j_90595',\n",
       " 'j_90596',\n",
       " 'j_90597',\n",
       " 'j_90598',\n",
       " 'j_90599',\n",
       " 'j_90600',\n",
       " 'j_90601',\n",
       " 'j_90602',\n",
       " 'j_90603',\n",
       " 'j_90604',\n",
       " 'j_90605',\n",
       " 'j_90606',\n",
       " 'j_90607',\n",
       " 'j_90608',\n",
       " 'j_90609',\n",
       " 'j_90610',\n",
       " 'j_90611',\n",
       " 'j_90612',\n",
       " 'j_90613',\n",
       " 'j_90615',\n",
       " 'j_90616',\n",
       " 'j_90617',\n",
       " 'j_90618',\n",
       " 'j_90619',\n",
       " 'j_90620',\n",
       " 'j_90621',\n",
       " 'j_90623',\n",
       " 'j_90624',\n",
       " 'j_90625',\n",
       " 'j_90626',\n",
       " 'j_90627',\n",
       " 'j_90628',\n",
       " 'j_90629',\n",
       " 'j_90630',\n",
       " 'j_90631',\n",
       " 'j_90632',\n",
       " 'j_90633',\n",
       " 'j_90634',\n",
       " 'j_90635',\n",
       " 'j_90636',\n",
       " 'j_90637',\n",
       " 'j_90638',\n",
       " 'j_90639',\n",
       " 'j_90640',\n",
       " 'j_90641',\n",
       " 'j_90642',\n",
       " 'j_90643',\n",
       " 'j_90644',\n",
       " 'j_90645',\n",
       " 'j_90646',\n",
       " 'j_90647',\n",
       " 'j_90648',\n",
       " 'j_90649',\n",
       " 'j_90650',\n",
       " 'j_90651',\n",
       " 'j_90652',\n",
       " 'j_90653',\n",
       " 'j_90654',\n",
       " 'j_90655',\n",
       " 'j_90656',\n",
       " 'j_90657',\n",
       " 'j_90658',\n",
       " 'j_90659',\n",
       " 'j_90662',\n",
       " 'j_90663',\n",
       " 'j_90664',\n",
       " 'j_90665',\n",
       " 'j_90669',\n",
       " 'j_90670',\n",
       " 'j_90671',\n",
       " 'j_90672',\n",
       " 'j_90673',\n",
       " 'j_90674',\n",
       " 'j_90675',\n",
       " 'j_90676',\n",
       " 'j_90677',\n",
       " 'j_90678',\n",
       " 'j_90679',\n",
       " 'j_90680',\n",
       " 'j_90681',\n",
       " 'j_90682',\n",
       " 'j_90683',\n",
       " 'j_90684',\n",
       " 'j_90685',\n",
       " 'j_90686',\n",
       " 'j_90688',\n",
       " 'j_90689',\n",
       " 'j_90690',\n",
       " 'j_90691',\n",
       " 'j_90692',\n",
       " 'j_90693',\n",
       " 'j_90694',\n",
       " 'j_90695',\n",
       " 'j_90696',\n",
       " 'j_90697',\n",
       " 'j_90698',\n",
       " 'j_90699',\n",
       " 'j_90700',\n",
       " 'j_90701',\n",
       " 'j_90702',\n",
       " 'j_90703',\n",
       " 'j_90704',\n",
       " 'j_90705',\n",
       " 'j_90706',\n",
       " 'j_90707',\n",
       " 'j_90708',\n",
       " 'j_90709',\n",
       " 'j_90710',\n",
       " 'j_90724',\n",
       " 'j_90725',\n",
       " 'j_90726',\n",
       " 'j_90727',\n",
       " 'j_90728',\n",
       " 'j_90729',\n",
       " 'j_90730',\n",
       " 'j_90731',\n",
       " 'j_90732',\n",
       " 'j_90733',\n",
       " 'j_91272',\n",
       " 'j_91273',\n",
       " 'j_91274',\n",
       " 'j_91275',\n",
       " 'j_91276',\n",
       " 'j_91277',\n",
       " 'j_91278',\n",
       " 'j_91279',\n",
       " 'j_91292',\n",
       " 'j_91293',\n",
       " 'j_91294',\n",
       " 'j_90552',\n",
       " 'j_90431']"
      ]
     },
     "execution_count": 21,
     "metadata": {},
     "output_type": "execute_result"
    }
   ],
   "source": [
    "validation_windows[0].name_nodes"
   ]
  },
  {
   "cell_type": "code",
   "execution_count": null,
   "metadata": {},
   "outputs": [],
   "source": [
    "pred = torch.zeros(20, 15)  "
   ]
  },
  {
   "cell_type": "code",
   "execution_count": null,
   "metadata": {},
   "outputs": [],
   "source": [
    "steps_behind"
   ]
  }
 ],
 "metadata": {
  "kernelspec": {
   "display_name": "Python 3.10.2 ('third_SWMM': venv)",
   "language": "python",
   "name": "python3"
  },
  "language_info": {
   "codemirror_mode": {
    "name": "ipython",
    "version": 3
   },
   "file_extension": ".py",
   "mimetype": "text/x-python",
   "name": "python",
   "nbconvert_exporter": "python",
   "pygments_lexer": "ipython3",
   "version": "3.10.2"
  },
  "orig_nbformat": 4,
  "vscode": {
   "interpreter": {
    "hash": "f88404f1e87403b1e488e351250feb539bee03edfc67c7328abb8c80a54639ed"
   }
  }
 },
 "nbformat": 4,
 "nbformat_minor": 2
}
