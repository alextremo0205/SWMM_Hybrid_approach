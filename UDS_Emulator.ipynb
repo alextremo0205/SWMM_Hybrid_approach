{
 "cells": [
  {
   "cell_type": "markdown",
   "metadata": {},
   "source": [
    "# UDS emulator "
   ]
  },
  {
   "cell_type": "markdown",
   "metadata": {},
   "source": [
    "## Preliminaries"
   ]
  },
  {
   "cell_type": "code",
   "execution_count": 1,
   "metadata": {},
   "outputs": [],
   "source": [
    "from my_imports import *"
   ]
  },
  {
   "cell_type": "code",
   "execution_count": 2,
   "metadata": {},
   "outputs": [],
   "source": [
    "yaml_path = 'config_file.yaml'\n",
    "yaml_data = utils.load_yaml(yaml_path)\n",
    "\n",
    "# Directories\n",
    "training_simulations_path   = yaml_data['training_simulations_path']\n",
    "validation_simulations_path = yaml_data['validation_simulations_path']\n",
    "\n",
    "inp_path =  yaml_data['inp_path']"
   ]
  },
  {
   "cell_type": "markdown",
   "metadata": {},
   "source": [
    "## Create simulation objects from data"
   ]
  },
  {
   "cell_type": "code",
   "execution_count": 3,
   "metadata": {},
   "outputs": [
    {
     "name": "stdout",
     "output_type": "stream",
     "text": [
      "Number of training simulations:  163\n",
      "Number of validation simulations:  29\n"
     ]
    }
   ],
   "source": [
    "list_of_training_simulations    = os.listdir(training_simulations_path)\n",
    "list_of_validation_simulations  = os.listdir(validation_simulations_path)\n",
    "\n",
    "print('Number of training simulations: ', len(list_of_training_simulations))\n",
    "print('Number of validation simulations: ', len(list_of_validation_simulations))\n"
   ]
  },
  {
   "cell_type": "code",
   "execution_count": 4,
   "metadata": {},
   "outputs": [
    {
     "name": "stdout",
     "output_type": "stream",
     "text": [
      "The file does not have [STORAGE]\n",
      "\n",
      "The file does not have '[PUMPS]\\n'\n",
      "The file does not have '[ORIFICES]\\n'\n",
      "The file does not have '[WEIRS]\\n'\n"
     ]
    }
   ],
   "source": [
    "num_events = 5\n",
    "\n",
    "validation_simulations = utils.extract_simulations_from_folders(validation_simulations_path, inp_path, max_events =num_events)\n",
    "\n",
    "validation_windows = []\n",
    "events_to_validate= list(range(num_events))\n",
    "for event in events_to_validate:\n",
    "    sim = validation_simulations[event]\n",
    "    validation_windows += sim.get_all_windows(steps_ahead = 3)"
   ]
  },
  {
   "cell_type": "code",
   "execution_count": 5,
   "metadata": {},
   "outputs": [
    {
     "name": "stdout",
     "output_type": "stream",
     "text": [
      "The file does not have [STORAGE]\n",
      "\n",
      "The file does not have '[PUMPS]\\n'\n",
      "The file does not have '[ORIFICES]\\n'\n",
      "The file does not have '[WEIRS]\\n'\n"
     ]
    }
   ],
   "source": [
    "num_events = 5\n",
    "training_simulations = utils.extract_simulations_from_folders(training_simulations_path, inp_path, max_events = num_events)\n",
    "\n",
    "training_windows = []\n",
    "events_to_train= list(range(num_events))\n",
    "for event in events_to_train:\n",
    "    sim = training_simulations[event]\n",
    "    training_windows += sim.get_all_windows(steps_ahead = 3)"
   ]
  },
  {
   "cell_type": "code",
   "execution_count": 6,
   "metadata": {},
   "outputs": [],
   "source": [
    "normalizer = Normalizer(training_windows)"
   ]
  },
  {
   "cell_type": "code",
   "execution_count": 7,
   "metadata": {},
   "outputs": [],
   "source": [
    "normalized_training_windows = normalizer.get_list_normalized_training_windows()\n",
    "training_loader = DataLoader(normalized_training_windows, batch_size=32, shuffle = True)"
   ]
  },
  {
   "cell_type": "code",
   "execution_count": 8,
   "metadata": {},
   "outputs": [],
   "source": [
    "normalized_validation_windows = [normalizer.normalize_window(val_win) for val_win in validation_windows]\n",
    "validation_loader = DataLoader(normalized_validation_windows, batch_size=32)"
   ]
  },
  {
   "cell_type": "code",
   "execution_count": 9,
   "metadata": {},
   "outputs": [],
   "source": [
    "gnn_model = GNNModel()\n",
    "optimizer = optim.Adam(gnn_model.parameters())\n",
    "scheduler = optim.lr_scheduler.ExponentialLR(optimizer, gamma=0.9)\n",
    "loss_fn = nn.MSELoss()"
   ]
  },
  {
   "cell_type": "code",
   "execution_count": 10,
   "metadata": {},
   "outputs": [
    {
     "name": "stdout",
     "output_type": "stream",
     "text": [
      "train() called:model=GNNModel, opt=Adam(lr=0.001000), epochs=5,device=cpu\n",
      "\n",
      "Epoch   1/  5, train loss:  0.30, val loss:  0.21\n",
      "Epoch   2/  5, train loss:  0.30, val loss:  0.21\n",
      "Epoch   4/  5, train loss:  0.30, val loss:  0.21\n",
      "\n",
      "Time total:     44.76 sec\n",
      "Time per epoch:  8.95 sec\n"
     ]
    }
   ],
   "source": [
    "history = train(\n",
    "    model = gnn_model,\n",
    "    optimizer = optimizer,\n",
    "    scheduler = scheduler,\n",
    "    loss_fn = loss_fn,\n",
    "    train_dl = training_loader,\n",
    "    val_dl = validation_loader,\n",
    "    epochs = 5,\n",
    "    device = 'cpu',\n",
    "    report_freq = 2\n",
    "    )"
   ]
  },
  {
   "cell_type": "code",
   "execution_count": 11,
   "metadata": {},
   "outputs": [
    {
     "data": {
      "text/html": [
       "<div>\n",
       "<style scoped>\n",
       "    .dataframe tbody tr th:only-of-type {\n",
       "        vertical-align: middle;\n",
       "    }\n",
       "\n",
       "    .dataframe tbody tr th {\n",
       "        vertical-align: top;\n",
       "    }\n",
       "\n",
       "    .dataframe thead th {\n",
       "        text-align: right;\n",
       "    }\n",
       "</style>\n",
       "<table border=\"1\" class=\"dataframe\">\n",
       "  <thead>\n",
       "    <tr style=\"text-align: right;\">\n",
       "      <th></th>\n",
       "      <th>loss</th>\n",
       "      <th>val_loss</th>\n",
       "    </tr>\n",
       "  </thead>\n",
       "  <tbody>\n",
       "    <tr>\n",
       "      <th>0</th>\n",
       "      <td>0.297419</td>\n",
       "      <td>0.209497</td>\n",
       "    </tr>\n",
       "    <tr>\n",
       "      <th>1</th>\n",
       "      <td>0.297419</td>\n",
       "      <td>0.209497</td>\n",
       "    </tr>\n",
       "    <tr>\n",
       "      <th>2</th>\n",
       "      <td>0.297419</td>\n",
       "      <td>0.209497</td>\n",
       "    </tr>\n",
       "    <tr>\n",
       "      <th>3</th>\n",
       "      <td>0.297419</td>\n",
       "      <td>0.209497</td>\n",
       "    </tr>\n",
       "    <tr>\n",
       "      <th>4</th>\n",
       "      <td>0.297419</td>\n",
       "      <td>0.209497</td>\n",
       "    </tr>\n",
       "  </tbody>\n",
       "</table>\n",
       "</div>"
      ],
      "text/plain": [
       "       loss  val_loss\n",
       "0  0.297419  0.209497\n",
       "1  0.297419  0.209497\n",
       "2  0.297419  0.209497\n",
       "3  0.297419  0.209497\n",
       "4  0.297419  0.209497"
      ]
     },
     "execution_count": 11,
     "metadata": {},
     "output_type": "execute_result"
    }
   ],
   "source": [
    "pd.DataFrame(history)"
   ]
  },
  {
   "cell_type": "markdown",
   "metadata": {},
   "source": [
    "#### Rolled-out validation event"
   ]
  },
  {
   "cell_type": "markdown",
   "metadata": {},
   "source": [
    "## Separate samples in training/validation/testing"
   ]
  },
  {
   "cell_type": "code",
   "execution_count": null,
   "metadata": {},
   "outputs": [
    {
     "ename": "",
     "evalue": "",
     "output_type": "error",
     "traceback": [
      "\u001b[1;31mFailed to start the Kernel. \n",
      "Unable to start Kernel 'third_SWMM (Python 3.10.2)' due to connection timeout. \n",
      "View Jupyter <a href='command:jupyter.viewOutput'>log</a> for further details."
     ]
    }
   ],
   "source": []
  },
  {
   "cell_type": "code",
   "execution_count": null,
   "metadata": {},
   "outputs": [
    {
     "ename": "",
     "evalue": "",
     "output_type": "error",
     "traceback": [
      "\u001b[1;31mFailed to start the Kernel. \n",
      "Unable to start Kernel 'third_SWMM (Python 3.10.2)' due to connection timeout. \n",
      "View Jupyter <a href='command:jupyter.viewOutput'>log</a> for further details."
     ]
    }
   ],
   "source": []
  },
  {
   "cell_type": "markdown",
   "metadata": {},
   "source": [
    "## Data preprocessing"
   ]
  },
  {
   "cell_type": "markdown",
   "metadata": {},
   "source": [
    "### Normalization"
   ]
  },
  {
   "cell_type": "code",
   "execution_count": null,
   "metadata": {},
   "outputs": [
    {
     "ename": "",
     "evalue": "",
     "output_type": "error",
     "traceback": [
      "\u001b[1;31mFailed to start the Kernel. \n",
      "Unable to start Kernel 'third_SWMM (Python 3.10.2)' due to connection timeout. \n",
      "View Jupyter <a href='command:jupyter.viewOutput'>log</a> for further details."
     ]
    }
   ],
   "source": []
  },
  {
   "cell_type": "markdown",
   "metadata": {},
   "source": [
    "### Visualization"
   ]
  },
  {
   "cell_type": "markdown",
   "metadata": {},
   "source": [
    "## Model"
   ]
  },
  {
   "cell_type": "markdown",
   "metadata": {},
   "source": [
    "### Artificial Neural Network definition"
   ]
  },
  {
   "cell_type": "markdown",
   "metadata": {},
   "source": [
    "### Model definition"
   ]
  },
  {
   "cell_type": "markdown",
   "metadata": {},
   "source": [
    "### Dynamic emulator"
   ]
  },
  {
   "cell_type": "code",
   "execution_count": null,
   "metadata": {},
   "outputs": [
    {
     "ename": "",
     "evalue": "",
     "output_type": "error",
     "traceback": [
      "\u001b[1;31mFailed to start the Kernel. \n",
      "Unable to start Kernel 'third_SWMM (Python 3.10.2)' due to connection timeout. \n",
      "View Jupyter <a href='command:jupyter.viewOutput'>log</a> for further details."
     ]
    }
   ],
   "source": []
  },
  {
   "cell_type": "code",
   "execution_count": null,
   "metadata": {},
   "outputs": [
    {
     "ename": "",
     "evalue": "",
     "output_type": "error",
     "traceback": [
      "\u001b[1;31mFailed to start the Kernel. \n",
      "Unable to start Kernel 'third_SWMM (Python 3.10.2)' due to connection timeout. \n",
      "View Jupyter <a href='command:jupyter.viewOutput'>log</a> for further details."
     ]
    }
   ],
   "source": []
  },
  {
   "cell_type": "markdown",
   "metadata": {},
   "source": [
    "### Model training"
   ]
  },
  {
   "cell_type": "markdown",
   "metadata": {},
   "source": [
    "### Model validation"
   ]
  },
  {
   "cell_type": "markdown",
   "metadata": {},
   "source": [
    "### Model testing"
   ]
  },
  {
   "cell_type": "markdown",
   "metadata": {},
   "source": [
    "## Predictions visualization"
   ]
  },
  {
   "cell_type": "markdown",
   "metadata": {},
   "source": [
    "## Export model"
   ]
  },
  {
   "cell_type": "markdown",
   "metadata": {},
   "source": [
    "# Scratchpad"
   ]
  },
  {
   "cell_type": "code",
   "execution_count": null,
   "metadata": {},
   "outputs": [],
   "source": []
  }
 ],
 "metadata": {
  "interpreter": {
   "hash": "f88404f1e87403b1e488e351250feb539bee03edfc67c7328abb8c80a54639ed"
  },
  "kernelspec": {
   "display_name": "Python 3.10.2 ('third_SWMM': venv)",
   "language": "python",
   "name": "python3"
  },
  "language_info": {
   "codemirror_mode": {
    "name": "ipython",
    "version": 3
   },
   "file_extension": ".py",
   "mimetype": "text/x-python",
   "name": "python",
   "nbconvert_exporter": "python",
   "pygments_lexer": "ipython3",
   "version": "3.10.2"
  },
  "orig_nbformat": 4
 },
 "nbformat": 4,
 "nbformat_minor": 2
}
