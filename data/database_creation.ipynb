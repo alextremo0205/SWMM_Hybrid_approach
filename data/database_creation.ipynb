{
 "cells": [
  {
   "cell_type": "markdown",
   "id": "ea70097a-8a1b-4cf0-9afd-e2a684a42440",
   "metadata": {},
   "source": [
    "# SWMM database\n",
    "Create and export hydraulic head and runoff simulations for synthetic or real rainfalls"
   ]
  },
  {
   "cell_type": "markdown",
   "id": "8705c2c1",
   "metadata": {},
   "source": [
    "## Imports and directories"
   ]
  },
  {
   "cell_type": "markdown",
   "id": "8b6fda85",
   "metadata": {},
   "source": [
    "Imports"
   ]
  },
  {
   "cell_type": "code",
   "execution_count": 1,
   "id": "7c1a3b68-0aba-488b-b89b-6305619abe2b",
   "metadata": {
    "execution": {
     "iopub.execute_input": "2022-05-25T14:14:22.464055Z",
     "iopub.status.busy": "2022-05-25T14:14:22.464055Z",
     "iopub.status.idle": "2022-05-25T14:14:22.482224Z",
     "shell.execute_reply": "2022-05-25T14:14:22.481286Z",
     "shell.execute_reply.started": "2022-05-25T14:14:22.464055Z"
    },
    "tags": []
   },
   "outputs": [],
   "source": [
    "import pickle\n",
    "import numpy as np\n",
    "\n",
    "import plotly.graph_objects as go\n",
    "\n",
    "#Custom utils\n",
    "import utils_data as ud"
   ]
  },
  {
   "cell_type": "markdown",
   "id": "8e16a71b",
   "metadata": {},
   "source": [
    "Configuration information"
   ]
  },
  {
   "cell_type": "code",
   "execution_count": 2,
   "id": "3bde9e89",
   "metadata": {},
   "outputs": [],
   "source": [
    "config_info = ud.import_config_from_yaml('database_config.yaml')\n",
    "\n",
    "#Directories\n",
    "rainfall_dats_directory = config_info['rainfall_dats_directory']\n",
    "\n",
    "training_rainfall_dats_directory    =   rainfall_dats_directory + '/training'\n",
    "validation_rainfall_dats_directory  =   rainfall_dats_directory + '/validation'\n",
    "testing_rainfall_dats_directory     =   rainfall_dats_directory + '/testing'\n",
    "\n",
    "\n",
    "simulations_path = config_info['simulations_directory']\n",
    "\n",
    "training_simulations_path   = simulations_path + '/training'\n",
    "validation_simulations_path = simulations_path + '/validation'\n",
    "testing_simulations_path    = simulations_path + '/testing'\n",
    "\n",
    "\n",
    "inp_path = config_info['inp_directory']\n",
    "\n",
    "#Variables\n",
    "n_synthetic_rainfalls = config_info['n_synthetic_rainfalls']\n",
    "block_values = config_info['block_values']\n",
    "block_durations = config_info['block_durations']\n",
    "\n",
    "n_real_rains = config_info['n_real_rains']"
   ]
  },
  {
   "cell_type": "markdown",
   "id": "740adc6d",
   "metadata": {},
   "source": [
    "## Synthetic rainfalls"
   ]
  },
  {
   "cell_type": "markdown",
   "id": "6455f37d",
   "metadata": {},
   "source": [
    "1. Create synthetic rainfalls"
   ]
  },
  {
   "cell_type": "markdown",
   "id": "d4a54f5f",
   "metadata": {},
   "source": [
    "Block rainfalls"
   ]
  },
  {
   "cell_type": "code",
   "execution_count": 3,
   "id": "77e95476",
   "metadata": {},
   "outputs": [],
   "source": [
    "block_rain = ud.rain_blocks(block_values, block_durations, dt=5)"
   ]
  },
  {
   "cell_type": "code",
   "execution_count": 4,
   "id": "3ab425be",
   "metadata": {},
   "outputs": [
    {
     "data": {
      "application/vnd.plotly.v1+json": {
       "config": {
        "plotlyServerURL": "https://plot.ly"
       },
       "data": [
        {
         "type": "bar",
         "x": [
          "1900-01-01T00:05:00",
          "1900-01-01T00:10:00",
          "1900-01-01T00:15:00",
          "1900-01-01T00:20:00",
          "1900-01-01T00:25:00",
          "1900-01-01T00:30:00",
          "1900-01-01T00:35:00",
          "1900-01-01T00:40:00",
          "1900-01-01T00:45:00",
          "1900-01-01T00:50:00",
          "1900-01-01T00:55:00",
          "1900-01-01T01:00:00",
          "1900-01-01T01:05:00",
          "1900-01-01T01:10:00",
          "1900-01-01T01:15:00",
          "1900-01-01T01:20:00",
          "1900-01-01T01:25:00",
          "1900-01-01T01:30:00",
          "1900-01-01T01:35:00",
          "1900-01-01T01:40:00",
          "1900-01-01T01:45:00",
          "1900-01-01T01:50:00",
          "1900-01-01T01:55:00",
          "1900-01-01T02:00:00",
          "1900-01-01T02:05:00",
          "1900-01-01T02:10:00",
          "1900-01-01T02:15:00",
          "1900-01-01T02:20:00",
          "1900-01-01T02:25:00",
          "1900-01-01T02:30:00",
          "1900-01-01T02:35:00",
          "1900-01-01T02:40:00",
          "1900-01-01T02:45:00",
          "1900-01-01T02:50:00"
         ],
         "y": [
          0,
          0,
          0,
          0,
          20,
          20,
          20,
          20,
          20,
          20,
          20,
          20,
          20,
          20,
          20,
          20,
          0,
          0,
          0,
          0,
          0,
          0,
          0,
          0,
          0,
          0,
          0,
          0,
          0,
          0,
          0,
          0,
          0,
          0
         ]
        }
       ],
       "layout": {
        "font": {
         "family": "Times new roman",
         "size": 18
        },
        "height": 400,
        "template": {
         "data": {
          "bar": [
           {
            "error_x": {
             "color": "#2a3f5f"
            },
            "error_y": {
             "color": "#2a3f5f"
            },
            "marker": {
             "line": {
              "color": "#E5ECF6",
              "width": 0.5
             },
             "pattern": {
              "fillmode": "overlay",
              "size": 10,
              "solidity": 0.2
             }
            },
            "type": "bar"
           }
          ],
          "barpolar": [
           {
            "marker": {
             "line": {
              "color": "#E5ECF6",
              "width": 0.5
             },
             "pattern": {
              "fillmode": "overlay",
              "size": 10,
              "solidity": 0.2
             }
            },
            "type": "barpolar"
           }
          ],
          "carpet": [
           {
            "aaxis": {
             "endlinecolor": "#2a3f5f",
             "gridcolor": "white",
             "linecolor": "white",
             "minorgridcolor": "white",
             "startlinecolor": "#2a3f5f"
            },
            "baxis": {
             "endlinecolor": "#2a3f5f",
             "gridcolor": "white",
             "linecolor": "white",
             "minorgridcolor": "white",
             "startlinecolor": "#2a3f5f"
            },
            "type": "carpet"
           }
          ],
          "choropleth": [
           {
            "colorbar": {
             "outlinewidth": 0,
             "ticks": ""
            },
            "type": "choropleth"
           }
          ],
          "contour": [
           {
            "colorbar": {
             "outlinewidth": 0,
             "ticks": ""
            },
            "colorscale": [
             [
              0,
              "#0d0887"
             ],
             [
              0.1111111111111111,
              "#46039f"
             ],
             [
              0.2222222222222222,
              "#7201a8"
             ],
             [
              0.3333333333333333,
              "#9c179e"
             ],
             [
              0.4444444444444444,
              "#bd3786"
             ],
             [
              0.5555555555555556,
              "#d8576b"
             ],
             [
              0.6666666666666666,
              "#ed7953"
             ],
             [
              0.7777777777777778,
              "#fb9f3a"
             ],
             [
              0.8888888888888888,
              "#fdca26"
             ],
             [
              1,
              "#f0f921"
             ]
            ],
            "type": "contour"
           }
          ],
          "contourcarpet": [
           {
            "colorbar": {
             "outlinewidth": 0,
             "ticks": ""
            },
            "type": "contourcarpet"
           }
          ],
          "heatmap": [
           {
            "colorbar": {
             "outlinewidth": 0,
             "ticks": ""
            },
            "colorscale": [
             [
              0,
              "#0d0887"
             ],
             [
              0.1111111111111111,
              "#46039f"
             ],
             [
              0.2222222222222222,
              "#7201a8"
             ],
             [
              0.3333333333333333,
              "#9c179e"
             ],
             [
              0.4444444444444444,
              "#bd3786"
             ],
             [
              0.5555555555555556,
              "#d8576b"
             ],
             [
              0.6666666666666666,
              "#ed7953"
             ],
             [
              0.7777777777777778,
              "#fb9f3a"
             ],
             [
              0.8888888888888888,
              "#fdca26"
             ],
             [
              1,
              "#f0f921"
             ]
            ],
            "type": "heatmap"
           }
          ],
          "heatmapgl": [
           {
            "colorbar": {
             "outlinewidth": 0,
             "ticks": ""
            },
            "colorscale": [
             [
              0,
              "#0d0887"
             ],
             [
              0.1111111111111111,
              "#46039f"
             ],
             [
              0.2222222222222222,
              "#7201a8"
             ],
             [
              0.3333333333333333,
              "#9c179e"
             ],
             [
              0.4444444444444444,
              "#bd3786"
             ],
             [
              0.5555555555555556,
              "#d8576b"
             ],
             [
              0.6666666666666666,
              "#ed7953"
             ],
             [
              0.7777777777777778,
              "#fb9f3a"
             ],
             [
              0.8888888888888888,
              "#fdca26"
             ],
             [
              1,
              "#f0f921"
             ]
            ],
            "type": "heatmapgl"
           }
          ],
          "histogram": [
           {
            "marker": {
             "pattern": {
              "fillmode": "overlay",
              "size": 10,
              "solidity": 0.2
             }
            },
            "type": "histogram"
           }
          ],
          "histogram2d": [
           {
            "colorbar": {
             "outlinewidth": 0,
             "ticks": ""
            },
            "colorscale": [
             [
              0,
              "#0d0887"
             ],
             [
              0.1111111111111111,
              "#46039f"
             ],
             [
              0.2222222222222222,
              "#7201a8"
             ],
             [
              0.3333333333333333,
              "#9c179e"
             ],
             [
              0.4444444444444444,
              "#bd3786"
             ],
             [
              0.5555555555555556,
              "#d8576b"
             ],
             [
              0.6666666666666666,
              "#ed7953"
             ],
             [
              0.7777777777777778,
              "#fb9f3a"
             ],
             [
              0.8888888888888888,
              "#fdca26"
             ],
             [
              1,
              "#f0f921"
             ]
            ],
            "type": "histogram2d"
           }
          ],
          "histogram2dcontour": [
           {
            "colorbar": {
             "outlinewidth": 0,
             "ticks": ""
            },
            "colorscale": [
             [
              0,
              "#0d0887"
             ],
             [
              0.1111111111111111,
              "#46039f"
             ],
             [
              0.2222222222222222,
              "#7201a8"
             ],
             [
              0.3333333333333333,
              "#9c179e"
             ],
             [
              0.4444444444444444,
              "#bd3786"
             ],
             [
              0.5555555555555556,
              "#d8576b"
             ],
             [
              0.6666666666666666,
              "#ed7953"
             ],
             [
              0.7777777777777778,
              "#fb9f3a"
             ],
             [
              0.8888888888888888,
              "#fdca26"
             ],
             [
              1,
              "#f0f921"
             ]
            ],
            "type": "histogram2dcontour"
           }
          ],
          "mesh3d": [
           {
            "colorbar": {
             "outlinewidth": 0,
             "ticks": ""
            },
            "type": "mesh3d"
           }
          ],
          "parcoords": [
           {
            "line": {
             "colorbar": {
              "outlinewidth": 0,
              "ticks": ""
             }
            },
            "type": "parcoords"
           }
          ],
          "pie": [
           {
            "automargin": true,
            "type": "pie"
           }
          ],
          "scatter": [
           {
            "fillpattern": {
             "fillmode": "overlay",
             "size": 10,
             "solidity": 0.2
            },
            "type": "scatter"
           }
          ],
          "scatter3d": [
           {
            "line": {
             "colorbar": {
              "outlinewidth": 0,
              "ticks": ""
             }
            },
            "marker": {
             "colorbar": {
              "outlinewidth": 0,
              "ticks": ""
             }
            },
            "type": "scatter3d"
           }
          ],
          "scattercarpet": [
           {
            "marker": {
             "colorbar": {
              "outlinewidth": 0,
              "ticks": ""
             }
            },
            "type": "scattercarpet"
           }
          ],
          "scattergeo": [
           {
            "marker": {
             "colorbar": {
              "outlinewidth": 0,
              "ticks": ""
             }
            },
            "type": "scattergeo"
           }
          ],
          "scattergl": [
           {
            "marker": {
             "colorbar": {
              "outlinewidth": 0,
              "ticks": ""
             }
            },
            "type": "scattergl"
           }
          ],
          "scattermapbox": [
           {
            "marker": {
             "colorbar": {
              "outlinewidth": 0,
              "ticks": ""
             }
            },
            "type": "scattermapbox"
           }
          ],
          "scatterpolar": [
           {
            "marker": {
             "colorbar": {
              "outlinewidth": 0,
              "ticks": ""
             }
            },
            "type": "scatterpolar"
           }
          ],
          "scatterpolargl": [
           {
            "marker": {
             "colorbar": {
              "outlinewidth": 0,
              "ticks": ""
             }
            },
            "type": "scatterpolargl"
           }
          ],
          "scatterternary": [
           {
            "marker": {
             "colorbar": {
              "outlinewidth": 0,
              "ticks": ""
             }
            },
            "type": "scatterternary"
           }
          ],
          "surface": [
           {
            "colorbar": {
             "outlinewidth": 0,
             "ticks": ""
            },
            "colorscale": [
             [
              0,
              "#0d0887"
             ],
             [
              0.1111111111111111,
              "#46039f"
             ],
             [
              0.2222222222222222,
              "#7201a8"
             ],
             [
              0.3333333333333333,
              "#9c179e"
             ],
             [
              0.4444444444444444,
              "#bd3786"
             ],
             [
              0.5555555555555556,
              "#d8576b"
             ],
             [
              0.6666666666666666,
              "#ed7953"
             ],
             [
              0.7777777777777778,
              "#fb9f3a"
             ],
             [
              0.8888888888888888,
              "#fdca26"
             ],
             [
              1,
              "#f0f921"
             ]
            ],
            "type": "surface"
           }
          ],
          "table": [
           {
            "cells": {
             "fill": {
              "color": "#EBF0F8"
             },
             "line": {
              "color": "white"
             }
            },
            "header": {
             "fill": {
              "color": "#C8D4E3"
             },
             "line": {
              "color": "white"
             }
            },
            "type": "table"
           }
          ]
         },
         "layout": {
          "annotationdefaults": {
           "arrowcolor": "#2a3f5f",
           "arrowhead": 0,
           "arrowwidth": 1
          },
          "autotypenumbers": "strict",
          "coloraxis": {
           "colorbar": {
            "outlinewidth": 0,
            "ticks": ""
           }
          },
          "colorscale": {
           "diverging": [
            [
             0,
             "#8e0152"
            ],
            [
             0.1,
             "#c51b7d"
            ],
            [
             0.2,
             "#de77ae"
            ],
            [
             0.3,
             "#f1b6da"
            ],
            [
             0.4,
             "#fde0ef"
            ],
            [
             0.5,
             "#f7f7f7"
            ],
            [
             0.6,
             "#e6f5d0"
            ],
            [
             0.7,
             "#b8e186"
            ],
            [
             0.8,
             "#7fbc41"
            ],
            [
             0.9,
             "#4d9221"
            ],
            [
             1,
             "#276419"
            ]
           ],
           "sequential": [
            [
             0,
             "#0d0887"
            ],
            [
             0.1111111111111111,
             "#46039f"
            ],
            [
             0.2222222222222222,
             "#7201a8"
            ],
            [
             0.3333333333333333,
             "#9c179e"
            ],
            [
             0.4444444444444444,
             "#bd3786"
            ],
            [
             0.5555555555555556,
             "#d8576b"
            ],
            [
             0.6666666666666666,
             "#ed7953"
            ],
            [
             0.7777777777777778,
             "#fb9f3a"
            ],
            [
             0.8888888888888888,
             "#fdca26"
            ],
            [
             1,
             "#f0f921"
            ]
           ],
           "sequentialminus": [
            [
             0,
             "#0d0887"
            ],
            [
             0.1111111111111111,
             "#46039f"
            ],
            [
             0.2222222222222222,
             "#7201a8"
            ],
            [
             0.3333333333333333,
             "#9c179e"
            ],
            [
             0.4444444444444444,
             "#bd3786"
            ],
            [
             0.5555555555555556,
             "#d8576b"
            ],
            [
             0.6666666666666666,
             "#ed7953"
            ],
            [
             0.7777777777777778,
             "#fb9f3a"
            ],
            [
             0.8888888888888888,
             "#fdca26"
            ],
            [
             1,
             "#f0f921"
            ]
           ]
          },
          "colorway": [
           "#636efa",
           "#EF553B",
           "#00cc96",
           "#ab63fa",
           "#FFA15A",
           "#19d3f3",
           "#FF6692",
           "#B6E880",
           "#FF97FF",
           "#FECB52"
          ],
          "font": {
           "color": "#2a3f5f"
          },
          "geo": {
           "bgcolor": "white",
           "lakecolor": "white",
           "landcolor": "#E5ECF6",
           "showlakes": true,
           "showland": true,
           "subunitcolor": "white"
          },
          "hoverlabel": {
           "align": "left"
          },
          "hovermode": "closest",
          "mapbox": {
           "style": "light"
          },
          "paper_bgcolor": "white",
          "plot_bgcolor": "#E5ECF6",
          "polar": {
           "angularaxis": {
            "gridcolor": "white",
            "linecolor": "white",
            "ticks": ""
           },
           "bgcolor": "#E5ECF6",
           "radialaxis": {
            "gridcolor": "white",
            "linecolor": "white",
            "ticks": ""
           }
          },
          "scene": {
           "xaxis": {
            "backgroundcolor": "#E5ECF6",
            "gridcolor": "white",
            "gridwidth": 2,
            "linecolor": "white",
            "showbackground": true,
            "ticks": "",
            "zerolinecolor": "white"
           },
           "yaxis": {
            "backgroundcolor": "#E5ECF6",
            "gridcolor": "white",
            "gridwidth": 2,
            "linecolor": "white",
            "showbackground": true,
            "ticks": "",
            "zerolinecolor": "white"
           },
           "zaxis": {
            "backgroundcolor": "#E5ECF6",
            "gridcolor": "white",
            "gridwidth": 2,
            "linecolor": "white",
            "showbackground": true,
            "ticks": "",
            "zerolinecolor": "white"
           }
          },
          "shapedefaults": {
           "line": {
            "color": "#2a3f5f"
           }
          },
          "ternary": {
           "aaxis": {
            "gridcolor": "white",
            "linecolor": "white",
            "ticks": ""
           },
           "baxis": {
            "gridcolor": "white",
            "linecolor": "white",
            "ticks": ""
           },
           "bgcolor": "#E5ECF6",
           "caxis": {
            "gridcolor": "white",
            "linecolor": "white",
            "ticks": ""
           }
          },
          "title": {
           "x": 0.05
          },
          "xaxis": {
           "automargin": true,
           "gridcolor": "white",
           "linecolor": "white",
           "ticks": "",
           "title": {
            "standoff": 15
           },
           "zerolinecolor": "white",
           "zerolinewidth": 2
          },
          "yaxis": {
           "automargin": true,
           "gridcolor": "white",
           "linecolor": "white",
           "ticks": "",
           "title": {
            "standoff": 15
           },
           "zerolinecolor": "white",
           "zerolinewidth": 2
          }
         }
        },
        "title": {
         "text": "Synthetic hietograph"
        },
        "width": 800,
        "xaxis": {
         "title": {
          "text": "Time (h)"
         }
        },
        "yaxis": {
         "title": {
          "text": "Intensity (mm/h)"
         }
        }
       }
      }
     },
     "metadata": {},
     "output_type": "display_data"
    }
   ],
   "source": [
    "hietograph_fig = ud.hietograph(block_rain, 'Synthetic hietograph')\n",
    "hietograph_fig.show()"
   ]
  },
  {
   "cell_type": "code",
   "execution_count": 5,
   "id": "ded9e8ca",
   "metadata": {},
   "outputs": [],
   "source": [
    "ud.create_datfiles([block_rain], rainfall_dats_directory, identifier = 'block', isReal=False)"
   ]
  },
  {
   "cell_type": "markdown",
   "id": "113fc1cb",
   "metadata": {},
   "source": [
    "Alternating blocks method"
   ]
  },
  {
   "cell_type": "code",
   "execution_count": 6,
   "id": "23dd16c1",
   "metadata": {},
   "outputs": [],
   "source": [
    "alternating_random_rainfalls = ud.get_multiple_alt_blocks_rainfalls(n_synthetic_rainfalls)"
   ]
  },
  {
   "cell_type": "code",
   "execution_count": 7,
   "id": "e69860ad",
   "metadata": {},
   "outputs": [
    {
     "data": {
      "application/vnd.plotly.v1+json": {
       "config": {
        "plotlyServerURL": "https://plot.ly"
       },
       "data": [
        {
         "type": "bar",
         "x": [
          "1900-01-01T00:05:00",
          "1900-01-01T00:10:00",
          "1900-01-01T00:15:00",
          "1900-01-01T00:20:00",
          "1900-01-01T00:25:00",
          "1900-01-01T00:30:00",
          "1900-01-01T00:35:00",
          "1900-01-01T00:40:00",
          "1900-01-01T00:45:00",
          "1900-01-01T00:50:00",
          "1900-01-01T00:55:00",
          "1900-01-01T01:00:00",
          "1900-01-01T01:05:00",
          "1900-01-01T01:10:00",
          "1900-01-01T01:15:00",
          "1900-01-01T01:20:00",
          "1900-01-01T01:25:00",
          "1900-01-01T01:30:00",
          "1900-01-01T01:35:00",
          "1900-01-01T01:40:00",
          "1900-01-01T01:45:00",
          "1900-01-01T01:50:00",
          "1900-01-01T01:55:00",
          "1900-01-01T02:00:00",
          "1900-01-01T02:05:00",
          "1900-01-01T02:10:00",
          "1900-01-01T02:15:00",
          "1900-01-01T02:20:00",
          "1900-01-01T02:25:00",
          "1900-01-01T02:30:00",
          "1900-01-01T02:35:00",
          "1900-01-01T02:40:00",
          "1900-01-01T02:45:00",
          "1900-01-01T02:50:00",
          "1900-01-01T02:55:00",
          "1900-01-01T03:00:00",
          "1900-01-01T03:05:00",
          "1900-01-01T03:10:00",
          "1900-01-01T03:15:00",
          "1900-01-01T03:20:00",
          "1900-01-01T03:25:00"
         ],
         "y": [
          0,
          0,
          0,
          0,
          0,
          0,
          0,
          0,
          0,
          0,
          0,
          0,
          1.49,
          1.92,
          2.53,
          3.4,
          4.7,
          6.76,
          10.21,
          16.45,
          28.42,
          21.47,
          12.84,
          8.25,
          5.61,
          3.98,
          2.92,
          2.2,
          1.69,
          0,
          0,
          0,
          0,
          0,
          0,
          0,
          0,
          0,
          0,
          0,
          0
         ]
        }
       ],
       "layout": {
        "font": {
         "family": "Times new roman",
         "size": 18
        },
        "height": 400,
        "template": {
         "data": {
          "bar": [
           {
            "error_x": {
             "color": "#2a3f5f"
            },
            "error_y": {
             "color": "#2a3f5f"
            },
            "marker": {
             "line": {
              "color": "#E5ECF6",
              "width": 0.5
             },
             "pattern": {
              "fillmode": "overlay",
              "size": 10,
              "solidity": 0.2
             }
            },
            "type": "bar"
           }
          ],
          "barpolar": [
           {
            "marker": {
             "line": {
              "color": "#E5ECF6",
              "width": 0.5
             },
             "pattern": {
              "fillmode": "overlay",
              "size": 10,
              "solidity": 0.2
             }
            },
            "type": "barpolar"
           }
          ],
          "carpet": [
           {
            "aaxis": {
             "endlinecolor": "#2a3f5f",
             "gridcolor": "white",
             "linecolor": "white",
             "minorgridcolor": "white",
             "startlinecolor": "#2a3f5f"
            },
            "baxis": {
             "endlinecolor": "#2a3f5f",
             "gridcolor": "white",
             "linecolor": "white",
             "minorgridcolor": "white",
             "startlinecolor": "#2a3f5f"
            },
            "type": "carpet"
           }
          ],
          "choropleth": [
           {
            "colorbar": {
             "outlinewidth": 0,
             "ticks": ""
            },
            "type": "choropleth"
           }
          ],
          "contour": [
           {
            "colorbar": {
             "outlinewidth": 0,
             "ticks": ""
            },
            "colorscale": [
             [
              0,
              "#0d0887"
             ],
             [
              0.1111111111111111,
              "#46039f"
             ],
             [
              0.2222222222222222,
              "#7201a8"
             ],
             [
              0.3333333333333333,
              "#9c179e"
             ],
             [
              0.4444444444444444,
              "#bd3786"
             ],
             [
              0.5555555555555556,
              "#d8576b"
             ],
             [
              0.6666666666666666,
              "#ed7953"
             ],
             [
              0.7777777777777778,
              "#fb9f3a"
             ],
             [
              0.8888888888888888,
              "#fdca26"
             ],
             [
              1,
              "#f0f921"
             ]
            ],
            "type": "contour"
           }
          ],
          "contourcarpet": [
           {
            "colorbar": {
             "outlinewidth": 0,
             "ticks": ""
            },
            "type": "contourcarpet"
           }
          ],
          "heatmap": [
           {
            "colorbar": {
             "outlinewidth": 0,
             "ticks": ""
            },
            "colorscale": [
             [
              0,
              "#0d0887"
             ],
             [
              0.1111111111111111,
              "#46039f"
             ],
             [
              0.2222222222222222,
              "#7201a8"
             ],
             [
              0.3333333333333333,
              "#9c179e"
             ],
             [
              0.4444444444444444,
              "#bd3786"
             ],
             [
              0.5555555555555556,
              "#d8576b"
             ],
             [
              0.6666666666666666,
              "#ed7953"
             ],
             [
              0.7777777777777778,
              "#fb9f3a"
             ],
             [
              0.8888888888888888,
              "#fdca26"
             ],
             [
              1,
              "#f0f921"
             ]
            ],
            "type": "heatmap"
           }
          ],
          "heatmapgl": [
           {
            "colorbar": {
             "outlinewidth": 0,
             "ticks": ""
            },
            "colorscale": [
             [
              0,
              "#0d0887"
             ],
             [
              0.1111111111111111,
              "#46039f"
             ],
             [
              0.2222222222222222,
              "#7201a8"
             ],
             [
              0.3333333333333333,
              "#9c179e"
             ],
             [
              0.4444444444444444,
              "#bd3786"
             ],
             [
              0.5555555555555556,
              "#d8576b"
             ],
             [
              0.6666666666666666,
              "#ed7953"
             ],
             [
              0.7777777777777778,
              "#fb9f3a"
             ],
             [
              0.8888888888888888,
              "#fdca26"
             ],
             [
              1,
              "#f0f921"
             ]
            ],
            "type": "heatmapgl"
           }
          ],
          "histogram": [
           {
            "marker": {
             "pattern": {
              "fillmode": "overlay",
              "size": 10,
              "solidity": 0.2
             }
            },
            "type": "histogram"
           }
          ],
          "histogram2d": [
           {
            "colorbar": {
             "outlinewidth": 0,
             "ticks": ""
            },
            "colorscale": [
             [
              0,
              "#0d0887"
             ],
             [
              0.1111111111111111,
              "#46039f"
             ],
             [
              0.2222222222222222,
              "#7201a8"
             ],
             [
              0.3333333333333333,
              "#9c179e"
             ],
             [
              0.4444444444444444,
              "#bd3786"
             ],
             [
              0.5555555555555556,
              "#d8576b"
             ],
             [
              0.6666666666666666,
              "#ed7953"
             ],
             [
              0.7777777777777778,
              "#fb9f3a"
             ],
             [
              0.8888888888888888,
              "#fdca26"
             ],
             [
              1,
              "#f0f921"
             ]
            ],
            "type": "histogram2d"
           }
          ],
          "histogram2dcontour": [
           {
            "colorbar": {
             "outlinewidth": 0,
             "ticks": ""
            },
            "colorscale": [
             [
              0,
              "#0d0887"
             ],
             [
              0.1111111111111111,
              "#46039f"
             ],
             [
              0.2222222222222222,
              "#7201a8"
             ],
             [
              0.3333333333333333,
              "#9c179e"
             ],
             [
              0.4444444444444444,
              "#bd3786"
             ],
             [
              0.5555555555555556,
              "#d8576b"
             ],
             [
              0.6666666666666666,
              "#ed7953"
             ],
             [
              0.7777777777777778,
              "#fb9f3a"
             ],
             [
              0.8888888888888888,
              "#fdca26"
             ],
             [
              1,
              "#f0f921"
             ]
            ],
            "type": "histogram2dcontour"
           }
          ],
          "mesh3d": [
           {
            "colorbar": {
             "outlinewidth": 0,
             "ticks": ""
            },
            "type": "mesh3d"
           }
          ],
          "parcoords": [
           {
            "line": {
             "colorbar": {
              "outlinewidth": 0,
              "ticks": ""
             }
            },
            "type": "parcoords"
           }
          ],
          "pie": [
           {
            "automargin": true,
            "type": "pie"
           }
          ],
          "scatter": [
           {
            "fillpattern": {
             "fillmode": "overlay",
             "size": 10,
             "solidity": 0.2
            },
            "type": "scatter"
           }
          ],
          "scatter3d": [
           {
            "line": {
             "colorbar": {
              "outlinewidth": 0,
              "ticks": ""
             }
            },
            "marker": {
             "colorbar": {
              "outlinewidth": 0,
              "ticks": ""
             }
            },
            "type": "scatter3d"
           }
          ],
          "scattercarpet": [
           {
            "marker": {
             "colorbar": {
              "outlinewidth": 0,
              "ticks": ""
             }
            },
            "type": "scattercarpet"
           }
          ],
          "scattergeo": [
           {
            "marker": {
             "colorbar": {
              "outlinewidth": 0,
              "ticks": ""
             }
            },
            "type": "scattergeo"
           }
          ],
          "scattergl": [
           {
            "marker": {
             "colorbar": {
              "outlinewidth": 0,
              "ticks": ""
             }
            },
            "type": "scattergl"
           }
          ],
          "scattermapbox": [
           {
            "marker": {
             "colorbar": {
              "outlinewidth": 0,
              "ticks": ""
             }
            },
            "type": "scattermapbox"
           }
          ],
          "scatterpolar": [
           {
            "marker": {
             "colorbar": {
              "outlinewidth": 0,
              "ticks": ""
             }
            },
            "type": "scatterpolar"
           }
          ],
          "scatterpolargl": [
           {
            "marker": {
             "colorbar": {
              "outlinewidth": 0,
              "ticks": ""
             }
            },
            "type": "scatterpolargl"
           }
          ],
          "scatterternary": [
           {
            "marker": {
             "colorbar": {
              "outlinewidth": 0,
              "ticks": ""
             }
            },
            "type": "scatterternary"
           }
          ],
          "surface": [
           {
            "colorbar": {
             "outlinewidth": 0,
             "ticks": ""
            },
            "colorscale": [
             [
              0,
              "#0d0887"
             ],
             [
              0.1111111111111111,
              "#46039f"
             ],
             [
              0.2222222222222222,
              "#7201a8"
             ],
             [
              0.3333333333333333,
              "#9c179e"
             ],
             [
              0.4444444444444444,
              "#bd3786"
             ],
             [
              0.5555555555555556,
              "#d8576b"
             ],
             [
              0.6666666666666666,
              "#ed7953"
             ],
             [
              0.7777777777777778,
              "#fb9f3a"
             ],
             [
              0.8888888888888888,
              "#fdca26"
             ],
             [
              1,
              "#f0f921"
             ]
            ],
            "type": "surface"
           }
          ],
          "table": [
           {
            "cells": {
             "fill": {
              "color": "#EBF0F8"
             },
             "line": {
              "color": "white"
             }
            },
            "header": {
             "fill": {
              "color": "#C8D4E3"
             },
             "line": {
              "color": "white"
             }
            },
            "type": "table"
           }
          ]
         },
         "layout": {
          "annotationdefaults": {
           "arrowcolor": "#2a3f5f",
           "arrowhead": 0,
           "arrowwidth": 1
          },
          "autotypenumbers": "strict",
          "coloraxis": {
           "colorbar": {
            "outlinewidth": 0,
            "ticks": ""
           }
          },
          "colorscale": {
           "diverging": [
            [
             0,
             "#8e0152"
            ],
            [
             0.1,
             "#c51b7d"
            ],
            [
             0.2,
             "#de77ae"
            ],
            [
             0.3,
             "#f1b6da"
            ],
            [
             0.4,
             "#fde0ef"
            ],
            [
             0.5,
             "#f7f7f7"
            ],
            [
             0.6,
             "#e6f5d0"
            ],
            [
             0.7,
             "#b8e186"
            ],
            [
             0.8,
             "#7fbc41"
            ],
            [
             0.9,
             "#4d9221"
            ],
            [
             1,
             "#276419"
            ]
           ],
           "sequential": [
            [
             0,
             "#0d0887"
            ],
            [
             0.1111111111111111,
             "#46039f"
            ],
            [
             0.2222222222222222,
             "#7201a8"
            ],
            [
             0.3333333333333333,
             "#9c179e"
            ],
            [
             0.4444444444444444,
             "#bd3786"
            ],
            [
             0.5555555555555556,
             "#d8576b"
            ],
            [
             0.6666666666666666,
             "#ed7953"
            ],
            [
             0.7777777777777778,
             "#fb9f3a"
            ],
            [
             0.8888888888888888,
             "#fdca26"
            ],
            [
             1,
             "#f0f921"
            ]
           ],
           "sequentialminus": [
            [
             0,
             "#0d0887"
            ],
            [
             0.1111111111111111,
             "#46039f"
            ],
            [
             0.2222222222222222,
             "#7201a8"
            ],
            [
             0.3333333333333333,
             "#9c179e"
            ],
            [
             0.4444444444444444,
             "#bd3786"
            ],
            [
             0.5555555555555556,
             "#d8576b"
            ],
            [
             0.6666666666666666,
             "#ed7953"
            ],
            [
             0.7777777777777778,
             "#fb9f3a"
            ],
            [
             0.8888888888888888,
             "#fdca26"
            ],
            [
             1,
             "#f0f921"
            ]
           ]
          },
          "colorway": [
           "#636efa",
           "#EF553B",
           "#00cc96",
           "#ab63fa",
           "#FFA15A",
           "#19d3f3",
           "#FF6692",
           "#B6E880",
           "#FF97FF",
           "#FECB52"
          ],
          "font": {
           "color": "#2a3f5f"
          },
          "geo": {
           "bgcolor": "white",
           "lakecolor": "white",
           "landcolor": "#E5ECF6",
           "showlakes": true,
           "showland": true,
           "subunitcolor": "white"
          },
          "hoverlabel": {
           "align": "left"
          },
          "hovermode": "closest",
          "mapbox": {
           "style": "light"
          },
          "paper_bgcolor": "white",
          "plot_bgcolor": "#E5ECF6",
          "polar": {
           "angularaxis": {
            "gridcolor": "white",
            "linecolor": "white",
            "ticks": ""
           },
           "bgcolor": "#E5ECF6",
           "radialaxis": {
            "gridcolor": "white",
            "linecolor": "white",
            "ticks": ""
           }
          },
          "scene": {
           "xaxis": {
            "backgroundcolor": "#E5ECF6",
            "gridcolor": "white",
            "gridwidth": 2,
            "linecolor": "white",
            "showbackground": true,
            "ticks": "",
            "zerolinecolor": "white"
           },
           "yaxis": {
            "backgroundcolor": "#E5ECF6",
            "gridcolor": "white",
            "gridwidth": 2,
            "linecolor": "white",
            "showbackground": true,
            "ticks": "",
            "zerolinecolor": "white"
           },
           "zaxis": {
            "backgroundcolor": "#E5ECF6",
            "gridcolor": "white",
            "gridwidth": 2,
            "linecolor": "white",
            "showbackground": true,
            "ticks": "",
            "zerolinecolor": "white"
           }
          },
          "shapedefaults": {
           "line": {
            "color": "#2a3f5f"
           }
          },
          "ternary": {
           "aaxis": {
            "gridcolor": "white",
            "linecolor": "white",
            "ticks": ""
           },
           "baxis": {
            "gridcolor": "white",
            "linecolor": "white",
            "ticks": ""
           },
           "bgcolor": "#E5ECF6",
           "caxis": {
            "gridcolor": "white",
            "linecolor": "white",
            "ticks": ""
           }
          },
          "title": {
           "x": 0.05
          },
          "xaxis": {
           "automargin": true,
           "gridcolor": "white",
           "linecolor": "white",
           "ticks": "",
           "title": {
            "standoff": 15
           },
           "zerolinecolor": "white",
           "zerolinewidth": 2
          },
          "yaxis": {
           "automargin": true,
           "gridcolor": "white",
           "linecolor": "white",
           "ticks": "",
           "title": {
            "standoff": 15
           },
           "zerolinecolor": "white",
           "zerolinewidth": 2
          }
         }
        },
        "title": {
         "text": "Synthetic hietograph"
        },
        "width": 800,
        "xaxis": {
         "title": {
          "text": "Time (h)"
         }
        },
        "yaxis": {
         "title": {
          "text": "Intensity (mm/h)"
         }
        }
       }
      }
     },
     "metadata": {},
     "output_type": "display_data"
    }
   ],
   "source": [
    "hietograph_fig = ud.hietograph(alternating_random_rainfalls[9], 'Synthetic hietograph')\n",
    "hietograph_fig.show()"
   ]
  },
  {
   "cell_type": "code",
   "execution_count": 8,
   "id": "73f1e513",
   "metadata": {},
   "outputs": [],
   "source": [
    "ud.create_datfiles(alternating_random_rainfalls, rainfall_dats_directory, identifier = 'synt', isReal=False)"
   ]
  },
  {
   "cell_type": "markdown",
   "id": "9df73360",
   "metadata": {},
   "source": [
    "## Real rainfalls"
   ]
  },
  {
   "cell_type": "code",
   "execution_count": 9,
   "id": "892b66a5",
   "metadata": {},
   "outputs": [],
   "source": [
    "# %% Read rainfall in each pixel\n",
    "with open('.\\\\real_rainfalls\\\\events_pixel1_2014_5h.pk', 'rb') as f:\n",
    "  pixel1 = pickle.load(f)\n",
    "with open('.\\\\real_rainfalls\\\\events_pixel2_2014_5h.pk', 'rb') as f:\n",
    "  pixel2 = pickle.load(f)\n",
    "with open('.\\\\real_rainfalls\\\\events_pixel3_2014_5h.pk', 'rb') as f:\n",
    "  pixel3 = pickle.load(f)"
   ]
  },
  {
   "cell_type": "code",
   "execution_count": 10,
   "id": "bf480267",
   "metadata": {},
   "outputs": [
    {
     "data": {
      "application/vnd.plotly.v1+json": {
       "config": {
        "plotlyServerURL": "https://plot.ly"
       },
       "data": [
        {
         "type": "bar",
         "x": [
          "2014-01-15T13:45:00",
          "2014-01-15T13:50:00",
          "2014-01-15T13:55:00",
          "2014-01-15T14:00:00",
          "2014-01-15T14:05:00",
          "2014-01-15T14:10:00",
          "2014-01-15T14:15:00",
          "2014-01-15T14:20:00",
          "2014-01-15T14:25:00",
          "2014-01-15T14:30:00",
          "2014-01-15T14:35:00",
          "2014-01-15T14:40:00",
          "2014-01-15T14:45:00",
          "2014-01-15T14:50:00",
          "2014-01-15T14:55:00",
          "2014-01-15T15:00:00",
          "2014-01-15T15:05:00",
          "2014-01-15T15:10:00",
          "2014-01-15T15:15:00",
          "2014-01-15T15:20:00",
          "2014-01-15T15:25:00",
          "2014-01-15T15:30:00",
          "2014-01-15T15:35:00",
          "2014-01-15T15:40:00",
          "2014-01-15T15:45:00",
          "2014-01-15T15:50:00",
          "2014-01-15T15:55:00",
          "2014-01-15T16:00:00",
          "2014-01-15T16:05:00",
          "2014-01-15T16:10:00",
          "2014-01-15T16:15:00",
          "2014-01-15T16:20:00",
          "2014-01-15T16:25:00",
          "2014-01-15T16:30:00",
          "2014-01-15T16:35:00",
          "2014-01-15T16:40:00",
          "2014-01-15T16:45:00",
          "2014-01-15T16:50:00",
          "2014-01-15T16:55:00",
          "2014-01-15T17:00:00",
          "2014-01-15T17:05:00",
          "2014-01-15T17:10:00",
          "2014-01-15T17:15:00",
          "2014-01-15T17:20:00",
          "2014-01-15T17:25:00",
          "2014-01-15T17:30:00",
          "2014-01-15T17:35:00",
          "2014-01-15T17:40:00",
          "2014-01-15T17:45:00",
          "2014-01-15T17:50:00",
          "2014-01-15T17:55:00",
          "2014-01-15T18:00:00",
          "2014-01-15T18:05:00",
          "2014-01-15T18:10:00",
          "2014-01-15T18:15:00",
          "2014-01-15T18:20:00",
          "2014-01-15T18:25:00",
          "2014-01-15T18:30:00",
          "2014-01-15T18:35:00",
          "2014-01-15T18:40:00",
          "2014-01-15T18:45:00",
          "2014-01-15T18:50:00",
          "2014-01-15T18:55:00",
          "2014-01-15T19:00:00",
          "2014-01-15T19:05:00",
          "2014-01-15T19:10:00",
          "2014-01-15T19:15:00",
          "2014-01-15T19:20:00",
          "2014-01-15T19:25:00",
          "2014-01-15T19:30:00",
          "2014-01-15T19:35:00",
          "2014-01-15T19:40:00",
          "2014-01-15T19:45:00",
          "2014-01-15T19:50:00",
          "2014-01-15T19:55:00",
          "2014-01-15T20:00:00",
          "2014-01-15T20:05:00",
          "2014-01-15T20:10:00",
          "2014-01-15T20:15:00",
          "2014-01-15T20:20:00",
          "2014-01-15T20:25:00",
          "2014-01-15T20:30:00",
          "2014-01-15T20:35:00",
          "2014-01-15T20:40:00",
          "2014-01-15T20:45:00",
          "2014-01-15T20:50:00",
          "2014-01-15T20:55:00",
          "2014-01-15T21:00:00",
          "2014-01-15T21:05:00",
          "2014-01-15T21:10:00",
          "2014-01-15T21:15:00",
          "2014-01-15T21:20:00",
          "2014-01-15T21:25:00",
          "2014-01-15T21:30:00",
          "2014-01-15T21:35:00",
          "2014-01-15T21:40:00",
          "2014-01-15T21:45:00",
          "2014-01-15T21:50:00",
          "2014-01-15T21:55:00",
          "2014-01-15T22:00:00",
          "2014-01-15T22:05:00",
          "2014-01-15T22:10:00",
          "2014-01-15T22:15:00",
          "2014-01-15T22:20:00",
          "2014-01-15T22:25:00",
          "2014-01-15T22:30:00",
          "2014-01-15T22:35:00",
          "2014-01-15T22:40:00",
          "2014-01-15T22:45:00",
          "2014-01-15T22:50:00",
          "2014-01-15T22:55:00",
          "2014-01-15T23:00:00",
          "2014-01-15T23:05:00",
          "2014-01-15T23:10:00",
          "2014-01-15T23:15:00",
          "2014-01-15T23:20:00",
          "2014-01-15T23:25:00",
          "2014-01-15T23:30:00",
          "2014-01-15T23:35:00",
          "2014-01-15T23:40:00",
          "2014-01-15T23:45:00",
          "2014-01-15T23:50:00",
          "2014-01-15T23:55:00",
          "2014-01-16T00:00:00",
          "2014-01-16T00:05:00",
          "2014-01-16T00:10:00",
          "2014-01-16T00:15:00",
          "2014-01-16T00:20:00",
          "2014-01-16T00:25:00",
          "2014-01-16T00:30:00",
          "2014-01-16T00:35:00",
          "2014-01-16T00:40:00",
          "2014-01-16T00:45:00",
          "2014-01-16T00:50:00",
          "2014-01-16T00:55:00",
          "2014-01-16T01:00:00",
          "2014-01-16T01:05:00",
          "2014-01-16T01:10:00",
          "2014-01-16T01:15:00",
          "2014-01-16T01:20:00",
          "2014-01-16T01:25:00",
          "2014-01-16T01:30:00",
          "2014-01-16T01:35:00",
          "2014-01-16T01:40:00",
          "2014-01-16T01:45:00",
          "2014-01-16T01:50:00",
          "2014-01-16T01:55:00",
          "2014-01-16T02:00:00",
          "2014-01-16T02:05:00",
          "2014-01-16T02:10:00",
          "2014-01-16T02:15:00",
          "2014-01-16T02:20:00",
          "2014-01-16T02:25:00",
          "2014-01-16T02:30:00",
          "2014-01-16T02:35:00",
          "2014-01-16T02:40:00",
          "2014-01-16T02:45:00",
          "2014-01-16T02:50:00",
          "2014-01-16T02:55:00",
          "2014-01-16T03:00:00",
          "2014-01-16T03:05:00",
          "2014-01-16T03:10:00",
          "2014-01-16T03:15:00",
          "2014-01-16T03:20:00",
          "2014-01-16T03:25:00",
          "2014-01-16T03:30:00",
          "2014-01-16T03:35:00",
          "2014-01-16T03:40:00",
          "2014-01-16T03:45:00",
          "2014-01-16T03:50:00",
          "2014-01-16T03:55:00",
          "2014-01-16T04:00:00",
          "2014-01-16T04:05:00",
          "2014-01-16T04:10:00",
          "2014-01-16T04:15:00",
          "2014-01-16T04:20:00",
          "2014-01-16T04:25:00",
          "2014-01-16T04:30:00",
          "2014-01-16T04:35:00",
          "2014-01-16T04:40:00",
          "2014-01-16T04:45:00",
          "2014-01-16T04:50:00",
          "2014-01-16T04:55:00",
          "2014-01-16T05:00:00",
          "2014-01-16T05:05:00",
          "2014-01-16T05:10:00",
          "2014-01-16T05:15:00",
          "2014-01-16T05:20:00",
          "2014-01-16T05:25:00",
          "2014-01-16T05:30:00",
          "2014-01-16T05:35:00",
          "2014-01-16T05:40:00",
          "2014-01-16T05:45:00",
          "2014-01-16T05:50:00",
          "2014-01-16T05:55:00",
          "2014-01-16T06:00:00",
          "2014-01-16T06:05:00",
          "2014-01-16T06:10:00",
          "2014-01-16T06:15:00",
          "2014-01-16T06:20:00",
          "2014-01-16T06:25:00",
          "2014-01-16T06:30:00",
          "2014-01-16T06:35:00",
          "2014-01-16T06:40:00",
          "2014-01-16T06:45:00",
          "2014-01-16T06:50:00",
          "2014-01-16T06:55:00",
          "2014-01-16T07:00:00",
          "2014-01-16T07:05:00",
          "2014-01-16T07:10:00",
          "2014-01-16T07:15:00",
          "2014-01-16T07:20:00",
          "2014-01-16T07:25:00",
          "2014-01-16T07:30:00",
          "2014-01-16T07:35:00",
          "2014-01-16T07:40:00",
          "2014-01-16T07:45:00",
          "2014-01-16T07:50:00",
          "2014-01-16T07:55:00",
          "2014-01-16T08:00:00",
          "2014-01-16T08:05:00",
          "2014-01-16T08:10:00",
          "2014-01-16T08:15:00",
          "2014-01-16T08:20:00",
          "2014-01-16T08:25:00",
          "2014-01-16T08:30:00",
          "2014-01-16T08:35:00",
          "2014-01-16T08:40:00",
          "2014-01-16T08:45:00",
          "2014-01-16T08:50:00",
          "2014-01-16T08:55:00",
          "2014-01-16T09:00:00",
          "2014-01-16T09:05:00",
          "2014-01-16T09:10:00",
          "2014-01-16T09:15:00",
          "2014-01-16T09:20:00",
          "2014-01-16T09:25:00",
          "2014-01-16T09:30:00",
          "2014-01-16T09:35:00",
          "2014-01-16T09:40:00",
          "2014-01-16T09:45:00",
          "2014-01-16T09:50:00",
          "2014-01-16T09:55:00",
          "2014-01-16T10:00:00",
          "2014-01-16T10:05:00",
          "2014-01-16T10:10:00",
          "2014-01-16T10:15:00",
          "2014-01-16T10:20:00",
          "2014-01-16T10:25:00",
          "2014-01-16T10:30:00",
          "2014-01-16T10:35:00",
          "2014-01-16T10:40:00",
          "2014-01-16T10:45:00",
          "2014-01-16T10:50:00",
          "2014-01-16T10:55:00",
          "2014-01-16T11:00:00",
          "2014-01-16T11:05:00",
          "2014-01-16T11:10:00",
          "2014-01-16T11:15:00",
          "2014-01-16T11:20:00",
          "2014-01-16T11:25:00",
          "2014-01-16T11:30:00",
          "2014-01-16T11:35:00",
          "2014-01-16T11:40:00",
          "2014-01-16T11:45:00",
          "2014-01-16T11:50:00",
          "2014-01-16T11:55:00",
          "2014-01-16T12:00:00",
          "2014-01-16T12:05:00",
          "2014-01-16T12:10:00",
          "2014-01-16T12:15:00",
          "2014-01-16T12:20:00",
          "2014-01-16T12:25:00",
          "2014-01-16T12:30:00",
          "2014-01-16T12:35:00",
          "2014-01-16T12:40:00",
          "2014-01-16T12:45:00",
          "2014-01-16T12:50:00",
          "2014-01-16T12:55:00",
          "2014-01-16T13:00:00",
          "2014-01-16T13:05:00",
          "2014-01-16T13:10:00",
          "2014-01-16T13:15:00",
          "2014-01-16T13:20:00",
          "2014-01-16T13:25:00",
          "2014-01-16T13:30:00",
          "2014-01-16T13:35:00",
          "2014-01-16T13:40:00",
          "2014-01-16T13:45:00",
          "2014-01-16T13:50:00",
          "2014-01-16T13:55:00",
          "2014-01-16T14:00:00",
          "2014-01-16T14:05:00",
          "2014-01-16T14:10:00",
          "2014-01-16T14:15:00",
          "2014-01-16T14:20:00",
          "2014-01-16T14:25:00",
          "2014-01-16T14:30:00",
          "2014-01-16T14:35:00",
          "2014-01-16T14:40:00",
          "2014-01-16T14:45:00",
          "2014-01-16T14:50:00",
          "2014-01-16T14:55:00",
          "2014-01-16T15:00:00",
          "2014-01-16T15:05:00",
          "2014-01-16T15:10:00",
          "2014-01-16T15:15:00",
          "2014-01-16T15:20:00",
          "2014-01-16T15:25:00",
          "2014-01-16T15:30:00",
          "2014-01-16T15:35:00",
          "2014-01-16T15:40:00",
          "2014-01-16T15:45:00",
          "2014-01-16T15:50:00",
          "2014-01-16T15:55:00",
          "2014-01-16T16:00:00",
          "2014-01-16T16:05:00",
          "2014-01-16T16:10:00",
          "2014-01-16T16:15:00",
          "2014-01-16T16:20:00",
          "2014-01-16T16:25:00",
          "2014-01-16T16:30:00",
          "2014-01-16T16:35:00",
          "2014-01-16T16:40:00",
          "2014-01-16T16:45:00",
          "2014-01-16T16:50:00",
          "2014-01-16T16:55:00",
          "2014-01-16T17:00:00",
          "2014-01-16T17:05:00",
          "2014-01-16T17:10:00",
          "2014-01-16T17:15:00",
          "2014-01-16T17:20:00",
          "2014-01-16T17:25:00",
          "2014-01-16T17:30:00",
          "2014-01-16T17:35:00",
          "2014-01-16T17:40:00",
          "2014-01-16T17:45:00",
          "2014-01-16T17:50:00",
          "2014-01-16T17:55:00",
          "2014-01-16T18:00:00",
          "2014-01-16T18:05:00",
          "2014-01-16T18:10:00",
          "2014-01-16T18:15:00",
          "2014-01-16T18:20:00",
          "2014-01-16T18:25:00",
          "2014-01-16T18:30:00",
          "2014-01-16T18:35:00",
          "2014-01-16T18:40:00",
          "2014-01-16T18:45:00",
          "2014-01-16T18:50:00",
          "2014-01-16T18:55:00",
          "2014-01-16T19:00:00",
          "2014-01-16T19:05:00",
          "2014-01-16T19:10:00",
          "2014-01-16T19:15:00",
          "2014-01-16T19:20:00",
          "2014-01-16T19:25:00",
          "2014-01-16T19:30:00",
          "2014-01-16T19:35:00",
          "2014-01-16T19:40:00",
          "2014-01-16T19:45:00",
          "2014-01-16T19:50:00",
          "2014-01-16T19:55:00"
         ],
         "y": [
          4,
          0,
          0,
          4,
          3,
          3,
          0,
          0,
          3,
          3,
          3,
          3,
          3,
          3,
          7,
          10,
          11,
          8,
          5,
          3,
          3,
          5,
          5,
          5,
          3,
          5,
          5,
          5,
          7,
          7,
          13,
          10,
          7,
          7,
          10,
          10,
          7,
          3,
          0,
          0,
          0,
          0,
          0,
          0,
          0,
          0,
          0,
          0,
          0,
          0,
          0,
          0,
          0,
          0,
          0,
          0,
          0,
          0,
          0,
          0,
          4,
          4,
          4,
          4,
          3,
          3,
          3,
          3,
          6,
          3,
          6,
          9,
          20,
          23,
          15,
          9,
          2,
          0,
          0,
          0,
          0,
          0,
          0,
          0,
          0,
          0,
          0,
          0,
          0,
          0,
          0,
          0,
          0,
          0,
          0,
          0,
          0,
          0,
          0,
          0,
          0,
          0,
          0,
          0,
          0,
          0,
          0,
          0,
          0,
          0,
          0,
          0,
          0,
          1,
          0,
          0,
          0,
          0,
          0,
          1,
          2,
          2,
          4,
          1,
          0,
          0,
          0,
          0,
          0,
          0,
          1,
          2,
          3,
          7,
          2,
          2,
          0,
          0,
          0,
          0,
          0,
          21,
          13,
          0,
          0,
          0,
          0,
          0,
          0,
          0,
          0,
          0,
          0,
          0,
          0,
          0,
          0,
          0,
          0,
          0,
          0,
          0,
          0,
          0,
          0,
          0,
          0,
          0,
          0,
          0,
          0,
          0,
          8,
          8,
          2,
          2,
          2,
          2,
          0,
          0,
          0,
          0,
          0,
          0,
          1,
          0,
          0,
          0,
          1,
          0,
          0,
          0,
          0,
          0,
          0,
          0,
          0,
          0,
          0,
          0,
          0,
          0,
          0,
          0,
          0,
          0,
          0,
          0,
          0,
          0,
          0,
          0,
          0,
          1,
          0,
          0,
          0,
          0,
          0,
          0,
          4,
          4,
          1,
          0,
          0,
          0,
          0,
          0,
          0,
          0,
          0,
          0,
          0,
          0,
          0,
          0,
          0,
          0,
          0,
          0,
          0,
          0,
          0,
          0,
          0,
          0,
          0,
          0,
          0,
          0,
          0,
          0,
          3,
          3,
          3,
          2,
          2,
          2,
          3,
          2,
          2,
          3,
          2,
          7,
          3,
          3,
          5,
          5,
          7,
          3,
          2,
          0,
          0,
          0,
          0,
          0,
          0,
          0,
          0,
          0,
          0,
          0,
          0,
          2,
          0,
          0,
          0,
          2,
          4,
          9,
          11,
          6,
          4,
          6,
          6,
          10,
          13,
          4,
          4,
          4,
          6,
          2,
          4,
          0,
          0,
          0,
          0,
          0,
          0,
          0,
          0,
          0,
          0,
          0,
          0,
          0,
          0,
          0,
          0,
          0,
          0,
          0,
          0,
          0,
          0,
          0,
          0,
          0,
          0,
          0,
          0,
          0,
          0,
          0,
          0,
          0,
          0,
          0,
          0,
          0,
          0,
          0,
          0,
          0,
          0,
          0,
          0,
          0,
          0,
          0,
          0,
          0,
          0,
          0,
          0,
          0,
          0,
          0,
          0,
          0,
          0,
          0,
          0
         ]
        }
       ],
       "layout": {
        "font": {
         "family": "Times new roman",
         "size": 18
        },
        "height": 400,
        "template": {
         "data": {
          "bar": [
           {
            "error_x": {
             "color": "#2a3f5f"
            },
            "error_y": {
             "color": "#2a3f5f"
            },
            "marker": {
             "line": {
              "color": "#E5ECF6",
              "width": 0.5
             },
             "pattern": {
              "fillmode": "overlay",
              "size": 10,
              "solidity": 0.2
             }
            },
            "type": "bar"
           }
          ],
          "barpolar": [
           {
            "marker": {
             "line": {
              "color": "#E5ECF6",
              "width": 0.5
             },
             "pattern": {
              "fillmode": "overlay",
              "size": 10,
              "solidity": 0.2
             }
            },
            "type": "barpolar"
           }
          ],
          "carpet": [
           {
            "aaxis": {
             "endlinecolor": "#2a3f5f",
             "gridcolor": "white",
             "linecolor": "white",
             "minorgridcolor": "white",
             "startlinecolor": "#2a3f5f"
            },
            "baxis": {
             "endlinecolor": "#2a3f5f",
             "gridcolor": "white",
             "linecolor": "white",
             "minorgridcolor": "white",
             "startlinecolor": "#2a3f5f"
            },
            "type": "carpet"
           }
          ],
          "choropleth": [
           {
            "colorbar": {
             "outlinewidth": 0,
             "ticks": ""
            },
            "type": "choropleth"
           }
          ],
          "contour": [
           {
            "colorbar": {
             "outlinewidth": 0,
             "ticks": ""
            },
            "colorscale": [
             [
              0,
              "#0d0887"
             ],
             [
              0.1111111111111111,
              "#46039f"
             ],
             [
              0.2222222222222222,
              "#7201a8"
             ],
             [
              0.3333333333333333,
              "#9c179e"
             ],
             [
              0.4444444444444444,
              "#bd3786"
             ],
             [
              0.5555555555555556,
              "#d8576b"
             ],
             [
              0.6666666666666666,
              "#ed7953"
             ],
             [
              0.7777777777777778,
              "#fb9f3a"
             ],
             [
              0.8888888888888888,
              "#fdca26"
             ],
             [
              1,
              "#f0f921"
             ]
            ],
            "type": "contour"
           }
          ],
          "contourcarpet": [
           {
            "colorbar": {
             "outlinewidth": 0,
             "ticks": ""
            },
            "type": "contourcarpet"
           }
          ],
          "heatmap": [
           {
            "colorbar": {
             "outlinewidth": 0,
             "ticks": ""
            },
            "colorscale": [
             [
              0,
              "#0d0887"
             ],
             [
              0.1111111111111111,
              "#46039f"
             ],
             [
              0.2222222222222222,
              "#7201a8"
             ],
             [
              0.3333333333333333,
              "#9c179e"
             ],
             [
              0.4444444444444444,
              "#bd3786"
             ],
             [
              0.5555555555555556,
              "#d8576b"
             ],
             [
              0.6666666666666666,
              "#ed7953"
             ],
             [
              0.7777777777777778,
              "#fb9f3a"
             ],
             [
              0.8888888888888888,
              "#fdca26"
             ],
             [
              1,
              "#f0f921"
             ]
            ],
            "type": "heatmap"
           }
          ],
          "heatmapgl": [
           {
            "colorbar": {
             "outlinewidth": 0,
             "ticks": ""
            },
            "colorscale": [
             [
              0,
              "#0d0887"
             ],
             [
              0.1111111111111111,
              "#46039f"
             ],
             [
              0.2222222222222222,
              "#7201a8"
             ],
             [
              0.3333333333333333,
              "#9c179e"
             ],
             [
              0.4444444444444444,
              "#bd3786"
             ],
             [
              0.5555555555555556,
              "#d8576b"
             ],
             [
              0.6666666666666666,
              "#ed7953"
             ],
             [
              0.7777777777777778,
              "#fb9f3a"
             ],
             [
              0.8888888888888888,
              "#fdca26"
             ],
             [
              1,
              "#f0f921"
             ]
            ],
            "type": "heatmapgl"
           }
          ],
          "histogram": [
           {
            "marker": {
             "pattern": {
              "fillmode": "overlay",
              "size": 10,
              "solidity": 0.2
             }
            },
            "type": "histogram"
           }
          ],
          "histogram2d": [
           {
            "colorbar": {
             "outlinewidth": 0,
             "ticks": ""
            },
            "colorscale": [
             [
              0,
              "#0d0887"
             ],
             [
              0.1111111111111111,
              "#46039f"
             ],
             [
              0.2222222222222222,
              "#7201a8"
             ],
             [
              0.3333333333333333,
              "#9c179e"
             ],
             [
              0.4444444444444444,
              "#bd3786"
             ],
             [
              0.5555555555555556,
              "#d8576b"
             ],
             [
              0.6666666666666666,
              "#ed7953"
             ],
             [
              0.7777777777777778,
              "#fb9f3a"
             ],
             [
              0.8888888888888888,
              "#fdca26"
             ],
             [
              1,
              "#f0f921"
             ]
            ],
            "type": "histogram2d"
           }
          ],
          "histogram2dcontour": [
           {
            "colorbar": {
             "outlinewidth": 0,
             "ticks": ""
            },
            "colorscale": [
             [
              0,
              "#0d0887"
             ],
             [
              0.1111111111111111,
              "#46039f"
             ],
             [
              0.2222222222222222,
              "#7201a8"
             ],
             [
              0.3333333333333333,
              "#9c179e"
             ],
             [
              0.4444444444444444,
              "#bd3786"
             ],
             [
              0.5555555555555556,
              "#d8576b"
             ],
             [
              0.6666666666666666,
              "#ed7953"
             ],
             [
              0.7777777777777778,
              "#fb9f3a"
             ],
             [
              0.8888888888888888,
              "#fdca26"
             ],
             [
              1,
              "#f0f921"
             ]
            ],
            "type": "histogram2dcontour"
           }
          ],
          "mesh3d": [
           {
            "colorbar": {
             "outlinewidth": 0,
             "ticks": ""
            },
            "type": "mesh3d"
           }
          ],
          "parcoords": [
           {
            "line": {
             "colorbar": {
              "outlinewidth": 0,
              "ticks": ""
             }
            },
            "type": "parcoords"
           }
          ],
          "pie": [
           {
            "automargin": true,
            "type": "pie"
           }
          ],
          "scatter": [
           {
            "fillpattern": {
             "fillmode": "overlay",
             "size": 10,
             "solidity": 0.2
            },
            "type": "scatter"
           }
          ],
          "scatter3d": [
           {
            "line": {
             "colorbar": {
              "outlinewidth": 0,
              "ticks": ""
             }
            },
            "marker": {
             "colorbar": {
              "outlinewidth": 0,
              "ticks": ""
             }
            },
            "type": "scatter3d"
           }
          ],
          "scattercarpet": [
           {
            "marker": {
             "colorbar": {
              "outlinewidth": 0,
              "ticks": ""
             }
            },
            "type": "scattercarpet"
           }
          ],
          "scattergeo": [
           {
            "marker": {
             "colorbar": {
              "outlinewidth": 0,
              "ticks": ""
             }
            },
            "type": "scattergeo"
           }
          ],
          "scattergl": [
           {
            "marker": {
             "colorbar": {
              "outlinewidth": 0,
              "ticks": ""
             }
            },
            "type": "scattergl"
           }
          ],
          "scattermapbox": [
           {
            "marker": {
             "colorbar": {
              "outlinewidth": 0,
              "ticks": ""
             }
            },
            "type": "scattermapbox"
           }
          ],
          "scatterpolar": [
           {
            "marker": {
             "colorbar": {
              "outlinewidth": 0,
              "ticks": ""
             }
            },
            "type": "scatterpolar"
           }
          ],
          "scatterpolargl": [
           {
            "marker": {
             "colorbar": {
              "outlinewidth": 0,
              "ticks": ""
             }
            },
            "type": "scatterpolargl"
           }
          ],
          "scatterternary": [
           {
            "marker": {
             "colorbar": {
              "outlinewidth": 0,
              "ticks": ""
             }
            },
            "type": "scatterternary"
           }
          ],
          "surface": [
           {
            "colorbar": {
             "outlinewidth": 0,
             "ticks": ""
            },
            "colorscale": [
             [
              0,
              "#0d0887"
             ],
             [
              0.1111111111111111,
              "#46039f"
             ],
             [
              0.2222222222222222,
              "#7201a8"
             ],
             [
              0.3333333333333333,
              "#9c179e"
             ],
             [
              0.4444444444444444,
              "#bd3786"
             ],
             [
              0.5555555555555556,
              "#d8576b"
             ],
             [
              0.6666666666666666,
              "#ed7953"
             ],
             [
              0.7777777777777778,
              "#fb9f3a"
             ],
             [
              0.8888888888888888,
              "#fdca26"
             ],
             [
              1,
              "#f0f921"
             ]
            ],
            "type": "surface"
           }
          ],
          "table": [
           {
            "cells": {
             "fill": {
              "color": "#EBF0F8"
             },
             "line": {
              "color": "white"
             }
            },
            "header": {
             "fill": {
              "color": "#C8D4E3"
             },
             "line": {
              "color": "white"
             }
            },
            "type": "table"
           }
          ]
         },
         "layout": {
          "annotationdefaults": {
           "arrowcolor": "#2a3f5f",
           "arrowhead": 0,
           "arrowwidth": 1
          },
          "autotypenumbers": "strict",
          "coloraxis": {
           "colorbar": {
            "outlinewidth": 0,
            "ticks": ""
           }
          },
          "colorscale": {
           "diverging": [
            [
             0,
             "#8e0152"
            ],
            [
             0.1,
             "#c51b7d"
            ],
            [
             0.2,
             "#de77ae"
            ],
            [
             0.3,
             "#f1b6da"
            ],
            [
             0.4,
             "#fde0ef"
            ],
            [
             0.5,
             "#f7f7f7"
            ],
            [
             0.6,
             "#e6f5d0"
            ],
            [
             0.7,
             "#b8e186"
            ],
            [
             0.8,
             "#7fbc41"
            ],
            [
             0.9,
             "#4d9221"
            ],
            [
             1,
             "#276419"
            ]
           ],
           "sequential": [
            [
             0,
             "#0d0887"
            ],
            [
             0.1111111111111111,
             "#46039f"
            ],
            [
             0.2222222222222222,
             "#7201a8"
            ],
            [
             0.3333333333333333,
             "#9c179e"
            ],
            [
             0.4444444444444444,
             "#bd3786"
            ],
            [
             0.5555555555555556,
             "#d8576b"
            ],
            [
             0.6666666666666666,
             "#ed7953"
            ],
            [
             0.7777777777777778,
             "#fb9f3a"
            ],
            [
             0.8888888888888888,
             "#fdca26"
            ],
            [
             1,
             "#f0f921"
            ]
           ],
           "sequentialminus": [
            [
             0,
             "#0d0887"
            ],
            [
             0.1111111111111111,
             "#46039f"
            ],
            [
             0.2222222222222222,
             "#7201a8"
            ],
            [
             0.3333333333333333,
             "#9c179e"
            ],
            [
             0.4444444444444444,
             "#bd3786"
            ],
            [
             0.5555555555555556,
             "#d8576b"
            ],
            [
             0.6666666666666666,
             "#ed7953"
            ],
            [
             0.7777777777777778,
             "#fb9f3a"
            ],
            [
             0.8888888888888888,
             "#fdca26"
            ],
            [
             1,
             "#f0f921"
            ]
           ]
          },
          "colorway": [
           "#636efa",
           "#EF553B",
           "#00cc96",
           "#ab63fa",
           "#FFA15A",
           "#19d3f3",
           "#FF6692",
           "#B6E880",
           "#FF97FF",
           "#FECB52"
          ],
          "font": {
           "color": "#2a3f5f"
          },
          "geo": {
           "bgcolor": "white",
           "lakecolor": "white",
           "landcolor": "#E5ECF6",
           "showlakes": true,
           "showland": true,
           "subunitcolor": "white"
          },
          "hoverlabel": {
           "align": "left"
          },
          "hovermode": "closest",
          "mapbox": {
           "style": "light"
          },
          "paper_bgcolor": "white",
          "plot_bgcolor": "#E5ECF6",
          "polar": {
           "angularaxis": {
            "gridcolor": "white",
            "linecolor": "white",
            "ticks": ""
           },
           "bgcolor": "#E5ECF6",
           "radialaxis": {
            "gridcolor": "white",
            "linecolor": "white",
            "ticks": ""
           }
          },
          "scene": {
           "xaxis": {
            "backgroundcolor": "#E5ECF6",
            "gridcolor": "white",
            "gridwidth": 2,
            "linecolor": "white",
            "showbackground": true,
            "ticks": "",
            "zerolinecolor": "white"
           },
           "yaxis": {
            "backgroundcolor": "#E5ECF6",
            "gridcolor": "white",
            "gridwidth": 2,
            "linecolor": "white",
            "showbackground": true,
            "ticks": "",
            "zerolinecolor": "white"
           },
           "zaxis": {
            "backgroundcolor": "#E5ECF6",
            "gridcolor": "white",
            "gridwidth": 2,
            "linecolor": "white",
            "showbackground": true,
            "ticks": "",
            "zerolinecolor": "white"
           }
          },
          "shapedefaults": {
           "line": {
            "color": "#2a3f5f"
           }
          },
          "ternary": {
           "aaxis": {
            "gridcolor": "white",
            "linecolor": "white",
            "ticks": ""
           },
           "baxis": {
            "gridcolor": "white",
            "linecolor": "white",
            "ticks": ""
           },
           "bgcolor": "#E5ECF6",
           "caxis": {
            "gridcolor": "white",
            "linecolor": "white",
            "ticks": ""
           }
          },
          "title": {
           "x": 0.05
          },
          "xaxis": {
           "automargin": true,
           "gridcolor": "white",
           "linecolor": "white",
           "ticks": "",
           "title": {
            "standoff": 15
           },
           "zerolinecolor": "white",
           "zerolinewidth": 2
          },
          "yaxis": {
           "automargin": true,
           "gridcolor": "white",
           "linecolor": "white",
           "ticks": "",
           "title": {
            "standoff": 15
           },
           "zerolinecolor": "white",
           "zerolinewidth": 2
          }
         }
        },
        "title": {
         "text": "Real rainfall hietograph"
        },
        "width": 800,
        "xaxis": {
         "title": {
          "text": "Time (h)"
         }
        },
        "yaxis": {
         "title": {
          "text": "Intensity (mm/h)"
         }
        }
       }
      }
     },
     "metadata": {},
     "output_type": "display_data"
    }
   ],
   "source": [
    "fig = go.Figure()\n",
    "\n",
    "rain = pixel2[12]\n",
    "fig=ud.hietograph(rain, 'Real rainfall hietograph')\n",
    "fig.show()"
   ]
  },
  {
   "cell_type": "code",
   "execution_count": 11,
   "id": "dbe33c59",
   "metadata": {},
   "outputs": [
    {
     "name": "stdout",
     "output_type": "stream",
     "text": [
      "error with rain #54\n",
      "error with rain #57\n",
      "error with rain #65\n",
      "error with rain #67\n",
      "error with rain #79\n",
      "error with rain #96\n",
      "error with rain #113\n",
      "error with rain #139\n",
      "error with rain #154\n",
      "error with rain #157\n",
      "error with rain #175\n",
      "error with rain #176\n",
      "error with rain #183\n",
      "error with rain #185\n"
     ]
    }
   ],
   "source": [
    "rains_larger_than_ten = []\n",
    "\n",
    "i =0\n",
    "while len(rains_larger_than_ten)<n_real_rains or i<=100:\n",
    "    \n",
    "    try:\n",
    "        max_rain = ud.get_max_from_raindict(pixel2[i])\n",
    "    except Exception as e:\n",
    "        max_rain = 0\n",
    "        print('error with rain #'+str(i))\n",
    "    \n",
    "    if max_rain > 10:\n",
    "        rains_larger_than_ten.append(pixel2[i])\n",
    "\n",
    "    i+=1\n"
   ]
  },
  {
   "cell_type": "code",
   "execution_count": 12,
   "id": "d7bdfc56",
   "metadata": {},
   "outputs": [
    {
     "data": {
      "text/plain": [
       "100"
      ]
     },
     "execution_count": 12,
     "metadata": {},
     "output_type": "execute_result"
    }
   ],
   "source": [
    "n_real_rains"
   ]
  },
  {
   "cell_type": "code",
   "execution_count": 13,
   "id": "0446b37b",
   "metadata": {},
   "outputs": [],
   "source": [
    "ud.create_datfiles(rains_larger_than_ten, rainfall_dats_directory, identifier = 'real', isReal=True)"
   ]
  },
  {
   "cell_type": "markdown",
   "id": "b68801f0",
   "metadata": {},
   "source": [
    "## Run SWMM "
   ]
  },
  {
   "cell_type": "code",
   "execution_count": 15,
   "id": "51dbd53a",
   "metadata": {},
   "outputs": [],
   "source": [
    "ud.run_SWMM(inp_path, training_rainfall_dats_directory, training_simulations_path)"
   ]
  },
  {
   "cell_type": "code",
   "execution_count": 17,
   "id": "2076b92b",
   "metadata": {},
   "outputs": [],
   "source": [
    "ud.run_SWMM(inp_path, validation_rainfall_dats_directory, validation_simulations_path)"
   ]
  },
  {
   "cell_type": "code",
   "execution_count": 19,
   "id": "3e5c25b3",
   "metadata": {},
   "outputs": [],
   "source": [
    "ud.run_SWMM(inp_path, testing_rainfall_dats_directory, testing_simulations_path)"
   ]
  },
  {
   "cell_type": "markdown",
   "id": "141ce1bc",
   "metadata": {},
   "source": [
    "## Extract and export SWMM results"
   ]
  },
  {
   "cell_type": "code",
   "execution_count": 16,
   "id": "6dea8d13",
   "metadata": {},
   "outputs": [],
   "source": [
    "#Hydraulic head and subcatchment runoff\n",
    "ud.extract_and_pickle_SWMM_results(training_simulations_path)"
   ]
  },
  {
   "cell_type": "code",
   "execution_count": 18,
   "id": "2d3721ce",
   "metadata": {},
   "outputs": [],
   "source": [
    "ud.extract_and_pickle_SWMM_results(validation_simulations_path)"
   ]
  },
  {
   "cell_type": "code",
   "execution_count": 20,
   "id": "d356066c",
   "metadata": {},
   "outputs": [],
   "source": [
    "ud.extract_and_pickle_SWMM_results(testing_simulations_path)"
   ]
  }
 ],
 "metadata": {
  "interpreter": {
   "hash": "f88404f1e87403b1e488e351250feb539bee03edfc67c7328abb8c80a54639ed"
  },
  "kernelspec": {
   "display_name": "Python 3.10.2 ('third_SWMM': venv)",
   "language": "python",
   "name": "python3"
  },
  "language_info": {
   "codemirror_mode": {
    "name": "ipython",
    "version": 3
   },
   "file_extension": ".py",
   "mimetype": "text/x-python",
   "name": "python",
   "nbconvert_exporter": "python",
   "pygments_lexer": "ipython3",
   "version": "3.10.2"
  }
 },
 "nbformat": 4,
 "nbformat_minor": 5
}
