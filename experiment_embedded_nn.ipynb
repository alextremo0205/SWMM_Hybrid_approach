{
 "cells": [
  {
   "cell_type": "code",
   "execution_count": 1,
   "metadata": {},
   "outputs": [],
   "source": [
    "import numpy as np\n",
    "import pandas as pd\n",
    "import torch\n",
    "import torch.nn as nn\n",
    "\n",
    "import torch.optim as optim\n",
    "\n",
    "import plotly.graph_objects as go"
   ]
  },
  {
   "cell_type": "code",
   "execution_count": 2,
   "metadata": {},
   "outputs": [],
   "source": [
    "device = \"cuda\" if torch.cuda.is_available() else \"cpu\""
   ]
  },
  {
   "cell_type": "code",
   "execution_count": 3,
   "metadata": {},
   "outputs": [],
   "source": [
    "class NeuralNetwork(nn.Module):\n",
    "    def __init__(self):\n",
    "        super(NeuralNetwork, self).__init__()\n",
    "        # self.flatten = nn.Flatten()\n",
    "        self.linear_tanh_stack = nn.Sequential(\n",
    "            nn.Linear(1, 1),\n",
    "            nn.Tanh(),\n",
    "        )\n",
    "\n",
    "    def forward(self, x):\n",
    "        # x = self.flatten(x)\n",
    "        dh = self.linear_tanh_stack(x)\n",
    "        return dh"
   ]
  },
  {
   "cell_type": "code",
   "execution_count": 4,
   "metadata": {},
   "outputs": [
    {
     "name": "stdout",
     "output_type": "stream",
     "text": [
      "NeuralNetwork(\n",
      "  (linear_tanh_stack): Sequential(\n",
      "    (0): Linear(in_features=1, out_features=1, bias=True)\n",
      "    (1): Tanh()\n",
      "  )\n",
      ")\n"
     ]
    }
   ],
   "source": [
    "q_transfer_ANN = NeuralNetwork().to(device)\n",
    "print(q_transfer_ANN)"
   ]
  },
  {
   "cell_type": "code",
   "execution_count": 5,
   "metadata": {},
   "outputs": [],
   "source": [
    "#100 values between -1 and 1\n",
    "original_x_values = (np.random.random((100,1))-0.5)*2"
   ]
  },
  {
   "cell_type": "code",
   "execution_count": 6,
   "metadata": {},
   "outputs": [],
   "source": [
    "#Generator function to create the y values\n",
    "def get_y_deterministic_value(x_value):\n",
    "    value = x_value[0]\n",
    "    if value>0.0:\n",
    "        y_value = np.tanh(value)\n",
    "    else:\n",
    "        y_value = 0.2\n",
    "    return y_value"
   ]
  },
  {
   "cell_type": "code",
   "execution_count": 7,
   "metadata": {},
   "outputs": [],
   "source": [
    "y_values = np.array(list(map(get_y_deterministic_value, original_x_values)))"
   ]
  },
  {
   "cell_type": "code",
   "execution_count": 8,
   "metadata": {},
   "outputs": [
    {
     "data": {
      "application/vnd.plotly.v1+json": {
       "config": {
        "plotlyServerURL": "https://plot.ly"
       },
       "data": [
        {
         "mode": "markers",
         "type": "scatter",
         "x": [
          -0.0615603976315553,
          -0.6202671810006934,
          -0.7564646141023896,
          -0.784835713146651,
          -0.08152892406943457,
          0.8258965281696549,
          -0.7706895802397684,
          0.3779800059124341,
          -0.44436512836431885,
          0.45337129072644755,
          -0.18395549611926576,
          -0.11845131475440307,
          0.3627322341701724,
          0.17707751872693533,
          -0.9004584421166328,
          0.8776838312680724,
          -0.3654282024128377,
          -0.7901680970142861,
          0.5673816194410184,
          0.5186552526217896,
          0.31927248787187956,
          0.6692817916829494,
          -0.03464391406387879,
          -0.11948228015480078,
          0.3753194338427972,
          -0.42244556029430624,
          -0.6976526278837201,
          0.35837322292460194,
          0.6228310852659726,
          0.26919406544151414,
          -0.8065150398914811,
          -0.4718437925508925,
          -0.3264360230864627,
          -0.9661234790562412,
          0.19550179559585268,
          0.10733258656139033,
          -0.7715303709481369,
          0.733466185787236,
          -0.8273126040250813,
          0.8738772637733911,
          -0.6182396987973042,
          -0.5806921753805818,
          -0.8901294706147385,
          -0.8855895507963862,
          -0.3522493122445156,
          -0.27089794644571863,
          0.029300247824125325,
          0.7890734521569827,
          -0.03353709344469524,
          -0.2039978867932557,
          0.6664809091638495,
          0.3917176627704628,
          -0.19122644710754444,
          0.9503633581251785,
          0.3786740124297845,
          0.25149566524495026,
          -0.7487501304848685,
          -0.5913961951346003,
          -0.3487212516210383,
          -0.9137424041750006,
          0.3387702749022279,
          0.8433573200576392,
          -0.5355747079442583,
          0.5796409207440611,
          -0.30803342830993063,
          0.13085378900840938,
          -0.06912649616147126,
          -0.30310151054192014,
          0.4855481264143715,
          -0.42450926701032077,
          0.004737175552602668,
          0.7230351755885205,
          0.8522344916034272,
          0.9884912431474102,
          -0.9143256834248112,
          0.851099918127753,
          0.9404623965254,
          -0.5540283930430407,
          0.260359956596788,
          -0.08591977775972426,
          -0.9845615410023414,
          -0.37221250897751323,
          0.011265676844100181,
          -0.2740497200585321,
          0.3600009956153445,
          -0.2433195555832075,
          0.04414910288751095,
          0.03516299721834004,
          -0.7293327101536282,
          -0.18249001127725917,
          -0.3240723934868146,
          -0.654138271331927,
          -0.3477825611422598,
          0.18848348261224324,
          -0.6082857357453326,
          -0.9312620623582537,
          0.17361774057469792,
          -0.20386692441919352,
          -0.5827397341934266,
          -0.36204564329690947
         ],
         "y": [
          0.2,
          0.2,
          0.2,
          0.2,
          0.2,
          0.6782664797540983,
          0.2,
          0.3609519334267905,
          0.2,
          0.4246662638935712,
          0.2,
          0.2,
          0.3476183867206864,
          0.17524960145724217,
          0.2,
          0.705257085754611,
          0.2,
          0.2,
          0.5134337327753049,
          0.47666146599202336,
          0.3088489527313066,
          0.5845072480104527,
          0.2,
          0.2,
          0.3586357786154508,
          0.2,
          0.2,
          0.3437803206351663,
          0.5530961179600642,
          0.2628747525936028,
          0.2,
          0.2,
          0.2,
          0.2,
          0.19304854016401204,
          0.10692230976170113,
          0.2,
          0.6251813475742705,
          0.2,
          0.7033387167622942,
          0.2,
          0.2,
          0.2,
          0.2,
          0.2,
          0.2,
          0.029291865904057073,
          0.6578838286291113,
          0.2,
          0.2,
          0.5826602644935825,
          0.3728400650886416,
          0.2,
          0.7399475069273208,
          0.361555369144703,
          0.24632409406224692,
          0.2,
          0.2,
          0.2,
          0.2,
          0.32637910547090465,
          0.6875832286308122,
          0.2,
          0.5224043944168607,
          0.2,
          0.13011201175116657,
          0.2,
          0.2,
          0.4506759005973672,
          0.2,
          0.004737140117533493,
          0.6187858407340767,
          0.692235017846573,
          0.7567182513319124,
          0.2,
          0.6916436556660421,
          0.7354346279700449,
          0.2,
          0.2546321813616507,
          0.2,
          0.2,
          0.2,
          0.011265200272052208,
          0.2,
          0.34521491110036595,
          0.2,
          0.04412044092465719,
          0.03514851211267657,
          0.2,
          0.2,
          0.2,
          0.2,
          0.2,
          0.18628272809263163,
          0.2,
          0.2,
          0.1718940603155012,
          0.2,
          0.2,
          0.2
         ]
        }
       ],
       "layout": {
        "template": {
         "data": {
          "bar": [
           {
            "error_x": {
             "color": "#2a3f5f"
            },
            "error_y": {
             "color": "#2a3f5f"
            },
            "marker": {
             "line": {
              "color": "#E5ECF6",
              "width": 0.5
             },
             "pattern": {
              "fillmode": "overlay",
              "size": 10,
              "solidity": 0.2
             }
            },
            "type": "bar"
           }
          ],
          "barpolar": [
           {
            "marker": {
             "line": {
              "color": "#E5ECF6",
              "width": 0.5
             },
             "pattern": {
              "fillmode": "overlay",
              "size": 10,
              "solidity": 0.2
             }
            },
            "type": "barpolar"
           }
          ],
          "carpet": [
           {
            "aaxis": {
             "endlinecolor": "#2a3f5f",
             "gridcolor": "white",
             "linecolor": "white",
             "minorgridcolor": "white",
             "startlinecolor": "#2a3f5f"
            },
            "baxis": {
             "endlinecolor": "#2a3f5f",
             "gridcolor": "white",
             "linecolor": "white",
             "minorgridcolor": "white",
             "startlinecolor": "#2a3f5f"
            },
            "type": "carpet"
           }
          ],
          "choropleth": [
           {
            "colorbar": {
             "outlinewidth": 0,
             "ticks": ""
            },
            "type": "choropleth"
           }
          ],
          "contour": [
           {
            "colorbar": {
             "outlinewidth": 0,
             "ticks": ""
            },
            "colorscale": [
             [
              0,
              "#0d0887"
             ],
             [
              0.1111111111111111,
              "#46039f"
             ],
             [
              0.2222222222222222,
              "#7201a8"
             ],
             [
              0.3333333333333333,
              "#9c179e"
             ],
             [
              0.4444444444444444,
              "#bd3786"
             ],
             [
              0.5555555555555556,
              "#d8576b"
             ],
             [
              0.6666666666666666,
              "#ed7953"
             ],
             [
              0.7777777777777778,
              "#fb9f3a"
             ],
             [
              0.8888888888888888,
              "#fdca26"
             ],
             [
              1,
              "#f0f921"
             ]
            ],
            "type": "contour"
           }
          ],
          "contourcarpet": [
           {
            "colorbar": {
             "outlinewidth": 0,
             "ticks": ""
            },
            "type": "contourcarpet"
           }
          ],
          "heatmap": [
           {
            "colorbar": {
             "outlinewidth": 0,
             "ticks": ""
            },
            "colorscale": [
             [
              0,
              "#0d0887"
             ],
             [
              0.1111111111111111,
              "#46039f"
             ],
             [
              0.2222222222222222,
              "#7201a8"
             ],
             [
              0.3333333333333333,
              "#9c179e"
             ],
             [
              0.4444444444444444,
              "#bd3786"
             ],
             [
              0.5555555555555556,
              "#d8576b"
             ],
             [
              0.6666666666666666,
              "#ed7953"
             ],
             [
              0.7777777777777778,
              "#fb9f3a"
             ],
             [
              0.8888888888888888,
              "#fdca26"
             ],
             [
              1,
              "#f0f921"
             ]
            ],
            "type": "heatmap"
           }
          ],
          "heatmapgl": [
           {
            "colorbar": {
             "outlinewidth": 0,
             "ticks": ""
            },
            "colorscale": [
             [
              0,
              "#0d0887"
             ],
             [
              0.1111111111111111,
              "#46039f"
             ],
             [
              0.2222222222222222,
              "#7201a8"
             ],
             [
              0.3333333333333333,
              "#9c179e"
             ],
             [
              0.4444444444444444,
              "#bd3786"
             ],
             [
              0.5555555555555556,
              "#d8576b"
             ],
             [
              0.6666666666666666,
              "#ed7953"
             ],
             [
              0.7777777777777778,
              "#fb9f3a"
             ],
             [
              0.8888888888888888,
              "#fdca26"
             ],
             [
              1,
              "#f0f921"
             ]
            ],
            "type": "heatmapgl"
           }
          ],
          "histogram": [
           {
            "marker": {
             "pattern": {
              "fillmode": "overlay",
              "size": 10,
              "solidity": 0.2
             }
            },
            "type": "histogram"
           }
          ],
          "histogram2d": [
           {
            "colorbar": {
             "outlinewidth": 0,
             "ticks": ""
            },
            "colorscale": [
             [
              0,
              "#0d0887"
             ],
             [
              0.1111111111111111,
              "#46039f"
             ],
             [
              0.2222222222222222,
              "#7201a8"
             ],
             [
              0.3333333333333333,
              "#9c179e"
             ],
             [
              0.4444444444444444,
              "#bd3786"
             ],
             [
              0.5555555555555556,
              "#d8576b"
             ],
             [
              0.6666666666666666,
              "#ed7953"
             ],
             [
              0.7777777777777778,
              "#fb9f3a"
             ],
             [
              0.8888888888888888,
              "#fdca26"
             ],
             [
              1,
              "#f0f921"
             ]
            ],
            "type": "histogram2d"
           }
          ],
          "histogram2dcontour": [
           {
            "colorbar": {
             "outlinewidth": 0,
             "ticks": ""
            },
            "colorscale": [
             [
              0,
              "#0d0887"
             ],
             [
              0.1111111111111111,
              "#46039f"
             ],
             [
              0.2222222222222222,
              "#7201a8"
             ],
             [
              0.3333333333333333,
              "#9c179e"
             ],
             [
              0.4444444444444444,
              "#bd3786"
             ],
             [
              0.5555555555555556,
              "#d8576b"
             ],
             [
              0.6666666666666666,
              "#ed7953"
             ],
             [
              0.7777777777777778,
              "#fb9f3a"
             ],
             [
              0.8888888888888888,
              "#fdca26"
             ],
             [
              1,
              "#f0f921"
             ]
            ],
            "type": "histogram2dcontour"
           }
          ],
          "mesh3d": [
           {
            "colorbar": {
             "outlinewidth": 0,
             "ticks": ""
            },
            "type": "mesh3d"
           }
          ],
          "parcoords": [
           {
            "line": {
             "colorbar": {
              "outlinewidth": 0,
              "ticks": ""
             }
            },
            "type": "parcoords"
           }
          ],
          "pie": [
           {
            "automargin": true,
            "type": "pie"
           }
          ],
          "scatter": [
           {
            "fillpattern": {
             "fillmode": "overlay",
             "size": 10,
             "solidity": 0.2
            },
            "type": "scatter"
           }
          ],
          "scatter3d": [
           {
            "line": {
             "colorbar": {
              "outlinewidth": 0,
              "ticks": ""
             }
            },
            "marker": {
             "colorbar": {
              "outlinewidth": 0,
              "ticks": ""
             }
            },
            "type": "scatter3d"
           }
          ],
          "scattercarpet": [
           {
            "marker": {
             "colorbar": {
              "outlinewidth": 0,
              "ticks": ""
             }
            },
            "type": "scattercarpet"
           }
          ],
          "scattergeo": [
           {
            "marker": {
             "colorbar": {
              "outlinewidth": 0,
              "ticks": ""
             }
            },
            "type": "scattergeo"
           }
          ],
          "scattergl": [
           {
            "marker": {
             "colorbar": {
              "outlinewidth": 0,
              "ticks": ""
             }
            },
            "type": "scattergl"
           }
          ],
          "scattermapbox": [
           {
            "marker": {
             "colorbar": {
              "outlinewidth": 0,
              "ticks": ""
             }
            },
            "type": "scattermapbox"
           }
          ],
          "scatterpolar": [
           {
            "marker": {
             "colorbar": {
              "outlinewidth": 0,
              "ticks": ""
             }
            },
            "type": "scatterpolar"
           }
          ],
          "scatterpolargl": [
           {
            "marker": {
             "colorbar": {
              "outlinewidth": 0,
              "ticks": ""
             }
            },
            "type": "scatterpolargl"
           }
          ],
          "scatterternary": [
           {
            "marker": {
             "colorbar": {
              "outlinewidth": 0,
              "ticks": ""
             }
            },
            "type": "scatterternary"
           }
          ],
          "surface": [
           {
            "colorbar": {
             "outlinewidth": 0,
             "ticks": ""
            },
            "colorscale": [
             [
              0,
              "#0d0887"
             ],
             [
              0.1111111111111111,
              "#46039f"
             ],
             [
              0.2222222222222222,
              "#7201a8"
             ],
             [
              0.3333333333333333,
              "#9c179e"
             ],
             [
              0.4444444444444444,
              "#bd3786"
             ],
             [
              0.5555555555555556,
              "#d8576b"
             ],
             [
              0.6666666666666666,
              "#ed7953"
             ],
             [
              0.7777777777777778,
              "#fb9f3a"
             ],
             [
              0.8888888888888888,
              "#fdca26"
             ],
             [
              1,
              "#f0f921"
             ]
            ],
            "type": "surface"
           }
          ],
          "table": [
           {
            "cells": {
             "fill": {
              "color": "#EBF0F8"
             },
             "line": {
              "color": "white"
             }
            },
            "header": {
             "fill": {
              "color": "#C8D4E3"
             },
             "line": {
              "color": "white"
             }
            },
            "type": "table"
           }
          ]
         },
         "layout": {
          "annotationdefaults": {
           "arrowcolor": "#2a3f5f",
           "arrowhead": 0,
           "arrowwidth": 1
          },
          "autotypenumbers": "strict",
          "coloraxis": {
           "colorbar": {
            "outlinewidth": 0,
            "ticks": ""
           }
          },
          "colorscale": {
           "diverging": [
            [
             0,
             "#8e0152"
            ],
            [
             0.1,
             "#c51b7d"
            ],
            [
             0.2,
             "#de77ae"
            ],
            [
             0.3,
             "#f1b6da"
            ],
            [
             0.4,
             "#fde0ef"
            ],
            [
             0.5,
             "#f7f7f7"
            ],
            [
             0.6,
             "#e6f5d0"
            ],
            [
             0.7,
             "#b8e186"
            ],
            [
             0.8,
             "#7fbc41"
            ],
            [
             0.9,
             "#4d9221"
            ],
            [
             1,
             "#276419"
            ]
           ],
           "sequential": [
            [
             0,
             "#0d0887"
            ],
            [
             0.1111111111111111,
             "#46039f"
            ],
            [
             0.2222222222222222,
             "#7201a8"
            ],
            [
             0.3333333333333333,
             "#9c179e"
            ],
            [
             0.4444444444444444,
             "#bd3786"
            ],
            [
             0.5555555555555556,
             "#d8576b"
            ],
            [
             0.6666666666666666,
             "#ed7953"
            ],
            [
             0.7777777777777778,
             "#fb9f3a"
            ],
            [
             0.8888888888888888,
             "#fdca26"
            ],
            [
             1,
             "#f0f921"
            ]
           ],
           "sequentialminus": [
            [
             0,
             "#0d0887"
            ],
            [
             0.1111111111111111,
             "#46039f"
            ],
            [
             0.2222222222222222,
             "#7201a8"
            ],
            [
             0.3333333333333333,
             "#9c179e"
            ],
            [
             0.4444444444444444,
             "#bd3786"
            ],
            [
             0.5555555555555556,
             "#d8576b"
            ],
            [
             0.6666666666666666,
             "#ed7953"
            ],
            [
             0.7777777777777778,
             "#fb9f3a"
            ],
            [
             0.8888888888888888,
             "#fdca26"
            ],
            [
             1,
             "#f0f921"
            ]
           ]
          },
          "colorway": [
           "#636efa",
           "#EF553B",
           "#00cc96",
           "#ab63fa",
           "#FFA15A",
           "#19d3f3",
           "#FF6692",
           "#B6E880",
           "#FF97FF",
           "#FECB52"
          ],
          "font": {
           "color": "#2a3f5f"
          },
          "geo": {
           "bgcolor": "white",
           "lakecolor": "white",
           "landcolor": "#E5ECF6",
           "showlakes": true,
           "showland": true,
           "subunitcolor": "white"
          },
          "hoverlabel": {
           "align": "left"
          },
          "hovermode": "closest",
          "mapbox": {
           "style": "light"
          },
          "paper_bgcolor": "white",
          "plot_bgcolor": "#E5ECF6",
          "polar": {
           "angularaxis": {
            "gridcolor": "white",
            "linecolor": "white",
            "ticks": ""
           },
           "bgcolor": "#E5ECF6",
           "radialaxis": {
            "gridcolor": "white",
            "linecolor": "white",
            "ticks": ""
           }
          },
          "scene": {
           "xaxis": {
            "backgroundcolor": "#E5ECF6",
            "gridcolor": "white",
            "gridwidth": 2,
            "linecolor": "white",
            "showbackground": true,
            "ticks": "",
            "zerolinecolor": "white"
           },
           "yaxis": {
            "backgroundcolor": "#E5ECF6",
            "gridcolor": "white",
            "gridwidth": 2,
            "linecolor": "white",
            "showbackground": true,
            "ticks": "",
            "zerolinecolor": "white"
           },
           "zaxis": {
            "backgroundcolor": "#E5ECF6",
            "gridcolor": "white",
            "gridwidth": 2,
            "linecolor": "white",
            "showbackground": true,
            "ticks": "",
            "zerolinecolor": "white"
           }
          },
          "shapedefaults": {
           "line": {
            "color": "#2a3f5f"
           }
          },
          "ternary": {
           "aaxis": {
            "gridcolor": "white",
            "linecolor": "white",
            "ticks": ""
           },
           "baxis": {
            "gridcolor": "white",
            "linecolor": "white",
            "ticks": ""
           },
           "bgcolor": "#E5ECF6",
           "caxis": {
            "gridcolor": "white",
            "linecolor": "white",
            "ticks": ""
           }
          },
          "title": {
           "x": 0.05
          },
          "xaxis": {
           "automargin": true,
           "gridcolor": "white",
           "linecolor": "white",
           "ticks": "",
           "title": {
            "standoff": 15
           },
           "zerolinecolor": "white",
           "zerolinewidth": 2
          },
          "yaxis": {
           "automargin": true,
           "gridcolor": "white",
           "linecolor": "white",
           "ticks": "",
           "title": {
            "standoff": 15
           },
           "zerolinecolor": "white",
           "zerolinewidth": 2
          }
         }
        }
       }
      }
     },
     "metadata": {},
     "output_type": "display_data"
    }
   ],
   "source": [
    "fig = go.Figure(go.Scatter(x = original_x_values[:,0], y = y_values, mode = 'markers'))\n",
    "fig.show()"
   ]
  },
  {
   "cell_type": "code",
   "execution_count": 9,
   "metadata": {},
   "outputs": [],
   "source": [
    "x_input_ANN = torch.tensor(original_x_values, dtype=torch.float)"
   ]
  },
  {
   "cell_type": "code",
   "execution_count": 10,
   "metadata": {},
   "outputs": [],
   "source": [
    "def get_piecewise_ANN_or_constant(X, model):\n",
    "    # print(X)\n",
    "    if torch.ge(X[0], 0.0):\n",
    "        y=model(X)\n",
    "    else:\n",
    "        # print('here')\n",
    "        y = 0.2\n",
    "    \n",
    "    return y"
   ]
  },
  {
   "cell_type": "code",
   "execution_count": 11,
   "metadata": {},
   "outputs": [],
   "source": [
    "# for i,j in enumerate(results_of_the_model):\n",
    "#     print(i, j, y_values[i])"
   ]
  },
  {
   "cell_type": "code",
   "execution_count": 12,
   "metadata": {},
   "outputs": [],
   "source": [
    "constant_torch = torch.tensor(20, dtype=torch.float)\n",
    "real = torch.tensor(y_values, dtype=torch.float)+constant_torch"
   ]
  },
  {
   "cell_type": "code",
   "execution_count": 13,
   "metadata": {},
   "outputs": [
    {
     "data": {
      "text/plain": [
       "tensor([20.2000, 20.2000, 20.2000, 20.2000, 20.2000, 20.6783, 20.2000, 20.3610,\n",
       "        20.2000, 20.4247, 20.2000, 20.2000, 20.3476, 20.1752, 20.2000, 20.7053,\n",
       "        20.2000, 20.2000, 20.5134, 20.4767, 20.3088, 20.5845, 20.2000, 20.2000,\n",
       "        20.3586, 20.2000, 20.2000, 20.3438, 20.5531, 20.2629, 20.2000, 20.2000,\n",
       "        20.2000, 20.2000, 20.1930, 20.1069, 20.2000, 20.6252, 20.2000, 20.7033,\n",
       "        20.2000, 20.2000, 20.2000, 20.2000, 20.2000, 20.2000, 20.0293, 20.6579,\n",
       "        20.2000, 20.2000, 20.5827, 20.3728, 20.2000, 20.7399, 20.3616, 20.2463,\n",
       "        20.2000, 20.2000, 20.2000, 20.2000, 20.3264, 20.6876, 20.2000, 20.5224,\n",
       "        20.2000, 20.1301, 20.2000, 20.2000, 20.4507, 20.2000, 20.0047, 20.6188,\n",
       "        20.6922, 20.7567, 20.2000, 20.6916, 20.7354, 20.2000, 20.2546, 20.2000,\n",
       "        20.2000, 20.2000, 20.0113, 20.2000, 20.3452, 20.2000, 20.0441, 20.0351,\n",
       "        20.2000, 20.2000, 20.2000, 20.2000, 20.2000, 20.1863, 20.2000, 20.2000,\n",
       "        20.1719, 20.2000, 20.2000, 20.2000])"
      ]
     },
     "execution_count": 13,
     "metadata": {},
     "output_type": "execute_result"
    }
   ],
   "source": [
    "real"
   ]
  },
  {
   "cell_type": "code",
   "execution_count": 14,
   "metadata": {},
   "outputs": [],
   "source": [
    "optimizer = optim.SGD(q_transfer_ANN.parameters(), lr=0.01, momentum=0.9)\n",
    "losses=[]\n",
    "for epoch in range(1000):\n",
    "    # Load data to device\n",
    "    # x, y = batch[0].to(device), batch[1].to(device)\n",
    "    results_of_the_model = []\n",
    "    for i in x_input_ANN:\n",
    "        results_of_the_model.append(get_piecewise_ANN_or_constant(i, q_transfer_ANN))\n",
    "\n",
    "\n",
    "    tensors_in_y = []\n",
    "    for i in results_of_the_model:\n",
    "        if type(i)==torch.Tensor:\n",
    "            tensors_in_y.append(i)\n",
    "        else:\n",
    "            value_in_torch = torch.tensor([i], dtype=torch.float)\n",
    "            tensors_in_y.append(value_in_torch)\n",
    "\n",
    "    # Model prediction\n",
    "    preds = torch.cat(tensors_in_y) + constant_torch\n",
    "    \n",
    "    # MSE loss function\n",
    "    loss = nn.MSELoss()(preds, real)\n",
    "        \n",
    "    losses.append(loss.detach())\n",
    "    \n",
    "    # Backpropagate and update weights\n",
    "    loss.backward()\n",
    "    optimizer.step()\n",
    "    optimizer.zero_grad(set_to_none=True)        "
   ]
  },
  {
   "cell_type": "code",
   "execution_count": 15,
   "metadata": {},
   "outputs": [
    {
     "data": {
      "text/plain": [
       "<AxesSubplot:>"
      ]
     },
     "execution_count": 15,
     "metadata": {},
     "output_type": "execute_result"
    },
    {
     "data": {
      "image/png": "[encoded data removed]",
      "text/plain": [
       "<Figure size 432x288 with 1 Axes>"
      ]
     },
     "metadata": {
      "needs_background": "light"
     },
     "output_type": "display_data"
    }
   ],
   "source": [
    "pd.Series(np.array(losses)).plot()"
   ]
  },
  {
   "cell_type": "code",
   "execution_count": 16,
   "metadata": {},
   "outputs": [],
   "source": [
    "test_x_values = (np.random.random((100,1))-0.5)*2\n",
    "test_x_input_ANN = torch.tensor(test_x_values, dtype=torch.float)\n",
    "\n",
    "test_results_of_the_model = []\n",
    "for i in test_x_input_ANN:\n",
    "    test_results_of_the_model.append(get_piecewise_ANN_or_constant(i, q_transfer_ANN)+ constant_torch)"
   ]
  },
  {
   "cell_type": "code",
   "execution_count": 17,
   "metadata": {},
   "outputs": [
    {
     "data": {
      "text/plain": [
       "tensor([20.6380], grad_fn=<AddBackward0>)"
      ]
     },
     "execution_count": 17,
     "metadata": {},
     "output_type": "execute_result"
    }
   ],
   "source": [
    "test_results_of_the_model[2]"
   ]
  },
  {
   "cell_type": "code",
   "execution_count": 18,
   "metadata": {},
   "outputs": [],
   "source": [
    "test_tensors_in_y = []\n",
    "for i in test_results_of_the_model:\n",
    "    if type(i)!=torch.Tensor:\n",
    "        test_tensors_in_y.append(i)\n",
    "    else:\n",
    "        value_in_torch = i.detach().item()#torch.tensor([i], dtype=torch.float)\n",
    "        test_tensors_in_y.append(value_in_torch)"
   ]
  },
  {
   "cell_type": "code",
   "execution_count": 20,
   "metadata": {},
   "outputs": [
    {
     "data": {
      "application/vnd.plotly.v1+json": {
       "config": {
        "plotlyServerURL": "https://plot.ly"
       },
       "data": [
        {
         "mode": "markers",
         "type": "scatter",
         "x": [
          -0.10908114440349892,
          0.27207105248077124,
          0.7669668176001212,
          -0.29536386902088707,
          -0.12290887419446594,
          -0.12995471478482834,
          -0.4460410046644243,
          0.3464682713628471,
          -0.36076512956550366,
          0.12166318575341162,
          -0.4717521295504461,
          -0.09777934662959309,
          0.9880222686193763,
          0.8864044333654688,
          -0.05127451143071071,
          0.18659779104173224,
          0.08577476875956402,
          -0.2359797281357765,
          0.9002610792090553,
          -0.6548964127626009,
          -0.6220270512216961,
          -0.2591533669754815,
          0.9001908442326088,
          -0.9473762341083403,
          -0.6911184135177431,
          -0.2501140421094823,
          -0.3996596185964323,
          0.9567738841445423,
          -0.4933008168505131,
          -0.13736871492467362,
          0.5770405950114814,
          0.7247687787376049,
          -0.4381054436627123,
          -0.16114543194151887,
          -0.5144608491685747,
          0.9359870022621146,
          -0.3821798636126956,
          -0.6079309690107073,
          0.4263233001112825,
          -0.49348869417503427,
          0.7032764629811781,
          0.012628911156751466,
          -0.22191730755739925,
          0.3668941173763647,
          -0.7790428200117836,
          -0.31003205467696704,
          0.4433499376672769,
          0.3293917083143889,
          0.21362851190416143,
          -0.7376196828184234,
          -0.3899912672044932,
          0.2841722808567815,
          0.42254351005382706,
          0.29827293353731443,
          0.5056766984869034,
          0.2921852216062122,
          -0.13852715708200636,
          0.002719837376978562,
          -0.8654478439121089,
          0.8451981278783003,
          -0.1954077332055275,
          0.714757854711378,
          0.5063444774505608,
          0.31668918519358624,
          -0.8159653729143523,
          -0.24405942553430937,
          0.7755818172495745,
          0.5839315360868209,
          0.5619368979409949,
          0.33388586964562506,
          0.3031801568428536,
          0.387478628165141,
          -0.3248172740347268,
          0.5920068338095648,
          0.7725503758715861,
          0.6276728455528244,
          0.9810797675931104,
          -0.905569108696284,
          -0.299503905541195,
          -0.9408277319994534,
          0.9033952523085349,
          0.9257413297691177,
          0.2728086110592498,
          -0.4703103693856854,
          0.991075599191189,
          0.3403194002901453,
          -0.13548362675147918,
          0.9731049554659801,
          -0.207977142933079,
          -0.9254135792061022,
          -0.9489334915772563,
          -0.3057167006209984,
          0.2586206366525423,
          0.02405575658537451,
          -0.3864417176984465,
          -0.014582675331206385,
          -0.8311326616036683,
          -0.9353307905180204,
          0.6382132384390038,
          0.1787598383056319
         ],
         "y": [
          20.200000762939453,
          20.268014907836914,
          20.638042449951172,
          20.200000762939453,
          20.200000762939453,
          20.200000762939453,
          20.200000762939453,
          20.33362579345703,
          20.200000762939453,
          20.12809181213379,
          20.200000762939453,
          20.200000762939453,
          20.748411178588867,
          20.701751708984375,
          20.200000762939453,
          20.189481735229492,
          20.093706130981445,
          20.200000762939453,
          20.708511352539062,
          20.200000762939453,
          20.200000762939453,
          20.200000762939453,
          20.708477020263672,
          20.200000762939453,
          20.200000762939453,
          20.200000762939453,
          20.200000762939453,
          20.734769821166992,
          20.200000762939453,
          20.200000762939453,
          20.51580047607422,
          20.61313247680664,
          20.200000762939453,
          20.200000762939453,
          20.200000762939453,
          20.725351333618164,
          20.200000762939453,
          20.200000762939453,
          20.400611877441406,
          20.200000762939453,
          20.59995460510254,
          20.023012161254883,
          20.200000762939453,
          20.351119995117188,
          20.200000762939453,
          20.200000762939453,
          20.414386749267578,
          20.318822860717773,
          20.21463394165039,
          20.200000762939453,
          20.200000762939453,
          20.27887725830078,
          20.39752960205078,
          20.291444778442383,
          20.46319007873535,
          20.28603172302246,
          20.200000762939453,
          20.01340103149414,
          20.200000762939453,
          20.68088722229004,
          20.200000762939453,
          20.607036590576172,
          20.463699340820312,
          20.307708740234375,
          20.200000762939453,
          20.200000762939453,
          20.642972946166992,
          20.52069091796875,
          20.50496482849121,
          20.322734832763672,
          20.295795440673828,
          20.36850357055664,
          20.200000762939453,
          20.526378631591797,
          20.641244888305664,
          20.550935745239258,
          20.745433807373047,
          20.200000762939453,
          20.200000762939453,
          20.200000762939453,
          20.71002197265625,
          20.72060775756836,
          20.268678665161133,
          20.200000762939453,
          20.749710083007812,
          20.32831382751465,
          20.200000762939453,
          20.741975784301758,
          20.200000762939453,
          20.200000762939453,
          20.200000762939453,
          20.200000762939453,
          20.255861282348633,
          20.034088134765625,
          20.200000762939453,
          20.200000762939453,
          20.200000762939453,
          20.200000762939453,
          20.55801773071289,
          20.182138442993164
         ]
        },
        {
         "mode": "markers",
         "type": "scatter",
         "x": [
          -0.0615603976315553,
          -0.6202671810006934,
          -0.7564646141023896,
          -0.784835713146651,
          -0.08152892406943457,
          0.8258965281696549,
          -0.7706895802397684,
          0.3779800059124341,
          -0.44436512836431885,
          0.45337129072644755,
          -0.18395549611926576,
          -0.11845131475440307,
          0.3627322341701724,
          0.17707751872693533,
          -0.9004584421166328,
          0.8776838312680724,
          -0.3654282024128377,
          -0.7901680970142861,
          0.5673816194410184,
          0.5186552526217896,
          0.31927248787187956,
          0.6692817916829494,
          -0.03464391406387879,
          -0.11948228015480078,
          0.3753194338427972,
          -0.42244556029430624,
          -0.6976526278837201,
          0.35837322292460194,
          0.6228310852659726,
          0.26919406544151414,
          -0.8065150398914811,
          -0.4718437925508925,
          -0.3264360230864627,
          -0.9661234790562412,
          0.19550179559585268,
          0.10733258656139033,
          -0.7715303709481369,
          0.733466185787236,
          -0.8273126040250813,
          0.8738772637733911,
          -0.6182396987973042,
          -0.5806921753805818,
          -0.8901294706147385,
          -0.8855895507963862,
          -0.3522493122445156,
          -0.27089794644571863,
          0.029300247824125325,
          0.7890734521569827,
          -0.03353709344469524,
          -0.2039978867932557,
          0.6664809091638495,
          0.3917176627704628,
          -0.19122644710754444,
          0.9503633581251785,
          0.3786740124297845,
          0.25149566524495026,
          -0.7487501304848685,
          -0.5913961951346003,
          -0.3487212516210383,
          -0.9137424041750006,
          0.3387702749022279,
          0.8433573200576392,
          -0.5355747079442583,
          0.5796409207440611,
          -0.30803342830993063,
          0.13085378900840938,
          -0.06912649616147126,
          -0.30310151054192014,
          0.4855481264143715,
          -0.42450926701032077,
          0.004737175552602668,
          0.7230351755885205,
          0.8522344916034272,
          0.9884912431474102,
          -0.9143256834248112,
          0.851099918127753,
          0.9404623965254,
          -0.5540283930430407,
          0.260359956596788,
          -0.08591977775972426,
          -0.9845615410023414,
          -0.37221250897751323,
          0.011265676844100181,
          -0.2740497200585321,
          0.3600009956153445,
          -0.2433195555832075,
          0.04414910288751095,
          0.03516299721834004,
          -0.7293327101536282,
          -0.18249001127725917,
          -0.3240723934868146,
          -0.654138271331927,
          -0.3477825611422598,
          0.18848348261224324,
          -0.6082857357453326,
          -0.9312620623582537,
          0.17361774057469792,
          -0.20386692441919352,
          -0.5827397341934266,
          -0.36204564329690947
         ],
         "y": [
          20.2,
          20.2,
          20.2,
          20.2,
          20.2,
          20.678266479754097,
          20.2,
          20.36095193342679,
          20.2,
          20.42466626389357,
          20.2,
          20.2,
          20.347618386720686,
          20.175249601457242,
          20.2,
          20.70525708575461,
          20.2,
          20.2,
          20.513433732775304,
          20.476661465992024,
          20.308848952731307,
          20.584507248010453,
          20.2,
          20.2,
          20.35863577861545,
          20.2,
          20.2,
          20.343780320635165,
          20.553096117960063,
          20.262874752593603,
          20.2,
          20.2,
          20.2,
          20.2,
          20.19304854016401,
          20.1069223097617,
          20.2,
          20.62518134757427,
          20.2,
          20.703338716762293,
          20.2,
          20.2,
          20.2,
          20.2,
          20.2,
          20.2,
          20.029291865904057,
          20.65788382862911,
          20.2,
          20.2,
          20.582660264493583,
          20.372840065088642,
          20.2,
          20.739947506927322,
          20.361555369144703,
          20.246324094062246,
          20.2,
          20.2,
          20.2,
          20.2,
          20.326379105470906,
          20.687583228630814,
          20.2,
          20.52240439441686,
          20.2,
          20.130112011751166,
          20.2,
          20.2,
          20.450675900597368,
          20.2,
          20.004737140117534,
          20.618785840734077,
          20.692235017846574,
          20.75671825133191,
          20.2,
          20.69164365566604,
          20.735434627970044,
          20.2,
          20.25463218136165,
          20.2,
          20.2,
          20.2,
          20.011265200272053,
          20.2,
          20.345214911100367,
          20.2,
          20.044120440924658,
          20.035148512112677,
          20.2,
          20.2,
          20.2,
          20.2,
          20.2,
          20.186282728092632,
          20.2,
          20.2,
          20.171894060315502,
          20.2,
          20.2,
          20.2
         ]
        }
       ],
       "layout": {
        "template": {
         "data": {
          "bar": [
           {
            "error_x": {
             "color": "#2a3f5f"
            },
            "error_y": {
             "color": "#2a3f5f"
            },
            "marker": {
             "line": {
              "color": "#E5ECF6",
              "width": 0.5
             },
             "pattern": {
              "fillmode": "overlay",
              "size": 10,
              "solidity": 0.2
             }
            },
            "type": "bar"
           }
          ],
          "barpolar": [
           {
            "marker": {
             "line": {
              "color": "#E5ECF6",
              "width": 0.5
             },
             "pattern": {
              "fillmode": "overlay",
              "size": 10,
              "solidity": 0.2
             }
            },
            "type": "barpolar"
           }
          ],
          "carpet": [
           {
            "aaxis": {
             "endlinecolor": "#2a3f5f",
             "gridcolor": "white",
             "linecolor": "white",
             "minorgridcolor": "white",
             "startlinecolor": "#2a3f5f"
            },
            "baxis": {
             "endlinecolor": "#2a3f5f",
             "gridcolor": "white",
             "linecolor": "white",
             "minorgridcolor": "white",
             "startlinecolor": "#2a3f5f"
            },
            "type": "carpet"
           }
          ],
          "choropleth": [
           {
            "colorbar": {
             "outlinewidth": 0,
             "ticks": ""
            },
            "type": "choropleth"
           }
          ],
          "contour": [
           {
            "colorbar": {
             "outlinewidth": 0,
             "ticks": ""
            },
            "colorscale": [
             [
              0,
              "#0d0887"
             ],
             [
              0.1111111111111111,
              "#46039f"
             ],
             [
              0.2222222222222222,
              "#7201a8"
             ],
             [
              0.3333333333333333,
              "#9c179e"
             ],
             [
              0.4444444444444444,
              "#bd3786"
             ],
             [
              0.5555555555555556,
              "#d8576b"
             ],
             [
              0.6666666666666666,
              "#ed7953"
             ],
             [
              0.7777777777777778,
              "#fb9f3a"
             ],
             [
              0.8888888888888888,
              "#fdca26"
             ],
             [
              1,
              "#f0f921"
             ]
            ],
            "type": "contour"
           }
          ],
          "contourcarpet": [
           {
            "colorbar": {
             "outlinewidth": 0,
             "ticks": ""
            },
            "type": "contourcarpet"
           }
          ],
          "heatmap": [
           {
            "colorbar": {
             "outlinewidth": 0,
             "ticks": ""
            },
            "colorscale": [
             [
              0,
              "#0d0887"
             ],
             [
              0.1111111111111111,
              "#46039f"
             ],
             [
              0.2222222222222222,
              "#7201a8"
             ],
             [
              0.3333333333333333,
              "#9c179e"
             ],
             [
              0.4444444444444444,
              "#bd3786"
             ],
             [
              0.5555555555555556,
              "#d8576b"
             ],
             [
              0.6666666666666666,
              "#ed7953"
             ],
             [
              0.7777777777777778,
              "#fb9f3a"
             ],
             [
              0.8888888888888888,
              "#fdca26"
             ],
             [
              1,
              "#f0f921"
             ]
            ],
            "type": "heatmap"
           }
          ],
          "heatmapgl": [
           {
            "colorbar": {
             "outlinewidth": 0,
             "ticks": ""
            },
            "colorscale": [
             [
              0,
              "#0d0887"
             ],
             [
              0.1111111111111111,
              "#46039f"
             ],
             [
              0.2222222222222222,
              "#7201a8"
             ],
             [
              0.3333333333333333,
              "#9c179e"
             ],
             [
              0.4444444444444444,
              "#bd3786"
             ],
             [
              0.5555555555555556,
              "#d8576b"
             ],
             [
              0.6666666666666666,
              "#ed7953"
             ],
             [
              0.7777777777777778,
              "#fb9f3a"
             ],
             [
              0.8888888888888888,
              "#fdca26"
             ],
             [
              1,
              "#f0f921"
             ]
            ],
            "type": "heatmapgl"
           }
          ],
          "histogram": [
           {
            "marker": {
             "pattern": {
              "fillmode": "overlay",
              "size": 10,
              "solidity": 0.2
             }
            },
            "type": "histogram"
           }
          ],
          "histogram2d": [
           {
            "colorbar": {
             "outlinewidth": 0,
             "ticks": ""
            },
            "colorscale": [
             [
              0,
              "#0d0887"
             ],
             [
              0.1111111111111111,
              "#46039f"
             ],
             [
              0.2222222222222222,
              "#7201a8"
             ],
             [
              0.3333333333333333,
              "#9c179e"
             ],
             [
              0.4444444444444444,
              "#bd3786"
             ],
             [
              0.5555555555555556,
              "#d8576b"
             ],
             [
              0.6666666666666666,
              "#ed7953"
             ],
             [
              0.7777777777777778,
              "#fb9f3a"
             ],
             [
              0.8888888888888888,
              "#fdca26"
             ],
             [
              1,
              "#f0f921"
             ]
            ],
            "type": "histogram2d"
           }
          ],
          "histogram2dcontour": [
           {
            "colorbar": {
             "outlinewidth": 0,
             "ticks": ""
            },
            "colorscale": [
             [
              0,
              "#0d0887"
             ],
             [
              0.1111111111111111,
              "#46039f"
             ],
             [
              0.2222222222222222,
              "#7201a8"
             ],
             [
              0.3333333333333333,
              "#9c179e"
             ],
             [
              0.4444444444444444,
              "#bd3786"
             ],
             [
              0.5555555555555556,
              "#d8576b"
             ],
             [
              0.6666666666666666,
              "#ed7953"
             ],
             [
              0.7777777777777778,
              "#fb9f3a"
             ],
             [
              0.8888888888888888,
              "#fdca26"
             ],
             [
              1,
              "#f0f921"
             ]
            ],
            "type": "histogram2dcontour"
           }
          ],
          "mesh3d": [
           {
            "colorbar": {
             "outlinewidth": 0,
             "ticks": ""
            },
            "type": "mesh3d"
           }
          ],
          "parcoords": [
           {
            "line": {
             "colorbar": {
              "outlinewidth": 0,
              "ticks": ""
             }
            },
            "type": "parcoords"
           }
          ],
          "pie": [
           {
            "automargin": true,
            "type": "pie"
           }
          ],
          "scatter": [
           {
            "fillpattern": {
             "fillmode": "overlay",
             "size": 10,
             "solidity": 0.2
            },
            "type": "scatter"
           }
          ],
          "scatter3d": [
           {
            "line": {
             "colorbar": {
              "outlinewidth": 0,
              "ticks": ""
             }
            },
            "marker": {
             "colorbar": {
              "outlinewidth": 0,
              "ticks": ""
             }
            },
            "type": "scatter3d"
           }
          ],
          "scattercarpet": [
           {
            "marker": {
             "colorbar": {
              "outlinewidth": 0,
              "ticks": ""
             }
            },
            "type": "scattercarpet"
           }
          ],
          "scattergeo": [
           {
            "marker": {
             "colorbar": {
              "outlinewidth": 0,
              "ticks": ""
             }
            },
            "type": "scattergeo"
           }
          ],
          "scattergl": [
           {
            "marker": {
             "colorbar": {
              "outlinewidth": 0,
              "ticks": ""
             }
            },
            "type": "scattergl"
           }
          ],
          "scattermapbox": [
           {
            "marker": {
             "colorbar": {
              "outlinewidth": 0,
              "ticks": ""
             }
            },
            "type": "scattermapbox"
           }
          ],
          "scatterpolar": [
           {
            "marker": {
             "colorbar": {
              "outlinewidth": 0,
              "ticks": ""
             }
            },
            "type": "scatterpolar"
           }
          ],
          "scatterpolargl": [
           {
            "marker": {
             "colorbar": {
              "outlinewidth": 0,
              "ticks": ""
             }
            },
            "type": "scatterpolargl"
           }
          ],
          "scatterternary": [
           {
            "marker": {
             "colorbar": {
              "outlinewidth": 0,
              "ticks": ""
             }
            },
            "type": "scatterternary"
           }
          ],
          "surface": [
           {
            "colorbar": {
             "outlinewidth": 0,
             "ticks": ""
            },
            "colorscale": [
             [
              0,
              "#0d0887"
             ],
             [
              0.1111111111111111,
              "#46039f"
             ],
             [
              0.2222222222222222,
              "#7201a8"
             ],
             [
              0.3333333333333333,
              "#9c179e"
             ],
             [
              0.4444444444444444,
              "#bd3786"
             ],
             [
              0.5555555555555556,
              "#d8576b"
             ],
             [
              0.6666666666666666,
              "#ed7953"
             ],
             [
              0.7777777777777778,
              "#fb9f3a"
             ],
             [
              0.8888888888888888,
              "#fdca26"
             ],
             [
              1,
              "#f0f921"
             ]
            ],
            "type": "surface"
           }
          ],
          "table": [
           {
            "cells": {
             "fill": {
              "color": "#EBF0F8"
             },
             "line": {
              "color": "white"
             }
            },
            "header": {
             "fill": {
              "color": "#C8D4E3"
             },
             "line": {
              "color": "white"
             }
            },
            "type": "table"
           }
          ]
         },
         "layout": {
          "annotationdefaults": {
           "arrowcolor": "#2a3f5f",
           "arrowhead": 0,
           "arrowwidth": 1
          },
          "autotypenumbers": "strict",
          "coloraxis": {
           "colorbar": {
            "outlinewidth": 0,
            "ticks": ""
           }
          },
          "colorscale": {
           "diverging": [
            [
             0,
             "#8e0152"
            ],
            [
             0.1,
             "#c51b7d"
            ],
            [
             0.2,
             "#de77ae"
            ],
            [
             0.3,
             "#f1b6da"
            ],
            [
             0.4,
             "#fde0ef"
            ],
            [
             0.5,
             "#f7f7f7"
            ],
            [
             0.6,
             "#e6f5d0"
            ],
            [
             0.7,
             "#b8e186"
            ],
            [
             0.8,
             "#7fbc41"
            ],
            [
             0.9,
             "#4d9221"
            ],
            [
             1,
             "#276419"
            ]
           ],
           "sequential": [
            [
             0,
             "#0d0887"
            ],
            [
             0.1111111111111111,
             "#46039f"
            ],
            [
             0.2222222222222222,
             "#7201a8"
            ],
            [
             0.3333333333333333,
             "#9c179e"
            ],
            [
             0.4444444444444444,
             "#bd3786"
            ],
            [
             0.5555555555555556,
             "#d8576b"
            ],
            [
             0.6666666666666666,
             "#ed7953"
            ],
            [
             0.7777777777777778,
             "#fb9f3a"
            ],
            [
             0.8888888888888888,
             "#fdca26"
            ],
            [
             1,
             "#f0f921"
            ]
           ],
           "sequentialminus": [
            [
             0,
             "#0d0887"
            ],
            [
             0.1111111111111111,
             "#46039f"
            ],
            [
             0.2222222222222222,
             "#7201a8"
            ],
            [
             0.3333333333333333,
             "#9c179e"
            ],
            [
             0.4444444444444444,
             "#bd3786"
            ],
            [
             0.5555555555555556,
             "#d8576b"
            ],
            [
             0.6666666666666666,
             "#ed7953"
            ],
            [
             0.7777777777777778,
             "#fb9f3a"
            ],
            [
             0.8888888888888888,
             "#fdca26"
            ],
            [
             1,
             "#f0f921"
            ]
           ]
          },
          "colorway": [
           "#636efa",
           "#EF553B",
           "#00cc96",
           "#ab63fa",
           "#FFA15A",
           "#19d3f3",
           "#FF6692",
           "#B6E880",
           "#FF97FF",
           "#FECB52"
          ],
          "font": {
           "color": "#2a3f5f"
          },
          "geo": {
           "bgcolor": "white",
           "lakecolor": "white",
           "landcolor": "#E5ECF6",
           "showlakes": true,
           "showland": true,
           "subunitcolor": "white"
          },
          "hoverlabel": {
           "align": "left"
          },
          "hovermode": "closest",
          "mapbox": {
           "style": "light"
          },
          "paper_bgcolor": "white",
          "plot_bgcolor": "#E5ECF6",
          "polar": {
           "angularaxis": {
            "gridcolor": "white",
            "linecolor": "white",
            "ticks": ""
           },
           "bgcolor": "#E5ECF6",
           "radialaxis": {
            "gridcolor": "white",
            "linecolor": "white",
            "ticks": ""
           }
          },
          "scene": {
           "xaxis": {
            "backgroundcolor": "#E5ECF6",
            "gridcolor": "white",
            "gridwidth": 2,
            "linecolor": "white",
            "showbackground": true,
            "ticks": "",
            "zerolinecolor": "white"
           },
           "yaxis": {
            "backgroundcolor": "#E5ECF6",
            "gridcolor": "white",
            "gridwidth": 2,
            "linecolor": "white",
            "showbackground": true,
            "ticks": "",
            "zerolinecolor": "white"
           },
           "zaxis": {
            "backgroundcolor": "#E5ECF6",
            "gridcolor": "white",
            "gridwidth": 2,
            "linecolor": "white",
            "showbackground": true,
            "ticks": "",
            "zerolinecolor": "white"
           }
          },
          "shapedefaults": {
           "line": {
            "color": "#2a3f5f"
           }
          },
          "ternary": {
           "aaxis": {
            "gridcolor": "white",
            "linecolor": "white",
            "ticks": ""
           },
           "baxis": {
            "gridcolor": "white",
            "linecolor": "white",
            "ticks": ""
           },
           "bgcolor": "#E5ECF6",
           "caxis": {
            "gridcolor": "white",
            "linecolor": "white",
            "ticks": ""
           }
          },
          "title": {
           "x": 0.05
          },
          "xaxis": {
           "automargin": true,
           "gridcolor": "white",
           "linecolor": "white",
           "ticks": "",
           "title": {
            "standoff": 15
           },
           "zerolinecolor": "white",
           "zerolinewidth": 2
          },
          "yaxis": {
           "automargin": true,
           "gridcolor": "white",
           "linecolor": "white",
           "ticks": "",
           "title": {
            "standoff": 15
           },
           "zerolinecolor": "white",
           "zerolinewidth": 2
          }
         }
        }
       }
      }
     },
     "metadata": {},
     "output_type": "display_data"
    }
   ],
   "source": [
    "fig = go.Figure(go.Scatter(x = test_x_values[:,0], y = test_tensors_in_y, mode = 'markers'))\n",
    "\n",
    "fig.add_trace(go.Scatter(x = original_x_values[:,0], y = y_values+20, mode = 'markers'))\n",
    "\n",
    "fig.show()"
   ]
  },
  {
   "cell_type": "code",
   "execution_count": 122,
   "metadata": {},
   "outputs": [
    {
     "name": "stdout",
     "output_type": "stream",
     "text": [
      "('linear_tanh_stack.0.weight', Parameter containing:\n",
      "tensor([[0.9979]], requires_grad=True))\n",
      "('linear_tanh_stack.0.bias', Parameter containing:\n",
      "tensor([0.0007], requires_grad=True))\n"
     ]
    }
   ],
   "source": [
    "for i in q_transfer_ANN.named_parameters():\n",
    "    print(i)"
   ]
  },
  {
   "cell_type": "code",
   "execution_count": null,
   "metadata": {},
   "outputs": [],
   "source": []
  }
 ],
 "metadata": {
  "interpreter": {
   "hash": "f88404f1e87403b1e488e351250feb539bee03edfc67c7328abb8c80a54639ed"
  },
  "kernelspec": {
   "display_name": "Python 3.10.2 ('third_SWMM': venv)",
   "language": "python",
   "name": "python3"
  },
  "language_info": {
   "codemirror_mode": {
    "name": "ipython",
    "version": 3
   },
   "file_extension": ".py",
   "mimetype": "text/x-python",
   "name": "python",
   "nbconvert_exporter": "python",
   "pygments_lexer": "ipython3",
   "version": "3.10.2"
  },
  "orig_nbformat": 4
 },
 "nbformat": 4,
 "nbformat_minor": 2
}
