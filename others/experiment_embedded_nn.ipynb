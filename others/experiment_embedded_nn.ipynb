{
 "cells": [
  {
   "cell_type": "code",
   "execution_count": 15,
   "metadata": {},
   "outputs": [],
   "source": [
    "import numpy as np\n",
    "import pandas as pd\n",
    "import torch\n",
    "import torch.nn as nn\n",
    "\n",
    "import torch.optim as optim\n",
    "\n",
    "import plotly.graph_objects as go"
   ]
  },
  {
   "cell_type": "code",
   "execution_count": 16,
   "metadata": {},
   "outputs": [],
   "source": [
    "device = \"cuda\" if torch.cuda.is_available() else \"cpu\""
   ]
  },
  {
   "cell_type": "code",
   "execution_count": 17,
   "metadata": {},
   "outputs": [],
   "source": [
    "class NeuralNetwork(nn.Module):\n",
    "    def __init__(self):\n",
    "        super(NeuralNetwork, self).__init__()\n",
    "        # self.flatten = nn.Flatten()\n",
    "        self.linear_tanh_stack = nn.Sequential(\n",
    "            nn.Linear(1, 1),\n",
    "            nn.Tanh(),\n",
    "        )\n",
    "\n",
    "    def forward(self, x):\n",
    "        # x = self.flatten(x)\n",
    "        dh = self.linear_tanh_stack(x)\n",
    "        return dh"
   ]
  },
  {
   "cell_type": "code",
   "execution_count": 18,
   "metadata": {},
   "outputs": [
    {
     "name": "stdout",
     "output_type": "stream",
     "text": [
      "NeuralNetwork(\n",
      "  (linear_tanh_stack): Sequential(\n",
      "    (0): Linear(in_features=1, out_features=1, bias=True)\n",
      "    (1): Tanh()\n",
      "  )\n",
      ")\n"
     ]
    }
   ],
   "source": [
    "q_transfer_ANN = NeuralNetwork().to(device)\n",
    "print(q_transfer_ANN)"
   ]
  },
  {
   "cell_type": "code",
   "execution_count": 19,
   "metadata": {},
   "outputs": [],
   "source": [
    "#100 values between -1 and 1\n",
    "original_x_values = (np.random.random((100,1))-0.5)*2"
   ]
  },
  {
   "cell_type": "code",
   "execution_count": 20,
   "metadata": {},
   "outputs": [],
   "source": [
    "#Generator function to create the y values\n",
    "def get_y_deterministic_value(x_value):\n",
    "    value = x_value[0]\n",
    "    if value>0.0:\n",
    "        y_value = np.tanh(value)\n",
    "    else:\n",
    "        y_value = 0.2\n",
    "    return y_value"
   ]
  },
  {
   "cell_type": "code",
   "execution_count": 21,
   "metadata": {},
   "outputs": [],
   "source": [
    "y_values = np.array(list(map(get_y_deterministic_value, original_x_values)))"
   ]
  },
  {
   "cell_type": "code",
   "execution_count": 22,
   "metadata": {},
   "outputs": [
    {
     "data": {
      "application/vnd.plotly.v1+json": {
       "config": {
        "plotlyServerURL": "https://plot.ly"
       },
       "data": [
        {
         "mode": "markers",
         "type": "scatter",
         "x": [
          0.7164902045474335,
          -0.5792363831116614,
          0.9205490644322105,
          -0.8122906172123225,
          -0.6390940637609075,
          0.8833772805076039,
          0.6002553639346764,
          -0.5177684772752653,
          0.4576720351532837,
          0.643095408431658,
          0.8582623380458498,
          0.3639319837670085,
          0.8438315117381934,
          -0.4324523071994679,
          0.5005316623381642,
          -0.14625528843056324,
          0.051420445322698516,
          -0.6283660112995029,
          -0.7926989758519187,
          0.30240369350028207,
          0.05248150014458597,
          0.02953033280971007,
          -0.6894292635466417,
          0.053291682353013625,
          0.026052436175237892,
          -0.80861660766842,
          -0.1343949945921714,
          0.008399351815284284,
          0.8786460869652375,
          -0.156964220269441,
          0.26291344490569735,
          -0.2728330395874037,
          -0.6665973123076414,
          0.08780049158417436,
          0.4472904128511266,
          -0.5982162712859596,
          0.2530084906863608,
          0.7400210042014952,
          -0.6238200604818396,
          -0.9618331405862608,
          0.8587714725522122,
          -0.0720804693643482,
          0.682708167433479,
          0.572646459415896,
          0.8766876722337016,
          -0.0735061987379062,
          -0.08392841340556245,
          -0.4369247989081475,
          0.11495389138201917,
          0.023353631902438776,
          -0.06387620222782586,
          -0.9546541168733107,
          -0.5072921900963603,
          -0.9282896504804741,
          0.3813921286708428,
          -0.524037309736874,
          -0.45759058421916743,
          -0.3529502823484747,
          -0.5556039173301368,
          -0.6513405711005726,
          -0.4417987841400943,
          0.029143188418149002,
          0.7756231100332334,
          0.3727414048827147,
          0.24255834680758337,
          -0.4724268889047125,
          -0.5716961197227246,
          0.6493398830767514,
          0.10885449637767075,
          -0.8305232599948686,
          0.411258950544801,
          -0.918922865199417,
          -0.007936748556992557,
          0.16823595061906582,
          -0.3533052849842728,
          -0.7636169228771417,
          0.0370035319995643,
          -0.9838500007293569,
          -0.7282253614949099,
          -0.0530569377824619,
          -0.9633310659635441,
          -0.17951030590051253,
          -0.9453752846978558,
          -0.5472753331147482,
          -0.6606895604355905,
          0.106120503105958,
          0.8014529703567974,
          0.5713707615268835,
          -0.09065894869170177,
          -0.6183836447126645,
          -0.1355212799906278,
          0.9842113373626564,
          -0.42536622994808515,
          -0.45364311131203094,
          -0.06690622835137017,
          -0.6833789092065314,
          0.43842886168128525,
          -0.519344236106527,
          -0.8669494907847972,
          -0.5823362990083667
         ],
         "y": [
          0.6147305466051128,
          0.2,
          0.7261570588650198,
          0.2,
          0.2,
          0.7081072091601264,
          0.5372312533743373,
          0.2,
          0.4281849577257748,
          0.5670034951728998,
          0.695361301784804,
          0.3486727201036342,
          0.6878331548741276,
          0.2,
          0.46253517915725517,
          0.2,
          0.051375173584066104,
          0.2,
          0.2,
          0.29351077777210327,
          0.05243336976750164,
          0.029521751920238464,
          0.2,
          0.053241290078098746,
          0.02604654358996359,
          0.2,
          0.2,
          0.008399154298590518,
          0.7057403992974082,
          0.2,
          0.2570185509454828,
          0.2,
          0.2,
          0.08757556928227274,
          0.41966917766284173,
          0.2,
          0.24774459754615213,
          0.6291578514884655,
          0.2,
          0.2,
          0.6956241627535715,
          0.2,
          0.5932771679605241,
          0.5173001988346962,
          0.7047560519940917,
          0.2,
          0.2,
          0.2,
          0.11445020478913762,
          0.023349387199486114,
          0.2,
          0.2,
          0.2,
          0.2,
          0.36391584145374334,
          0.2,
          0.2,
          0.2,
          0.2,
          0.2,
          0.2,
          0.02913494053650223,
          0.6501873037085714,
          0.3563872608265532,
          0.237910754653585,
          0.2,
          0.2,
          0.5712254119998669,
          0.10842657458157774,
          0.2,
          0.3895411181427337,
          0.2,
          0.2,
          0.16666650363321983,
          0.2,
          0.2,
          0.03698665207561288,
          0.2,
          0.2,
          0.2,
          0.2,
          0.2,
          0.2,
          0.2,
          0.2,
          0.10572392858346445,
          0.6648482773204197,
          0.5163652605813381,
          0.2,
          0.2,
          0.2,
          0.7548831839517737,
          0.2,
          0.2,
          0.2,
          0.2,
          0.41234128250265606,
          0.2,
          0.2,
          0.2
         ]
        }
       ],
       "layout": {
        "template": {
         "data": {
          "bar": [
           {
            "error_x": {
             "color": "#2a3f5f"
            },
            "error_y": {
             "color": "#2a3f5f"
            },
            "marker": {
             "line": {
              "color": "#E5ECF6",
              "width": 0.5
             },
             "pattern": {
              "fillmode": "overlay",
              "size": 10,
              "solidity": 0.2
             }
            },
            "type": "bar"
           }
          ],
          "barpolar": [
           {
            "marker": {
             "line": {
              "color": "#E5ECF6",
              "width": 0.5
             },
             "pattern": {
              "fillmode": "overlay",
              "size": 10,
              "solidity": 0.2
             }
            },
            "type": "barpolar"
           }
          ],
          "carpet": [
           {
            "aaxis": {
             "endlinecolor": "#2a3f5f",
             "gridcolor": "white",
             "linecolor": "white",
             "minorgridcolor": "white",
             "startlinecolor": "#2a3f5f"
            },
            "baxis": {
             "endlinecolor": "#2a3f5f",
             "gridcolor": "white",
             "linecolor": "white",
             "minorgridcolor": "white",
             "startlinecolor": "#2a3f5f"
            },
            "type": "carpet"
           }
          ],
          "choropleth": [
           {
            "colorbar": {
             "outlinewidth": 0,
             "ticks": ""
            },
            "type": "choropleth"
           }
          ],
          "contour": [
           {
            "colorbar": {
             "outlinewidth": 0,
             "ticks": ""
            },
            "colorscale": [
             [
              0,
              "#0d0887"
             ],
             [
              0.1111111111111111,
              "#46039f"
             ],
             [
              0.2222222222222222,
              "#7201a8"
             ],
             [
              0.3333333333333333,
              "#9c179e"
             ],
             [
              0.4444444444444444,
              "#bd3786"
             ],
             [
              0.5555555555555556,
              "#d8576b"
             ],
             [
              0.6666666666666666,
              "#ed7953"
             ],
             [
              0.7777777777777778,
              "#fb9f3a"
             ],
             [
              0.8888888888888888,
              "#fdca26"
             ],
             [
              1,
              "#f0f921"
             ]
            ],
            "type": "contour"
           }
          ],
          "contourcarpet": [
           {
            "colorbar": {
             "outlinewidth": 0,
             "ticks": ""
            },
            "type": "contourcarpet"
           }
          ],
          "heatmap": [
           {
            "colorbar": {
             "outlinewidth": 0,
             "ticks": ""
            },
            "colorscale": [
             [
              0,
              "#0d0887"
             ],
             [
              0.1111111111111111,
              "#46039f"
             ],
             [
              0.2222222222222222,
              "#7201a8"
             ],
             [
              0.3333333333333333,
              "#9c179e"
             ],
             [
              0.4444444444444444,
              "#bd3786"
             ],
             [
              0.5555555555555556,
              "#d8576b"
             ],
             [
              0.6666666666666666,
              "#ed7953"
             ],
             [
              0.7777777777777778,
              "#fb9f3a"
             ],
             [
              0.8888888888888888,
              "#fdca26"
             ],
             [
              1,
              "#f0f921"
             ]
            ],
            "type": "heatmap"
           }
          ],
          "heatmapgl": [
           {
            "colorbar": {
             "outlinewidth": 0,
             "ticks": ""
            },
            "colorscale": [
             [
              0,
              "#0d0887"
             ],
             [
              0.1111111111111111,
              "#46039f"
             ],
             [
              0.2222222222222222,
              "#7201a8"
             ],
             [
              0.3333333333333333,
              "#9c179e"
             ],
             [
              0.4444444444444444,
              "#bd3786"
             ],
             [
              0.5555555555555556,
              "#d8576b"
             ],
             [
              0.6666666666666666,
              "#ed7953"
             ],
             [
              0.7777777777777778,
              "#fb9f3a"
             ],
             [
              0.8888888888888888,
              "#fdca26"
             ],
             [
              1,
              "#f0f921"
             ]
            ],
            "type": "heatmapgl"
           }
          ],
          "histogram": [
           {
            "marker": {
             "pattern": {
              "fillmode": "overlay",
              "size": 10,
              "solidity": 0.2
             }
            },
            "type": "histogram"
           }
          ],
          "histogram2d": [
           {
            "colorbar": {
             "outlinewidth": 0,
             "ticks": ""
            },
            "colorscale": [
             [
              0,
              "#0d0887"
             ],
             [
              0.1111111111111111,
              "#46039f"
             ],
             [
              0.2222222222222222,
              "#7201a8"
             ],
             [
              0.3333333333333333,
              "#9c179e"
             ],
             [
              0.4444444444444444,
              "#bd3786"
             ],
             [
              0.5555555555555556,
              "#d8576b"
             ],
             [
              0.6666666666666666,
              "#ed7953"
             ],
             [
              0.7777777777777778,
              "#fb9f3a"
             ],
             [
              0.8888888888888888,
              "#fdca26"
             ],
             [
              1,
              "#f0f921"
             ]
            ],
            "type": "histogram2d"
           }
          ],
          "histogram2dcontour": [
           {
            "colorbar": {
             "outlinewidth": 0,
             "ticks": ""
            },
            "colorscale": [
             [
              0,
              "#0d0887"
             ],
             [
              0.1111111111111111,
              "#46039f"
             ],
             [
              0.2222222222222222,
              "#7201a8"
             ],
             [
              0.3333333333333333,
              "#9c179e"
             ],
             [
              0.4444444444444444,
              "#bd3786"
             ],
             [
              0.5555555555555556,
              "#d8576b"
             ],
             [
              0.6666666666666666,
              "#ed7953"
             ],
             [
              0.7777777777777778,
              "#fb9f3a"
             ],
             [
              0.8888888888888888,
              "#fdca26"
             ],
             [
              1,
              "#f0f921"
             ]
            ],
            "type": "histogram2dcontour"
           }
          ],
          "mesh3d": [
           {
            "colorbar": {
             "outlinewidth": 0,
             "ticks": ""
            },
            "type": "mesh3d"
           }
          ],
          "parcoords": [
           {
            "line": {
             "colorbar": {
              "outlinewidth": 0,
              "ticks": ""
             }
            },
            "type": "parcoords"
           }
          ],
          "pie": [
           {
            "automargin": true,
            "type": "pie"
           }
          ],
          "scatter": [
           {
            "fillpattern": {
             "fillmode": "overlay",
             "size": 10,
             "solidity": 0.2
            },
            "type": "scatter"
           }
          ],
          "scatter3d": [
           {
            "line": {
             "colorbar": {
              "outlinewidth": 0,
              "ticks": ""
             }
            },
            "marker": {
             "colorbar": {
              "outlinewidth": 0,
              "ticks": ""
             }
            },
            "type": "scatter3d"
           }
          ],
          "scattercarpet": [
           {
            "marker": {
             "colorbar": {
              "outlinewidth": 0,
              "ticks": ""
             }
            },
            "type": "scattercarpet"
           }
          ],
          "scattergeo": [
           {
            "marker": {
             "colorbar": {
              "outlinewidth": 0,
              "ticks": ""
             }
            },
            "type": "scattergeo"
           }
          ],
          "scattergl": [
           {
            "marker": {
             "colorbar": {
              "outlinewidth": 0,
              "ticks": ""
             }
            },
            "type": "scattergl"
           }
          ],
          "scattermapbox": [
           {
            "marker": {
             "colorbar": {
              "outlinewidth": 0,
              "ticks": ""
             }
            },
            "type": "scattermapbox"
           }
          ],
          "scatterpolar": [
           {
            "marker": {
             "colorbar": {
              "outlinewidth": 0,
              "ticks": ""
             }
            },
            "type": "scatterpolar"
           }
          ],
          "scatterpolargl": [
           {
            "marker": {
             "colorbar": {
              "outlinewidth": 0,
              "ticks": ""
             }
            },
            "type": "scatterpolargl"
           }
          ],
          "scatterternary": [
           {
            "marker": {
             "colorbar": {
              "outlinewidth": 0,
              "ticks": ""
             }
            },
            "type": "scatterternary"
           }
          ],
          "surface": [
           {
            "colorbar": {
             "outlinewidth": 0,
             "ticks": ""
            },
            "colorscale": [
             [
              0,
              "#0d0887"
             ],
             [
              0.1111111111111111,
              "#46039f"
             ],
             [
              0.2222222222222222,
              "#7201a8"
             ],
             [
              0.3333333333333333,
              "#9c179e"
             ],
             [
              0.4444444444444444,
              "#bd3786"
             ],
             [
              0.5555555555555556,
              "#d8576b"
             ],
             [
              0.6666666666666666,
              "#ed7953"
             ],
             [
              0.7777777777777778,
              "#fb9f3a"
             ],
             [
              0.8888888888888888,
              "#fdca26"
             ],
             [
              1,
              "#f0f921"
             ]
            ],
            "type": "surface"
           }
          ],
          "table": [
           {
            "cells": {
             "fill": {
              "color": "#EBF0F8"
             },
             "line": {
              "color": "white"
             }
            },
            "header": {
             "fill": {
              "color": "#C8D4E3"
             },
             "line": {
              "color": "white"
             }
            },
            "type": "table"
           }
          ]
         },
         "layout": {
          "annotationdefaults": {
           "arrowcolor": "#2a3f5f",
           "arrowhead": 0,
           "arrowwidth": 1
          },
          "autotypenumbers": "strict",
          "coloraxis": {
           "colorbar": {
            "outlinewidth": 0,
            "ticks": ""
           }
          },
          "colorscale": {
           "diverging": [
            [
             0,
             "#8e0152"
            ],
            [
             0.1,
             "#c51b7d"
            ],
            [
             0.2,
             "#de77ae"
            ],
            [
             0.3,
             "#f1b6da"
            ],
            [
             0.4,
             "#fde0ef"
            ],
            [
             0.5,
             "#f7f7f7"
            ],
            [
             0.6,
             "#e6f5d0"
            ],
            [
             0.7,
             "#b8e186"
            ],
            [
             0.8,
             "#7fbc41"
            ],
            [
             0.9,
             "#4d9221"
            ],
            [
             1,
             "#276419"
            ]
           ],
           "sequential": [
            [
             0,
             "#0d0887"
            ],
            [
             0.1111111111111111,
             "#46039f"
            ],
            [
             0.2222222222222222,
             "#7201a8"
            ],
            [
             0.3333333333333333,
             "#9c179e"
            ],
            [
             0.4444444444444444,
             "#bd3786"
            ],
            [
             0.5555555555555556,
             "#d8576b"
            ],
            [
             0.6666666666666666,
             "#ed7953"
            ],
            [
             0.7777777777777778,
             "#fb9f3a"
            ],
            [
             0.8888888888888888,
             "#fdca26"
            ],
            [
             1,
             "#f0f921"
            ]
           ],
           "sequentialminus": [
            [
             0,
             "#0d0887"
            ],
            [
             0.1111111111111111,
             "#46039f"
            ],
            [
             0.2222222222222222,
             "#7201a8"
            ],
            [
             0.3333333333333333,
             "#9c179e"
            ],
            [
             0.4444444444444444,
             "#bd3786"
            ],
            [
             0.5555555555555556,
             "#d8576b"
            ],
            [
             0.6666666666666666,
             "#ed7953"
            ],
            [
             0.7777777777777778,
             "#fb9f3a"
            ],
            [
             0.8888888888888888,
             "#fdca26"
            ],
            [
             1,
             "#f0f921"
            ]
           ]
          },
          "colorway": [
           "#636efa",
           "#EF553B",
           "#00cc96",
           "#ab63fa",
           "#FFA15A",
           "#19d3f3",
           "#FF6692",
           "#B6E880",
           "#FF97FF",
           "#FECB52"
          ],
          "font": {
           "color": "#2a3f5f"
          },
          "geo": {
           "bgcolor": "white",
           "lakecolor": "white",
           "landcolor": "#E5ECF6",
           "showlakes": true,
           "showland": true,
           "subunitcolor": "white"
          },
          "hoverlabel": {
           "align": "left"
          },
          "hovermode": "closest",
          "mapbox": {
           "style": "light"
          },
          "paper_bgcolor": "white",
          "plot_bgcolor": "#E5ECF6",
          "polar": {
           "angularaxis": {
            "gridcolor": "white",
            "linecolor": "white",
            "ticks": ""
           },
           "bgcolor": "#E5ECF6",
           "radialaxis": {
            "gridcolor": "white",
            "linecolor": "white",
            "ticks": ""
           }
          },
          "scene": {
           "xaxis": {
            "backgroundcolor": "#E5ECF6",
            "gridcolor": "white",
            "gridwidth": 2,
            "linecolor": "white",
            "showbackground": true,
            "ticks": "",
            "zerolinecolor": "white"
           },
           "yaxis": {
            "backgroundcolor": "#E5ECF6",
            "gridcolor": "white",
            "gridwidth": 2,
            "linecolor": "white",
            "showbackground": true,
            "ticks": "",
            "zerolinecolor": "white"
           },
           "zaxis": {
            "backgroundcolor": "#E5ECF6",
            "gridcolor": "white",
            "gridwidth": 2,
            "linecolor": "white",
            "showbackground": true,
            "ticks": "",
            "zerolinecolor": "white"
           }
          },
          "shapedefaults": {
           "line": {
            "color": "#2a3f5f"
           }
          },
          "ternary": {
           "aaxis": {
            "gridcolor": "white",
            "linecolor": "white",
            "ticks": ""
           },
           "baxis": {
            "gridcolor": "white",
            "linecolor": "white",
            "ticks": ""
           },
           "bgcolor": "#E5ECF6",
           "caxis": {
            "gridcolor": "white",
            "linecolor": "white",
            "ticks": ""
           }
          },
          "title": {
           "x": 0.05
          },
          "xaxis": {
           "automargin": true,
           "gridcolor": "white",
           "linecolor": "white",
           "ticks": "",
           "title": {
            "standoff": 15
           },
           "zerolinecolor": "white",
           "zerolinewidth": 2
          },
          "yaxis": {
           "automargin": true,
           "gridcolor": "white",
           "linecolor": "white",
           "ticks": "",
           "title": {
            "standoff": 15
           },
           "zerolinecolor": "white",
           "zerolinewidth": 2
          }
         }
        }
       }
      }
     },
     "metadata": {},
     "output_type": "display_data"
    }
   ],
   "source": [
    "fig = go.Figure(go.Scatter(x = original_x_values[:,0], y = y_values, mode = 'markers'))\n",
    "fig.show()"
   ]
  },
  {
   "cell_type": "code",
   "execution_count": 23,
   "metadata": {},
   "outputs": [],
   "source": [
    "x_input_ANN = torch.tensor(original_x_values, dtype=torch.float)"
   ]
  },
  {
   "cell_type": "code",
   "execution_count": 24,
   "metadata": {},
   "outputs": [],
   "source": [
    "class DummyClass:\n",
    "    def __init__(self, model):\n",
    "        self.model = model\n",
    "\n",
    "    def get_piecewise_ANN_or_constant(self, X):\n",
    "        # print(X)\n",
    "        if torch.ge(X[0], 0.0):\n",
    "            y=self.model(X)\n",
    "        else:\n",
    "            # print('here')\n",
    "            y = 0.2\n",
    "        \n",
    "        return y"
   ]
  },
  {
   "cell_type": "code",
   "execution_count": 25,
   "metadata": {},
   "outputs": [],
   "source": [
    "class_object = DummyClass(q_transfer_ANN)"
   ]
  },
  {
   "cell_type": "code",
   "execution_count": 26,
   "metadata": {},
   "outputs": [],
   "source": [
    "# for i,j in enumerate(results_of_the_model):\n",
    "#     print(i, j, y_values[i])"
   ]
  },
  {
   "cell_type": "code",
   "execution_count": 27,
   "metadata": {},
   "outputs": [],
   "source": [
    "constant_torch = torch.tensor(20, dtype=torch.float)\n",
    "real = torch.tensor(y_values, dtype=torch.float)+constant_torch"
   ]
  },
  {
   "cell_type": "code",
   "execution_count": 28,
   "metadata": {},
   "outputs": [
    {
     "data": {
      "text/plain": [
       "tensor([20.6147, 20.2000, 20.7262, 20.2000, 20.2000, 20.7081, 20.5372, 20.2000,\n",
       "        20.4282, 20.5670, 20.6954, 20.3487, 20.6878, 20.2000, 20.4625, 20.2000,\n",
       "        20.0514, 20.2000, 20.2000, 20.2935, 20.0524, 20.0295, 20.2000, 20.0532,\n",
       "        20.0260, 20.2000, 20.2000, 20.0084, 20.7057, 20.2000, 20.2570, 20.2000,\n",
       "        20.2000, 20.0876, 20.4197, 20.2000, 20.2477, 20.6292, 20.2000, 20.2000,\n",
       "        20.6956, 20.2000, 20.5933, 20.5173, 20.7048, 20.2000, 20.2000, 20.2000,\n",
       "        20.1145, 20.0233, 20.2000, 20.2000, 20.2000, 20.2000, 20.3639, 20.2000,\n",
       "        20.2000, 20.2000, 20.2000, 20.2000, 20.2000, 20.0291, 20.6502, 20.3564,\n",
       "        20.2379, 20.2000, 20.2000, 20.5712, 20.1084, 20.2000, 20.3895, 20.2000,\n",
       "        20.2000, 20.1667, 20.2000, 20.2000, 20.0370, 20.2000, 20.2000, 20.2000,\n",
       "        20.2000, 20.2000, 20.2000, 20.2000, 20.2000, 20.1057, 20.6648, 20.5164,\n",
       "        20.2000, 20.2000, 20.2000, 20.7549, 20.2000, 20.2000, 20.2000, 20.2000,\n",
       "        20.4123, 20.2000, 20.2000, 20.2000])"
      ]
     },
     "execution_count": 28,
     "metadata": {},
     "output_type": "execute_result"
    }
   ],
   "source": [
    "real"
   ]
  },
  {
   "cell_type": "code",
   "execution_count": 29,
   "metadata": {},
   "outputs": [],
   "source": [
    "optimizer = optim.SGD(class_object.model.parameters(), lr=0.01, momentum=0.9)\n",
    "losses=[]\n",
    "for epoch in range(1000):\n",
    "    # Load data to device\n",
    "    # x, y = batch[0].to(device), batch[1].to(device)\n",
    "    results_of_the_model = []\n",
    "    for i in x_input_ANN:\n",
    "        results_of_the_model.append(class_object.get_piecewise_ANN_or_constant(i))\n",
    "\n",
    "\n",
    "    tensors_in_y = []\n",
    "    for i in results_of_the_model:\n",
    "        if type(i)==torch.Tensor:\n",
    "            tensors_in_y.append(i)\n",
    "        else:\n",
    "            value_in_torch = torch.tensor([i], dtype=torch.float)\n",
    "            tensors_in_y.append(value_in_torch)\n",
    "\n",
    "    # Model prediction\n",
    "    preds = torch.cat(tensors_in_y) + constant_torch\n",
    "    \n",
    "    # MSE loss function\n",
    "    loss = nn.MSELoss()(preds, real)\n",
    "        \n",
    "    losses.append(loss.detach())\n",
    "    \n",
    "    # Backpropagate and update weights\n",
    "    loss.backward()\n",
    "    optimizer.step()\n",
    "    optimizer.zero_grad(set_to_none=True)        "
   ]
  },
  {
   "cell_type": "code",
   "execution_count": 30,
   "metadata": {},
   "outputs": [
    {
     "data": {
      "text/plain": [
       "<AxesSubplot:>"
      ]
     },
     "execution_count": 30,
     "metadata": {},
     "output_type": "execute_result"
    },
    {
     "data": {
      "image/png": "[encoded data removed]",
      "text/plain": [
       "<Figure size 432x288 with 1 Axes>"
      ]
     },
     "metadata": {
      "needs_background": "light"
     },
     "output_type": "display_data"
    }
   ],
   "source": [
    "pd.Series(np.array(losses)).plot()"
   ]
  },
  {
   "cell_type": "code",
   "execution_count": 31,
   "metadata": {},
   "outputs": [],
   "source": [
    "test_x_values = (np.random.random((100,1))-0.5)*2\n",
    "test_x_input_ANN = torch.tensor(test_x_values, dtype=torch.float)\n",
    "\n",
    "test_results_of_the_model = []\n",
    "for i in test_x_input_ANN:\n",
    "    test_results_of_the_model.append(class_object.get_piecewise_ANN_or_constant(i)+ constant_torch)"
   ]
  },
  {
   "cell_type": "code",
   "execution_count": 32,
   "metadata": {},
   "outputs": [
    {
     "data": {
      "text/plain": [
       "tensor([20.4132], grad_fn=<AddBackward0>)"
      ]
     },
     "execution_count": 32,
     "metadata": {},
     "output_type": "execute_result"
    }
   ],
   "source": [
    "test_results_of_the_model[2]"
   ]
  },
  {
   "cell_type": "code",
   "execution_count": 33,
   "metadata": {},
   "outputs": [],
   "source": [
    "test_tensors_in_y = []\n",
    "for i in test_results_of_the_model:\n",
    "    if type(i)!=torch.Tensor:\n",
    "        test_tensors_in_y.append(i)\n",
    "    else:\n",
    "        value_in_torch = i.detach().item()#torch.tensor([i], dtype=torch.float)\n",
    "        test_tensors_in_y.append(value_in_torch)"
   ]
  },
  {
   "cell_type": "code",
   "execution_count": 34,
   "metadata": {},
   "outputs": [
    {
     "data": {
      "application/vnd.plotly.v1+json": {
       "config": {
        "plotlyServerURL": "https://plot.ly"
       },
       "data": [
        {
         "mode": "markers",
         "type": "scatter",
         "x": [
          0.3201443243437687,
          -0.800358939677843,
          0.44203552929367285,
          -0.5978696028801382,
          0.8872901002247122,
          0.2172833672126122,
          0.6433369589939684,
          0.3471631928835526,
          -0.7325178156346503,
          0.3542569004627447,
          0.8642432291131594,
          -0.2015728646719681,
          -0.6843736513803789,
          0.4586717908258824,
          -0.11739297257403503,
          0.815071215876048,
          -0.8033143236560023,
          0.8550142643849292,
          0.5260829601013794,
          0.004458540212116002,
          0.48727741549298775,
          -0.5427804996435068,
          -0.6001626382450478,
          -0.7348703574351525,
          0.7008189044684792,
          -0.9965206423544011,
          0.24445918013441115,
          0.20339168166263866,
          -0.952220809790931,
          0.43946482292693934,
          0.34485602417430594,
          -0.2946669977424601,
          -0.25089417837285577,
          0.9391226815919815,
          -0.6217570892685031,
          0.4700499302177925,
          0.3087111451779452,
          -0.009155542578658693,
          0.01832209092349002,
          0.9493022310762906,
          -0.8514210431640212,
          0.35438081868139193,
          0.41485456185349756,
          -0.5630517816917493,
          0.864012340231483,
          0.9472077668328673,
          0.45014513313173543,
          0.6724198222821323,
          0.984208627753163,
          -0.580509921162327,
          0.3994723616864002,
          0.8508391568801885,
          -0.599110443394445,
          0.746913866482978,
          -0.7101348216533054,
          0.3613576022368663,
          -0.06224070222970979,
          0.2839126945295609,
          -0.003971280453264336,
          0.4307363144261396,
          -0.9445588294028471,
          -0.7224657899908082,
          0.29297374645299135,
          -0.9945845023302049,
          0.16413499500103268,
          -0.602609974848233,
          -0.5785333493950673,
          0.7356108209095267,
          -0.6035317480101319,
          -0.2981572002841817,
          0.8534891041940149,
          -0.03858416300640144,
          -0.19551541457307842,
          0.08294053327937156,
          -0.7011205163698586,
          0.1432852241030389,
          -0.865126516936563,
          0.9565240191562603,
          0.5415412691940111,
          0.823408277395022,
          0.25958719375798367,
          0.27328358430243993,
          0.563790328226051,
          0.9875774284239531,
          -0.46604660099427275,
          0.34603139292052476,
          -0.570088855146692,
          -0.33162722852010473,
          -0.09508988927332451,
          0.008405523163606432,
          0.9387774781529816,
          0.9015454655485888,
          -0.8975509097697905,
          0.338860699329121,
          0.7366799305144556,
          -0.9648751028213842,
          -0.7718600422067148,
          0.028586570219248042,
          -0.4551669410778776,
          -0.33629764988431865
         ],
         "y": [
          20.309703826904297,
          20.200000762939453,
          20.413171768188477,
          20.200000762939453,
          20.703855514526367,
          20.216154098510742,
          20.562379837036133,
          20.33339500427246,
          20.200000762939453,
          20.339548110961914,
          20.69230079650879,
          20.200000762939453,
          20.200000762939453,
          20.42657470703125,
          20.200000762939453,
          20.66641616821289,
          20.200000762939453,
          20.687570571899414,
          20.478958129882812,
          20.0114688873291,
          20.44918441772461,
          20.200000762939453,
          20.200000762939453,
          20.200000762939453,
          20.59960174560547,
          20.200000762939453,
          20.2413387298584,
          20.20316505432129,
          20.200000762939453,
          20.41108512878418,
          20.331388473510742,
          20.200000762939453,
          20.200000762939453,
          20.728532791137695,
          20.200000762939453,
          20.43563461303711,
          20.299560546875,
          20.200000762939453,
          20.0250244140625,
          20.733169555664062,
          20.200000762939453,
          20.33965492248535,
          20.390886306762695,
          20.200000762939453,
          20.692182540893555,
          20.732221603393555,
          20.419727325439453,
          20.58151626586914,
          20.748567581176758,
          20.200000762939453,
          20.378067016601562,
          20.68541145324707,
          20.200000762939453,
          20.62769889831543,
          20.200000762939453,
          20.34567642211914,
          20.200000762939453,
          20.277324676513672,
          20.200000762939453,
          20.403966903686523,
          20.200000762939453,
          20.200000762939453,
          20.285486221313477,
          20.200000762939453,
          20.16608428955078,
          20.200000762939453,
          20.200000762939453,
          20.620952606201172,
          20.200000762939453,
          20.200000762939453,
          20.686782836914062,
          20.200000762939453,
          20.200000762939453,
          20.08799934387207,
          20.200000762939453,
          20.146190643310547,
          20.200000762939453,
          20.736419677734375,
          20.490524291992188,
          20.670923233032227,
          20.25522232055664,
          20.267702102661133,
          20.50687026977539,
          20.750011444091797,
          20.200000762939453,
          20.33241081237793,
          20.200000762939453,
          20.200000762939453,
          20.200000762939453,
          20.015329360961914,
          20.728374481201172,
          20.7108211517334,
          20.200000762939453,
          20.32615852355957,
          20.621593475341797,
          20.200000762939453,
          20.200000762939453,
          20.035053253173828,
          20.200000762939453,
          20.200000762939453
         ]
        },
        {
         "mode": "markers",
         "type": "scatter",
         "x": [
          0.7164902045474335,
          -0.5792363831116614,
          0.9205490644322105,
          -0.8122906172123225,
          -0.6390940637609075,
          0.8833772805076039,
          0.6002553639346764,
          -0.5177684772752653,
          0.4576720351532837,
          0.643095408431658,
          0.8582623380458498,
          0.3639319837670085,
          0.8438315117381934,
          -0.4324523071994679,
          0.5005316623381642,
          -0.14625528843056324,
          0.051420445322698516,
          -0.6283660112995029,
          -0.7926989758519187,
          0.30240369350028207,
          0.05248150014458597,
          0.02953033280971007,
          -0.6894292635466417,
          0.053291682353013625,
          0.026052436175237892,
          -0.80861660766842,
          -0.1343949945921714,
          0.008399351815284284,
          0.8786460869652375,
          -0.156964220269441,
          0.26291344490569735,
          -0.2728330395874037,
          -0.6665973123076414,
          0.08780049158417436,
          0.4472904128511266,
          -0.5982162712859596,
          0.2530084906863608,
          0.7400210042014952,
          -0.6238200604818396,
          -0.9618331405862608,
          0.8587714725522122,
          -0.0720804693643482,
          0.682708167433479,
          0.572646459415896,
          0.8766876722337016,
          -0.0735061987379062,
          -0.08392841340556245,
          -0.4369247989081475,
          0.11495389138201917,
          0.023353631902438776,
          -0.06387620222782586,
          -0.9546541168733107,
          -0.5072921900963603,
          -0.9282896504804741,
          0.3813921286708428,
          -0.524037309736874,
          -0.45759058421916743,
          -0.3529502823484747,
          -0.5556039173301368,
          -0.6513405711005726,
          -0.4417987841400943,
          0.029143188418149002,
          0.7756231100332334,
          0.3727414048827147,
          0.24255834680758337,
          -0.4724268889047125,
          -0.5716961197227246,
          0.6493398830767514,
          0.10885449637767075,
          -0.8305232599948686,
          0.411258950544801,
          -0.918922865199417,
          -0.007936748556992557,
          0.16823595061906582,
          -0.3533052849842728,
          -0.7636169228771417,
          0.0370035319995643,
          -0.9838500007293569,
          -0.7282253614949099,
          -0.0530569377824619,
          -0.9633310659635441,
          -0.17951030590051253,
          -0.9453752846978558,
          -0.5472753331147482,
          -0.6606895604355905,
          0.106120503105958,
          0.8014529703567974,
          0.5713707615268835,
          -0.09065894869170177,
          -0.6183836447126645,
          -0.1355212799906278,
          0.9842113373626564,
          -0.42536622994808515,
          -0.45364311131203094,
          -0.06690622835137017,
          -0.6833789092065314,
          0.43842886168128525,
          -0.519344236106527,
          -0.8669494907847972,
          -0.5823362990083667
         ],
         "y": [
          20.614730546605113,
          20.2,
          20.72615705886502,
          20.2,
          20.2,
          20.708107209160126,
          20.537231253374337,
          20.2,
          20.428184957725776,
          20.5670034951729,
          20.695361301784803,
          20.348672720103636,
          20.687833154874127,
          20.2,
          20.462535179157257,
          20.2,
          20.051375173584066,
          20.2,
          20.2,
          20.293510777772102,
          20.052433369767503,
          20.02952175192024,
          20.2,
          20.0532412900781,
          20.026046543589963,
          20.2,
          20.2,
          20.00839915429859,
          20.705740399297408,
          20.2,
          20.25701855094548,
          20.2,
          20.2,
          20.087575569282272,
          20.419669177662843,
          20.2,
          20.247744597546152,
          20.629157851488465,
          20.2,
          20.2,
          20.69562416275357,
          20.2,
          20.593277167960522,
          20.517300198834697,
          20.704756051994092,
          20.2,
          20.2,
          20.2,
          20.114450204789136,
          20.023349387199485,
          20.2,
          20.2,
          20.2,
          20.2,
          20.363915841453743,
          20.2,
          20.2,
          20.2,
          20.2,
          20.2,
          20.2,
          20.0291349405365,
          20.65018730370857,
          20.356387260826555,
          20.237910754653583,
          20.2,
          20.2,
          20.571225411999865,
          20.10842657458158,
          20.2,
          20.389541118142734,
          20.2,
          20.2,
          20.16666650363322,
          20.2,
          20.2,
          20.036986652075612,
          20.2,
          20.2,
          20.2,
          20.2,
          20.2,
          20.2,
          20.2,
          20.2,
          20.105723928583465,
          20.66484827732042,
          20.51636526058134,
          20.2,
          20.2,
          20.2,
          20.754883183951772,
          20.2,
          20.2,
          20.2,
          20.2,
          20.412341282502656,
          20.2,
          20.2,
          20.2
         ]
        }
       ],
       "layout": {
        "template": {
         "data": {
          "bar": [
           {
            "error_x": {
             "color": "#2a3f5f"
            },
            "error_y": {
             "color": "#2a3f5f"
            },
            "marker": {
             "line": {
              "color": "#E5ECF6",
              "width": 0.5
             },
             "pattern": {
              "fillmode": "overlay",
              "size": 10,
              "solidity": 0.2
             }
            },
            "type": "bar"
           }
          ],
          "barpolar": [
           {
            "marker": {
             "line": {
              "color": "#E5ECF6",
              "width": 0.5
             },
             "pattern": {
              "fillmode": "overlay",
              "size": 10,
              "solidity": 0.2
             }
            },
            "type": "barpolar"
           }
          ],
          "carpet": [
           {
            "aaxis": {
             "endlinecolor": "#2a3f5f",
             "gridcolor": "white",
             "linecolor": "white",
             "minorgridcolor": "white",
             "startlinecolor": "#2a3f5f"
            },
            "baxis": {
             "endlinecolor": "#2a3f5f",
             "gridcolor": "white",
             "linecolor": "white",
             "minorgridcolor": "white",
             "startlinecolor": "#2a3f5f"
            },
            "type": "carpet"
           }
          ],
          "choropleth": [
           {
            "colorbar": {
             "outlinewidth": 0,
             "ticks": ""
            },
            "type": "choropleth"
           }
          ],
          "contour": [
           {
            "colorbar": {
             "outlinewidth": 0,
             "ticks": ""
            },
            "colorscale": [
             [
              0,
              "#0d0887"
             ],
             [
              0.1111111111111111,
              "#46039f"
             ],
             [
              0.2222222222222222,
              "#7201a8"
             ],
             [
              0.3333333333333333,
              "#9c179e"
             ],
             [
              0.4444444444444444,
              "#bd3786"
             ],
             [
              0.5555555555555556,
              "#d8576b"
             ],
             [
              0.6666666666666666,
              "#ed7953"
             ],
             [
              0.7777777777777778,
              "#fb9f3a"
             ],
             [
              0.8888888888888888,
              "#fdca26"
             ],
             [
              1,
              "#f0f921"
             ]
            ],
            "type": "contour"
           }
          ],
          "contourcarpet": [
           {
            "colorbar": {
             "outlinewidth": 0,
             "ticks": ""
            },
            "type": "contourcarpet"
           }
          ],
          "heatmap": [
           {
            "colorbar": {
             "outlinewidth": 0,
             "ticks": ""
            },
            "colorscale": [
             [
              0,
              "#0d0887"
             ],
             [
              0.1111111111111111,
              "#46039f"
             ],
             [
              0.2222222222222222,
              "#7201a8"
             ],
             [
              0.3333333333333333,
              "#9c179e"
             ],
             [
              0.4444444444444444,
              "#bd3786"
             ],
             [
              0.5555555555555556,
              "#d8576b"
             ],
             [
              0.6666666666666666,
              "#ed7953"
             ],
             [
              0.7777777777777778,
              "#fb9f3a"
             ],
             [
              0.8888888888888888,
              "#fdca26"
             ],
             [
              1,
              "#f0f921"
             ]
            ],
            "type": "heatmap"
           }
          ],
          "heatmapgl": [
           {
            "colorbar": {
             "outlinewidth": 0,
             "ticks": ""
            },
            "colorscale": [
             [
              0,
              "#0d0887"
             ],
             [
              0.1111111111111111,
              "#46039f"
             ],
             [
              0.2222222222222222,
              "#7201a8"
             ],
             [
              0.3333333333333333,
              "#9c179e"
             ],
             [
              0.4444444444444444,
              "#bd3786"
             ],
             [
              0.5555555555555556,
              "#d8576b"
             ],
             [
              0.6666666666666666,
              "#ed7953"
             ],
             [
              0.7777777777777778,
              "#fb9f3a"
             ],
             [
              0.8888888888888888,
              "#fdca26"
             ],
             [
              1,
              "#f0f921"
             ]
            ],
            "type": "heatmapgl"
           }
          ],
          "histogram": [
           {
            "marker": {
             "pattern": {
              "fillmode": "overlay",
              "size": 10,
              "solidity": 0.2
             }
            },
            "type": "histogram"
           }
          ],
          "histogram2d": [
           {
            "colorbar": {
             "outlinewidth": 0,
             "ticks": ""
            },
            "colorscale": [
             [
              0,
              "#0d0887"
             ],
             [
              0.1111111111111111,
              "#46039f"
             ],
             [
              0.2222222222222222,
              "#7201a8"
             ],
             [
              0.3333333333333333,
              "#9c179e"
             ],
             [
              0.4444444444444444,
              "#bd3786"
             ],
             [
              0.5555555555555556,
              "#d8576b"
             ],
             [
              0.6666666666666666,
              "#ed7953"
             ],
             [
              0.7777777777777778,
              "#fb9f3a"
             ],
             [
              0.8888888888888888,
              "#fdca26"
             ],
             [
              1,
              "#f0f921"
             ]
            ],
            "type": "histogram2d"
           }
          ],
          "histogram2dcontour": [
           {
            "colorbar": {
             "outlinewidth": 0,
             "ticks": ""
            },
            "colorscale": [
             [
              0,
              "#0d0887"
             ],
             [
              0.1111111111111111,
              "#46039f"
             ],
             [
              0.2222222222222222,
              "#7201a8"
             ],
             [
              0.3333333333333333,
              "#9c179e"
             ],
             [
              0.4444444444444444,
              "#bd3786"
             ],
             [
              0.5555555555555556,
              "#d8576b"
             ],
             [
              0.6666666666666666,
              "#ed7953"
             ],
             [
              0.7777777777777778,
              "#fb9f3a"
             ],
             [
              0.8888888888888888,
              "#fdca26"
             ],
             [
              1,
              "#f0f921"
             ]
            ],
            "type": "histogram2dcontour"
           }
          ],
          "mesh3d": [
           {
            "colorbar": {
             "outlinewidth": 0,
             "ticks": ""
            },
            "type": "mesh3d"
           }
          ],
          "parcoords": [
           {
            "line": {
             "colorbar": {
              "outlinewidth": 0,
              "ticks": ""
             }
            },
            "type": "parcoords"
           }
          ],
          "pie": [
           {
            "automargin": true,
            "type": "pie"
           }
          ],
          "scatter": [
           {
            "fillpattern": {
             "fillmode": "overlay",
             "size": 10,
             "solidity": 0.2
            },
            "type": "scatter"
           }
          ],
          "scatter3d": [
           {
            "line": {
             "colorbar": {
              "outlinewidth": 0,
              "ticks": ""
             }
            },
            "marker": {
             "colorbar": {
              "outlinewidth": 0,
              "ticks": ""
             }
            },
            "type": "scatter3d"
           }
          ],
          "scattercarpet": [
           {
            "marker": {
             "colorbar": {
              "outlinewidth": 0,
              "ticks": ""
             }
            },
            "type": "scattercarpet"
           }
          ],
          "scattergeo": [
           {
            "marker": {
             "colorbar": {
              "outlinewidth": 0,
              "ticks": ""
             }
            },
            "type": "scattergeo"
           }
          ],
          "scattergl": [
           {
            "marker": {
             "colorbar": {
              "outlinewidth": 0,
              "ticks": ""
             }
            },
            "type": "scattergl"
           }
          ],
          "scattermapbox": [
           {
            "marker": {
             "colorbar": {
              "outlinewidth": 0,
              "ticks": ""
             }
            },
            "type": "scattermapbox"
           }
          ],
          "scatterpolar": [
           {
            "marker": {
             "colorbar": {
              "outlinewidth": 0,
              "ticks": ""
             }
            },
            "type": "scatterpolar"
           }
          ],
          "scatterpolargl": [
           {
            "marker": {
             "colorbar": {
              "outlinewidth": 0,
              "ticks": ""
             }
            },
            "type": "scatterpolargl"
           }
          ],
          "scatterternary": [
           {
            "marker": {
             "colorbar": {
              "outlinewidth": 0,
              "ticks": ""
             }
            },
            "type": "scatterternary"
           }
          ],
          "surface": [
           {
            "colorbar": {
             "outlinewidth": 0,
             "ticks": ""
            },
            "colorscale": [
             [
              0,
              "#0d0887"
             ],
             [
              0.1111111111111111,
              "#46039f"
             ],
             [
              0.2222222222222222,
              "#7201a8"
             ],
             [
              0.3333333333333333,
              "#9c179e"
             ],
             [
              0.4444444444444444,
              "#bd3786"
             ],
             [
              0.5555555555555556,
              "#d8576b"
             ],
             [
              0.6666666666666666,
              "#ed7953"
             ],
             [
              0.7777777777777778,
              "#fb9f3a"
             ],
             [
              0.8888888888888888,
              "#fdca26"
             ],
             [
              1,
              "#f0f921"
             ]
            ],
            "type": "surface"
           }
          ],
          "table": [
           {
            "cells": {
             "fill": {
              "color": "#EBF0F8"
             },
             "line": {
              "color": "white"
             }
            },
            "header": {
             "fill": {
              "color": "#C8D4E3"
             },
             "line": {
              "color": "white"
             }
            },
            "type": "table"
           }
          ]
         },
         "layout": {
          "annotationdefaults": {
           "arrowcolor": "#2a3f5f",
           "arrowhead": 0,
           "arrowwidth": 1
          },
          "autotypenumbers": "strict",
          "coloraxis": {
           "colorbar": {
            "outlinewidth": 0,
            "ticks": ""
           }
          },
          "colorscale": {
           "diverging": [
            [
             0,
             "#8e0152"
            ],
            [
             0.1,
             "#c51b7d"
            ],
            [
             0.2,
             "#de77ae"
            ],
            [
             0.3,
             "#f1b6da"
            ],
            [
             0.4,
             "#fde0ef"
            ],
            [
             0.5,
             "#f7f7f7"
            ],
            [
             0.6,
             "#e6f5d0"
            ],
            [
             0.7,
             "#b8e186"
            ],
            [
             0.8,
             "#7fbc41"
            ],
            [
             0.9,
             "#4d9221"
            ],
            [
             1,
             "#276419"
            ]
           ],
           "sequential": [
            [
             0,
             "#0d0887"
            ],
            [
             0.1111111111111111,
             "#46039f"
            ],
            [
             0.2222222222222222,
             "#7201a8"
            ],
            [
             0.3333333333333333,
             "#9c179e"
            ],
            [
             0.4444444444444444,
             "#bd3786"
            ],
            [
             0.5555555555555556,
             "#d8576b"
            ],
            [
             0.6666666666666666,
             "#ed7953"
            ],
            [
             0.7777777777777778,
             "#fb9f3a"
            ],
            [
             0.8888888888888888,
             "#fdca26"
            ],
            [
             1,
             "#f0f921"
            ]
           ],
           "sequentialminus": [
            [
             0,
             "#0d0887"
            ],
            [
             0.1111111111111111,
             "#46039f"
            ],
            [
             0.2222222222222222,
             "#7201a8"
            ],
            [
             0.3333333333333333,
             "#9c179e"
            ],
            [
             0.4444444444444444,
             "#bd3786"
            ],
            [
             0.5555555555555556,
             "#d8576b"
            ],
            [
             0.6666666666666666,
             "#ed7953"
            ],
            [
             0.7777777777777778,
             "#fb9f3a"
            ],
            [
             0.8888888888888888,
             "#fdca26"
            ],
            [
             1,
             "#f0f921"
            ]
           ]
          },
          "colorway": [
           "#636efa",
           "#EF553B",
           "#00cc96",
           "#ab63fa",
           "#FFA15A",
           "#19d3f3",
           "#FF6692",
           "#B6E880",
           "#FF97FF",
           "#FECB52"
          ],
          "font": {
           "color": "#2a3f5f"
          },
          "geo": {
           "bgcolor": "white",
           "lakecolor": "white",
           "landcolor": "#E5ECF6",
           "showlakes": true,
           "showland": true,
           "subunitcolor": "white"
          },
          "hoverlabel": {
           "align": "left"
          },
          "hovermode": "closest",
          "mapbox": {
           "style": "light"
          },
          "paper_bgcolor": "white",
          "plot_bgcolor": "#E5ECF6",
          "polar": {
           "angularaxis": {
            "gridcolor": "white",
            "linecolor": "white",
            "ticks": ""
           },
           "bgcolor": "#E5ECF6",
           "radialaxis": {
            "gridcolor": "white",
            "linecolor": "white",
            "ticks": ""
           }
          },
          "scene": {
           "xaxis": {
            "backgroundcolor": "#E5ECF6",
            "gridcolor": "white",
            "gridwidth": 2,
            "linecolor": "white",
            "showbackground": true,
            "ticks": "",
            "zerolinecolor": "white"
           },
           "yaxis": {
            "backgroundcolor": "#E5ECF6",
            "gridcolor": "white",
            "gridwidth": 2,
            "linecolor": "white",
            "showbackground": true,
            "ticks": "",
            "zerolinecolor": "white"
           },
           "zaxis": {
            "backgroundcolor": "#E5ECF6",
            "gridcolor": "white",
            "gridwidth": 2,
            "linecolor": "white",
            "showbackground": true,
            "ticks": "",
            "zerolinecolor": "white"
           }
          },
          "shapedefaults": {
           "line": {
            "color": "#2a3f5f"
           }
          },
          "ternary": {
           "aaxis": {
            "gridcolor": "white",
            "linecolor": "white",
            "ticks": ""
           },
           "baxis": {
            "gridcolor": "white",
            "linecolor": "white",
            "ticks": ""
           },
           "bgcolor": "#E5ECF6",
           "caxis": {
            "gridcolor": "white",
            "linecolor": "white",
            "ticks": ""
           }
          },
          "title": {
           "x": 0.05
          },
          "xaxis": {
           "automargin": true,
           "gridcolor": "white",
           "linecolor": "white",
           "ticks": "",
           "title": {
            "standoff": 15
           },
           "zerolinecolor": "white",
           "zerolinewidth": 2
          },
          "yaxis": {
           "automargin": true,
           "gridcolor": "white",
           "linecolor": "white",
           "ticks": "",
           "title": {
            "standoff": 15
           },
           "zerolinecolor": "white",
           "zerolinewidth": 2
          }
         }
        }
       }
      }
     },
     "metadata": {},
     "output_type": "display_data"
    }
   ],
   "source": [
    "fig = go.Figure(go.Scatter(x = test_x_values[:,0], y = test_tensors_in_y, mode = 'markers'))\n",
    "\n",
    "fig.add_trace(go.Scatter(x = original_x_values[:,0], y = y_values+20, mode = 'markers'))\n",
    "\n",
    "fig.show()"
   ]
  },
  {
   "cell_type": "code",
   "execution_count": 36,
   "metadata": {},
   "outputs": [
    {
     "name": "stdout",
     "output_type": "stream",
     "text": [
      "('linear_tanh_stack.0.weight', Parameter containing:\n",
      "tensor([[0.9780]], requires_grad=True))\n",
      "('linear_tanh_stack.0.bias', Parameter containing:\n",
      "tensor([0.0071], requires_grad=True))\n"
     ]
    }
   ],
   "source": [
    "for i in class_object.model.named_parameters():\n",
    "    print(i)"
   ]
  },
  {
   "cell_type": "code",
   "execution_count": null,
   "metadata": {},
   "outputs": [],
   "source": []
  }
 ],
 "metadata": {
  "interpreter": {
   "hash": "f88404f1e87403b1e488e351250feb539bee03edfc67c7328abb8c80a54639ed"
  },
  "kernelspec": {
   "display_name": "Python 3.10.2 ('third_SWMM': venv)",
   "language": "python",
   "name": "python3"
  },
  "language_info": {
   "codemirror_mode": {
    "name": "ipython",
    "version": 3
   },
   "file_extension": ".py",
   "mimetype": "text/x-python",
   "name": "python",
   "nbconvert_exporter": "python",
   "pygments_lexer": "ipython3",
   "version": "3.10.2"
  },
  "orig_nbformat": 4
 },
 "nbformat": 4,
 "nbformat_minor": 2
}
